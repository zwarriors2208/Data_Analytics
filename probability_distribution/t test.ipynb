{
 "cells": [
  {
   "cell_type": "code",
   "execution_count": 1,
   "id": "f055b5f1-7f13-4dab-9125-f1534f90b324",
   "metadata": {},
   "outputs": [],
   "source": [
    "import pandas as pd\n",
    "from scipy import stats"
   ]
  },
  {
   "cell_type": "markdown",
   "id": "22543de6-d475-410d-903b-25fe2a71350d",
   "metadata": {},
   "source": [
    "### One sample T Test"
   ]
  },
  {
   "cell_type": "code",
   "execution_count": 5,
   "id": "90732d6c-9ee6-478f-ba62-c2107e415398",
   "metadata": {},
   "outputs": [],
   "source": [
    "data=pd.read_csv('Mall_customers.csv')\n",
    "age_data=data['Age']"
   ]
  },
  {
   "cell_type": "code",
   "execution_count": 15,
   "id": "4e19188f-51b2-408c-a142-8b27adf8d367",
   "metadata": {},
   "outputs": [
    {
     "name": "stdout",
     "output_type": "stream",
     "text": [
      "T-statistic: -1.1642528048895828\n",
      "P value: 0.24571546680949305\n",
      "Degree of freedom: 199\n"
     ]
    }
   ],
   "source": [
    "#Hypothesized population average age\n",
    "pop_avg_age=40\n",
    "\n",
    "#Perform one-sample t-test\n",
    "t_statistic, p_value = stats.ttest_1samp(age_data, pop_avg_age)\n",
    "degrees_of_freedom = len(age_data) - 1\n",
    "\n",
    "print('T-statistic:',t_statistic)\n",
    "print('P value:', p_value)\n",
    "print('Degree of freedom:', degrees_of_freedom)"
   ]
  },
  {
   "cell_type": "code",
   "execution_count": 11,
   "id": "b0be5188-250e-4b5f-bb2c-1c74ab9ee286",
   "metadata": {},
   "outputs": [
    {
     "name": "stdout",
     "output_type": "stream",
     "text": [
      "The null hypothesis (mean age = 40) cannot be rejected.\n",
      "Critical value: 1.971956544249395\n"
     ]
    }
   ],
   "source": [
    "# Interpretation\n",
    "alpha=0.025 #0.05/2\n",
    "if p_value < alpha:\n",
    "    print('The null hypothesis (mean age = 40) is rejected.')\n",
    "else:\n",
    "    print(\"The null hypothesis (mean age = 40) cannot be rejected.\")\n",
    "\n",
    "critical_value = stats.t.ppf(1-alpha, degrees_of_freedom)\n",
    "print(\"Critical value:\", critical_value)"
   ]
  },
  {
   "cell_type": "code",
   "execution_count": 13,
   "id": "3e3b7eac-e5e1-4a69-96d1-b41529893f46",
   "metadata": {},
   "outputs": [
    {
     "name": "stdout",
     "output_type": "stream",
     "text": [
      "The null hypothesis (mean age = 40) cannot be rejected.\n"
     ]
    }
   ],
   "source": [
    "# Two- tailed t-Test (Because we are just checking if sample mean = population mean)\n",
    "# So, we need to take absolute value of t-statistic\n",
    "if (abs(t_statistic) < critical_value):\n",
    "    print(\"The null hypothesis (mean age = 40) cannot be rejected.\")\n",
    "else :\n",
    "    print(\"The null hypothesis (mean age =40) is rejected.\")"
   ]
  },
  {
   "cell_type": "markdown",
   "id": "9469eb2e-6bd2-4b78-bc82-4c6683267a4c",
   "metadata": {},
   "source": [
    "### Two Value T Test"
   ]
  },
  {
   "cell_type": "code",
   "execution_count": 23,
   "id": "1ab7fb1a-2ce2-47fe-bd0a-140b038aa1c7",
   "metadata": {},
   "outputs": [],
   "source": [
    "#Separate data by genre\n",
    "male_spending = data[data['Genre'] == 'Male']['Spending Score (1-100)']\n",
    "female_spending =  data[data['Genre'] == 'Female']['Spending Score (1-100)']"
   ]
  },
  {
   "cell_type": "code",
   "execution_count": 35,
   "id": "e77b9bcb-4092-44aa-988a-0a4d5cf9f209",
   "metadata": {},
   "outputs": [
    {
     "name": "stdout",
     "output_type": "stream",
     "text": [
      "Shape:  (30,)\n",
      "Shape:  (30,)\n"
     ]
    }
   ],
   "source": [
    "male_spending= male_spending.sample(30)\n",
    "print(\"Shape: \",male_spending.shape)\n",
    "female_spending = female_spending.sample(30)\n",
    "print('Shape: ',female_spending.shape)"
   ]
  },
  {
   "cell_type": "code",
   "execution_count": 37,
   "id": "5d8306dd-741e-4e12-b93c-6f8bfd79d3ba",
   "metadata": {},
   "outputs": [],
   "source": [
    "# Perform two-sample t-test\n",
    "t_statistic, p_value = stats.ttest_ind(male_spending, female_spending)\n",
    "\n",
    "n_male =  len(male_spending)\n",
    "n_female = len(female_spending)\n",
    "degrees_of_freedom = n_male + n_female -2"
   ]
  },
  {
   "cell_type": "code",
   "execution_count": 39,
   "id": "db8e821a-83ea-4a1e-9bbe-bb8f05e790b5",
   "metadata": {},
   "outputs": [],
   "source": [
    "alpha = 0.025"
   ]
  },
  {
   "cell_type": "code",
   "execution_count": 41,
   "id": "634fcbc8-c8a8-4c4d-84a2-6c98c8569489",
   "metadata": {},
   "outputs": [],
   "source": [
    "#Find the critial value\n",
    "critical_value = stats.t.ppf(1-alpha, degrees_of_freedom)"
   ]
  },
  {
   "cell_type": "code",
   "execution_count": 43,
   "id": "b0a3b24a-5a2a-4880-a316-a47d54538b4b",
   "metadata": {},
   "outputs": [
    {
     "name": "stdout",
     "output_type": "stream",
     "text": [
      "T-statistic:  -0.250706772747688\n",
      "p-value: 0.8029268411691064\n",
      "Critical value: 2.0017174841452356\n"
     ]
    }
   ],
   "source": [
    "#Print the results\n",
    "print(\"T-statistic: \", t_statistic)\n",
    "print('p-value:', p_value)\n",
    "print('Critical value:', critical_value)"
   ]
  },
  {
   "cell_type": "code",
   "execution_count": 45,
   "id": "9e8926c3-b9c5-48ee-b9f6-c03dbc85c8a3",
   "metadata": {},
   "outputs": [
    {
     "name": "stdout",
     "output_type": "stream",
     "text": [
      "There is no significant difference in spending score between Male and Femlale groups.\n"
     ]
    }
   ],
   "source": [
    "if p_value < alpha:\n",
    "    print(\"There is a significant difference in spending score between Male and Female groups.\")\n",
    "else:\n",
    "    print('There is no significant difference in spending score between Male and Femlale groups.')"
   ]
  },
  {
   "cell_type": "code",
   "execution_count": 51,
   "id": "117303ab-dd6c-448d-b0f6-d1fcddcbe004",
   "metadata": {},
   "outputs": [
    {
     "name": "stdout",
     "output_type": "stream",
     "text": [
      "There is no significant difference in spending score between Male and Female groups.\n"
     ]
    }
   ],
   "source": [
    "if abs(t_statistic) > critical_value:\n",
    "    print(\"There is a significant difference in spending score between Male and Female groups.\")\n",
    "else:\n",
    "    print(\"There is no significant difference in spending score between Male and Female groups.\")"
   ]
  },
  {
   "cell_type": "markdown",
   "id": "9ec6134a-38c0-4432-a02a-dbce48d493fc",
   "metadata": {},
   "source": [
    "### Paired T Test"
   ]
  },
  {
   "cell_type": "code",
   "execution_count": null,
   "id": "a4b2b44a-0f34-4bf9-96e1-4b21ae20127c",
   "metadata": {},
   "outputs": [],
   "source": []
  }
 ],
 "metadata": {
  "kernelspec": {
   "display_name": "Python 3 (ipykernel)",
   "language": "python",
   "name": "python3"
  },
  "language_info": {
   "codemirror_mode": {
    "name": "ipython",
    "version": 3
   },
   "file_extension": ".py",
   "mimetype": "text/x-python",
   "name": "python",
   "nbconvert_exporter": "python",
   "pygments_lexer": "ipython3",
   "version": "3.12.4"
  }
 },
 "nbformat": 4,
 "nbformat_minor": 5
}
