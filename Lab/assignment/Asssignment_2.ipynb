{
 "cells": [
  {
   "cell_type": "code",
   "execution_count": 4,
   "id": "a7b0b34c-bae5-43c4-99de-c9a6f17c8d34",
   "metadata": {},
   "outputs": [],
   "source": [
    "import numpy as np"
   ]
  },
  {
   "cell_type": "markdown",
   "id": "4c54be84-05cc-4e00-9c95-5fdae68b0820",
   "metadata": {
    "jp-MarkdownHeadingCollapsed": true
   },
   "source": [
    "#### 1. Write a NumPy program to get the numpy version and show numpy build configuration."
   ]
  },
  {
   "cell_type": "code",
   "execution_count": 12,
   "id": "33276ec7-b53f-45db-bc8d-7f5a486d7f24",
   "metadata": {},
   "outputs": [
    {
     "data": {
      "text/plain": [
       "'1.26.4'"
      ]
     },
     "execution_count": 12,
     "metadata": {},
     "output_type": "execute_result"
    }
   ],
   "source": [
    "np.version.version"
   ]
  },
  {
   "cell_type": "code",
   "execution_count": 16,
   "id": "af10821f-406b-4fec-9932-55fcd4629ebb",
   "metadata": {},
   "outputs": [
    {
     "name": "stdout",
     "output_type": "stream",
     "text": [
      "Build Dependencies:\n",
      "  blas:\n",
      "    detection method: pkgconfig\n",
      "    found: true\n",
      "    include directory: C:/Users/DAI.STUDENTSDC/AppData/Local/anaconda3/Library/include\n",
      "    lib directory: C:/Users/DAI.STUDENTSDC/AppData/Local/anaconda3/Library/lib\n",
      "    name: mkl-sdl\n",
      "    openblas configuration: unknown\n",
      "    pc file directory: C:\\b\\abs_c1ywpu18ar\\croot\\numpy_and_numpy_base_1708638681471\\_h_env\\Library\\lib\\pkgconfig\n",
      "    version: '2023.1'\n",
      "  lapack:\n",
      "    detection method: internal\n",
      "    found: true\n",
      "    include directory: unknown\n",
      "    lib directory: unknown\n",
      "    name: dep1583119523984\n",
      "    openblas configuration: unknown\n",
      "    pc file directory: unknown\n",
      "    version: 1.26.4\n",
      "Compilers:\n",
      "  c:\n",
      "    commands: cl.exe\n",
      "    linker: link\n",
      "    name: msvc\n",
      "    version: 19.29.30154\n",
      "  c++:\n",
      "    commands: cl.exe\n",
      "    linker: link\n",
      "    name: msvc\n",
      "    version: 19.29.30154\n",
      "  cython:\n",
      "    commands: cython\n",
      "    linker: cython\n",
      "    name: cython\n",
      "    version: 3.0.8\n",
      "Machine Information:\n",
      "  build:\n",
      "    cpu: x86_64\n",
      "    endian: little\n",
      "    family: x86_64\n",
      "    system: windows\n",
      "  host:\n",
      "    cpu: x86_64\n",
      "    endian: little\n",
      "    family: x86_64\n",
      "    system: windows\n",
      "Python Information:\n",
      "  path: C:\\b\\abs_c1ywpu18ar\\croot\\numpy_and_numpy_base_1708638681471\\_h_env\\python.exe\n",
      "  version: '3.12'\n",
      "SIMD Extensions:\n",
      "  baseline:\n",
      "  - SSE\n",
      "  - SSE2\n",
      "  - SSE3\n",
      "  found:\n",
      "  - SSSE3\n",
      "  - SSE41\n",
      "  - POPCNT\n",
      "  - SSE42\n",
      "  - AVX\n",
      "  - F16C\n",
      "  - FMA3\n",
      "  - AVX2\n",
      "  - AVX512F\n",
      "  - AVX512CD\n",
      "  - AVX512_SKX\n",
      "  - AVX512_CLX\n",
      "  not found:\n",
      "  - AVX512_CNL\n",
      "  - AVX512_ICL\n",
      "\n"
     ]
    }
   ],
   "source": [
    "np.show_config()"
   ]
  },
  {
   "cell_type": "markdown",
   "id": "9551e983-d0bb-4cda-af06-502ae9ccee7a",
   "metadata": {
    "jp-MarkdownHeadingCollapsed": true
   },
   "source": [
    "#### 2. Write a NumPy program to get help on the add function."
   ]
  },
  {
   "cell_type": "code",
   "execution_count": 46,
   "id": "06933e3f-b833-41d6-952f-27022b8ed0d6",
   "metadata": {},
   "outputs": [
    {
     "name": "stdout",
     "output_type": "stream",
     "text": [
      "Help on ufunc:\n",
      "\n",
      "add = <ufunc 'add'>\n",
      "    add(x1, x2, /, out=None, *, where=True, casting='same_kind', order='K', dtype=None, subok=True[, signature, extobj])\n",
      "\n",
      "    Add arguments element-wise.\n",
      "\n",
      "    Parameters\n",
      "    ----------\n",
      "    x1, x2 : array_like\n",
      "        The arrays to be added.\n",
      "        If ``x1.shape != x2.shape``, they must be broadcastable to a common\n",
      "        shape (which becomes the shape of the output).\n",
      "    out : ndarray, None, or tuple of ndarray and None, optional\n",
      "        A location into which the result is stored. If provided, it must have\n",
      "        a shape that the inputs broadcast to. If not provided or None,\n",
      "        a freshly-allocated array is returned. A tuple (possible only as a\n",
      "        keyword argument) must have length equal to the number of outputs.\n",
      "    where : array_like, optional\n",
      "        This condition is broadcast over the input. At locations where the\n",
      "        condition is True, the `out` array will be set to the ufunc result.\n",
      "        Elsewhere, the `out` array will retain its original value.\n",
      "        Note that if an uninitialized `out` array is created via the default\n",
      "        ``out=None``, locations within it where the condition is False will\n",
      "        remain uninitialized.\n",
      "    **kwargs\n",
      "        For other keyword-only arguments, see the\n",
      "        :ref:`ufunc docs <ufuncs.kwargs>`.\n",
      "\n",
      "    Returns\n",
      "    -------\n",
      "    add : ndarray or scalar\n",
      "        The sum of `x1` and `x2`, element-wise.\n",
      "        This is a scalar if both `x1` and `x2` are scalars.\n",
      "\n",
      "    Notes\n",
      "    -----\n",
      "    Equivalent to `x1` + `x2` in terms of array broadcasting.\n",
      "\n",
      "    Examples\n",
      "    --------\n",
      "    >>> np.add(1.0, 4.0)\n",
      "    5.0\n",
      "    >>> x1 = np.arange(9.0).reshape((3, 3))\n",
      "    >>> x2 = np.arange(3.0)\n",
      "    >>> np.add(x1, x2)\n",
      "    array([[  0.,   2.,   4.],\n",
      "           [  3.,   5.,   7.],\n",
      "           [  6.,   8.,  10.]])\n",
      "\n",
      "    The ``+`` operator can be used as a shorthand for ``np.add`` on ndarrays.\n",
      "\n",
      "    >>> x1 = np.arange(9.0).reshape((3, 3))\n",
      "    >>> x2 = np.arange(3.0)\n",
      "    >>> x1 + x2\n",
      "    array([[ 0.,  2.,  4.],\n",
      "           [ 3.,  5.,  7.],\n",
      "           [ 6.,  8., 10.]])\n",
      "\n"
     ]
    }
   ],
   "source": [
    "help(np.add)"
   ]
  },
  {
   "cell_type": "code",
   "execution_count": 20,
   "id": "22763465-c646-4dce-b51b-0854b584d654",
   "metadata": {},
   "outputs": [
    {
     "data": {
      "text/plain": [
       "\u001b[1;31mSignature:\u001b[0m       \u001b[0mnp\u001b[0m\u001b[1;33m.\u001b[0m\u001b[0madd\u001b[0m\u001b[1;33m(\u001b[0m\u001b[1;33m*\u001b[0m\u001b[0margs\u001b[0m\u001b[1;33m,\u001b[0m \u001b[1;33m**\u001b[0m\u001b[0mkwargs\u001b[0m\u001b[1;33m)\u001b[0m\u001b[1;33m\u001b[0m\u001b[1;33m\u001b[0m\u001b[0m\n",
       "\u001b[1;31mType:\u001b[0m            ufunc\n",
       "\u001b[1;31mString form:\u001b[0m     <ufunc 'add'>\n",
       "\u001b[1;31mFile:\u001b[0m            c:\\users\\dai.studentsdc\\appdata\\local\\anaconda3\\lib\\site-packages\\numpy\\__init__.py\n",
       "\u001b[1;31mDocstring:\u001b[0m      \n",
       "add(x1, x2, /, out=None, *, where=True, casting='same_kind', order='K', dtype=None, subok=True[, signature, extobj])\n",
       "\n",
       "Add arguments element-wise.\n",
       "\n",
       "Parameters\n",
       "----------\n",
       "x1, x2 : array_like\n",
       "    The arrays to be added.\n",
       "    If ``x1.shape != x2.shape``, they must be broadcastable to a common\n",
       "    shape (which becomes the shape of the output).\n",
       "out : ndarray, None, or tuple of ndarray and None, optional\n",
       "    A location into which the result is stored. If provided, it must have\n",
       "    a shape that the inputs broadcast to. If not provided or None,\n",
       "    a freshly-allocated array is returned. A tuple (possible only as a\n",
       "    keyword argument) must have length equal to the number of outputs.\n",
       "where : array_like, optional\n",
       "    This condition is broadcast over the input. At locations where the\n",
       "    condition is True, the `out` array will be set to the ufunc result.\n",
       "    Elsewhere, the `out` array will retain its original value.\n",
       "    Note that if an uninitialized `out` array is created via the default\n",
       "    ``out=None``, locations within it where the condition is False will\n",
       "    remain uninitialized.\n",
       "**kwargs\n",
       "    For other keyword-only arguments, see the\n",
       "    :ref:`ufunc docs <ufuncs.kwargs>`.\n",
       "\n",
       "Returns\n",
       "-------\n",
       "add : ndarray or scalar\n",
       "    The sum of `x1` and `x2`, element-wise.\n",
       "    This is a scalar if both `x1` and `x2` are scalars.\n",
       "\n",
       "Notes\n",
       "-----\n",
       "Equivalent to `x1` + `x2` in terms of array broadcasting.\n",
       "\n",
       "Examples\n",
       "--------\n",
       ">>> np.add(1.0, 4.0)\n",
       "5.0\n",
       ">>> x1 = np.arange(9.0).reshape((3, 3))\n",
       ">>> x2 = np.arange(3.0)\n",
       ">>> np.add(x1, x2)\n",
       "array([[  0.,   2.,   4.],\n",
       "       [  3.,   5.,   7.],\n",
       "       [  6.,   8.,  10.]])\n",
       "\n",
       "The ``+`` operator can be used as a shorthand for ``np.add`` on ndarrays.\n",
       "\n",
       ">>> x1 = np.arange(9.0).reshape((3, 3))\n",
       ">>> x2 = np.arange(3.0)\n",
       ">>> x1 + x2\n",
       "array([[ 0.,  2.,  4.],\n",
       "       [ 3.,  5.,  7.],\n",
       "       [ 6.,  8., 10.]])\n",
       "\u001b[1;31mClass docstring:\u001b[0m\n",
       "Functions that operate element by element on whole arrays.\n",
       "\n",
       "To see the documentation for a specific ufunc, use `info`.  For\n",
       "example, ``np.info(np.sin)``.  Because ufuncs are written in C\n",
       "(for speed) and linked into Python with NumPy's ufunc facility,\n",
       "Python's help() function finds this page whenever help() is called\n",
       "on a ufunc.\n",
       "\n",
       "A detailed explanation of ufuncs can be found in the docs for :ref:`ufuncs`.\n",
       "\n",
       "**Calling ufuncs:** ``op(*x[, out], where=True, **kwargs)``\n",
       "\n",
       "Apply `op` to the arguments `*x` elementwise, broadcasting the arguments.\n",
       "\n",
       "The broadcasting rules are:\n",
       "\n",
       "* Dimensions of length 1 may be prepended to either array.\n",
       "* Arrays may be repeated along dimensions of length 1.\n",
       "\n",
       "Parameters\n",
       "----------\n",
       "*x : array_like\n",
       "    Input arrays.\n",
       "out : ndarray, None, or tuple of ndarray and None, optional\n",
       "    Alternate array object(s) in which to put the result; if provided, it\n",
       "    must have a shape that the inputs broadcast to. A tuple of arrays\n",
       "    (possible only as a keyword argument) must have length equal to the\n",
       "    number of outputs; use None for uninitialized outputs to be\n",
       "    allocated by the ufunc.\n",
       "where : array_like, optional\n",
       "    This condition is broadcast over the input. At locations where the\n",
       "    condition is True, the `out` array will be set to the ufunc result.\n",
       "    Elsewhere, the `out` array will retain its original value.\n",
       "    Note that if an uninitialized `out` array is created via the default\n",
       "    ``out=None``, locations within it where the condition is False will\n",
       "    remain uninitialized.\n",
       "**kwargs\n",
       "    For other keyword-only arguments, see the :ref:`ufunc docs <ufuncs.kwargs>`.\n",
       "\n",
       "Returns\n",
       "-------\n",
       "r : ndarray or tuple of ndarray\n",
       "    `r` will have the shape that the arrays in `x` broadcast to; if `out` is\n",
       "    provided, it will be returned. If not, `r` will be allocated and\n",
       "    may contain uninitialized values. If the function has more than one\n",
       "    output, then the result will be a tuple of arrays."
      ]
     },
     "metadata": {},
     "output_type": "display_data"
    }
   ],
   "source": [
    "# other method to do the same is\n",
    "np.add?"
   ]
  },
  {
   "cell_type": "markdown",
   "id": "72dff922-c824-416b-b50e-f0ef4e6c7364",
   "metadata": {},
   "source": [
    "#### 3. Write a NumPy program to test whether none of the elements of a given array is zero."
   ]
  },
  {
   "cell_type": "code",
   "execution_count": 39,
   "id": "76663c34-0100-41ba-aeaa-c3bd76ff3a8d",
   "metadata": {},
   "outputs": [
    {
     "name": "stdout",
     "output_type": "stream",
     "text": [
      "No_zero\n"
     ]
    }
   ],
   "source": [
    "a = np.array([1,2,3,4,5,67,41,3,54,56])\n",
    "b = \"No_zero\" if all(a!=0) else \"Zero is present\"\n",
    "print(b)"
   ]
  },
  {
   "cell_type": "markdown",
   "id": "d9b1532f-c79d-47d3-84ae-7c26bbb585d5",
   "metadata": {},
   "source": [
    "#### 4.Write a NumPy program to test whether any of the elements of a given array is non-zero."
   ]
  },
  {
   "cell_type": "code",
   "execution_count": 83,
   "id": "f8ae3152-d34f-4844-b1ab-1f3e048151c1",
   "metadata": {},
   "outputs": [
    {
     "name": "stdout",
     "output_type": "stream",
     "text": [
      "Non_zero is present\n"
     ]
    }
   ],
   "source": [
    "# s = [int(x) for x in input(\"Enter the integer values you want to store in array:\").split()]\n",
    "a = np.array([1,2,3,4,5,67,41,3,54,56])\n",
    "b = \"Non_zero is present\" if all(a!=0) else \"Zero is present\"\n",
    "print(b)\n"
   ]
  },
  {
   "cell_type": "markdown",
   "id": "9daa3989-243e-45e2-ace5-d9343a17cb6a",
   "metadata": {},
   "source": [
    "#### 5. Write a NumPy program to test a given array element-wise for finiteness (not infinity or not a Number)."
   ]
  },
  {
   "cell_type": "code",
   "execution_count": 108,
   "id": "c62b529b-05c4-43bc-acc9-e14720259f83",
   "metadata": {},
   "outputs": [
    {
     "data": {
      "text/plain": [
       "array([ True,  True,  True,  True,  True,  True,  True, False,  True,\n",
       "        True])"
      ]
     },
     "execution_count": 108,
     "metadata": {},
     "output_type": "execute_result"
    }
   ],
   "source": [
    "a = np.array([1,2,3,4,5,67,41,np.nan,54,56])\n",
    "np.isfinite(a)"
   ]
  },
  {
   "cell_type": "markdown",
   "id": "f197a13d-121a-458b-90ed-a4db2ffdfb05",
   "metadata": {},
   "source": [
    "#### 6. Write a NumPy program to test element-wise for positive or negative infinity."
   ]
  },
  {
   "cell_type": "code",
   "execution_count": 112,
   "id": "1d69d346-7b9c-4ece-b88b-db421a65329f",
   "metadata": {},
   "outputs": [
    {
     "name": "stdout",
     "output_type": "stream",
     "text": [
      "Not +/- infinity\n",
      "+/- infinity\n",
      "Not +/- infinity\n",
      "Not +/- infinity\n",
      "Not +/- infinity\n",
      "Not +/- infinity\n",
      "Not +/- infinity\n",
      "Not +/- infinity\n",
      "Not +/- infinity\n",
      "Not +/- infinity\n"
     ]
    },
    {
     "data": {
      "text/plain": [
       "array([False,  True, False, False, False, False, False, False, False,\n",
       "       False])"
      ]
     },
     "execution_count": 112,
     "metadata": {},
     "output_type": "execute_result"
    }
   ],
   "source": [
    "a = np.array([1,np.inf,3,4,5,67,41,np.nan,54,56])\n",
    "[print(\"+/- infinity\") if x else print(\"Not +/- infinity\") for x in np.isinf(a)]\n",
    "np.isinf(a)"
   ]
  },
  {
   "cell_type": "markdown",
   "id": "bba069f6-d026-4b85-8c83-367ecfa2d27f",
   "metadata": {},
   "source": [
    "#### 7. Write a NumPy program to test element-wise for NaN of a given array."
   ]
  },
  {
   "cell_type": "code",
   "execution_count": 115,
   "id": "eaf87ce2-c044-4353-88c3-cb42d31f06fd",
   "metadata": {},
   "outputs": [
    {
     "data": {
      "text/plain": [
       "array([False, False, False, False, False, False, False,  True, False,\n",
       "       False])"
      ]
     },
     "execution_count": 115,
     "metadata": {},
     "output_type": "execute_result"
    }
   ],
   "source": [
    "a = np.array([1,np.inf,3,4,5,67,41,np.nan,54,56])\n",
    "np.isnan(a)"
   ]
  },
  {
   "cell_type": "markdown",
   "id": "260a68a7-1843-4f9d-93fe-ac16b8185a9e",
   "metadata": {},
   "source": [
    "#### 8. Write a NumPy program to test element-wise for complex number, real number of a given array. Also test whether a given number is a scalar type or not."
   ]
  },
  {
   "cell_type": "code",
   "execution_count": 152,
   "id": "f3bd8232-be55-41fd-a7d6-c4eea6e5ad85",
   "metadata": {},
   "outputs": [
    {
     "name": "stdout",
     "output_type": "stream",
     "text": [
      "Checking weather element is complex or not--------->\n",
      ". [False False False False False False False False False  True]\n",
      "Checking weather element is scaler or not--------->\n",
      ". False\n",
      "Checking weather element is real or not--------->\n",
      ". [ True  True  True  True  True  True  True  True  True False]\n"
     ]
    }
   ],
   "source": [
    "a = np.array([1,np.inf,3,4,5,67,41,np.nan,54,56+8j])\n",
    "print(\"Checking weather element is complex or not--------->\\n.\", np.iscomplex(a))\n",
    "print(\"Checking weather element is scaler or not--------->\\n.\", np.isscalar(a))\n",
    "print(\"Checking weather element is real or not--------->\\n.\", np.isreal(a))"
   ]
  },
  {
   "cell_type": "markdown",
   "id": "408d0b12-31bc-48d8-9c4c-ff5ee47910cf",
   "metadata": {},
   "source": [
    "#### 9. Write a NumPy program to create an element-wise comparison (greater, greater_equal, less and \n",
    "less_equal) of two given arrays."
   ]
  },
  {
   "cell_type": "code",
   "execution_count": 178,
   "id": "5e5a347f-8011-4147-b800-0883023f5580",
   "metadata": {},
   "outputs": [
    {
     "name": "stdout",
     "output_type": "stream",
     "text": [
      "Checking weather element of array a is greater than or not--------->\n",
      ". [False False  True False False False False False  True  True]\n",
      "\n",
      "Checking weather element of array a is greater than equal to or not--------->\n",
      ". [False  True  True False False False False False  True  True]\n",
      "\n",
      "Checking weather element of array a is less than or not--------->\n",
      ". [ True False False  True  True  True  True  True False False]\n",
      "\n",
      "Checking weather element of array a is less than equal to or not--------->\n",
      ". [ True  True False  True  True  True  True  True False False]\n"
     ]
    }
   ],
   "source": [
    "a = np.array([1,2,3,4,5,67,41,3,54,56])\n",
    "b=np.array([10,2,1,5,76,84,564,6,3,2])\n",
    "print(\"Checking weather element of array a is greater than or not--------->\\n.\", a>b)\n",
    "print(\"\\nChecking weather element of array a is greater than equal to or not--------->\\n.\", a>=b)\n",
    "print(\"\\nChecking weather element of array a is less than or not--------->\\n.\", a<b)\n",
    "print(\"\\nChecking weather element of array a is less than equal to or not--------->\\n.\", a<=b)\n"
   ]
  },
  {
   "cell_type": "markdown",
   "id": "f79c9629-3f78-4831-840c-36d136143959",
   "metadata": {},
   "source": [
    "#### 10 Write a NumPy program to create an array with the values 1, 7, 13, 105 and determine the size of the \n",
    "memory occupied by the array."
   ]
  },
  {
   "cell_type": "code",
   "execution_count": 200,
   "id": "b5b097b7-6279-4392-8686-3a3327d3788d",
   "metadata": {},
   "outputs": [
    {
     "name": "stdout",
     "output_type": "stream",
     "text": [
      "16 Bytes\n"
     ]
    }
   ],
   "source": [
    "a=np.array([1,7,13,105])\n",
    "print(a.size*a.itemsize,\"Bytes\")"
   ]
  },
  {
   "cell_type": "markdown",
   "id": "e1469510-dfbb-4d9d-aadd-614bfd370266",
   "metadata": {},
   "source": [
    "#### 11. Write a NumPy program to create an array of 10 zeros,10 ones, 10 fives."
   ]
  },
  {
   "cell_type": "code",
   "execution_count": 212,
   "id": "6312fe04-08c0-4ab8-a0ea-0526b6b1c50d",
   "metadata": {},
   "outputs": [
    {
     "name": "stdout",
     "output_type": "stream",
     "text": [
      "Array of 10 zeros: [0 0 0 0 0 0 0 0 0 0]\n",
      "Array of 10 ones:  [1 1 1 1 1 1 1 1 1 1]\n",
      "Array of 10 fives: [5 5 5 5 5 5 5 5 5 5]\n"
     ]
    }
   ],
   "source": [
    "a=np.zeros(10, dtype = 'int16')\n",
    "print(\"Array of 10 zeros:\",a)\n",
    "a=np.ones(10, dtype = 'int16')\n",
    "print(\"Array of 10 ones: \",a)\n",
    "a=np.full(10,5)\n",
    "print(\"Array of 10 fives:\",a)"
   ]
  },
  {
   "cell_type": "markdown",
   "id": "8f0c376c-81ac-41eb-895a-6738e2c403ba",
   "metadata": {},
   "source": [
    "#### 12. Write a NumPy program to create an array of the integers from 30 to70."
   ]
  },
  {
   "cell_type": "code",
   "execution_count": 224,
   "id": "978762fb-9766-4f61-8197-3151175f9731",
   "metadata": {},
   "outputs": [
    {
     "name": "stdout",
     "output_type": "stream",
     "text": [
      "[30 31 32 33 34 35 36 37 38 39 40 41 42 43 44 45 46 47 48 49 50 51 52 53\n",
      " 54 55 56 57 58 59 60 61 62 63 64 65 66 67 68 69 70]\n"
     ]
    }
   ],
   "source": [
    "print(np.arange(30,71))"
   ]
  },
  {
   "cell_type": "markdown",
   "id": "01fb2ea0-9a8e-452c-99bc-b59a1cc1f58a",
   "metadata": {},
   "source": [
    "#### 13 Write a NumPy program to create an array of all the even integers from 30 to 70."
   ]
  },
  {
   "cell_type": "code",
   "execution_count": 227,
   "id": "a8d5a404-6a29-4339-93cf-43b3471eacdd",
   "metadata": {},
   "outputs": [
    {
     "name": "stdout",
     "output_type": "stream",
     "text": [
      "[30 32 34 36 38 40 42 44 46 48 50 52 54 56 58 60 62 64 66 68 70]\n"
     ]
    }
   ],
   "source": [
    "print(np.arange(30,71,2))"
   ]
  },
  {
   "cell_type": "markdown",
   "id": "362a4f96-1c4d-44d9-b37c-7887c1fb5029",
   "metadata": {},
   "source": [
    "#### 14. Write a NumPy program to create a 3x3 identity matrix."
   ]
  },
  {
   "cell_type": "code",
   "execution_count": 251,
   "id": "522b74d5-83f1-4a7b-8e11-408bba5038a3",
   "metadata": {},
   "outputs": [
    {
     "data": {
      "text/plain": [
       "array([[1., 0., 0.],\n",
       "       [0., 1., 0.],\n",
       "       [0., 0., 1.]])"
      ]
     },
     "execution_count": 251,
     "metadata": {},
     "output_type": "execute_result"
    }
   ],
   "source": [
    "np.eye(3)"
   ]
  },
  {
   "cell_type": "markdown",
   "id": "79d99553-4c67-445d-ac3b-c17245d5814d",
   "metadata": {},
   "source": [
    "#### 15. Write a NumPy program to generate a random number between 0 and 1."
   ]
  },
  {
   "cell_type": "code",
   "execution_count": 254,
   "id": "992f315b-f35c-4d89-960b-889cbfec60c8",
   "metadata": {},
   "outputs": [
    {
     "data": {
      "text/plain": [
       "0.8363237384684722"
      ]
     },
     "execution_count": 254,
     "metadata": {},
     "output_type": "execute_result"
    }
   ],
   "source": [
    "np.random.rand()"
   ]
  },
  {
   "cell_type": "markdown",
   "id": "701ac248-7df4-467c-a5ce-bbcb9c9b92fb",
   "metadata": {},
   "source": [
    "#### 16. Write a NumPy program to generate an array of 15 random numbers from a standard normal distribution."
   ]
  },
  {
   "cell_type": "code",
   "execution_count": 257,
   "id": "1fcac302-0382-41a8-8e65-7335bab2ec97",
   "metadata": {},
   "outputs": [
    {
     "data": {
      "text/plain": [
       "array([ 1.50317406, -0.86063396,  0.96617687, -0.69022235, -1.03661876,\n",
       "       -0.35745717,  1.33848918, -0.29488878, -1.45292161, -0.16532356,\n",
       "       -0.78310612,  0.56525147,  0.65317363,  0.43363533, -0.40437657])"
      ]
     },
     "execution_count": 257,
     "metadata": {},
     "output_type": "execute_result"
    }
   ],
   "source": [
    "np.random.randn(15)"
   ]
  },
  {
   "cell_type": "markdown",
   "id": "e0f1d3cb-27fc-4fce-a3f3-7ec6cd1d09f7",
   "metadata": {},
   "source": [
    "#### 17. Write a NumPy program to create a vector with values ranging from 15 to 55 and print all values except the first and last."
   ]
  },
  {
   "cell_type": "code",
   "execution_count": 278,
   "id": "ad4a0abf-6cb1-4d19-8123-203a654b5c10",
   "metadata": {},
   "outputs": [
    {
     "name": "stdout",
     "output_type": "stream",
     "text": [
      "[54 32 21 24 47 16 48 46 22 45] \n",
      " [32 21 24 47 16 48 46 22]\n"
     ]
    }
   ],
   "source": [
    "a=np.random.randint(15,55,10)\n",
    "print(a, \"\\n\" ,  a[1:-1])"
   ]
  },
  {
   "cell_type": "markdown",
   "id": "b2f59b9d-2375-43ac-9a1b-074e776d336d",
   "metadata": {},
   "source": [
    "#### 18. Write a NumPy program to create a 3X4 array."
   ]
  },
  {
   "cell_type": "code",
   "execution_count": 316,
   "id": "30568ca8-7d9e-4805-8fc9-c1004ea8eacd",
   "metadata": {
    "scrolled": true
   },
   "outputs": [
    {
     "name": "stdout",
     "output_type": "stream",
     "text": [
      "[[0.88380034 0.13480137 0.35084005 0.38052184]\n",
      " [0.04734111 0.10165901 0.26998811 0.21938839]\n",
      " [0.12023903 0.73622957 0.47795686 0.67423806]]\n"
     ]
    }
   ],
   "source": [
    "print(np.empty((3,4)))"
   ]
  },
  {
   "cell_type": "markdown",
   "id": "31779628-ddb3-498f-868c-677b31f4bbf5",
   "metadata": {},
   "source": [
    "#### 19. Write a NumPy program to create a vector of length 10 with values evenly distributed between 5 and 50."
   ]
  },
  {
   "cell_type": "code",
   "execution_count": 302,
   "id": "9de6c9ce-2a4a-471c-b59a-925632cb607f",
   "metadata": {},
   "outputs": [
    {
     "data": {
      "text/plain": [
       "array([ 5, 10, 15, 20, 25, 30, 35, 40, 45, 50])"
      ]
     },
     "execution_count": 302,
     "metadata": {},
     "output_type": "execute_result"
    }
   ],
   "source": [
    "np.linspace(5,50,10, dtype=int)"
   ]
  },
  {
   "cell_type": "markdown",
   "id": "61cb19c0-3531-4304-aad9-ff30deeb022a",
   "metadata": {},
   "source": [
    "#### 20. Write a NumPy program to create a vector with values from 0 to 20 and change the sign of the numbers in the range from 9 to 15."
   ]
  },
  {
   "cell_type": "code",
   "execution_count": 327,
   "id": "54f47cf3-d7e4-401c-996c-29e951d738c9",
   "metadata": {},
   "outputs": [
    {
     "data": {
      "text/plain": [
       "array([  0,   1,   2,   3,   4,   5,   6,   7,   8,  -9, -10, -11, -12,\n",
       "       -13, -14, -15,  16,  17,  18,  19,  20])"
      ]
     },
     "execution_count": 327,
     "metadata": {},
     "output_type": "execute_result"
    }
   ],
   "source": [
    "a=np.arange(0,21)\n",
    "a[9:16]= -a[9:16]\n",
    "a"
   ]
  },
  {
   "cell_type": "markdown",
   "id": "bb43f475-b8c1-4e2d-a42e-ddbf046300c3",
   "metadata": {},
   "source": [
    "#### 21. Write a NumPy program to create a vector of length 5 filled with arbitrary integers from 0 to 10."
   ]
  },
  {
   "cell_type": "code",
   "execution_count": 338,
   "id": "399fee05-0cfe-46f2-b97b-eb8e2887929c",
   "metadata": {},
   "outputs": [
    {
     "name": "stdout",
     "output_type": "stream",
     "text": [
      "[9 5 8 8 5]\n"
     ]
    }
   ],
   "source": [
    "a=np.random.randint(0,10,5)\n",
    "print(a)"
   ]
  },
  {
   "cell_type": "markdown",
   "id": "96665f73-14e1-4eb7-a431-e2a806e82fb3",
   "metadata": {},
   "source": [
    "#### 22. Write a NumPy program to multiply the values of two given vectors."
   ]
  },
  {
   "cell_type": "code",
   "execution_count": 345,
   "id": "bdbb2b01-6b14-4b64-ba7c-bb341811cc1a",
   "metadata": {},
   "outputs": [
    {
     "name": "stdout",
     "output_type": "stream",
     "text": [
      "The product of each element of the arrays a and b :\n",
      " [5 8 9 8]\n"
     ]
    }
   ],
   "source": [
    "a=np.array([1,2,3,4])\n",
    "b=np.array([5,4,3,2])\n",
    "print(\"The product of each element of the arrays a and b :\\n\",a*b)"
   ]
  },
  {
   "cell_type": "markdown",
   "id": "fbc5589e-29df-40bd-974e-3a834fd986d4",
   "metadata": {},
   "source": [
    "#### 23. Write a NumPy program to create a 3x4 matrix filled with values from 10 to 21."
   ]
  },
  {
   "cell_type": "code",
   "execution_count": 348,
   "id": "e5472606-1450-44f6-9f80-9eaf35cb7659",
   "metadata": {},
   "outputs": [
    {
     "data": {
      "text/plain": [
       "array([[12, 15, 21, 10],\n",
       "       [21, 14, 13, 19],\n",
       "       [20, 16, 19, 16]])"
      ]
     },
     "execution_count": 348,
     "metadata": {},
     "output_type": "execute_result"
    }
   ],
   "source": [
    "np.random.randint(10,22,(3,4))"
   ]
  },
  {
   "cell_type": "markdown",
   "id": "aeb06b66-ff4f-4999-984c-c1b44bf20cec",
   "metadata": {},
   "source": [
    "#### 24. Write a NumPy program to find the number of rows and columns of a given matrix."
   ]
  },
  {
   "cell_type": "code",
   "execution_count": 361,
   "id": "675a56bd-4172-4811-a6aa-630105de65aa",
   "metadata": {},
   "outputs": [
    {
     "data": {
      "text/plain": [
       "(2, 5)"
      ]
     },
     "execution_count": 361,
     "metadata": {},
     "output_type": "execute_result"
    }
   ],
   "source": [
    "a=np.array([[1,4,6,8,3],[2,4,5,6,7]])\n",
    "a.shape"
   ]
  },
  {
   "cell_type": "markdown",
   "id": "e97e2451-466d-4456-b4ec-534848b59e7b",
   "metadata": {},
   "source": [
    "#### 25. Write a NumPy program to create a 3x3 identity matrix, i.e. diagonal elements are 1, the rest are 0."
   ]
  },
  {
   "cell_type": "code",
   "execution_count": 364,
   "id": "076a13e7-3fe9-4ec2-8dfd-fda9577cd934",
   "metadata": {},
   "outputs": [
    {
     "data": {
      "text/plain": [
       "array([[1., 0., 0.],\n",
       "       [0., 1., 0.],\n",
       "       [0., 0., 1.]])"
      ]
     },
     "execution_count": 364,
     "metadata": {},
     "output_type": "execute_result"
    }
   ],
   "source": [
    "np.identity(3)"
   ]
  },
  {
   "cell_type": "markdown",
   "id": "b80d5390-1d8f-416c-9ccc-2c238d29e79b",
   "metadata": {},
   "source": [
    "#### 26. Write a NumPy program to create a 10x10 matrix, in which the elements on the borders will be equal to 1, and inside 0."
   ]
  },
  {
   "cell_type": "code",
   "execution_count": 391,
   "id": "451bca3c-a879-4ff9-af9a-71ba91718b65",
   "metadata": {},
   "outputs": [],
   "source": [
    "a=np.zeros((10,10))\n",
    "a[0], a[-1], a[:,0], a[:,-1]  = 1,1,1,1"
   ]
  },
  {
   "cell_type": "code",
   "execution_count": 419,
   "id": "b2cf9cb2-db94-4feb-990e-3df158fa4055",
   "metadata": {},
   "outputs": [
    {
     "data": {
      "text/plain": [
       "array([[[0.35438709, 0.91868105, 0.54401524],\n",
       "        [0.85124646, 0.66591182, 0.60211268],\n",
       "        [0.07910617, 0.34698651, 0.17619567]],\n",
       "\n",
       "       [[0.42055762, 0.34029888, 0.0249727 ],\n",
       "        [0.11343401, 0.40766985, 0.9857122 ],\n",
       "        [0.30403444, 0.0609002 , 0.00170374]],\n",
       "\n",
       "       [[0.09297278, 0.72155545, 0.02319815],\n",
       "        [0.68990229, 0.20136959, 0.73886927],\n",
       "        [0.57624407, 0.33141478, 0.5256488 ]]])"
      ]
     },
     "execution_count": 419,
     "metadata": {},
     "output_type": "execute_result"
    }
   ],
   "source": [
    "a"
   ]
  },
  {
   "cell_type": "markdown",
   "id": "713ef5ee-30ee-4dd0-9429-9fc8d688211b",
   "metadata": {},
   "source": [
    "#### 27. Write a NumPy program to create a 5x5 zero matrix with elements on the main diagonal equal to 1, 2, 3, 4, 5."
   ]
  },
  {
   "cell_type": "code",
   "execution_count": 397,
   "id": "37b25ae8-32b5-4fa7-bcaf-6d3146b69726",
   "metadata": {},
   "outputs": [
    {
     "name": "stdout",
     "output_type": "stream",
     "text": [
      "[[1. 0. 0. 0. 0.]\n",
      " [0. 2. 0. 0. 0.]\n",
      " [0. 0. 3. 0. 0.]\n",
      " [0. 0. 0. 4. 0.]\n",
      " [0. 0. 0. 0. 5.]]\n"
     ]
    }
   ],
   "source": [
    "a=np.zeros((5,5))\n",
    "for i in range(5):\n",
    "    a[i,i]=i+1\n",
    "print(a)"
   ]
  },
  {
   "cell_type": "markdown",
   "id": "24bc34b1-64ef-4eef-ac62-2cd34eb6e1c6",
   "metadata": {},
   "source": [
    "#### 28. Write a NumPy program to create a 3x3x3 array filled with arbitrary values."
   ]
  },
  {
   "cell_type": "code",
   "execution_count": 417,
   "id": "d9160b5f-89ab-4ee5-ae58-57abae6199d1",
   "metadata": {},
   "outputs": [
    {
     "name": "stdout",
     "output_type": "stream",
     "text": [
      "[[[0.35438709 0.91868105 0.54401524]\n",
      "  [0.85124646 0.66591182 0.60211268]\n",
      "  [0.07910617 0.34698651 0.17619567]]\n",
      "\n",
      " [[0.42055762 0.34029888 0.0249727 ]\n",
      "  [0.11343401 0.40766985 0.9857122 ]\n",
      "  [0.30403444 0.0609002  0.00170374]]\n",
      "\n",
      " [[0.09297278 0.72155545 0.02319815]\n",
      "  [0.68990229 0.20136959 0.73886927]\n",
      "  [0.57624407 0.33141478 0.5256488 ]]]\n"
     ]
    }
   ],
   "source": [
    "a=np.random.rand(3,3,3)\n",
    "print(a)"
   ]
  },
  {
   "cell_type": "markdown",
   "id": "57ba7db6-6a08-4114-b9d7-aeaa5c57ca52",
   "metadata": {},
   "source": [
    "#### 29. Write a NumPy program to compute the inner product of two given vectors."
   ]
  },
  {
   "cell_type": "code",
   "execution_count": 452,
   "id": "815946d8-537a-4fbd-9a0d-5ab0afdd337f",
   "metadata": {},
   "outputs": [
    {
     "name": "stdout",
     "output_type": "stream",
     "text": [
      "Matrix a:\n",
      " [[12  2 10]\n",
      " [ 4 12  6]\n",
      " [11 11  3]] \n",
      "Matrix b:\n",
      " [[11 10  2]\n",
      " [ 4  5 21]\n",
      " [20  8  8]] \n",
      " dot product of them is:\n",
      " [[340 210 146]\n",
      " [212 148 308]\n",
      " [225 189 277]]\n"
     ]
    }
   ],
   "source": [
    "a = np.random.randint(1,13,(3,3))\n",
    "b = np.random.randint(1,22,(3,3))\n",
    "print(\"Matrix a:\\n\", a, \"\\nMatrix b:\\n\", b, \"\\n dot product of them is:\\n\",a.dot(b))"
   ]
  },
  {
   "cell_type": "markdown",
   "id": "680c4a8e-332a-44c9-b025-5b7729ed0952",
   "metadata": {},
   "source": [
    "#### 30. Write a NumPy program to sort a given array by row and column in ascending order."
   ]
  },
  {
   "cell_type": "code",
   "execution_count": 455,
   "id": "97ca8ecf-adb5-4dfe-97b2-95947b5d4abb",
   "metadata": {},
   "outputs": [
    {
     "data": {
      "text/plain": [
       "array([[12,  2, 10],\n",
       "       [ 4, 12,  6],\n",
       "       [11, 11,  3]])"
      ]
     },
     "execution_count": 455,
     "metadata": {},
     "output_type": "execute_result"
    }
   ],
   "source": [
    "a"
   ]
  },
  {
   "cell_type": "code",
   "execution_count": 457,
   "id": "2136a038-5edd-4211-aba7-dac0b66d5c33",
   "metadata": {},
   "outputs": [
    {
     "name": "stdout",
     "output_type": "stream",
     "text": [
      "sorted row wise:\n",
      " [[ 2 10 12]\n",
      " [ 4  6 12]\n",
      " [ 3 11 11]]\n"
     ]
    }
   ],
   "source": [
    "a.sort(axis = 1)\n",
    "print(\"sorted row wise:\\n\", a)"
   ]
  },
  {
   "cell_type": "code",
   "execution_count": 459,
   "id": "c5ffb05f-4bf2-407e-a7d0-04a3712fe038",
   "metadata": {},
   "outputs": [
    {
     "name": "stdout",
     "output_type": "stream",
     "text": [
      "sorted coloumn wise:\n",
      " [[ 2  6 11]\n",
      " [ 3 10 12]\n",
      " [ 4 11 12]]\n"
     ]
    }
   ],
   "source": [
    "a.sort(axis = 0)\n",
    "print(\"sorted coloumn wise:\\n\", a)"
   ]
  },
  {
   "cell_type": "markdown",
   "id": "ec02c8ca-0add-43f6-88e4-a897b80d8684",
   "metadata": {},
   "source": [
    "#### 31. Write a NumPy program to extract all numbers from a given array which are less and greater than a specified number."
   ]
  },
  {
   "cell_type": "code",
   "execution_count": 494,
   "id": "b337e6e1-d244-48c3-ae06-6408334f81ff",
   "metadata": {},
   "outputs": [
    {
     "name": "stdout",
     "output_type": "stream",
     "text": [
      "Given array:\n",
      " [ 34 132 178   7  44  89 114  84 170 119 162 165]\n",
      "elements from vector a which are less than 50 and greater than 10 are: [34 44]\n"
     ]
    }
   ],
   "source": [
    "a = np.random.randint(1,187,12)\n",
    "print(\"Given array:\\n\",a)\n",
    "print(\"elements from vector a which are less than 50 and greater than 10 are:\", a[(a>10) & (a < 50)])"
   ]
  },
  {
   "cell_type": "markdown",
   "id": "524e00ac-f30e-48fc-b152-ab2b62b8f4fb",
   "metadata": {},
   "source": [
    "#### 32. Write a NumPy program to replace all numbers in a given array which is equal, less and greater to a given number."
   ]
  },
  {
   "cell_type": "code",
   "execution_count": 509,
   "id": "a08e483a-d114-4d7f-b196-12cde9c7ac5a",
   "metadata": {},
   "outputs": [
    {
     "name": "stdout",
     "output_type": "stream",
     "text": [
      "Number equal to 5 are replaced by 69 : [  1   2   3   4  69  69  69  69   3   2   7   8   9   7   8  56  56   4\n",
      " 678]\n",
      "Number greater than 5 are replaced by 6 : [1 2 3 4 5 5 5 5 3 2 6 6 6 6 6 6 6 4 6]\n",
      "Number less than 5 are replaced by 4 : [  4   4   4   4   5   5   5   5   4   4   7   8   9   7   8  56  56   4\n",
      " 678]\n"
     ]
    }
   ],
   "source": [
    "a = np.array([1,2,3,4,5,5,5,5,3,2,7,8,9,7,8,56,56,4,678])\n",
    "a[a==5] = 69\n",
    "print(\"Number equal to 5 are replaced by 69 :\",a)\n",
    "\n",
    "a = np.array([1,2,3,4,5,5,5,5,3,2,7,8,9,7,8,56,56,4,678])\n",
    "a[a>5] = 6\n",
    "print(\"Number greater than 5 are replaced by 6 :\",a)\n",
    "\n",
    "a = np.array([1,2,3,4,5,5,5,5,3,2,7,8,9,7,8,56,56,4,678])\n",
    "a[a<5] = 4\n",
    "print(\"Number less than 5 are replaced by 4 :\",a)"
   ]
  },
  {
   "cell_type": "markdown",
   "id": "ee3ca598-65b2-497c-a5e5-ba1142876aed",
   "metadata": {},
   "source": [
    "#### 33. Write a NumPy program to create an array of equal shape and data type of a given array."
   ]
  },
  {
   "cell_type": "code",
   "execution_count": 556,
   "id": "c41ae91e-7bdf-459a-97b6-2872e322ddf0",
   "metadata": {},
   "outputs": [
    {
     "data": {
      "text/plain": [
       "array([1. , 2. , 3. , 4. , 5.6, 6. ])"
      ]
     },
     "execution_count": 556,
     "metadata": {},
     "output_type": "execute_result"
    }
   ],
   "source": [
    "a=np.array([1,2,3,4,5.6,6])\n",
    "b=np.empty_like(a)\n",
    "b"
   ]
  },
  {
   "cell_type": "markdown",
   "id": "6208c6c7-a2bf-41bc-941a-166c7862cd2f",
   "metadata": {},
   "source": [
    "#### 34. Write a NumPy program to create a three-dimension array with shape (3,5,4) and set to a variable."
   ]
  },
  {
   "cell_type": "code",
   "execution_count": 567,
   "id": "e11b18f2-0b8b-492c-81d5-c6740abcbdeb",
   "metadata": {},
   "outputs": [
    {
     "data": {
      "text/plain": [
       "array([[[0.71871972, 0.78332594, 0.40117096, 0.94366889, 0.43907768],\n",
       "        [0.34150826, 0.42839528, 0.02517997, 0.46552571, 0.46684399],\n",
       "        [0.73862203, 0.08682607, 0.41093539, 0.37733296, 0.47586011],\n",
       "        [0.64014972, 0.94656789, 0.89512424, 0.95322101, 0.33251945]],\n",
       "\n",
       "       [[0.99220756, 0.91734935, 0.49582735, 0.23483598, 0.38026138],\n",
       "        [0.79679424, 0.62377318, 0.77820863, 0.81303467, 0.47768776],\n",
       "        [0.40431364, 0.67063509, 0.60897639, 0.15678433, 0.73083123],\n",
       "        [0.50082792, 0.82167129, 0.1352256 , 0.79208092, 0.79751572]],\n",
       "\n",
       "       [[0.90319127, 0.140301  , 0.72164871, 0.69868999, 0.93969897],\n",
       "        [0.35828619, 0.85790435, 0.05158794, 0.73570893, 0.45220535],\n",
       "        [0.39607819, 0.6108236 , 0.58361803, 0.1910511 , 0.66791528],\n",
       "        [0.83705483, 0.67473906, 0.42007834, 0.00789446, 0.93441378]]])"
      ]
     },
     "execution_count": 567,
     "metadata": {},
     "output_type": "execute_result"
    }
   ],
   "source": [
    "np.full((3,5,4),3)\n",
    "np.random.rand(3,4,5)                                                                                                      "
   ]
  },
  {
   "cell_type": "markdown",
   "id": "ea3227b6-5a59-4263-b8e8-788af55a0104",
   "metadata": {},
   "source": [
    "#### 35. Write a NumPy program to multiply two given arrays of same size element-by-element."
   ]
  },
  {
   "cell_type": "code",
   "execution_count": 573,
   "id": "118d7db0-d9f1-403e-93f5-a97d3d436155",
   "metadata": {},
   "outputs": [
    {
     "data": {
      "text/plain": [
       "array([ 7, 10, 32, 18,  7])"
      ]
     },
     "execution_count": 573,
     "metadata": {},
     "output_type": "execute_result"
    }
   ],
   "source": [
    "a=np.array([1,2,4,6,7])\n",
    "b=np.array([7,5,8,3,1])\n",
    "a*b"
   ]
  },
  {
   "cell_type": "code",
   "execution_count": 577,
   "id": "12d52f04-9d9f-4d1b-9daa-49bef218b46a",
   "metadata": {},
   "outputs": [],
   "source": [
    "a = [1,2,3,4,56,7,7,3,2,-2,-2,2-1,-1,3,-3,4]\n",
    "b = [x for x in a if x < 0]"
   ]
  },
  {
   "cell_type": "code",
   "execution_count": 579,
   "id": "99789073-03bd-46bf-9775-513a610d421e",
   "metadata": {},
   "outputs": [
    {
     "data": {
      "text/plain": [
       "[-2, -2, -1, -3]"
      ]
     },
     "execution_count": 579,
     "metadata": {},
     "output_type": "execute_result"
    }
   ],
   "source": [
    "b"
   ]
  },
  {
   "cell_type": "code",
   "execution_count": null,
   "id": "84796efe-d369-4f60-9611-39e784102c25",
   "metadata": {},
   "outputs": [],
   "source": []
  }
 ],
 "metadata": {
  "kernelspec": {
   "display_name": "Python 3 (ipykernel)",
   "language": "python",
   "name": "python3"
  },
  "language_info": {
   "codemirror_mode": {
    "name": "ipython",
    "version": 3
   },
   "file_extension": ".py",
   "mimetype": "text/x-python",
   "name": "python",
   "nbconvert_exporter": "python",
   "pygments_lexer": "ipython3",
   "version": "3.12.4"
  }
 },
 "nbformat": 4,
 "nbformat_minor": 5
}
