{
 "cells": [
  {
   "cell_type": "markdown",
   "id": "4091c92b-f8c2-4512-8d41-a7734ac9de9c",
   "metadata": {},
   "source": [
    "### 1. Write a Pandas program to create\n",
    "- a) Datetime object for Jan 15 2012.\n",
    "- b) Specific date and time of 9:20 pm.\n",
    "- c) Local date and time.\n",
    "- d) A date without time.\n",
    "- e) Current date.\n",
    "- f) Time from a datetime.\n",
    "- g) Current local time."
   ]
  },
  {
   "cell_type": "code",
   "execution_count": 3,
   "id": "4a6b96bf-289e-4539-9c49-112ea16bb1fb",
   "metadata": {},
   "outputs": [],
   "source": [
    "import pandas as pd\n",
    "from datetime import datetime"
   ]
  },
  {
   "cell_type": "code",
   "execution_count": 4,
   "id": "ada5c1a6-fde1-42a5-94d0-45eb3c372ecb",
   "metadata": {},
   "outputs": [
    {
     "name": "stdout",
     "output_type": "stream",
     "text": [
      "Datetime object for Jan 15 2012:\n",
      "2012-01-15 00:00:00\n"
     ]
    }
   ],
   "source": [
    "print(\"Datetime object for Jan 15 2012:\")\n",
    "print(datetime(2012, 1, 15))"
   ]
  },
  {
   "cell_type": "code",
   "execution_count": 5,
   "id": "fa32fb04-c971-42a5-89b6-2d100f4816e6",
   "metadata": {},
   "outputs": [
    {
     "name": "stdout",
     "output_type": "stream",
     "text": [
      "Specific date and time of 9:20 pm\n",
      "2011-01-11 21:20:00\n"
     ]
    }
   ],
   "source": [
    "print(\"Specific date and time of 9:20 pm\") \n",
    "print(datetime(2011, 1, 11, 21, 20, 00))"
   ]
  },
  {
   "cell_type": "code",
   "execution_count": 6,
   "id": "e6e8c507-17b3-4f55-93d0-049c7a2410d8",
   "metadata": {},
   "outputs": [
    {
     "name": "stdout",
     "output_type": "stream",
     "text": [
      "Local date and time:\n",
      "2024-10-22 12:16:17.636837\n"
     ]
    }
   ],
   "source": [
    "print(\"Local date and time:\")\n",
    "print(datetime.now())"
   ]
  },
  {
   "cell_type": "code",
   "execution_count": 7,
   "id": "f6e23ff3-edc3-4302-8dd7-687ef17f6ef5",
   "metadata": {},
   "outputs": [
    {
     "name": "stdout",
     "output_type": "stream",
     "text": [
      "date without time: \n",
      "2012-05-22\n"
     ]
    }
   ],
   "source": [
    "print(\"date without time: \")\n",
    "print(datetime.date(datetime(2012, 5, 22)))"
   ]
  },
  {
   "cell_type": "code",
   "execution_count": 8,
   "id": "3c283493-2e44-49d7-bc48-0012ec600df4",
   "metadata": {},
   "outputs": [
    {
     "name": "stdout",
     "output_type": "stream",
     "text": [
      "Current date:\n",
      "2024-10-22\n"
     ]
    }
   ],
   "source": [
    "print(\"Current date:\")\n",
    "print(datetime.now().date())"
   ]
  },
  {
   "cell_type": "code",
   "execution_count": 9,
   "id": "bde2c454-56d2-46de-905d-5d5d88026da5",
   "metadata": {},
   "outputs": [
    {
     "name": "stdout",
     "output_type": "stream",
     "text": [
      "Time from a datetime:\n",
      "18:12:00\n"
     ]
    }
   ],
   "source": [
    "print(\"Time from a datetime:\")\n",
    "a = datetime.time(datetime(2012, 12, 15, 18, 12))\n",
    "print(a)"
   ]
  },
  {
   "cell_type": "code",
   "execution_count": 10,
   "id": "ac97c9c6-950f-4397-9d0a-064e563bc35c",
   "metadata": {},
   "outputs": [
    {
     "name": "stdout",
     "output_type": "stream",
     "text": [
      "Current local time:\n",
      "12:16:17.663973\n"
     ]
    }
   ],
   "source": [
    "print(\"Current local time:\") \n",
    "print(datetime.now().time())"
   ]
  },
  {
   "cell_type": "markdown",
   "id": "735af19d-0dac-4ad4-a299-cbb18bbead79",
   "metadata": {},
   "source": [
    "### 2. Write a Pandas program to create\n",
    "- a) a specific date using timestamp.\n",
    "- b) date and time using timestamp.\n",
    "- c) a time adds in the current local date using timestamp.\n",
    "- d) current date and time using timestamp."
   ]
  },
  {
   "cell_type": "code",
   "execution_count": 12,
   "id": "2fec1785-a9f9-4024-a547-b69be76d6f14",
   "metadata": {},
   "outputs": [
    {
     "data": {
      "text/plain": [
       "Timestamp('2024-11-23 00:00:00')"
      ]
     },
     "execution_count": 12,
     "metadata": {},
     "output_type": "execute_result"
    }
   ],
   "source": [
    "a = pd.Timestamp(\"23 11 2024\")\n",
    "a"
   ]
  },
  {
   "cell_type": "code",
   "execution_count": 13,
   "id": "ea65fff0-19bf-49b5-b8a4-98c8bdf12628",
   "metadata": {},
   "outputs": [
    {
     "data": {
      "text/plain": [
       "Timestamp('2024-11-23 21:23:00')"
      ]
     },
     "execution_count": 13,
     "metadata": {},
     "output_type": "execute_result"
    }
   ],
   "source": [
    "b = pd.Timestamp(\"23 11 2024 09:23 PM\")\n",
    "b"
   ]
  },
  {
   "cell_type": "code",
   "execution_count": 14,
   "id": "72111731-52a3-4ac3-9d6c-41820e33f1cc",
   "metadata": {},
   "outputs": [
    {
     "data": {
      "text/plain": [
       "Timestamp('2024-11-24 20:23:00')"
      ]
     },
     "execution_count": 14,
     "metadata": {},
     "output_type": "execute_result"
    }
   ],
   "source": [
    "c = b + pd.Timedelta(\"23:00:00\")\n",
    "c"
   ]
  },
  {
   "cell_type": "code",
   "execution_count": 15,
   "id": "78c4f044-fd30-4510-934c-bfd60dab1012",
   "metadata": {},
   "outputs": [
    {
     "data": {
      "text/plain": [
       "Timestamp('2024-10-22 12:16:17.719101')"
      ]
     },
     "execution_count": 15,
     "metadata": {},
     "output_type": "execute_result"
    }
   ],
   "source": [
    "d = pd.Timestamp.now()\n",
    "d"
   ]
  },
  {
   "cell_type": "markdown",
   "id": "5fe46457-167c-478e-bac0-797f65b560a2",
   "metadata": {},
   "source": [
    "### 3. Write a Pandas program to create a date from a given year, month, day and another date from a given string formats."
   ]
  },
  {
   "cell_type": "code",
   "execution_count": 17,
   "id": "a4123f03-3ab5-457e-be10-cf28139ba5a5",
   "metadata": {},
   "outputs": [
    {
     "name": "stdout",
     "output_type": "stream",
     "text": [
      "2024-12-21 00:00:00\n"
     ]
    }
   ],
   "source": [
    "year = 2024\n",
    "month = 12\n",
    "day = 21\n",
    "a = pd.Timestamp(year, month, day)\n",
    "print(a)"
   ]
  },
  {
   "cell_type": "code",
   "execution_count": 18,
   "id": "e6b3d242-8de5-4775-87a1-1a7e0b32be64",
   "metadata": {},
   "outputs": [
    {
     "name": "stdout",
     "output_type": "stream",
     "text": [
      "2024-01-23 00:00:00\n"
     ]
    }
   ],
   "source": [
    "b = pd.Timestamp(\"Jan 23 2024\")\n",
    "print(b)"
   ]
  },
  {
   "cell_type": "markdown",
   "id": "ef323536-3cc2-4cc1-84f1-8cb806e56633",
   "metadata": {},
   "source": [
    "### 4. Write a Pandas program to print the day after and before a specified date. Also print the days between two given dates."
   ]
  },
  {
   "cell_type": "code",
   "execution_count": 20,
   "id": "a3215bff-1b7f-41dc-83c3-367b8423bb56",
   "metadata": {},
   "outputs": [
    {
     "name": "stdout",
     "output_type": "stream",
     "text": [
      "Day before specified date:  Tuesday\n",
      "Day after specified date:  Thursday\n"
     ]
    }
   ],
   "source": [
    "a = pd.Timestamp('Jan 3 2024')\n",
    "b = a - pd.Timedelta('1 day')\n",
    "c = a + pd.Timedelta('1 day')\n",
    "print(\"Day before specified date: \", b.day_name())\n",
    "print(\"Day after specified date: \", c.day_name())"
   ]
  },
  {
   "cell_type": "code",
   "execution_count": 21,
   "id": "23585383-b3d0-4288-8756-b69114f4eb2c",
   "metadata": {},
   "outputs": [
    {
     "name": "stdout",
     "output_type": "stream",
     "text": [
      "Difference between two dates:  20 days, 0:00:00\n"
     ]
    }
   ],
   "source": [
    "x = pd.to_datetime(\"2024 jan 21\").date() - pd.to_datetime(\"2024 jan 1\").date()\n",
    "print(\"Difference between two dates: \",x)"
   ]
  },
  {
   "cell_type": "markdown",
   "id": "9c4255ef-37b1-4022-8e16-a4da969326ad",
   "metadata": {},
   "source": [
    "### 5. Write a Pandas program to create a time-series with two index labels and random values. Also print the type of the index."
   ]
  },
  {
   "cell_type": "code",
   "execution_count": 23,
   "id": "6a165ae3-1093-4656-a9c0-e3f4253b170f",
   "metadata": {},
   "outputs": [
    {
     "data": {
      "text/plain": [
       "2024-01-01   -0.017479\n",
       "2024-02-01    0.508152\n",
       "dtype: float64"
      ]
     },
     "execution_count": 23,
     "metadata": {},
     "output_type": "execute_result"
    }
   ],
   "source": [
    "import numpy as np\n",
    "x = [\"1 Jan 2024\", \"1 Feb 2024\"]\n",
    "dates =pd.to_datetime(x)\n",
    "# dates = [pd.Timestamp(i) for i in x]\n",
    "# dates=[pd.Timestamp('1 Jan 2024'), pd.Timestamp('1 Feb 2024')]\n",
    "a=pd.Series(np.random.randn(2),dates)\n",
    "a"
   ]
  },
  {
   "cell_type": "markdown",
   "id": "252d8db1-fa15-4da6-bde7-7c017a5ee8fb",
   "metadata": {},
   "source": [
    "### 6. Write a Pandas program to create a time-series from a given list of dates as strings."
   ]
  },
  {
   "cell_type": "code",
   "execution_count": 25,
   "id": "fffc3091-7560-4786-aba0-daea7deea7d2",
   "metadata": {},
   "outputs": [
    {
     "data": {
      "text/plain": [
       "0   2024-01-01\n",
       "1   2024-02-01\n",
       "2   2024-02-02\n",
       "3   2022-03-05\n",
       "dtype: datetime64[ns]"
      ]
     },
     "execution_count": 25,
     "metadata": {},
     "output_type": "execute_result"
    }
   ],
   "source": [
    "x = [\"1 Jan 2024\", \"1 Feb 2024\", \"2 Feb 2024\", \"5 Mar 2022\"]\n",
    "x = pd.to_datetime(x)\n",
    "a = pd.Series(x)\n",
    "a"
   ]
  },
  {
   "cell_type": "markdown",
   "id": "f7de1483-170e-46b8-aa06-7a59f5de6081",
   "metadata": {},
   "source": [
    "### 7. Write a Pandas program to create a time series object that has time indexed data. Also select the dates of same year and select the dates between certain dates."
   ]
  },
  {
   "cell_type": "code",
   "execution_count": 27,
   "id": "4e580279-4fc1-4704-8e2b-661438daf125",
   "metadata": {},
   "outputs": [
    {
     "name": "stdout",
     "output_type": "stream",
     "text": [
      "2024-09-02    1.004697\n",
      "2024-08-04   -0.614976\n",
      "2015-09-03    0.711210\n",
      "2024-08-04    0.512394\n",
      "2015-03-03    0.440437\n",
      "2022-08-04   -0.385080\n",
      "2024-04-03    0.475875\n",
      "2012-08-04    0.827583\n",
      "dtype: float64\n"
     ]
    }
   ],
   "source": [
    "x = pd.DatetimeIndex(['2024-09-02', '2024-08-04', '2015-09-03', '2024-08-04', '2015-03-03', '2022-08-04', '2024-04-03', '2012-08-04'])\n",
    "a = pd.Series(np.random.randn(8), x)\n",
    "print(a)"
   ]
  },
  {
   "cell_type": "code",
   "execution_count": 28,
   "id": "779ebbfc-8ec6-45d3-a6bb-3ca977bcc94d",
   "metadata": {},
   "outputs": [
    {
     "name": "stdout",
     "output_type": "stream",
     "text": [
      "2024-09-02    1.004697\n",
      "2024-08-04   -0.614976\n",
      "2024-08-04    0.512394\n",
      "2024-04-03    0.475875\n",
      "dtype: float64\n"
     ]
    }
   ],
   "source": [
    "print(a['2024'])"
   ]
  },
  {
   "cell_type": "code",
   "execution_count": 29,
   "id": "5d75157b-aeb7-403b-99e2-8109b99a166c",
   "metadata": {
    "scrolled": true
   },
   "outputs": [
    {
     "name": "stdout",
     "output_type": "stream",
     "text": [
      "2012-08-04    0.827583\n",
      "dtype: float64\n"
     ]
    }
   ],
   "source": [
    "a.sort_index(inplace = True)\n",
    "print(a['2012-01-01':'2012-12-31']) "
   ]
  },
  {
   "cell_type": "markdown",
   "id": "8c4a2056-ed4f-4754-b4cc-875b355e5fdc",
   "metadata": {},
   "source": [
    "### 8. Write a Pandas program to create a date range using a startpoint date and a number of periods."
   ]
  },
  {
   "cell_type": "code",
   "execution_count": 31,
   "id": "99f96a2d-ab2e-4265-9dc4-9285e155fdb3",
   "metadata": {},
   "outputs": [
    {
     "data": {
      "text/plain": [
       "DatetimeIndex(['2024-10-21', '2024-10-22', '2024-10-23', '2024-10-24',\n",
       "               '2024-10-25', '2024-10-26', '2024-10-27', '2024-10-28',\n",
       "               '2024-10-29', '2024-10-30', '2024-10-31', '2024-11-01',\n",
       "               '2024-11-02', '2024-11-03', '2024-11-04', '2024-11-05',\n",
       "               '2024-11-06', '2024-11-07', '2024-11-08', '2024-11-09',\n",
       "               '2024-11-10', '2024-11-11', '2024-11-12', '2024-11-13',\n",
       "               '2024-11-14', '2024-11-15', '2024-11-16', '2024-11-17',\n",
       "               '2024-11-18', '2024-11-19', '2024-11-20', '2024-11-21',\n",
       "               '2024-11-22', '2024-11-23', '2024-11-24', '2024-11-25',\n",
       "               '2024-11-26', '2024-11-27', '2024-11-28', '2024-11-29',\n",
       "               '2024-11-30', '2024-12-01', '2024-12-02', '2024-12-03',\n",
       "               '2024-12-04', '2024-12-05', '2024-12-06', '2024-12-07',\n",
       "               '2024-12-08', '2024-12-09', '2024-12-10', '2024-12-11',\n",
       "               '2024-12-12', '2024-12-13', '2024-12-14', '2024-12-15',\n",
       "               '2024-12-16', '2024-12-17', '2024-12-18', '2024-12-19',\n",
       "               '2024-12-20', '2024-12-21', '2024-12-22', '2024-12-23',\n",
       "               '2024-12-24', '2024-12-25', '2024-12-26', '2024-12-27',\n",
       "               '2024-12-28', '2024-12-29', '2024-12-30', '2024-12-31'],\n",
       "              dtype='datetime64[ns]', freq='D')"
      ]
     },
     "execution_count": 31,
     "metadata": {},
     "output_type": "execute_result"
    }
   ],
   "source": [
    "pd.date_range(start = \"21 oct 2024\", periods = 72, freq = \"D\")"
   ]
  },
  {
   "cell_type": "markdown",
   "id": "f5344015-143c-405b-8894-eca90af99045",
   "metadata": {},
   "source": [
    "### 9. Write a Pandas program to create a whole month of dates in daily frequencies. Also find the maximum, minimum timestamp and indexs."
   ]
  },
  {
   "cell_type": "code",
   "execution_count": 33,
   "id": "f155b24a-d019-40ab-86ad-1de19746a159",
   "metadata": {},
   "outputs": [
    {
     "data": {
      "text/plain": [
       "Timestamp('2024-10-31 00:00:00')"
      ]
     },
     "execution_count": 33,
     "metadata": {},
     "output_type": "execute_result"
    }
   ],
   "source": [
    "dates = pd.Series(pd.date_range('2024-10-01',periods=31, freq='D'))\n",
    "dates.max()"
   ]
  },
  {
   "cell_type": "code",
   "execution_count": 34,
   "id": "3dd91d0c-a538-4045-abdc-feea4ea4be0b",
   "metadata": {},
   "outputs": [
    {
     "data": {
      "text/plain": [
       "Timestamp('2024-10-01 00:00:00')"
      ]
     },
     "execution_count": 34,
     "metadata": {},
     "output_type": "execute_result"
    }
   ],
   "source": [
    "dates.min()"
   ]
  },
  {
   "cell_type": "code",
   "execution_count": 35,
   "id": "0c5546bb-0431-4d30-86ed-c7e233a8adb7",
   "metadata": {},
   "outputs": [
    {
     "data": {
      "text/plain": [
       "30"
      ]
     },
     "execution_count": 35,
     "metadata": {},
     "output_type": "execute_result"
    }
   ],
   "source": [
    "dates.idxmax()"
   ]
  },
  {
   "cell_type": "code",
   "execution_count": 36,
   "id": "1fab31cf-8c99-454e-a3c5-e78e9f6ad80d",
   "metadata": {},
   "outputs": [
    {
     "data": {
      "text/plain": [
       "0"
      ]
     },
     "execution_count": 36,
     "metadata": {},
     "output_type": "execute_result"
    }
   ],
   "source": [
    "dates.idxmin()"
   ]
  },
  {
   "cell_type": "markdown",
   "id": "a4044826-85d3-4f66-9112-2edd66dc2336",
   "metadata": {},
   "source": [
    "### 10. Write a Pandas program to create a time series using three months frequency."
   ]
  },
  {
   "cell_type": "code",
   "execution_count": 38,
   "id": "1798c4d8-7668-4d76-935d-57b76ffc55b4",
   "metadata": {},
   "outputs": [],
   "source": [
    "dates = pd.Series(pd.date_range('2023-10-01', periods = 10, freq = \"3ME\"))"
   ]
  },
  {
   "cell_type": "code",
   "execution_count": 39,
   "id": "9fdcefde-43f7-4f0e-90ca-29cfd203fde1",
   "metadata": {},
   "outputs": [
    {
     "data": {
      "text/plain": [
       "0   2023-10-31\n",
       "1   2024-01-31\n",
       "2   2024-04-30\n",
       "3   2024-07-31\n",
       "4   2024-10-31\n",
       "5   2025-01-31\n",
       "6   2025-04-30\n",
       "7   2025-07-31\n",
       "8   2025-10-31\n",
       "9   2026-01-31\n",
       "dtype: datetime64[ns]"
      ]
     },
     "execution_count": 39,
     "metadata": {},
     "output_type": "execute_result"
    }
   ],
   "source": [
    "dates"
   ]
  },
  {
   "cell_type": "markdown",
   "id": "72654799-ac12-43e6-a2a7-134675db37cc",
   "metadata": {},
   "source": [
    "### 11. Write a Pandas program to create a sequence of durations increasing by an hour."
   ]
  },
  {
   "cell_type": "code",
   "execution_count": 41,
   "id": "3a35961a-39e8-477c-8cb8-e00c55b12c58",
   "metadata": {},
   "outputs": [],
   "source": [
    "dates = pd.Series(pd.date_range(\"2024-10-21\", periods = 24, freq = \"h\"))"
   ]
  },
  {
   "cell_type": "code",
   "execution_count": 42,
   "id": "e3263813-56d9-4745-a1ea-05c05efe03e2",
   "metadata": {},
   "outputs": [
    {
     "data": {
      "text/plain": [
       "0    2024-10-21 00:00:00\n",
       "1    2024-10-21 01:00:00\n",
       "2    2024-10-21 02:00:00\n",
       "3    2024-10-21 03:00:00\n",
       "4    2024-10-21 04:00:00\n",
       "5    2024-10-21 05:00:00\n",
       "6    2024-10-21 06:00:00\n",
       "7    2024-10-21 07:00:00\n",
       "8    2024-10-21 08:00:00\n",
       "9    2024-10-21 09:00:00\n",
       "10   2024-10-21 10:00:00\n",
       "11   2024-10-21 11:00:00\n",
       "12   2024-10-21 12:00:00\n",
       "13   2024-10-21 13:00:00\n",
       "14   2024-10-21 14:00:00\n",
       "15   2024-10-21 15:00:00\n",
       "16   2024-10-21 16:00:00\n",
       "17   2024-10-21 17:00:00\n",
       "18   2024-10-21 18:00:00\n",
       "19   2024-10-21 19:00:00\n",
       "20   2024-10-21 20:00:00\n",
       "21   2024-10-21 21:00:00\n",
       "22   2024-10-21 22:00:00\n",
       "23   2024-10-21 23:00:00\n",
       "dtype: datetime64[ns]"
      ]
     },
     "execution_count": 42,
     "metadata": {},
     "output_type": "execute_result"
    }
   ],
   "source": [
    "dates"
   ]
  },
  {
   "cell_type": "markdown",
   "id": "ad2291c4-9c4f-4f78-847b-6cdff73ddad9",
   "metadata": {},
   "source": [
    "### 12. Write a Pandas program to convert year and day of year into a single datetime column of a dataframe."
   ]
  },
  {
   "cell_type": "code",
   "execution_count": 44,
   "id": "1a1c83cb-246a-43c2-b90d-c0b30463227b",
   "metadata": {},
   "outputs": [],
   "source": [
    "years=np.array(['2024','2024','2024'])\n",
    "dayyu=[256, 200, 155]\n",
    "year = pd.Series(pd.to_datetime(years))\n",
    "days = pd.Series([pd.Timedelta(days = x) for x in dayyu])"
   ]
  },
  {
   "cell_type": "markdown",
   "id": "4f4fa292-05c8-4131-9746-74c333aa44b3",
   "metadata": {},
   "source": [
    "year+days"
   ]
  },
  {
   "cell_type": "markdown",
   "id": "97b0aa40-36d5-4da1-a0f9-1a2eae267716",
   "metadata": {},
   "source": [
    "### 13. Write a Pandas program to create a series of Timestamps from a DataFrame of integer or string columns. Also create a series of Timestamps using specified columns."
   ]
  },
  {
   "cell_type": "code",
   "execution_count": 47,
   "id": "e5cec73e-ad08-48be-9d12-4416c081d771",
   "metadata": {},
   "outputs": [],
   "source": [
    "df = pd.DataFrame({'year' : [2022, 2023, 2024, 2024],\n",
    "                   'month' : [10, 11, 4, 10],\n",
    "                   'day' : [21, 30, 12, 2],\n",
    "                   'hour' : [9, 8, 21, 17]\n",
    "                  })"
   ]
  },
  {
   "cell_type": "code",
   "execution_count": 48,
   "id": "a34c7e23-37d5-47db-8217-87f7cd1410a2",
   "metadata": {},
   "outputs": [
    {
     "data": {
      "text/html": [
       "<div>\n",
       "<style scoped>\n",
       "    .dataframe tbody tr th:only-of-type {\n",
       "        vertical-align: middle;\n",
       "    }\n",
       "\n",
       "    .dataframe tbody tr th {\n",
       "        vertical-align: top;\n",
       "    }\n",
       "\n",
       "    .dataframe thead th {\n",
       "        text-align: right;\n",
       "    }\n",
       "</style>\n",
       "<table border=\"1\" class=\"dataframe\">\n",
       "  <thead>\n",
       "    <tr style=\"text-align: right;\">\n",
       "      <th></th>\n",
       "      <th>year</th>\n",
       "      <th>month</th>\n",
       "      <th>day</th>\n",
       "      <th>hour</th>\n",
       "    </tr>\n",
       "  </thead>\n",
       "  <tbody>\n",
       "    <tr>\n",
       "      <th>0</th>\n",
       "      <td>2022</td>\n",
       "      <td>10</td>\n",
       "      <td>21</td>\n",
       "      <td>9</td>\n",
       "    </tr>\n",
       "    <tr>\n",
       "      <th>1</th>\n",
       "      <td>2023</td>\n",
       "      <td>11</td>\n",
       "      <td>30</td>\n",
       "      <td>8</td>\n",
       "    </tr>\n",
       "    <tr>\n",
       "      <th>2</th>\n",
       "      <td>2024</td>\n",
       "      <td>4</td>\n",
       "      <td>12</td>\n",
       "      <td>21</td>\n",
       "    </tr>\n",
       "    <tr>\n",
       "      <th>3</th>\n",
       "      <td>2024</td>\n",
       "      <td>10</td>\n",
       "      <td>2</td>\n",
       "      <td>17</td>\n",
       "    </tr>\n",
       "  </tbody>\n",
       "</table>\n",
       "</div>"
      ],
      "text/plain": [
       "   year  month  day  hour\n",
       "0  2022     10   21     9\n",
       "1  2023     11   30     8\n",
       "2  2024      4   12    21\n",
       "3  2024     10    2    17"
      ]
     },
     "execution_count": 48,
     "metadata": {},
     "output_type": "execute_result"
    }
   ],
   "source": [
    "df"
   ]
  },
  {
   "cell_type": "code",
   "execution_count": 49,
   "id": "cec1ef88-128a-4623-a9fd-c0eca3e80ea8",
   "metadata": {},
   "outputs": [],
   "source": [
    "x = pd.to_datetime(df)"
   ]
  },
  {
   "cell_type": "code",
   "execution_count": 50,
   "id": "bbf5edbd-abe7-4d33-9e3b-79dc6e2a465c",
   "metadata": {},
   "outputs": [
    {
     "data": {
      "text/plain": [
       "0   2022-10-21 09:00:00\n",
       "1   2023-11-30 08:00:00\n",
       "2   2024-04-12 21:00:00\n",
       "3   2024-10-02 17:00:00\n",
       "dtype: datetime64[ns]"
      ]
     },
     "execution_count": 50,
     "metadata": {},
     "output_type": "execute_result"
    }
   ],
   "source": [
    "x"
   ]
  },
  {
   "cell_type": "markdown",
   "id": "53333060-cead-4d10-9873-c43521dc4ca7",
   "metadata": {},
   "source": [
    "### 14. Write a Pandas program to check if a day is a business day (weekday) or not."
   ]
  },
  {
   "cell_type": "code",
   "execution_count": 52,
   "id": "9f05f940-5760-4f7d-b2f1-e9cc05ba8ca7",
   "metadata": {},
   "outputs": [],
   "source": [
    "s = pd.date_range('2021-01-01', periods=12, freq='D')"
   ]
  },
  {
   "cell_type": "code",
   "execution_count": 53,
   "id": "3e128b77-5ed9-4ed0-bfe8-6161bc55843c",
   "metadata": {},
   "outputs": [],
   "source": [
    "def is_weekday(date):\n",
    "    return bool(len(pd.bdate_range(date, date)))"
   ]
  },
  {
   "cell_type": "code",
   "execution_count": 54,
   "id": "2fd8b88e-8c66-459a-93bb-d0c1b22c7df5",
   "metadata": {},
   "outputs": [
    {
     "name": "stdout",
     "output_type": "stream",
     "text": [
      "(2021-01-01 00:00:00 is weekday : True\n",
      "(2021-01-02 00:00:00 is weekday : False\n",
      "(2021-01-03 00:00:00 is weekday : False\n",
      "(2021-01-04 00:00:00 is weekday : True\n",
      "(2021-01-05 00:00:00 is weekday : True\n",
      "(2021-01-06 00:00:00 is weekday : True\n",
      "(2021-01-07 00:00:00 is weekday : True\n",
      "(2021-01-08 00:00:00 is weekday : True\n",
      "(2021-01-09 00:00:00 is weekday : False\n",
      "(2021-01-10 00:00:00 is weekday : False\n",
      "(2021-01-11 00:00:00 is weekday : True\n",
      "(2021-01-12 00:00:00 is weekday : True\n"
     ]
    }
   ],
   "source": [
    "for i in s:\n",
    "    print(f'({i} is weekday : {is_weekday(i.date())}')"
   ]
  },
  {
   "cell_type": "markdown",
   "id": "1e6967b0-b6a0-473b-92bd-1b850b65a37f",
   "metadata": {},
   "source": [
    "### 15. Write a Pandas program to get a time series with the last working days of each month of a specific year.\n",
    "- 'BME' used to get Business Month End frequency"
   ]
  },
  {
   "cell_type": "code",
   "execution_count": 56,
   "id": "ea8da952-8c21-47a4-b49a-a5dbbb867c35",
   "metadata": {},
   "outputs": [
    {
     "data": {
      "text/plain": [
       "0    2021-01-29\n",
       "1    2021-02-26\n",
       "2    2021-03-31\n",
       "3    2021-04-30\n",
       "4    2021-05-31\n",
       "5    2021-06-30\n",
       "6    2021-07-30\n",
       "7    2021-08-31\n",
       "8    2021-09-30\n",
       "9    2021-10-29\n",
       "10   2021-11-30\n",
       "11   2021-12-31\n",
       "dtype: datetime64[ns]"
      ]
     },
     "execution_count": 56,
     "metadata": {},
     "output_type": "execute_result"
    }
   ],
   "source": [
    "s = pd.date_range('2021-01-01', periods=12, freq='BME')\n",
    "pd.Series(s)"
   ]
  },
  {
   "cell_type": "markdown",
   "id": "50726443-2839-46c0-8b70-4163e375fa88",
   "metadata": {},
   "source": [
    "### 16. Write a Pandas program to create a time series combining hour and minute."
   ]
  },
  {
   "cell_type": "code",
   "execution_count": 58,
   "id": "6f7129af-2f44-45a8-8717-81cb2ce6a4bb",
   "metadata": {},
   "outputs": [
    {
     "name": "stdout",
     "output_type": "stream",
     "text": [
      "For a frequency of 1 hours 20 minutes:\n",
      "\n",
      "TimedeltaIndex(['0 days 00:00:00', '0 days 01:20:00', '0 days 02:40:00',\n",
      "                '0 days 04:00:00', '0 days 05:20:00', '0 days 06:40:00',\n",
      "                '0 days 08:00:00', '0 days 09:20:00', '0 days 10:40:00',\n",
      "                '0 days 12:00:00', '0 days 13:20:00', '0 days 14:40:00',\n",
      "                '0 days 16:00:00', '0 days 17:20:00', '0 days 18:40:00',\n",
      "                '0 days 20:00:00', '0 days 21:20:00', '0 days 22:40:00',\n",
      "                '1 days 00:00:00', '1 days 01:20:00', '1 days 02:40:00',\n",
      "                '1 days 04:00:00', '1 days 05:20:00', '1 days 06:40:00',\n",
      "                '1 days 08:00:00', '1 days 09:20:00', '1 days 10:40:00',\n",
      "                '1 days 12:00:00', '1 days 13:20:00', '1 days 14:40:00'],\n",
      "               dtype='timedelta64[ns]', freq='80min')\n"
     ]
    }
   ],
   "source": [
    "ser = pd.timedelta_range(0, periods=30, freq=\"1h20min\")\n",
    "print(\"For a frequency of 1 hours 20 minutes:\\n\")\n",
    "print(ser)"
   ]
  },
  {
   "cell_type": "markdown",
   "id": "322b0676-2117-47b2-96d4-a9f117c762be",
   "metadata": {},
   "source": [
    "#### 17. Write a Pandas program to convert unix/epoch time to a regular time stamp in UTC. Also convert the said timestamp in to a given time zone."
   ]
  },
  {
   "cell_type": "code",
   "execution_count": 60,
   "id": "1122d21e-d4d7-46b1-a6d2-0589922d9c5b",
   "metadata": {},
   "outputs": [
    {
     "name": "stdout",
     "output_type": "stream",
     "text": [
      "0    2021-01-29\n",
      "1    2021-02-26\n",
      "2    2021-03-31\n",
      "3    2021-04-30\n",
      "4    2021-05-31\n",
      "5    2021-06-30\n",
      "6    2021-07-30\n",
      "7    2021-08-31\n",
      "8    2021-09-30\n",
      "9    2021-10-29\n",
      "10   2021-11-30\n",
      "11   2021-12-31\n",
      "dtype: datetime64[ns]\n"
     ]
    }
   ],
   "source": [
    "unix_times = [1609459200, 1612137600, 1614556800]\n",
    "a=pd.to_datetime(unix_times,utc=True)\n",
    "b=pd.Series(s)\n",
    "print(b)"
   ]
  },
  {
   "cell_type": "code",
   "execution_count": 61,
   "id": "f7ad58bf-6377-4922-a8ad-18ce96eaee9a",
   "metadata": {},
   "outputs": [
    {
     "data": {
      "text/plain": [
       "0    2021-01-29 00:00:00+05:30\n",
       "1    2021-02-26 00:00:00+05:30\n",
       "2    2021-03-31 00:00:00+05:30\n",
       "3    2021-04-30 00:00:00+05:30\n",
       "4    2021-05-31 00:00:00+05:30\n",
       "5    2021-06-30 00:00:00+05:30\n",
       "6    2021-07-30 00:00:00+05:30\n",
       "7    2021-08-31 00:00:00+05:30\n",
       "8    2021-09-30 00:00:00+05:30\n",
       "9    2021-10-29 00:00:00+05:30\n",
       "10   2021-11-30 00:00:00+05:30\n",
       "11   2021-12-31 00:00:00+05:30\n",
       "dtype: datetime64[ns, Asia/Kolkata]"
      ]
     },
     "execution_count": 61,
     "metadata": {},
     "output_type": "execute_result"
    }
   ],
   "source": [
    "b.dt.tz_localize('Asia/Kolkata')"
   ]
  },
  {
   "cell_type": "markdown",
   "id": "8153f6de-8c86-4437-831e-5d7dd5bad9cc",
   "metadata": {},
   "source": [
    "#### 18. Write a Pandas program to create a time series object with a time zone."
   ]
  },
  {
   "cell_type": "code",
   "execution_count": 63,
   "id": "afcddc49-fb6b-4f9f-a427-8807782f4c25",
   "metadata": {},
   "outputs": [
    {
     "data": {
      "text/plain": [
       "0    2023-10-12 00:00:00+05:30\n",
       "1    2023-10-13 00:00:00+05:30\n",
       "2    2023-10-14 00:00:00+05:30\n",
       "3    2023-10-15 00:00:00+05:30\n",
       "4    2023-10-16 00:00:00+05:30\n",
       "5    2023-10-17 00:00:00+05:30\n",
       "6    2023-10-18 00:00:00+05:30\n",
       "7    2023-10-19 00:00:00+05:30\n",
       "8    2023-10-20 00:00:00+05:30\n",
       "9    2023-10-21 00:00:00+05:30\n",
       "10   2023-10-22 00:00:00+05:30\n",
       "11   2023-10-23 00:00:00+05:30\n",
       "12   2023-10-24 00:00:00+05:30\n",
       "13   2023-10-25 00:00:00+05:30\n",
       "14   2023-10-26 00:00:00+05:30\n",
       "15   2023-10-27 00:00:00+05:30\n",
       "16   2023-10-28 00:00:00+05:30\n",
       "17   2023-10-29 00:00:00+05:30\n",
       "18   2023-10-30 00:00:00+05:30\n",
       "19   2023-10-31 00:00:00+05:30\n",
       "dtype: datetime64[ns, Asia/Kolkata]"
      ]
     },
     "execution_count": 63,
     "metadata": {},
     "output_type": "execute_result"
    }
   ],
   "source": [
    "t=pd.date_range(start='2023-10-12',periods=20, freq='D', tz='Asia/Kolkata' )\n",
    "t=pd.to_datetime(t)\n",
    "pd.Series(t)"
   ]
  },
  {
   "cell_type": "markdown",
   "id": "eb475347-9036-49ab-8a02-e35c70c0cd58",
   "metadata": {},
   "source": [
    "#### 19. Write a Pandas program to remove the time zone information from a Time series data."
   ]
  },
  {
   "cell_type": "code",
   "execution_count": 65,
   "id": "ca5ff158-2eb3-47e6-beca-48a2b2931dc6",
   "metadata": {},
   "outputs": [
    {
     "data": {
      "text/plain": [
       "0    2023-10-12\n",
       "1    2023-10-13\n",
       "2    2023-10-14\n",
       "3    2023-10-15\n",
       "4    2023-10-16\n",
       "5    2023-10-17\n",
       "6    2023-10-18\n",
       "7    2023-10-19\n",
       "8    2023-10-20\n",
       "9    2023-10-21\n",
       "10   2023-10-22\n",
       "11   2023-10-23\n",
       "12   2023-10-24\n",
       "13   2023-10-25\n",
       "14   2023-10-26\n",
       "15   2023-10-27\n",
       "16   2023-10-28\n",
       "17   2023-10-29\n",
       "18   2023-10-30\n",
       "19   2023-10-31\n",
       "dtype: datetime64[ns]"
      ]
     },
     "execution_count": 65,
     "metadata": {},
     "output_type": "execute_result"
    }
   ],
   "source": [
    "t=pd.date_range(start='2023-10-12',periods=20, freq='D', tz='Asia/Kolkata' )\n",
    "ds=pd.Series(t)\n",
    "ds.dt.tz_localize(None)"
   ]
  },
  {
   "cell_type": "markdown",
   "id": "293e59dc-d111-4ef2-8a87-84a383819da2",
   "metadata": {},
   "source": [
    "#### 20. Write a Pandas program to subtract two timestamps of same time zone or different time zone."
   ]
  },
  {
   "cell_type": "code",
   "execution_count": 67,
   "id": "9cdec10a-d965-4284-9db7-7bd59cec0eff",
   "metadata": {},
   "outputs": [
    {
     "name": "stdout",
     "output_type": "stream",
     "text": [
      "54 days 00:00:00\n"
     ]
    }
   ],
   "source": [
    "t1=pd.Timestamp('2023-03-31',tz='Asia/Kolkata')\n",
    "t2=pd.Timestamp('2023-05-24',tz='Asia/Kolkata')\n",
    "t3=pd.Timestamp('2023-07-21',tz='Europe/Berlin')\n",
    "print(t2-t1)"
   ]
  },
  {
   "cell_type": "code",
   "execution_count": 68,
   "id": "31f97c56-baf8-4fb1-8ea0-bf15429f83a0",
   "metadata": {},
   "outputs": [
    {
     "name": "stdout",
     "output_type": "stream",
     "text": [
      "112 days 00:00:00\n"
     ]
    }
   ],
   "source": [
    "print(t3.tz_localize(None)-t1.tz_localize(None))"
   ]
  },
  {
   "cell_type": "markdown",
   "id": "7d8ddd0b-7e3b-4016-995f-74e301810036",
   "metadata": {},
   "source": [
    "#### 21. Write a Pandas program to calculate all Thursdays between two given days."
   ]
  },
  {
   "cell_type": "code",
   "execution_count": 70,
   "id": "bc368b4a-9b64-4d42-bf51-bd1ba3825df3",
   "metadata": {},
   "outputs": [
    {
     "data": {
      "text/plain": [
       "DatetimeIndex(['2023-05-04', '2023-05-11', '2023-05-18', '2023-05-25',\n",
       "               '2023-06-01', '2023-06-08', '2023-06-15', '2023-06-22',\n",
       "               '2023-06-29', '2023-07-06', '2023-07-13', '2023-07-20',\n",
       "               '2023-07-27'],\n",
       "              dtype='datetime64[ns]', freq='W-THU')"
      ]
     },
     "execution_count": 70,
     "metadata": {},
     "output_type": "execute_result"
    }
   ],
   "source": [
    "# t1=pd.Timestamp('2023-08-01')\n",
    "# t2=pd.Timesra('2023-05-02')\n",
    "pd.date_range('2023-05-02', '2023-08-01', freq = 'W-Thu')"
   ]
  },
  {
   "cell_type": "markdown",
   "id": "5c3f00f7-e64f-4717-b2bd-4424152dcb5f",
   "metadata": {},
   "source": [
    "#### 22. Write a Pandas program to find the all the business quarterly begin and end dates of a specified year."
   ]
  },
  {
   "cell_type": "code",
   "execution_count": 72,
   "id": "88a74ef7-b0e2-400b-b1fe-765357208888",
   "metadata": {},
   "outputs": [
    {
     "name": "stdout",
     "output_type": "stream",
     "text": [
      "the beggining business day date of all quarters of 2024 are--------------------------> \n",
      "Quarter 0: 2024-01-01 00:00:00 - 2024-03-29 00:00:00\n",
      "Quarter 1: 2024-04-01 00:00:00 - 2024-06-28 00:00:00\n",
      "Quarter 2: 2024-07-01 00:00:00 - 2024-09-30 00:00:00\n",
      "Quarter 3: 2024-10-01 00:00:00 - 2024-12-31 00:00:00\n"
     ]
    }
   ],
   "source": [
    "print(\"the beggining business day date of all quarters of 2024 are--------------------------> \")\n",
    "start = pd.date_range('2024-01-01', periods = 4, freq = 'BQS')\n",
    "end = pd.date_range('2024-01-01', periods = 4, freq = 'BQE')\n",
    "for i in range(4):\n",
    "    print(f\"Quarter {i}: {start[i]} - {end[i]}\")"
   ]
  },
  {
   "cell_type": "markdown",
   "id": "ed7d3eba-1e87-4e4c-b617-3bfa82b92362",
   "metadata": {},
   "source": [
    "#### 23. Write a Pandas program to generate sequences of fixed-frequency dates and time spans intervals."
   ]
  },
  {
   "cell_type": "code",
   "execution_count": 74,
   "id": "554850b1-793a-4b9e-83c3-18ff35f539e4",
   "metadata": {},
   "outputs": [
    {
     "name": "stdout",
     "output_type": "stream",
     "text": [
      "Sequences of fixed-frequency dates and time spans (1 H):\n",
      "\n",
      "DatetimeIndex(['2030-01-01 00:00:00', '2030-01-01 01:00:00',\n",
      "               '2030-01-01 02:00:00', '2030-01-01 03:00:00',\n",
      "               '2030-01-01 04:00:00', '2030-01-01 05:00:00',\n",
      "               '2030-01-01 06:00:00', '2030-01-01 07:00:00',\n",
      "               '2030-01-01 08:00:00', '2030-01-01 09:00:00'],\n",
      "              dtype='datetime64[ns]', freq='h')\n",
      "\n",
      "Sequences of fixed-frequency dates and time spans (3 H):\n",
      "\n",
      "DatetimeIndex(['2030-01-01 00:00:00', '2030-01-01 03:00:00',\n",
      "               '2030-01-01 06:00:00', '2030-01-01 09:00:00',\n",
      "               '2030-01-01 12:00:00', '2030-01-01 15:00:00',\n",
      "               '2030-01-01 18:00:00', '2030-01-01 21:00:00',\n",
      "               '2030-01-02 00:00:00', '2030-01-02 03:00:00'],\n",
      "              dtype='datetime64[ns]', freq='3h')\n"
     ]
    }
   ],
   "source": [
    "print(\"Sequences of fixed-frequency dates and time spans (1 H):\\n\")\n",
    "r1 = pd.date_range('2030-01-01', periods=10, freq='h')\n",
    "print(r1)\n",
    "print(\"\\nSequences of fixed-frequency dates and time spans (3 H):\\n\")\n",
    "r2 = pd.date_range('2030-01-01', periods=10, freq='3h')\n",
    "print(r2)"
   ]
  },
  {
   "cell_type": "markdown",
   "id": "8aa84600-6d53-457d-8b4c-244be3fccd5f",
   "metadata": {},
   "source": [
    "#### 24. Write a Pandas program to generate time series combining day and intraday offsets intervals."
   ]
  },
  {
   "cell_type": "code",
   "execution_count": 76,
   "id": "7f8e726b-6486-49b9-a874-d6654917e77a",
   "metadata": {},
   "outputs": [
    {
     "name": "stdout",
     "output_type": "stream",
     "text": [
      "Time series with frequency 1 day 10 minutes and 20 seconds:\n",
      "DatetimeIndex(['2029-01-01 00:00:00', '2029-01-02 00:10:20',\n",
      "               '2029-01-03 00:20:40', '2029-01-04 00:31:00',\n",
      "               '2029-01-05 00:41:20', '2029-01-06 00:51:40',\n",
      "               '2029-01-07 01:02:00', '2029-01-08 01:12:20',\n",
      "               '2029-01-09 01:22:40', '2029-01-10 01:33:00',\n",
      "               '2029-01-11 01:43:20', '2029-01-12 01:53:40',\n",
      "               '2029-01-13 02:04:00', '2029-01-14 02:14:20',\n",
      "               '2029-01-15 02:24:40', '2029-01-16 02:35:00',\n",
      "               '2029-01-17 02:45:20', '2029-01-18 02:55:40',\n",
      "               '2029-01-19 03:06:00', '2029-01-20 03:16:20'],\n",
      "              dtype='datetime64[ns]', freq='87020s')\n"
     ]
    }
   ],
   "source": [
    "dateset = pd.date_range('2029-01-01 00:00:00', periods=20, freq='1D10min20s')\n",
    "print(\"Time series with frequency 1 day 10 minutes and 20 seconds:\")\n",
    "print(dateset)"
   ]
  },
  {
   "cell_type": "markdown",
   "id": "a18ae940-f51b-455f-9469-a6985e53446f",
   "metadata": {},
   "source": [
    "#### 25. Write a Pandas program to extract the day name from a specified date. Add 2 days and 1 business day with the specified date."
   ]
  },
  {
   "cell_type": "code",
   "execution_count": 78,
   "id": "5fcb82bc-2167-4460-94fb-4c678d704928",
   "metadata": {},
   "outputs": [
    {
     "name": "stdout",
     "output_type": "stream",
     "text": [
      "extracting the day name from specified date:-\n"
     ]
    },
    {
     "data": {
      "text/plain": [
       "'Tuesday'"
      ]
     },
     "execution_count": 78,
     "metadata": {},
     "output_type": "execute_result"
    }
   ],
   "source": [
    "print(\"extracting the day name from specified date:-\")\n",
    "# dateset is defined in above code\n",
    "x = dateset[1]\n",
    "x.day_name()"
   ]
  },
  {
   "cell_type": "code",
   "execution_count": 79,
   "id": "785c0715-dc33-4cf0-bef3-2892f47e0316",
   "metadata": {},
   "outputs": [
    {
     "data": {
      "text/plain": [
       "'Thursday'"
      ]
     },
     "execution_count": 79,
     "metadata": {},
     "output_type": "execute_result"
    }
   ],
   "source": [
    "# adding two days\n",
    "x = x + pd.Timedelta('2 days')\n",
    "x.day_name()"
   ]
  },
  {
   "cell_type": "code",
   "execution_count": 80,
   "id": "2af14dc1-c797-436e-b97a-924349ab2a56",
   "metadata": {},
   "outputs": [
    {
     "data": {
      "text/plain": [
       "'Friday'"
      ]
     },
     "execution_count": 80,
     "metadata": {},
     "output_type": "execute_result"
    }
   ],
   "source": [
    "y = x + pd.offsets.BDay()\n",
    "y.day_name()"
   ]
  },
  {
   "cell_type": "markdown",
   "id": "4e9874f4-6e0b-4cfb-98b4-b0e5cec98a17",
   "metadata": {},
   "source": [
    "#### 26. Write a Pandas program to convert integer or float epoch times to Timestamp and DatetimeIndex."
   ]
  },
  {
   "cell_type": "code",
   "execution_count": 82,
   "id": "e3f24061-cb5b-4094-9740-afc49d1b5040",
   "metadata": {},
   "outputs": [],
   "source": [
    "dates = pd.to_datetime([1329806505, 129806505, 1249892905, 1249979305, 1250065705], unit='s')"
   ]
  },
  {
   "cell_type": "code",
   "execution_count": 83,
   "id": "83014747-24ad-40ce-bba5-80ce15f7f473",
   "metadata": {},
   "outputs": [
    {
     "data": {
      "text/plain": [
       "DatetimeIndex(['2012-02-21 06:41:45', '1974-02-11 09:21:45',\n",
       "               '2009-08-10 08:28:25', '2009-08-11 08:28:25',\n",
       "               '2009-08-12 08:28:25'],\n",
       "              dtype='datetime64[ns]', freq=None)"
      ]
     },
     "execution_count": 83,
     "metadata": {},
     "output_type": "execute_result"
    }
   ],
   "source": [
    "dates"
   ]
  },
  {
   "cell_type": "markdown",
   "id": "4c6e8c38-c6f3-4e6c-a1cf-4aea402b0314",
   "metadata": {},
   "source": [
    "#### 27. Write a Pandas program to calculate one, two, three business day(s) from a specified date. Also find the next business month end from a specific date."
   ]
  },
  {
   "cell_type": "code",
   "execution_count": 92,
   "id": "87448229-f945-45e1-8d2a-bd1ccd38c19b",
   "metadata": {},
   "outputs": [
    {
     "data": {
      "text/plain": [
       "Timestamp('1969-12-31 23:59:59.999997988')"
      ]
     },
     "execution_count": 92,
     "metadata": {},
     "output_type": "execute_result"
    }
   ],
   "source": [
    "a = pd.Timestamp(22-10-2024)\n",
    "a"
   ]
  },
  {
   "cell_type": "code",
   "execution_count": 86,
   "id": "71482d59-1c04-41e9-bcb1-55af40340209",
   "metadata": {},
   "outputs": [
    {
     "name": "stdout",
     "output_type": "stream",
     "text": [
      "one business day from today - 1970-01-01 \n",
      " two business day from today - 1970-01-02 \n",
      " three business day from today - 1970-01-05 \n",
      " \n"
     ]
    }
   ],
   "source": [
    "a1 = a + pd.offsets.BDay()\n",
    "a2 = a + pd.offsets.BDay(2)\n",
    "a3 = a + pd.offsets.BDay(3)\n",
    "print(f\"one business day from today - {a1.date()} \\n two business day from today - {a2.date()} \\n three business day from today - {a3.date()} \\n \")"
   ]
  },
  {
   "cell_type": "code",
   "execution_count": 94,
   "id": "5801590f-0b90-4c66-bcb0-16bc4fcbbc5f",
   "metadata": {},
   "outputs": [
    {
     "name": "stdout",
     "output_type": "stream",
     "text": [
      "1969-12-31 23:59:59.999997988\n",
      "the next bussiness month from specific date is :\n",
      "1970-01-01 23:59:59.999997988\n"
     ]
    }
   ],
   "source": [
    "a4 = a+pd.offsets.BMonthBegin()\n",
    "print(a, \"the next bussiness month from specific date is :\" , a4, sep = \"\\n\")"
   ]
  },
  {
   "cell_type": "markdown",
   "id": "b429641e-406b-48db-b504-6aed01e91d66",
   "metadata": {},
   "source": [
    "#### 28. Write a Pandas program to create a period index represent all monthly boundaries of a given year. Also print start and end time for each period object in the said index."
   ]
  },
  {
   "cell_type": "code",
   "execution_count": 121,
   "id": "18752b43-e89b-4d45-acf7-550852903384",
   "metadata": {},
   "outputs": [],
   "source": [
    "x = pd.period_range(\"2024-01-01\", periods = 12, freq = 'M')"
   ]
  },
  {
   "cell_type": "code",
   "execution_count": 123,
   "id": "bdae85ac-677b-4677-a5b6-53543b6f43f4",
   "metadata": {},
   "outputs": [
    {
     "name": "stdout",
     "output_type": "stream",
     "text": [
      "PeriodIndex(['2024-01', '2024-02', '2024-03', '2024-04', '2024-05', '2024-06',\n",
      "             '2024-07', '2024-08', '2024-09', '2024-10', '2024-11', '2024-12'],\n",
      "            dtype='period[M]')\n"
     ]
    }
   ],
   "source": [
    "print(x)"
   ]
  },
  {
   "cell_type": "code",
   "execution_count": 131,
   "id": "cb6830a4-17f5-495c-9a84-196ffa17af8a",
   "metadata": {},
   "outputs": [
    {
     "name": "stdout",
     "output_type": "stream",
     "text": [
      "Starting and ending time of 2024-01:- 2024-01-01 00:00:00 -  2024-01-31 23:59:59.999999999\n",
      "\n",
      "Starting and ending time of 2024-02:- 2024-02-01 00:00:00 -  2024-02-29 23:59:59.999999999\n",
      "\n",
      "Starting and ending time of 2024-03:- 2024-03-01 00:00:00 -  2024-03-31 23:59:59.999999999\n",
      "\n",
      "Starting and ending time of 2024-04:- 2024-04-01 00:00:00 -  2024-04-30 23:59:59.999999999\n",
      "\n",
      "Starting and ending time of 2024-05:- 2024-05-01 00:00:00 -  2024-05-31 23:59:59.999999999\n",
      "\n",
      "Starting and ending time of 2024-06:- 2024-06-01 00:00:00 -  2024-06-30 23:59:59.999999999\n",
      "\n",
      "Starting and ending time of 2024-07:- 2024-07-01 00:00:00 -  2024-07-31 23:59:59.999999999\n",
      "\n",
      "Starting and ending time of 2024-08:- 2024-08-01 00:00:00 -  2024-08-31 23:59:59.999999999\n",
      "\n",
      "Starting and ending time of 2024-09:- 2024-09-01 00:00:00 -  2024-09-30 23:59:59.999999999\n",
      "\n",
      "Starting and ending time of 2024-10:- 2024-10-01 00:00:00 -  2024-10-31 23:59:59.999999999\n",
      "\n",
      "Starting and ending time of 2024-11:- 2024-11-01 00:00:00 -  2024-11-30 23:59:59.999999999\n",
      "\n",
      "Starting and ending time of 2024-12:- 2024-12-01 00:00:00 -  2024-12-31 23:59:59.999999999\n",
      "\n"
     ]
    }
   ],
   "source": [
    "for d in x: \n",
    "    print (f\"Starting and ending time of {d}:- {d.start_time} -  {d.end_time}\\n\") "
   ]
  },
  {
   "cell_type": "markdown",
   "id": "8a59c09a-8d0d-496b-b8dc-2f681fb258e3",
   "metadata": {},
   "source": [
    "#### 29. Write a Pandas program create a series with a PeriodIndex which represents all the calendar month periods in 2029 and 2031. Also print the values for all periods in 2030.\n",
    "Note: PeriodIndex is an immutable ndarray holding ordinal values indicating\n",
    "regular periods in time such as particular years, quarters, months, etc."
   ]
  },
  {
   "cell_type": "code",
   "execution_count": 134,
   "id": "bb01ffc9-ec88-4f2b-8698-d0a2d006c2b4",
   "metadata": {},
   "outputs": [],
   "source": [
    "y = pd.Series(np.random.randn(36), pd.period_range('1/1/2029', '12/31/2031', freq='M'))"
   ]
  },
  {
   "cell_type": "code",
   "execution_count": 138,
   "id": "db75c43b-ebb4-4e0b-93b0-d43b4c79fab0",
   "metadata": {},
   "outputs": [
    {
     "name": "stdout",
     "output_type": "stream",
     "text": [
      "2029-01   -0.910903\n",
      "2029-02   -0.156329\n",
      "2029-03    2.431813\n",
      "2029-04    0.380322\n",
      "2029-05   -1.240267\n",
      "2029-06    1.045174\n",
      "2029-07    1.840212\n",
      "2029-08    1.237667\n",
      "2029-09   -1.157445\n",
      "2029-10    0.892050\n",
      "2029-11    0.200037\n",
      "2029-12   -0.156597\n",
      "2030-01   -0.026747\n",
      "2030-02   -1.322658\n",
      "2030-03    0.037123\n",
      "2030-04   -0.093794\n",
      "2030-05    0.433074\n",
      "2030-06   -0.474950\n",
      "2030-07   -0.236360\n",
      "2030-08    1.960036\n",
      "2030-09   -0.072836\n",
      "2030-10   -1.782198\n",
      "2030-11    0.043822\n",
      "2030-12   -0.444713\n",
      "2031-01    0.031173\n",
      "2031-02    0.702586\n",
      "2031-03    1.449943\n",
      "2031-04   -0.433487\n",
      "2031-05    1.465311\n",
      "2031-06    0.189902\n",
      "2031-07   -1.622517\n",
      "2031-08    0.054547\n",
      "2031-09    0.983621\n",
      "2031-10   -1.203460\n",
      "2031-11    0.159800\n",
      "2031-12   -0.173721\n",
      "Freq: M, dtype: float64\n"
     ]
    }
   ],
   "source": [
    "print(y)"
   ]
  },
  {
   "cell_type": "code",
   "execution_count": 140,
   "id": "7e37a20e-2bdc-430c-9f96-3177e6d50a00",
   "metadata": {},
   "outputs": [
    {
     "name": "stdout",
     "output_type": "stream",
     "text": [
      "2030-01   -0.026747\n",
      "2030-02   -1.322658\n",
      "2030-03    0.037123\n",
      "2030-04   -0.093794\n",
      "2030-05    0.433074\n",
      "2030-06   -0.474950\n",
      "2030-07   -0.236360\n",
      "2030-08    1.960036\n",
      "2030-09   -0.072836\n",
      "2030-10   -1.782198\n",
      "2030-11    0.043822\n",
      "2030-12   -0.444713\n",
      "Freq: M, dtype: float64\n"
     ]
    }
   ],
   "source": [
    "print(y['2030'])"
   ]
  },
  {
   "cell_type": "markdown",
   "id": "dd719256-244a-4708-930b-a33de900c351",
   "metadata": {},
   "source": [
    "#### 30. Write a Pandas program to generate holidays between two dates using the US federal holiday calendar."
   ]
  },
  {
   "cell_type": "code",
   "execution_count": 166,
   "id": "c594c4bf-4650-43d9-9055-1bfe3995d6a0",
   "metadata": {
    "scrolled": true
   },
   "outputs": [
    {
     "name": "stdout",
     "output_type": "stream",
     "text": [
      "Holidays between 2021-01-01 and 2030-12-31 using the US federal holiday calendar.\n",
      "2024-01-01 00:00:00\n",
      "2024-01-15 00:00:00\n",
      "2024-02-19 00:00:00\n",
      "2024-05-27 00:00:00\n",
      "2024-06-19 00:00:00\n",
      "2024-07-04 00:00:00\n",
      "2024-09-02 00:00:00\n",
      "2024-10-14 00:00:00\n",
      "2024-11-11 00:00:00\n",
      "2024-11-28 00:00:00\n",
      "2024-12-25 00:00:00\n",
      "2025-01-01 00:00:00\n",
      "2025-01-20 00:00:00\n",
      "2025-02-17 00:00:00\n",
      "2025-05-26 00:00:00\n",
      "2025-06-19 00:00:00\n",
      "2025-07-04 00:00:00\n",
      "2025-09-01 00:00:00\n",
      "2025-10-13 00:00:00\n",
      "2025-11-11 00:00:00\n",
      "2025-11-27 00:00:00\n",
      "2025-12-25 00:00:00\n"
     ]
    }
   ],
   "source": [
    "from pandas.tseries.holiday import *\n",
    "sdt = datetime(2024, 1, 1)\n",
    "edt = datetime(2025, 12, 31)\n",
    "print(\"Holidays between 2021-01-01 and 2030-12-31 using the US federal holiday calendar.\")\n",
    "cal = pd.tseries.holiday.USFederalHolidayCalendar()\n",
    "for dt in cal.holidays(start=sdt, end=edt): \n",
    "    print (dt)"
   ]
  },
  {
   "cell_type": "markdown",
   "id": "1647900e-e716-4127-be92-935f44806128",
   "metadata": {},
   "source": [
    "#### 31. Write a Pandas program to create a monthly time period and display the list of names in the current local scope."
   ]
  },
  {
   "cell_type": "code",
   "execution_count": 169,
   "id": "481c4d44-4571-4514-adcb-fb498862b05f",
   "metadata": {},
   "outputs": [
    {
     "name": "stdout",
     "output_type": "stream",
     "text": [
      "Monthly time perid:  2021-11\n",
      "\n",
      "List of names in the current local scope:\n",
      "['__add__', '__array_priority__', '__class__', '__delattr__', '__dict__', '__dir__', '__doc__', '__eq__', '__format__', '__ge__', '__getattribute__', '__getstate__', '__gt__', '__hash__', '__init__', '__init_subclass__', '__le__', '__lt__', '__module__', '__ne__', '__new__', '__radd__', '__reduce__', '__reduce_cython__', '__reduce_ex__', '__repr__', '__rsub__', '__setattr__', '__setstate__', '__setstate_cython__', '__sizeof__', '__str__', '__sub__', '__subclasshook__', '__weakref__', '_add_offset', '_add_timedeltalike_scalar', '_dtype', '_from_ordinal', '_maybe_convert_freq', '_require_matching_freq', 'asfreq', 'day', 'day_of_week', 'day_of_year', 'dayofweek', 'dayofyear', 'days_in_month', 'daysinmonth', 'end_time', 'freq', 'freqstr', 'hour', 'is_leap_year', 'minute', 'month', 'now', 'ordinal', 'quarter', 'qyear', 'second', 'start_time', 'strftime', 'to_timestamp', 'week', 'weekday', 'weekofyear', 'year']\n"
     ]
    }
   ],
   "source": [
    "mtp = pd.Period('2021-11','M')\n",
    "print(\"Monthly time perid: \",mtp)\n",
    "print(\"\\nList of names in the current local scope:\")\n",
    "print(dir(mtp)) "
   ]
  },
  {
   "cell_type": "markdown",
   "id": "7c2386c9-813b-4571-a220-860a63c7ea39",
   "metadata": {},
   "source": [
    "#### 32. Write a Pandas program to create a yearly time period from a specified year and display the properties of this period."
   ]
  },
  {
   "cell_type": "code",
   "execution_count": 174,
   "id": "c9798dcc-8397-44d0-95f2-024d848b2a66",
   "metadata": {},
   "outputs": [
    {
     "name": "stdout",
     "output_type": "stream",
     "text": [
      "Yearly time perid: 2020\n",
      "\n",
      "All the properties of the said period:\n",
      "['__add__', '__array_priority__', '__class__', '__delattr__', '__dict__', '__dir__', '__doc__', '__eq__', '__format__', '__ge__', '__getattribute__', '__getstate__', '__gt__', '__hash__', '__init__', '__init_subclass__', '__le__', '__lt__', '__module__', '__ne__', '__new__', '__radd__', '__reduce__', '__reduce_cython__', '__reduce_ex__', '__repr__', '__rsub__', '__setattr__', '__setstate__', '__setstate_cython__', '__sizeof__', '__str__', '__sub__', '__subclasshook__', '__weakref__', '_add_offset', '_add_timedeltalike_scalar', '_dtype', '_from_ordinal', '_maybe_convert_freq', '_require_matching_freq', 'asfreq', 'day', 'day_of_week', 'day_of_year', 'dayofweek', 'dayofyear', 'days_in_month', 'daysinmonth', 'end_time', 'freq', 'freqstr', 'hour', 'is_leap_year', 'minute', 'month', 'now', 'ordinal', 'quarter', 'qyear', 'second', 'start_time', 'strftime', 'to_timestamp', 'week', 'weekday', 'weekofyear', 'year']\n"
     ]
    }
   ],
   "source": [
    "ytp = pd.Period('2020','Y-DEC')\n",
    "print(\"Yearly time perid:\",ytp)\n",
    "print(\"\\nAll the properties of the said period:\")\n",
    "print(dir(ytp))"
   ]
  },
  {
   "cell_type": "code",
   "execution_count": null,
   "id": "eca7df85-5480-428a-8313-59a26fbdc87c",
   "metadata": {},
   "outputs": [],
   "source": []
  }
 ],
 "metadata": {
  "kernelspec": {
   "display_name": "Python 3 (ipykernel)",
   "language": "python",
   "name": "python3"
  },
  "language_info": {
   "codemirror_mode": {
    "name": "ipython",
    "version": 3
   },
   "file_extension": ".py",
   "mimetype": "text/x-python",
   "name": "python",
   "nbconvert_exporter": "python",
   "pygments_lexer": "ipython3",
   "version": "3.12.4"
  }
 },
 "nbformat": 4,
 "nbformat_minor": 5
}
