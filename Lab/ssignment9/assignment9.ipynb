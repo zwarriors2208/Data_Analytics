{
 "cells": [
  {
   "cell_type": "code",
   "execution_count": 1,
   "id": "30259a17-c272-449f-b3c7-f90a3b5683ac",
   "metadata": {},
   "outputs": [],
   "source": [
    "import pandas as pd\n",
    "import numpy as np\n",
    "import matplotlib.pyplot as plt"
   ]
  },
  {
   "cell_type": "markdown",
   "id": "a09281f7-c47b-478d-bdba-b0e05f4c01fc",
   "metadata": {},
   "source": [
    "### Question1 "
   ]
  },
  {
   "cell_type": "markdown",
   "id": "f881c000-a1ec-42c7-932e-8f9a04b375d6",
   "metadata": {},
   "source": [
    "#### 1. Create two CSV file with three columns viz. Tom, Brick, Harry with index ‘True’ and ‘False’. Each column must contain at least ten values each as a combination of datatypes."
   ]
  },
  {
   "cell_type": "code",
   "execution_count": 4,
   "id": "9e12a3a5-5fbf-4f1d-8757-145d6820eed2",
   "metadata": {},
   "outputs": [],
   "source": [
    "data1 = {\n",
    "    'Tom': [1, 2, 3, 4, 5, 'six', 'seven', 8.0, 9.5, True],\n",
    "    'Brick': ['red', 'blue', 'green', 4, 5, 6, 7.5, None, 'ten', False],\n",
    "    'Harry': [None, 'Alice', 3.14, True, 'Bob', 6, 7, 8, 'Charlie', 10]\n",
    "}\n",
    "\n",
    "data2 = {\n",
    "    'Tom': [10, 20, 30, 'forty', 50, False, 70, 80.5, 'ninety', 100],\n",
    "    'Brick': [1, 2, 'three', 4.0, 5, 'six', 'seven', True, None, 10],\n",
    "    'Harry': [True, 2, 3.5, 'four', 'five', 6, 'seven', 8, 'nine', 10]\n",
    "}\n",
    "\n",
    "df1=pd.DataFrame(data1, index=[True, False, True, False, True, False, True, False, True, False])\n",
    "df2=pd.DataFrame(data2, index=[True, False, True, False, True, False, True, False, True, False])\n",
    "\n",
    "df1.to_csv('data1.csv',index=True)\n",
    "df2.to_csv('data2.csv',index=True)"
   ]
  },
  {
   "cell_type": "markdown",
   "id": "14db4c6a-98be-4417-9891-f3ae454fda15",
   "metadata": {},
   "source": [
    "#### 2. Create a data frame with at least 5 columns and 10 rows. There must be some missing values in it.\n",
    " If the integer column contains missing values replace it with some statistica \r\n",
    "approach. Also, if there is any missing values in String column, drop the rows using so e\r\n",
    "looping function."
   ]
  },
  {
   "cell_type": "code",
   "execution_count": 6,
   "id": "d3c35bb7-b067-4c6b-92eb-68221b544060",
   "metadata": {},
   "outputs": [
    {
     "data": {
      "text/html": [
       "<div>\n",
       "<style scoped>\n",
       "    .dataframe tbody tr th:only-of-type {\n",
       "        vertical-align: middle;\n",
       "    }\n",
       "\n",
       "    .dataframe tbody tr th {\n",
       "        vertical-align: top;\n",
       "    }\n",
       "\n",
       "    .dataframe thead th {\n",
       "        text-align: right;\n",
       "    }\n",
       "</style>\n",
       "<table border=\"1\" class=\"dataframe\">\n",
       "  <thead>\n",
       "    <tr style=\"text-align: right;\">\n",
       "      <th></th>\n",
       "      <th>Number1</th>\n",
       "      <th>Number2</th>\n",
       "      <th>Number3</th>\n",
       "      <th>String1</th>\n",
       "      <th>String2</th>\n",
       "    </tr>\n",
       "  </thead>\n",
       "  <tbody>\n",
       "    <tr>\n",
       "      <th>0</th>\n",
       "      <td>10.0</td>\n",
       "      <td>1.5</td>\n",
       "      <td>100.0</td>\n",
       "      <td>apple</td>\n",
       "      <td>red</td>\n",
       "    </tr>\n",
       "    <tr>\n",
       "      <th>1</th>\n",
       "      <td>20.0</td>\n",
       "      <td>2.5</td>\n",
       "      <td>110.0</td>\n",
       "      <td>banana</td>\n",
       "      <td>yellow</td>\n",
       "    </tr>\n",
       "    <tr>\n",
       "      <th>2</th>\n",
       "      <td>NaN</td>\n",
       "      <td>3.5</td>\n",
       "      <td>120.0</td>\n",
       "      <td>cherry</td>\n",
       "      <td>pink</td>\n",
       "    </tr>\n",
       "    <tr>\n",
       "      <th>3</th>\n",
       "      <td>40.0</td>\n",
       "      <td>NaN</td>\n",
       "      <td>130.0</td>\n",
       "      <td>date</td>\n",
       "      <td>brown</td>\n",
       "    </tr>\n",
       "    <tr>\n",
       "      <th>4</th>\n",
       "      <td>50.0</td>\n",
       "      <td>5.5</td>\n",
       "      <td>140.0</td>\n",
       "      <td>NaN</td>\n",
       "      <td>purple</td>\n",
       "    </tr>\n",
       "    <tr>\n",
       "      <th>5</th>\n",
       "      <td>60.0</td>\n",
       "      <td>6.5</td>\n",
       "      <td>150.0</td>\n",
       "      <td>fig</td>\n",
       "      <td>Magenta</td>\n",
       "    </tr>\n",
       "    <tr>\n",
       "      <th>6</th>\n",
       "      <td>NaN</td>\n",
       "      <td>7.5</td>\n",
       "      <td>160.0</td>\n",
       "      <td>grape</td>\n",
       "      <td>blue</td>\n",
       "    </tr>\n",
       "    <tr>\n",
       "      <th>7</th>\n",
       "      <td>80.0</td>\n",
       "      <td>8.5</td>\n",
       "      <td>170.0</td>\n",
       "      <td>honeydew</td>\n",
       "      <td>orange</td>\n",
       "    </tr>\n",
       "    <tr>\n",
       "      <th>8</th>\n",
       "      <td>90.0</td>\n",
       "      <td>NaN</td>\n",
       "      <td>NaN</td>\n",
       "      <td>kiwi</td>\n",
       "      <td>black</td>\n",
       "    </tr>\n",
       "    <tr>\n",
       "      <th>9</th>\n",
       "      <td>100.0</td>\n",
       "      <td>10.5</td>\n",
       "      <td>190.0</td>\n",
       "      <td>lemon</td>\n",
       "      <td>white</td>\n",
       "    </tr>\n",
       "  </tbody>\n",
       "</table>\n",
       "</div>"
      ],
      "text/plain": [
       "   Number1  Number2  Number3   String1  String2\n",
       "0     10.0      1.5    100.0     apple      red\n",
       "1     20.0      2.5    110.0    banana   yellow\n",
       "2      NaN      3.5    120.0    cherry     pink\n",
       "3     40.0      NaN    130.0      date    brown\n",
       "4     50.0      5.5    140.0       NaN   purple\n",
       "5     60.0      6.5    150.0       fig  Magenta\n",
       "6      NaN      7.5    160.0     grape     blue\n",
       "7     80.0      8.5    170.0  honeydew   orange\n",
       "8     90.0      NaN      NaN      kiwi    black\n",
       "9    100.0     10.5    190.0     lemon    white"
      ]
     },
     "execution_count": 6,
     "metadata": {},
     "output_type": "execute_result"
    }
   ],
   "source": [
    "data = {\n",
    "    'Number1': [10, 20, np.nan, 40, 50, 60, np.nan, 80, 90, 100],\n",
    "    'Number2': [1.5, 2.5, 3.5, np.nan, 5.5, 6.5, 7.5, 8.5, np.nan, 10.5],\n",
    "    'Number3': [100, 110, 120, 130, 140, 150, 160, 170, np.nan, 190],\n",
    "    'String1': ['apple', 'banana', 'cherry', 'date', np.nan, 'fig', 'grape', 'honeydew', 'kiwi', 'lemon'],\n",
    "    'String2': ['red', 'yellow', 'pink', 'brown', 'purple', 'Magenta', 'blue', 'orange', 'black', 'white']\n",
    "}\n",
    "df=pd.DataFrame(data)\n",
    "df"
   ]
  },
  {
   "cell_type": "code",
   "execution_count": 7,
   "id": "33f14918-9cc7-4fb4-91bc-1dfb4570de86",
   "metadata": {},
   "outputs": [
    {
     "name": "stderr",
     "output_type": "stream",
     "text": [
      "C:\\Users\\DAI.STUDENTSDC\\AppData\\Local\\Temp\\ipykernel_8976\\4242339929.py:1: FutureWarning: A value is trying to be set on a copy of a DataFrame or Series through chained assignment using an inplace method.\n",
      "The behavior will change in pandas 3.0. This inplace method will never work because the intermediate object on which we are setting values always behaves as a copy.\n",
      "\n",
      "For example, when doing 'df[col].method(value, inplace=True)', try using 'df.method({col: value}, inplace=True)' or df[col] = df[col].method(value) instead, to perform the operation inplace on the original object.\n",
      "\n",
      "\n",
      "  df['Number1'].fillna(df['Number1'].mean(), inplace = True)\n",
      "C:\\Users\\DAI.STUDENTSDC\\AppData\\Local\\Temp\\ipykernel_8976\\4242339929.py:2: FutureWarning: A value is trying to be set on a copy of a DataFrame or Series through chained assignment using an inplace method.\n",
      "The behavior will change in pandas 3.0. This inplace method will never work because the intermediate object on which we are setting values always behaves as a copy.\n",
      "\n",
      "For example, when doing 'df[col].method(value, inplace=True)', try using 'df.method({col: value}, inplace=True)' or df[col] = df[col].method(value) instead, to perform the operation inplace on the original object.\n",
      "\n",
      "\n",
      "  df['Number2'].fillna(df['Number2'].median(), inplace = True)\n",
      "C:\\Users\\DAI.STUDENTSDC\\AppData\\Local\\Temp\\ipykernel_8976\\4242339929.py:3: FutureWarning: A value is trying to be set on a copy of a DataFrame or Series through chained assignment using an inplace method.\n",
      "The behavior will change in pandas 3.0. This inplace method will never work because the intermediate object on which we are setting values always behaves as a copy.\n",
      "\n",
      "For example, when doing 'df[col].method(value, inplace=True)', try using 'df.method({col: value}, inplace=True)' or df[col] = df[col].method(value) instead, to perform the operation inplace on the original object.\n",
      "\n",
      "\n",
      "  df['Number3'].fillna(df['Number3'].mode(), inplace = True)\n"
     ]
    }
   ],
   "source": [
    "df['Number1'].fillna(df['Number1'].mean(), inplace = True)\n",
    "df['Number2'].fillna(df['Number2'].median(), inplace = True)\n",
    "df['Number3'].fillna(df['Number3'].mode(), inplace = True)\n",
    "\n",
    "rows2drop=[]\n",
    "for index,row in df.iterrows():\n",
    "    if pd.isna(row['String1']):\n",
    "        rows2drop.append(index)\n",
    "df.drop(index=rows2drop, inplace=True)\n",
    "df.reset_index(drop=True, inplace=True)\n"
   ]
  },
  {
   "cell_type": "code",
   "execution_count": 8,
   "id": "b3cd096a-f7ca-4dbb-a639-e16c2937b925",
   "metadata": {},
   "outputs": [
    {
     "data": {
      "text/html": [
       "<div>\n",
       "<style scoped>\n",
       "    .dataframe tbody tr th:only-of-type {\n",
       "        vertical-align: middle;\n",
       "    }\n",
       "\n",
       "    .dataframe tbody tr th {\n",
       "        vertical-align: top;\n",
       "    }\n",
       "\n",
       "    .dataframe thead th {\n",
       "        text-align: right;\n",
       "    }\n",
       "</style>\n",
       "<table border=\"1\" class=\"dataframe\">\n",
       "  <thead>\n",
       "    <tr style=\"text-align: right;\">\n",
       "      <th></th>\n",
       "      <th>Number1</th>\n",
       "      <th>Number2</th>\n",
       "      <th>Number3</th>\n",
       "      <th>String1</th>\n",
       "      <th>String2</th>\n",
       "    </tr>\n",
       "  </thead>\n",
       "  <tbody>\n",
       "    <tr>\n",
       "      <th>0</th>\n",
       "      <td>10.00</td>\n",
       "      <td>1.5</td>\n",
       "      <td>100.0</td>\n",
       "      <td>apple</td>\n",
       "      <td>red</td>\n",
       "    </tr>\n",
       "    <tr>\n",
       "      <th>1</th>\n",
       "      <td>20.00</td>\n",
       "      <td>2.5</td>\n",
       "      <td>110.0</td>\n",
       "      <td>banana</td>\n",
       "      <td>yellow</td>\n",
       "    </tr>\n",
       "    <tr>\n",
       "      <th>2</th>\n",
       "      <td>56.25</td>\n",
       "      <td>3.5</td>\n",
       "      <td>120.0</td>\n",
       "      <td>cherry</td>\n",
       "      <td>pink</td>\n",
       "    </tr>\n",
       "    <tr>\n",
       "      <th>3</th>\n",
       "      <td>40.00</td>\n",
       "      <td>6.0</td>\n",
       "      <td>130.0</td>\n",
       "      <td>date</td>\n",
       "      <td>brown</td>\n",
       "    </tr>\n",
       "    <tr>\n",
       "      <th>4</th>\n",
       "      <td>60.00</td>\n",
       "      <td>6.5</td>\n",
       "      <td>150.0</td>\n",
       "      <td>fig</td>\n",
       "      <td>Magenta</td>\n",
       "    </tr>\n",
       "    <tr>\n",
       "      <th>5</th>\n",
       "      <td>56.25</td>\n",
       "      <td>7.5</td>\n",
       "      <td>160.0</td>\n",
       "      <td>grape</td>\n",
       "      <td>blue</td>\n",
       "    </tr>\n",
       "    <tr>\n",
       "      <th>6</th>\n",
       "      <td>80.00</td>\n",
       "      <td>8.5</td>\n",
       "      <td>170.0</td>\n",
       "      <td>honeydew</td>\n",
       "      <td>orange</td>\n",
       "    </tr>\n",
       "    <tr>\n",
       "      <th>7</th>\n",
       "      <td>90.00</td>\n",
       "      <td>6.0</td>\n",
       "      <td>190.0</td>\n",
       "      <td>kiwi</td>\n",
       "      <td>black</td>\n",
       "    </tr>\n",
       "    <tr>\n",
       "      <th>8</th>\n",
       "      <td>100.00</td>\n",
       "      <td>10.5</td>\n",
       "      <td>190.0</td>\n",
       "      <td>lemon</td>\n",
       "      <td>white</td>\n",
       "    </tr>\n",
       "  </tbody>\n",
       "</table>\n",
       "</div>"
      ],
      "text/plain": [
       "   Number1  Number2  Number3   String1  String2\n",
       "0    10.00      1.5    100.0     apple      red\n",
       "1    20.00      2.5    110.0    banana   yellow\n",
       "2    56.25      3.5    120.0    cherry     pink\n",
       "3    40.00      6.0    130.0      date    brown\n",
       "4    60.00      6.5    150.0       fig  Magenta\n",
       "5    56.25      7.5    160.0     grape     blue\n",
       "6    80.00      8.5    170.0  honeydew   orange\n",
       "7    90.00      6.0    190.0      kiwi    black\n",
       "8   100.00     10.5    190.0     lemon    white"
      ]
     },
     "execution_count": 8,
     "metadata": {},
     "output_type": "execute_result"
    }
   ],
   "source": [
    "df"
   ]
  },
  {
   "cell_type": "markdown",
   "id": "17d3ff35-8cb0-4b4c-9ea0-505badbbcbad",
   "metadata": {},
   "source": [
    "#### 3. Create a data frame with at least 5 columns and 10 rows. Each column must contain onlyinteger elements only.\n",
    "Column names must be Abilash, Ankit, Ashok, Asif, Anjaan. Now apply a function where we want to club together the data based on any row or column.\n",
    "Group the series using a mapper or by a series of columns."
   ]
  },
  {
   "cell_type": "code",
   "execution_count": 10,
   "id": "f7ab4fd3-6f6e-4317-8d20-331a412e2dfe",
   "metadata": {},
   "outputs": [
    {
     "name": "stdout",
     "output_type": "stream",
     "text": [
      "          Abilash  Ankit  Ashok  Asif  Anjaan  sum\n",
      "Category                                          \n",
      "A              33     93    153   213     273  765\n",
      "B              22     62    102   142     182  510\n"
     ]
    }
   ],
   "source": [
    "data = {\n",
    "    'Abilash': [1, 2, 3, 4, 5, 6, 7, 8, 9, 10],\n",
    "    'Ankit': [11, 12, 13, 14, 15, 16, 17, 18, 19, 20],\n",
    "    'Ashok': [21, 22, 23, 24, 25, 26, 27, 28, 29, 30],\n",
    "    'Asif': [31, 32, 33, 34, 35, 36, 37, 38, 39, 40],\n",
    "    'Anjaan': [41, 42, 43, 44, 45, 46, 47, 48, 49, 50]\n",
    "}\n",
    "df=pd.DataFrame(data)\n",
    "df['sum']=df.sum(axis=1)\n",
    "df['Category']=['A', 'A', 'B', 'B', 'A', 'A', 'B', 'B', 'A', 'A']\n",
    "grpd=df.groupby('Category').sum()\n",
    "print(grpd)"
   ]
  },
  {
   "cell_type": "markdown",
   "id": "d453d76f-2c3f-4292-8763-d0bc3132df67",
   "metadata": {},
   "source": [
    "#### 4. Read the CountryDataIND.csv file and perform statistical operation on the same about the dataset. Look for any missing data if any."
   ]
  },
  {
   "cell_type": "code",
   "execution_count": 12,
   "id": "e6cb9077-453a-4ca6-9fa5-3a3394a3e0af",
   "metadata": {},
   "outputs": [
    {
     "data": {
      "text/html": [
       "<div>\n",
       "<style scoped>\n",
       "    .dataframe tbody tr th:only-of-type {\n",
       "        vertical-align: middle;\n",
       "    }\n",
       "\n",
       "    .dataframe tbody tr th {\n",
       "        vertical-align: top;\n",
       "    }\n",
       "\n",
       "    .dataframe thead th {\n",
       "        text-align: right;\n",
       "    }\n",
       "</style>\n",
       "<table border=\"1\" class=\"dataframe\">\n",
       "  <thead>\n",
       "    <tr style=\"text-align: right;\">\n",
       "      <th></th>\n",
       "      <th>Series Code</th>\n",
       "      <th>Frequency</th>\n",
       "      <th>Series</th>\n",
       "      <th>Units of measurement</th>\n",
       "      <th>Location</th>\n",
       "      <th>Age group</th>\n",
       "      <th>Sex</th>\n",
       "      <th>Reference Area</th>\n",
       "      <th>Source type</th>\n",
       "      <th>Time period</th>\n",
       "      <th>Observation Value</th>\n",
       "      <th>Unit multiplier</th>\n",
       "      <th>Nature of data points</th>\n",
       "      <th>Time period details</th>\n",
       "      <th>Source details</th>\n",
       "      <th>Footnotes</th>\n",
       "    </tr>\n",
       "  </thead>\n",
       "  <tbody>\n",
       "    <tr>\n",
       "      <th>0</th>\n",
       "      <td>IT_USE_ii99</td>\n",
       "      <td>Annual</td>\n",
       "      <td>Internet users</td>\n",
       "      <td>Per 100 population</td>\n",
       "      <td>Total (national level)</td>\n",
       "      <td>All age ranges</td>\n",
       "      <td>Both sexes</td>\n",
       "      <td>India</td>\n",
       "      <td>Not available</td>\n",
       "      <td>1999</td>\n",
       "      <td>0.2</td>\n",
       "      <td>Units</td>\n",
       "      <td>Country Data</td>\n",
       "      <td>1999</td>\n",
       "      <td>Ministry of Information Technology</td>\n",
       "      <td>NaN</td>\n",
       "    </tr>\n",
       "    <tr>\n",
       "      <th>1</th>\n",
       "      <td>IT_USE_ii99</td>\n",
       "      <td>Annual</td>\n",
       "      <td>Internet users</td>\n",
       "      <td>Per 100 population</td>\n",
       "      <td>Total (national level)</td>\n",
       "      <td>All age ranges</td>\n",
       "      <td>Both sexes</td>\n",
       "      <td>India</td>\n",
       "      <td>Not available</td>\n",
       "      <td>2002</td>\n",
       "      <td>3.2</td>\n",
       "      <td>Units</td>\n",
       "      <td>Country Data</td>\n",
       "      <td>2002</td>\n",
       "      <td>Ministry of Information Technology</td>\n",
       "      <td>NaN</td>\n",
       "    </tr>\n",
       "    <tr>\n",
       "      <th>2</th>\n",
       "      <td>IT_USE_ii99</td>\n",
       "      <td>Annual</td>\n",
       "      <td>Internet users</td>\n",
       "      <td>Per 100 population</td>\n",
       "      <td>Total (national level)</td>\n",
       "      <td>All age ranges</td>\n",
       "      <td>Both sexes</td>\n",
       "      <td>India</td>\n",
       "      <td>Not available</td>\n",
       "      <td>2006</td>\n",
       "      <td>7.0</td>\n",
       "      <td>Units</td>\n",
       "      <td>Country Data</td>\n",
       "      <td>2006</td>\n",
       "      <td>Ministry of Information Technology</td>\n",
       "      <td>NaN</td>\n",
       "    </tr>\n",
       "    <tr>\n",
       "      <th>3</th>\n",
       "      <td>SE_ADT_1524</td>\n",
       "      <td>Annual</td>\n",
       "      <td>Literacy rate</td>\n",
       "      <td>Percent</td>\n",
       "      <td>Total (national level)</td>\n",
       "      <td>15-24 year olds</td>\n",
       "      <td>Both sexes</td>\n",
       "      <td>India</td>\n",
       "      <td>Not available</td>\n",
       "      <td>1991</td>\n",
       "      <td>48.5</td>\n",
       "      <td>Units</td>\n",
       "      <td>Country Data</td>\n",
       "      <td>1991</td>\n",
       "      <td>Planning Commission</td>\n",
       "      <td>NaN</td>\n",
       "    </tr>\n",
       "    <tr>\n",
       "      <th>4</th>\n",
       "      <td>SE_ADT_1524</td>\n",
       "      <td>Annual</td>\n",
       "      <td>Literacy rate</td>\n",
       "      <td>Percent</td>\n",
       "      <td>Total (national level)</td>\n",
       "      <td>15-24 year olds</td>\n",
       "      <td>Both sexes</td>\n",
       "      <td>India</td>\n",
       "      <td>Not available</td>\n",
       "      <td>2001</td>\n",
       "      <td>76.4</td>\n",
       "      <td>Units</td>\n",
       "      <td>Country Data</td>\n",
       "      <td>2001</td>\n",
       "      <td>Planning Commission</td>\n",
       "      <td>NaN</td>\n",
       "    </tr>\n",
       "  </tbody>\n",
       "</table>\n",
       "</div>"
      ],
      "text/plain": [
       "   Series Code Frequency          Series Units of measurement  \\\n",
       "0  IT_USE_ii99    Annual  Internet users   Per 100 population   \n",
       "1  IT_USE_ii99    Annual  Internet users   Per 100 population   \n",
       "2  IT_USE_ii99    Annual  Internet users   Per 100 population   \n",
       "3  SE_ADT_1524    Annual   Literacy rate              Percent   \n",
       "4  SE_ADT_1524    Annual   Literacy rate              Percent   \n",
       "\n",
       "                 Location        Age group         Sex Reference Area  \\\n",
       "0  Total (national level)   All age ranges  Both sexes          India   \n",
       "1  Total (national level)   All age ranges  Both sexes          India   \n",
       "2  Total (national level)   All age ranges  Both sexes          India   \n",
       "3  Total (national level)  15-24 year olds  Both sexes          India   \n",
       "4  Total (national level)  15-24 year olds  Both sexes          India   \n",
       "\n",
       "     Source type  Time period  Observation Value Unit multiplier  \\\n",
       "0  Not available         1999                0.2           Units   \n",
       "1  Not available         2002                3.2           Units   \n",
       "2  Not available         2006                7.0           Units   \n",
       "3  Not available         1991               48.5           Units   \n",
       "4  Not available         2001               76.4           Units   \n",
       "\n",
       "  Nature of data points  Time period details  \\\n",
       "0          Country Data                 1999   \n",
       "1          Country Data                 2002   \n",
       "2          Country Data                 2006   \n",
       "3          Country Data                 1991   \n",
       "4          Country Data                 2001   \n",
       "\n",
       "                       Source details  Footnotes  \n",
       "0  Ministry of Information Technology        NaN  \n",
       "1  Ministry of Information Technology        NaN  \n",
       "2  Ministry of Information Technology        NaN  \n",
       "3                 Planning Commission        NaN  \n",
       "4                 Planning Commission        NaN  "
      ]
     },
     "execution_count": 12,
     "metadata": {},
     "output_type": "execute_result"
    }
   ],
   "source": [
    "df=pd.read_csv('CountryDataIND.csv')\n",
    "df.head()"
   ]
  },
  {
   "cell_type": "code",
   "execution_count": 13,
   "id": "401fd340-e132-43ca-a91f-d6fc8e940a45",
   "metadata": {},
   "outputs": [
    {
     "data": {
      "text/html": [
       "<div>\n",
       "<style scoped>\n",
       "    .dataframe tbody tr th:only-of-type {\n",
       "        vertical-align: middle;\n",
       "    }\n",
       "\n",
       "    .dataframe tbody tr th {\n",
       "        vertical-align: top;\n",
       "    }\n",
       "\n",
       "    .dataframe thead th {\n",
       "        text-align: right;\n",
       "    }\n",
       "</style>\n",
       "<table border=\"1\" class=\"dataframe\">\n",
       "  <thead>\n",
       "    <tr style=\"text-align: right;\">\n",
       "      <th></th>\n",
       "      <th>Time period</th>\n",
       "      <th>Observation Value</th>\n",
       "      <th>Time period details</th>\n",
       "      <th>Footnotes</th>\n",
       "    </tr>\n",
       "  </thead>\n",
       "  <tbody>\n",
       "    <tr>\n",
       "      <th>count</th>\n",
       "      <td>29.000000</td>\n",
       "      <td>29.000000</td>\n",
       "      <td>29.000000</td>\n",
       "      <td>0.0</td>\n",
       "    </tr>\n",
       "    <tr>\n",
       "      <th>mean</th>\n",
       "      <td>1999.551724</td>\n",
       "      <td>140.806897</td>\n",
       "      <td>1999.551724</td>\n",
       "      <td>NaN</td>\n",
       "    </tr>\n",
       "    <tr>\n",
       "      <th>std</th>\n",
       "      <td>4.807629</td>\n",
       "      <td>156.922569</td>\n",
       "      <td>4.807629</td>\n",
       "      <td>NaN</td>\n",
       "    </tr>\n",
       "    <tr>\n",
       "      <th>min</th>\n",
       "      <td>1990.000000</td>\n",
       "      <td>0.200000</td>\n",
       "      <td>1990.000000</td>\n",
       "      <td>NaN</td>\n",
       "    </tr>\n",
       "    <tr>\n",
       "      <th>25%</th>\n",
       "      <td>1998.000000</td>\n",
       "      <td>27.500000</td>\n",
       "      <td>1998.000000</td>\n",
       "      <td>NaN</td>\n",
       "    </tr>\n",
       "    <tr>\n",
       "      <th>50%</th>\n",
       "      <td>2000.000000</td>\n",
       "      <td>48.500000</td>\n",
       "      <td>2000.000000</td>\n",
       "      <td>NaN</td>\n",
       "    </tr>\n",
       "    <tr>\n",
       "      <th>75%</th>\n",
       "      <td>2004.000000</td>\n",
       "      <td>301.000000</td>\n",
       "      <td>2004.000000</td>\n",
       "      <td>NaN</td>\n",
       "    </tr>\n",
       "    <tr>\n",
       "      <th>max</th>\n",
       "      <td>2006.000000</td>\n",
       "      <td>503.000000</td>\n",
       "      <td>2006.000000</td>\n",
       "      <td>NaN</td>\n",
       "    </tr>\n",
       "  </tbody>\n",
       "</table>\n",
       "</div>"
      ],
      "text/plain": [
       "       Time period  Observation Value  Time period details  Footnotes\n",
       "count    29.000000          29.000000            29.000000        0.0\n",
       "mean   1999.551724         140.806897          1999.551724        NaN\n",
       "std       4.807629         156.922569             4.807629        NaN\n",
       "min    1990.000000           0.200000          1990.000000        NaN\n",
       "25%    1998.000000          27.500000          1998.000000        NaN\n",
       "50%    2000.000000          48.500000          2000.000000        NaN\n",
       "75%    2004.000000         301.000000          2004.000000        NaN\n",
       "max    2006.000000         503.000000          2006.000000        NaN"
      ]
     },
     "execution_count": 13,
     "metadata": {},
     "output_type": "execute_result"
    }
   ],
   "source": [
    "df.describe()"
   ]
  },
  {
   "cell_type": "code",
   "execution_count": 14,
   "id": "9513d93c-095f-451b-b540-e226f48971f9",
   "metadata": {},
   "outputs": [
    {
     "data": {
      "text/plain": [
       "Series Code               0\n",
       "Frequency                 0\n",
       "Series                    0\n",
       "Units of measurement      0\n",
       "Location                  0\n",
       "Age group                 0\n",
       "Sex                       0\n",
       "Reference Area            0\n",
       "Source type               0\n",
       "Time period               0\n",
       "Observation Value         0\n",
       "Unit multiplier           0\n",
       "Nature of data points     0\n",
       "Time period details       0\n",
       "Source details            6\n",
       "Footnotes                29\n",
       "dtype: int64"
      ]
     },
     "execution_count": 14,
     "metadata": {},
     "output_type": "execute_result"
    }
   ],
   "source": [
    "df.isna().sum()"
   ]
  },
  {
   "cell_type": "code",
   "execution_count": 15,
   "id": "49e4b357-eb20-4c4a-b4b3-70f2e91b4189",
   "metadata": {},
   "outputs": [
    {
     "name": "stdout",
     "output_type": "stream",
     "text": [
      "<class 'pandas.core.frame.DataFrame'>\n",
      "RangeIndex: 29 entries, 0 to 28\n",
      "Data columns (total 16 columns):\n",
      " #   Column                 Non-Null Count  Dtype  \n",
      "---  ------                 --------------  -----  \n",
      " 0   Series Code            29 non-null     object \n",
      " 1   Frequency              29 non-null     object \n",
      " 2   Series                 29 non-null     object \n",
      " 3   Units of measurement   29 non-null     object \n",
      " 4   Location               29 non-null     object \n",
      " 5   Age group              29 non-null     object \n",
      " 6   Sex                    29 non-null     object \n",
      " 7   Reference Area         29 non-null     object \n",
      " 8   Source type            29 non-null     object \n",
      " 9   Time period            29 non-null     int64  \n",
      " 10  Observation Value      29 non-null     float64\n",
      " 11  Unit multiplier        29 non-null     object \n",
      " 12  Nature of data points  29 non-null     object \n",
      " 13  Time period details    29 non-null     int64  \n",
      " 14  Source details         23 non-null     object \n",
      " 15  Footnotes              0 non-null      float64\n",
      "dtypes: float64(2), int64(2), object(12)\n",
      "memory usage: 3.8+ KB\n"
     ]
    }
   ],
   "source": [
    "df.info()"
   ]
  },
  {
   "cell_type": "markdown",
   "id": "8208188a-9b3a-4283-9962-8d033b66f114",
   "metadata": {},
   "source": [
    "#### 5. Plot a histogram by keeping the bin size to 10 for the column name = ‘Observation Value’.\n",
    "Also Plot a scatter plot between ‘observation Value’ and ‘Time Period’"
   ]
  },
  {
   "cell_type": "code",
   "execution_count": 17,
   "id": "f2c49ca3-b594-4114-bedc-b445b8c4f73b",
   "metadata": {},
   "outputs": [
    {
     "data": {
      "image/png": "[encoded data removed]",
      "text/plain": [
       "<Figure size 800x500 with 1 Axes>"
      ]
     },
     "metadata": {},
     "output_type": "display_data"
    }
   ],
   "source": [
    "plt.figure(figsize=(8,5))\n",
    "plt.hist(df['Observation Value'], bins=10)\n",
    "plt.title('Histogram of Observation Value')\n",
    "plt.xlabel('Observation Value')\n",
    "plt.ylabel('Frequency')\n",
    "plt.tight_layout()\n",
    "plt.show()"
   ]
  },
  {
   "cell_type": "markdown",
   "id": "26a71c99-c33a-4a74-8d19-4fb4a2eaacd5",
   "metadata": {},
   "source": [
    "## Question2"
   ]
  },
  {
   "cell_type": "markdown",
   "id": "fa149de8-6112-40b7-b0ab-a82a55d2b735",
   "metadata": {},
   "source": [
    "#### Suppose you have landed to a job and the first task you’ve assigned to prepare a report which includes the following:\n",
    "1. Player Count - Total Number of Players"
   ]
  },
  {
   "cell_type": "code",
   "execution_count": 20,
   "id": "dede5e2a-f8df-41b4-a810-783c11ec742d",
   "metadata": {},
   "outputs": [
    {
     "data": {
      "text/html": [
       "<div>\n",
       "<style scoped>\n",
       "    .dataframe tbody tr th:only-of-type {\n",
       "        vertical-align: middle;\n",
       "    }\n",
       "\n",
       "    .dataframe tbody tr th {\n",
       "        vertical-align: top;\n",
       "    }\n",
       "\n",
       "    .dataframe thead th {\n",
       "        text-align: right;\n",
       "    }\n",
       "</style>\n",
       "<table border=\"1\" class=\"dataframe\">\n",
       "  <thead>\n",
       "    <tr style=\"text-align: right;\">\n",
       "      <th></th>\n",
       "      <th>Purchase ID</th>\n",
       "      <th>SN</th>\n",
       "      <th>Age</th>\n",
       "      <th>Gender</th>\n",
       "      <th>Item ID</th>\n",
       "      <th>Item Name</th>\n",
       "      <th>Price</th>\n",
       "    </tr>\n",
       "  </thead>\n",
       "  <tbody>\n",
       "    <tr>\n",
       "      <th>0</th>\n",
       "      <td>0</td>\n",
       "      <td>Lisim78</td>\n",
       "      <td>20</td>\n",
       "      <td>Male</td>\n",
       "      <td>108</td>\n",
       "      <td>Extraction, Quickblade Of Trembling Hands</td>\n",
       "      <td>3.53</td>\n",
       "    </tr>\n",
       "    <tr>\n",
       "      <th>1</th>\n",
       "      <td>1</td>\n",
       "      <td>Lisovynya38</td>\n",
       "      <td>40</td>\n",
       "      <td>Male</td>\n",
       "      <td>143</td>\n",
       "      <td>Frenzied Scimitar</td>\n",
       "      <td>1.56</td>\n",
       "    </tr>\n",
       "    <tr>\n",
       "      <th>2</th>\n",
       "      <td>2</td>\n",
       "      <td>Ithergue48</td>\n",
       "      <td>24</td>\n",
       "      <td>Male</td>\n",
       "      <td>92</td>\n",
       "      <td>Final Critic</td>\n",
       "      <td>4.88</td>\n",
       "    </tr>\n",
       "    <tr>\n",
       "      <th>3</th>\n",
       "      <td>3</td>\n",
       "      <td>Chamassasya86</td>\n",
       "      <td>24</td>\n",
       "      <td>Male</td>\n",
       "      <td>100</td>\n",
       "      <td>Blindscythe</td>\n",
       "      <td>3.27</td>\n",
       "    </tr>\n",
       "    <tr>\n",
       "      <th>4</th>\n",
       "      <td>4</td>\n",
       "      <td>Iskosia90</td>\n",
       "      <td>23</td>\n",
       "      <td>Male</td>\n",
       "      <td>131</td>\n",
       "      <td>Fury</td>\n",
       "      <td>1.44</td>\n",
       "    </tr>\n",
       "  </tbody>\n",
       "</table>\n",
       "</div>"
      ],
      "text/plain": [
       "   Purchase ID             SN  Age Gender  Item ID  \\\n",
       "0            0        Lisim78   20   Male      108   \n",
       "1            1    Lisovynya38   40   Male      143   \n",
       "2            2     Ithergue48   24   Male       92   \n",
       "3            3  Chamassasya86   24   Male      100   \n",
       "4            4      Iskosia90   23   Male      131   \n",
       "\n",
       "                                   Item Name  Price  \n",
       "0  Extraction, Quickblade Of Trembling Hands   3.53  \n",
       "1                          Frenzied Scimitar   1.56  \n",
       "2                               Final Critic   4.88  \n",
       "3                                Blindscythe   3.27  \n",
       "4                                       Fury   1.44  "
      ]
     },
     "execution_count": 20,
     "metadata": {},
     "output_type": "execute_result"
    }
   ],
   "source": [
    "df=pd.read_csv('purchase_data.csv')\n",
    "df.head()"
   ]
  },
  {
   "cell_type": "code",
   "execution_count": 21,
   "id": "44e10ec6-21d6-43ce-a61c-eb7b1f3d51e0",
   "metadata": {},
   "outputs": [
    {
     "name": "stdout",
     "output_type": "stream",
     "text": [
      "<class 'pandas.core.frame.DataFrame'>\n",
      "RangeIndex: 780 entries, 0 to 779\n",
      "Data columns (total 7 columns):\n",
      " #   Column       Non-Null Count  Dtype  \n",
      "---  ------       --------------  -----  \n",
      " 0   Purchase ID  780 non-null    int64  \n",
      " 1   SN           780 non-null    object \n",
      " 2   Age          780 non-null    int64  \n",
      " 3   Gender       780 non-null    object \n",
      " 4   Item ID      780 non-null    int64  \n",
      " 5   Item Name    780 non-null    object \n",
      " 6   Price        780 non-null    float64\n",
      "dtypes: float64(1), int64(3), object(3)\n",
      "memory usage: 42.8+ KB\n"
     ]
    }
   ],
   "source": [
    "df.info()"
   ]
  },
  {
   "cell_type": "code",
   "execution_count": 22,
   "id": "4ebe46e3-da5d-4235-b95a-5b00cc76851d",
   "metadata": {},
   "outputs": [
    {
     "data": {
      "text/plain": [
       "780"
      ]
     },
     "execution_count": 22,
     "metadata": {},
     "output_type": "execute_result"
    }
   ],
   "source": [
    "df['SN'].count()"
   ]
  },
  {
   "cell_type": "markdown",
   "id": "3382485b-6d71-4411-b413-ab27acbe4b4e",
   "metadata": {},
   "source": [
    "#### 2. Purchasing Analysis (Total)\n",
    "    o Number of Unique Items\n",
    "    o Average Purchase Price\n",
    "    o Total Number of Purchases\n",
    "    o Total Revenue"
   ]
  },
  {
   "cell_type": "code",
   "execution_count": 24,
   "id": "ba817664-acc2-4182-90b6-1aa1b1f79e2b",
   "metadata": {},
   "outputs": [
    {
     "name": "stdout",
     "output_type": "stream",
     "text": [
      "Number of Unique Items: 179\n"
     ]
    }
   ],
   "source": [
    "print(f'Number of Unique Items: {df['Item Name'].nunique()}')"
   ]
  },
  {
   "cell_type": "code",
   "execution_count": 25,
   "id": "cf0e130a-8361-4343-b1e4-1f0c897405fc",
   "metadata": {},
   "outputs": [
    {
     "name": "stdout",
     "output_type": "stream",
     "text": [
      "Average purchase price: 3.0509871794871795\n"
     ]
    }
   ],
   "source": [
    "print(f'Average purchase price: {df['Price'].mean()}')"
   ]
  },
  {
   "cell_type": "code",
   "execution_count": 26,
   "id": "a94934c9-37a2-472a-8ab5-a87f5551b463",
   "metadata": {},
   "outputs": [
    {
     "name": "stdout",
     "output_type": "stream",
     "text": [
      "Total number of Purchases: 780\n"
     ]
    }
   ],
   "source": [
    "print(f'Total number of Purchases: {len(df)}')"
   ]
  },
  {
   "cell_type": "code",
   "execution_count": 27,
   "id": "746bade3-2a2d-4260-bbda-ef62e7d0c59a",
   "metadata": {},
   "outputs": [
    {
     "name": "stdout",
     "output_type": "stream",
     "text": [
      "Total Revenue: 2379.77\n"
     ]
    }
   ],
   "source": [
    "print(f'Total Revenue: {df['Price'].sum()}')"
   ]
  },
  {
   "cell_type": "markdown",
   "id": "506394b8-a0aa-48d9-97fd-186e6e1b8a4b",
   "metadata": {},
   "source": [
    "#### 3. Gender Demographics\n",
    "    o Percentage and Count of Male Players\n",
    "    o Percentage and Count of Female Players\n",
    "    o Percentage and Count of Other / Non-Disclosedsedsed"
   ]
  },
  {
   "cell_type": "code",
   "execution_count": 29,
   "id": "44f4ed2a-6d97-416e-b8e5-fce89eb04876",
   "metadata": {},
   "outputs": [
    {
     "name": "stdout",
     "output_type": "stream",
     "text": [
      "Number of Male Players:  652\n",
      "Percentage of Male Players:  83.58974358974359\n"
     ]
    }
   ],
   "source": [
    "nOfMale=df[df['Gender']=='Male'].shape[0]\n",
    "totalPlayer=df.shape[0]\n",
    "print('Number of Male Players: ',nOfMale)\n",
    "print('Percentage of Male Players: ', nOfMale/totalPlayer*100)"
   ]
  },
  {
   "cell_type": "code",
   "execution_count": 30,
   "id": "3fe08172-3486-4d17-9292-2daddb258df3",
   "metadata": {},
   "outputs": [
    {
     "name": "stdout",
     "output_type": "stream",
     "text": [
      "Number of Female Players:  113\n",
      "Percentage of Female Players:  14.487179487179489\n"
     ]
    }
   ],
   "source": [
    "nOfFemale=df[df['Gender']=='Female'].shape[0]\n",
    "print(\"Number of Female Players: \",nOfFemale)\n",
    "print('Percentage of Female Players: ', nOfFemale/totalPlayer*100)"
   ]
  },
  {
   "cell_type": "code",
   "execution_count": 31,
   "id": "77c69023-6997-4c9e-90f4-ae23a5b6e230",
   "metadata": {},
   "outputs": [
    {
     "name": "stdout",
     "output_type": "stream",
     "text": [
      "Number of Female Players:  15\n",
      "Percentage of Female Players:  1.9230769230769231\n"
     ]
    }
   ],
   "source": [
    "nOfOthers=df[(df['Gender']!='Male') & (df['Gender']!='Female')].shape[0]\n",
    "print(\"Number of Female Players: \",nOfOthers)\n",
    "print('Percentage of Female Players: ', nOfOthers/totalPlayer*100)"
   ]
  },
  {
   "cell_type": "markdown",
   "id": "94c1aed0-f6e3-4039-ab7d-5b8dedd317c2",
   "metadata": {},
   "source": [
    "#### 4. Purchasing Analysis (Gender)\n",
    "    o The below each broken by gender\n",
    "         Purchase Count\n",
    "         Average Purchase Price\n",
    "         Total Purchase Value\n",
    "         Average Purchase Total per Person by Gender"
   ]
  },
  {
   "cell_type": "code",
   "execution_count": 33,
   "id": "9cae4e5c-3667-4709-8ae8-040bc658bb55",
   "metadata": {},
   "outputs": [
    {
     "name": "stdout",
     "output_type": "stream",
     "text": [
      "                       Purchase Count  Average Purchase Price  \\\n",
      "Gender                                                          \n",
      "Female                            113                3.203009   \n",
      "Male                              652                3.017853   \n",
      "Other / Non-Disclosed              15                3.346000   \n",
      "\n",
      "                       Total Purchase Value  Average Purchase Total per Person  \n",
      "Gender                                                                          \n",
      "Female                               361.94                           4.468395  \n",
      "Male                                1967.64                           4.065372  \n",
      "Other / Non-Disclosed                 50.19                           4.562727  \n"
     ]
    }
   ],
   "source": [
    "grouped = df.groupby('Gender')\n",
    "\n",
    "purchase_count = grouped['Price'].count()\n",
    "average_purchase_price = grouped['Price'].mean()\n",
    "total_purchase_value = grouped['Price'].sum()\n",
    "\n",
    "unique_users = grouped['SN'].nunique()  \n",
    "average_purchase_per_person = total_purchase_value / unique_users\n",
    "\n",
    "#Final required dataframe\n",
    "purchasing_analysis = pd.DataFrame({\n",
    "    'Purchase Count': purchase_count,\n",
    "    'Average Purchase Price': average_purchase_price,\n",
    "    'Total Purchase Value': total_purchase_value,\n",
    "    'Average Purchase Total per Person': average_purchase_per_person\n",
    "})\n",
    "\n",
    "print(purchasing_analysis)"
   ]
  },
  {
   "cell_type": "markdown",
   "id": "b772a6d0-7e79-427e-a776-df5e2484af03",
   "metadata": {},
   "source": [
    "#### 5. Age Demographics\n",
    "    o The below each broken into bins of 4 years (i.e. <10, 10-14, 15-19, etc.)\n",
    "         Purchase Count\n",
    "         Average Purchase Price\n",
    "         Total Purchase Value\n",
    "         Average Purchase Total per Person by Age Group"
   ]
  },
  {
   "cell_type": "code",
   "execution_count": 35,
   "id": "835a9bae-653c-4264-9b1f-52b6c12708ff",
   "metadata": {},
   "outputs": [],
   "source": [
    "bins = [-1, 9, 14, 19, 24, 29, 34, 39, 44, 100]\n",
    "labels = ['<10', '10-14', '15-19', '20-24', '25-29', '30-34', '35-39', '40-44', '45+']"
   ]
  },
  {
   "cell_type": "code",
   "execution_count": 36,
   "id": "d16bef08-556d-4a01-95ac-c7d29be8f61f",
   "metadata": {},
   "outputs": [
    {
     "name": "stdout",
     "output_type": "stream",
     "text": [
      "           Purchase Count  Average Purchase Price  Total Purchase Value  \\\n",
      "Age Group                                                                 \n",
      "<10                    23                3.353478                 77.13   \n",
      "10-14                  28                2.956429                 82.78   \n",
      "15-19                 136                3.035956                412.89   \n",
      "20-24                 365                3.052219               1114.06   \n",
      "25-29                 101                2.900990                293.00   \n",
      "30-34                  73                2.931507                214.00   \n",
      "35-39                  41                3.601707                147.67   \n",
      "40-44                  12                3.045000                 36.54   \n",
      "45+                     1                1.700000                  1.70   \n",
      "\n",
      "           Average Purchase Per Person  \n",
      "Age Group                               \n",
      "<10                           4.537059  \n",
      "10-14                         3.762727  \n",
      "15-19                         3.858785  \n",
      "20-24                         4.318062  \n",
      "25-29                         3.805195  \n",
      "30-34                         4.115385  \n",
      "35-39                         4.763548  \n",
      "40-44                         3.321818  \n",
      "45+                           1.700000  \n"
     ]
    }
   ],
   "source": [
    "df['Age Group'] = pd.cut(df['Age'], bins=bins , labels=labels)\n",
    "grouped=df.groupby('Age Group', observed=True)\n",
    "purchase_Count=grouped['Price'].count()\n",
    "average_purchase_price=grouped['Price'].mean()\n",
    "total_purchase_value = grouped['Price'].sum()\n",
    "\n",
    "unique_users=grouped['SN'].nunique()\n",
    "average_purchase_per_person = total_purchase_value / unique_users\n",
    "\n",
    "Age_Demographics=pd.DataFrame({'Purchase Count':purchase_Count, \n",
    "                               'Average Purchase Price':average_purchase_price, \n",
    "                               'Total Purchase Value':total_purchase_value,\n",
    "                               'Average Purchase Per Person':average_purchase_per_person})\n",
    "print(Age_Demographics)"
   ]
  },
  {
   "cell_type": "markdown",
   "id": "e0ae5b57-139f-41c7-8b25-9abab85b3508",
   "metadata": {},
   "source": [
    "#### 6. Top Spenders\n",
    "o Identify the the top 5 spenders in the game by total purchase value, then list (in a\n",
    "table):\n",
    "\n",
    "     SN\n",
    "     Purchase Count\n",
    "     Average Purchase Price\n",
    "     Total Purchase Value"
   ]
  },
  {
   "cell_type": "code",
   "execution_count": 38,
   "id": "13ccc63b-84f4-469d-8cd4-b4eb49846aa4",
   "metadata": {},
   "outputs": [],
   "source": [
    "# df2=df.groupby('SN')['Price'].sum()"
   ]
  },
  {
   "cell_type": "code",
   "execution_count": 39,
   "id": "a88da65e-45d9-4868-a31f-96a6f790ce97",
   "metadata": {},
   "outputs": [],
   "source": [
    "df3 = df.groupby('SN').agg({'Price': ['sum', 'count', 'mean']})"
   ]
  },
  {
   "cell_type": "code",
   "execution_count": 40,
   "id": "836a59da-1038-4a55-b434-db75ee3ba4ed",
   "metadata": {},
   "outputs": [
    {
     "data": {
      "text/html": [
       "<div>\n",
       "<style scoped>\n",
       "    .dataframe tbody tr th:only-of-type {\n",
       "        vertical-align: middle;\n",
       "    }\n",
       "\n",
       "    .dataframe tbody tr th {\n",
       "        vertical-align: top;\n",
       "    }\n",
       "\n",
       "    .dataframe thead th {\n",
       "        text-align: right;\n",
       "    }\n",
       "</style>\n",
       "<table border=\"1\" class=\"dataframe\">\n",
       "  <thead>\n",
       "    <tr style=\"text-align: right;\">\n",
       "      <th></th>\n",
       "      <th>SN</th>\n",
       "      <th>price_sum</th>\n",
       "      <th>total_count</th>\n",
       "      <th>price_avg</th>\n",
       "    </tr>\n",
       "  </thead>\n",
       "  <tbody>\n",
       "    <tr>\n",
       "      <th>0</th>\n",
       "      <td>Adairialis76</td>\n",
       "      <td>2.28</td>\n",
       "      <td>1</td>\n",
       "      <td>2.280000</td>\n",
       "    </tr>\n",
       "    <tr>\n",
       "      <th>1</th>\n",
       "      <td>Adastirin33</td>\n",
       "      <td>4.48</td>\n",
       "      <td>1</td>\n",
       "      <td>4.480000</td>\n",
       "    </tr>\n",
       "    <tr>\n",
       "      <th>2</th>\n",
       "      <td>Aeda94</td>\n",
       "      <td>4.91</td>\n",
       "      <td>1</td>\n",
       "      <td>4.910000</td>\n",
       "    </tr>\n",
       "    <tr>\n",
       "      <th>3</th>\n",
       "      <td>Aela59</td>\n",
       "      <td>4.32</td>\n",
       "      <td>1</td>\n",
       "      <td>4.320000</td>\n",
       "    </tr>\n",
       "    <tr>\n",
       "      <th>4</th>\n",
       "      <td>Aelaria33</td>\n",
       "      <td>1.79</td>\n",
       "      <td>1</td>\n",
       "      <td>1.790000</td>\n",
       "    </tr>\n",
       "    <tr>\n",
       "      <th>...</th>\n",
       "      <td>...</td>\n",
       "      <td>...</td>\n",
       "      <td>...</td>\n",
       "      <td>...</td>\n",
       "    </tr>\n",
       "    <tr>\n",
       "      <th>571</th>\n",
       "      <td>Yathecal82</td>\n",
       "      <td>6.22</td>\n",
       "      <td>3</td>\n",
       "      <td>2.073333</td>\n",
       "    </tr>\n",
       "    <tr>\n",
       "      <th>572</th>\n",
       "      <td>Yathedeu43</td>\n",
       "      <td>6.02</td>\n",
       "      <td>2</td>\n",
       "      <td>3.010000</td>\n",
       "    </tr>\n",
       "    <tr>\n",
       "      <th>573</th>\n",
       "      <td>Yoishirrala98</td>\n",
       "      <td>4.58</td>\n",
       "      <td>1</td>\n",
       "      <td>4.580000</td>\n",
       "    </tr>\n",
       "    <tr>\n",
       "      <th>574</th>\n",
       "      <td>Zhisrisu83</td>\n",
       "      <td>7.89</td>\n",
       "      <td>2</td>\n",
       "      <td>3.945000</td>\n",
       "    </tr>\n",
       "    <tr>\n",
       "      <th>575</th>\n",
       "      <td>Zontibe81</td>\n",
       "      <td>8.03</td>\n",
       "      <td>3</td>\n",
       "      <td>2.676667</td>\n",
       "    </tr>\n",
       "  </tbody>\n",
       "</table>\n",
       "<p>576 rows × 4 columns</p>\n",
       "</div>"
      ],
      "text/plain": [
       "                SN  price_sum  total_count  price_avg\n",
       "0     Adairialis76       2.28            1   2.280000\n",
       "1      Adastirin33       4.48            1   4.480000\n",
       "2           Aeda94       4.91            1   4.910000\n",
       "3           Aela59       4.32            1   4.320000\n",
       "4        Aelaria33       1.79            1   1.790000\n",
       "..             ...        ...          ...        ...\n",
       "571     Yathecal82       6.22            3   2.073333\n",
       "572     Yathedeu43       6.02            2   3.010000\n",
       "573  Yoishirrala98       4.58            1   4.580000\n",
       "574     Zhisrisu83       7.89            2   3.945000\n",
       "575      Zontibe81       8.03            3   2.676667\n",
       "\n",
       "[576 rows x 4 columns]"
      ]
     },
     "execution_count": 40,
     "metadata": {},
     "output_type": "execute_result"
    }
   ],
   "source": [
    "df3 = df3.reset_index()\n",
    "df3.columns = ['SN', 'price_sum', 'total_count', 'price_avg']\n",
    "df3"
   ]
  },
  {
   "cell_type": "code",
   "execution_count": 41,
   "id": "3e203876-d5f1-4e76-8557-4fb06813cf60",
   "metadata": {},
   "outputs": [],
   "source": [
    "df3 = df3.reset_index().sort_values(by = 'price_sum', ascending = False)"
   ]
  },
  {
   "cell_type": "code",
   "execution_count": 42,
   "id": "db7a36fd-ca3d-48c1-ad97-c68cb9635a9b",
   "metadata": {},
   "outputs": [
    {
     "data": {
      "text/html": [
       "<div>\n",
       "<style scoped>\n",
       "    .dataframe tbody tr th:only-of-type {\n",
       "        vertical-align: middle;\n",
       "    }\n",
       "\n",
       "    .dataframe tbody tr th {\n",
       "        vertical-align: top;\n",
       "    }\n",
       "\n",
       "    .dataframe thead th {\n",
       "        text-align: right;\n",
       "    }\n",
       "</style>\n",
       "<table border=\"1\" class=\"dataframe\">\n",
       "  <thead>\n",
       "    <tr style=\"text-align: right;\">\n",
       "      <th></th>\n",
       "      <th>index</th>\n",
       "      <th>SN</th>\n",
       "      <th>price_sum</th>\n",
       "      <th>total_count</th>\n",
       "      <th>price_avg</th>\n",
       "    </tr>\n",
       "  </thead>\n",
       "  <tbody>\n",
       "    <tr>\n",
       "      <th>360</th>\n",
       "      <td>360</td>\n",
       "      <td>Lisosia93</td>\n",
       "      <td>18.96</td>\n",
       "      <td>5</td>\n",
       "      <td>3.792000</td>\n",
       "    </tr>\n",
       "    <tr>\n",
       "      <th>246</th>\n",
       "      <td>246</td>\n",
       "      <td>Idastidru52</td>\n",
       "      <td>15.45</td>\n",
       "      <td>4</td>\n",
       "      <td>3.862500</td>\n",
       "    </tr>\n",
       "    <tr>\n",
       "      <th>106</th>\n",
       "      <td>106</td>\n",
       "      <td>Chamjask73</td>\n",
       "      <td>13.83</td>\n",
       "      <td>3</td>\n",
       "      <td>4.610000</td>\n",
       "    </tr>\n",
       "    <tr>\n",
       "      <th>275</th>\n",
       "      <td>275</td>\n",
       "      <td>Iral74</td>\n",
       "      <td>13.62</td>\n",
       "      <td>4</td>\n",
       "      <td>3.405000</td>\n",
       "    </tr>\n",
       "    <tr>\n",
       "      <th>281</th>\n",
       "      <td>281</td>\n",
       "      <td>Iskadarya95</td>\n",
       "      <td>13.10</td>\n",
       "      <td>3</td>\n",
       "      <td>4.366667</td>\n",
       "    </tr>\n",
       "  </tbody>\n",
       "</table>\n",
       "</div>"
      ],
      "text/plain": [
       "     index           SN  price_sum  total_count  price_avg\n",
       "360    360    Lisosia93      18.96            5   3.792000\n",
       "246    246  Idastidru52      15.45            4   3.862500\n",
       "106    106   Chamjask73      13.83            3   4.610000\n",
       "275    275       Iral74      13.62            4   3.405000\n",
       "281    281  Iskadarya95      13.10            3   4.366667"
      ]
     },
     "execution_count": 42,
     "metadata": {},
     "output_type": "execute_result"
    }
   ],
   "source": [
    "df3.head(5)"
   ]
  },
  {
   "cell_type": "markdown",
   "id": "c6ac8829-8574-4cee-ae86-dc9b1ee8b023",
   "metadata": {},
   "source": [
    "#### 7. Most Popular Items\n",
    "    o Identify the 5 most popular items by purchase count, then list (in a table):\n",
    "         Item ID\n",
    "         Item Name\n",
    "         Purchase Count\n",
    "         Item Price\n",
    "         Total Purchase Value"
   ]
  },
  {
   "cell_type": "code",
   "execution_count": 44,
   "id": "ae2c2c3a-58aa-4751-82bd-628790e4be96",
   "metadata": {},
   "outputs": [],
   "source": [
    "item_summary = df.groupby(['Item ID', 'Item Name', 'Price']).agg(\n",
    "    Purchase_Count=('Price', 'count'),\n",
    "    Total_Purchase_Value=('Price', 'sum')\n",
    ").reset_index()"
   ]
  },
  {
   "cell_type": "code",
   "execution_count": 45,
   "id": "94d1ac3d-31bb-4a24-b817-646725ef662e",
   "metadata": {},
   "outputs": [
    {
     "data": {
      "text/html": [
       "<div>\n",
       "<style scoped>\n",
       "    .dataframe tbody tr th:only-of-type {\n",
       "        vertical-align: middle;\n",
       "    }\n",
       "\n",
       "    .dataframe tbody tr th {\n",
       "        vertical-align: top;\n",
       "    }\n",
       "\n",
       "    .dataframe thead th {\n",
       "        text-align: right;\n",
       "    }\n",
       "</style>\n",
       "<table border=\"1\" class=\"dataframe\">\n",
       "  <thead>\n",
       "    <tr style=\"text-align: right;\">\n",
       "      <th></th>\n",
       "      <th>Item ID</th>\n",
       "      <th>Item Name</th>\n",
       "      <th>Price</th>\n",
       "      <th>Purchase_Count</th>\n",
       "      <th>Total_Purchase_Value</th>\n",
       "    </tr>\n",
       "  </thead>\n",
       "  <tbody>\n",
       "    <tr>\n",
       "      <th>177</th>\n",
       "      <td>178</td>\n",
       "      <td>Oathbreaker, Last Hope of the Breaking Storm</td>\n",
       "      <td>4.23</td>\n",
       "      <td>12</td>\n",
       "      <td>50.76</td>\n",
       "    </tr>\n",
       "    <tr>\n",
       "      <th>144</th>\n",
       "      <td>145</td>\n",
       "      <td>Fiery Glass Crusader</td>\n",
       "      <td>4.58</td>\n",
       "      <td>9</td>\n",
       "      <td>41.22</td>\n",
       "    </tr>\n",
       "    <tr>\n",
       "      <th>107</th>\n",
       "      <td>108</td>\n",
       "      <td>Extraction, Quickblade Of Trembling Hands</td>\n",
       "      <td>3.53</td>\n",
       "      <td>9</td>\n",
       "      <td>31.77</td>\n",
       "    </tr>\n",
       "    <tr>\n",
       "      <th>81</th>\n",
       "      <td>82</td>\n",
       "      <td>Nirvana</td>\n",
       "      <td>4.90</td>\n",
       "      <td>9</td>\n",
       "      <td>44.10</td>\n",
       "    </tr>\n",
       "    <tr>\n",
       "      <th>19</th>\n",
       "      <td>19</td>\n",
       "      <td>Pursuit, Cudgel of Necromancy</td>\n",
       "      <td>1.02</td>\n",
       "      <td>8</td>\n",
       "      <td>8.16</td>\n",
       "    </tr>\n",
       "  </tbody>\n",
       "</table>\n",
       "</div>"
      ],
      "text/plain": [
       "     Item ID                                     Item Name  Price  \\\n",
       "177      178  Oathbreaker, Last Hope of the Breaking Storm   4.23   \n",
       "144      145                          Fiery Glass Crusader   4.58   \n",
       "107      108     Extraction, Quickblade Of Trembling Hands   3.53   \n",
       "81        82                                       Nirvana   4.90   \n",
       "19        19                 Pursuit, Cudgel of Necromancy   1.02   \n",
       "\n",
       "     Purchase_Count  Total_Purchase_Value  \n",
       "177              12                 50.76  \n",
       "144               9                 41.22  \n",
       "107               9                 31.77  \n",
       "81                9                 44.10  \n",
       "19                8                  8.16  "
      ]
     },
     "execution_count": 45,
     "metadata": {},
     "output_type": "execute_result"
    }
   ],
   "source": [
    "item_summary.sort_values(by = 'Purchase_Count', ascending = False).head()"
   ]
  },
  {
   "cell_type": "code",
   "execution_count": 46,
   "id": "3f1f9760-34e5-4957-a8b2-d614d2cae27e",
   "metadata": {},
   "outputs": [
    {
     "data": {
      "text/html": [
       "<div>\n",
       "<style scoped>\n",
       "    .dataframe tbody tr th:only-of-type {\n",
       "        vertical-align: middle;\n",
       "    }\n",
       "\n",
       "    .dataframe tbody tr th {\n",
       "        vertical-align: top;\n",
       "    }\n",
       "\n",
       "    .dataframe thead th {\n",
       "        text-align: right;\n",
       "    }\n",
       "</style>\n",
       "<table border=\"1\" class=\"dataframe\">\n",
       "  <thead>\n",
       "    <tr style=\"text-align: right;\">\n",
       "      <th></th>\n",
       "      <th>Purchase ID</th>\n",
       "      <th>SN</th>\n",
       "      <th>Age</th>\n",
       "      <th>Gender</th>\n",
       "      <th>Item ID</th>\n",
       "      <th>Item Name</th>\n",
       "      <th>Price</th>\n",
       "      <th>Age Group</th>\n",
       "    </tr>\n",
       "  </thead>\n",
       "  <tbody>\n",
       "    <tr>\n",
       "      <th>0</th>\n",
       "      <td>0</td>\n",
       "      <td>Lisim78</td>\n",
       "      <td>20</td>\n",
       "      <td>Male</td>\n",
       "      <td>108</td>\n",
       "      <td>Extraction, Quickblade Of Trembling Hands</td>\n",
       "      <td>3.53</td>\n",
       "      <td>20-24</td>\n",
       "    </tr>\n",
       "    <tr>\n",
       "      <th>1</th>\n",
       "      <td>1</td>\n",
       "      <td>Lisovynya38</td>\n",
       "      <td>40</td>\n",
       "      <td>Male</td>\n",
       "      <td>143</td>\n",
       "      <td>Frenzied Scimitar</td>\n",
       "      <td>1.56</td>\n",
       "      <td>40-44</td>\n",
       "    </tr>\n",
       "    <tr>\n",
       "      <th>2</th>\n",
       "      <td>2</td>\n",
       "      <td>Ithergue48</td>\n",
       "      <td>24</td>\n",
       "      <td>Male</td>\n",
       "      <td>92</td>\n",
       "      <td>Final Critic</td>\n",
       "      <td>4.88</td>\n",
       "      <td>20-24</td>\n",
       "    </tr>\n",
       "    <tr>\n",
       "      <th>3</th>\n",
       "      <td>3</td>\n",
       "      <td>Chamassasya86</td>\n",
       "      <td>24</td>\n",
       "      <td>Male</td>\n",
       "      <td>100</td>\n",
       "      <td>Blindscythe</td>\n",
       "      <td>3.27</td>\n",
       "      <td>20-24</td>\n",
       "    </tr>\n",
       "    <tr>\n",
       "      <th>4</th>\n",
       "      <td>4</td>\n",
       "      <td>Iskosia90</td>\n",
       "      <td>23</td>\n",
       "      <td>Male</td>\n",
       "      <td>131</td>\n",
       "      <td>Fury</td>\n",
       "      <td>1.44</td>\n",
       "      <td>20-24</td>\n",
       "    </tr>\n",
       "  </tbody>\n",
       "</table>\n",
       "</div>"
      ],
      "text/plain": [
       "   Purchase ID             SN  Age Gender  Item ID  \\\n",
       "0            0        Lisim78   20   Male      108   \n",
       "1            1    Lisovynya38   40   Male      143   \n",
       "2            2     Ithergue48   24   Male       92   \n",
       "3            3  Chamassasya86   24   Male      100   \n",
       "4            4      Iskosia90   23   Male      131   \n",
       "\n",
       "                                   Item Name  Price Age Group  \n",
       "0  Extraction, Quickblade Of Trembling Hands   3.53     20-24  \n",
       "1                          Frenzied Scimitar   1.56     40-44  \n",
       "2                               Final Critic   4.88     20-24  \n",
       "3                                Blindscythe   3.27     20-24  \n",
       "4                                       Fury   1.44     20-24  "
      ]
     },
     "execution_count": 46,
     "metadata": {},
     "output_type": "execute_result"
    }
   ],
   "source": [
    "df.head()"
   ]
  },
  {
   "cell_type": "markdown",
   "id": "25fd4153-128a-4fee-b192-babe3fb2255e",
   "metadata": {},
   "source": [
    "#### 8. Most Profitable Items\n",
    "    o the 5 most profitable items by total purchase value, then list (in a table):\n",
    "         Item ID\n",
    "         Item Name\n",
    "         Purchase Count\n",
    "         Item Price\n",
    "         Total Purchase Value"
   ]
  },
  {
   "cell_type": "code",
   "execution_count": 48,
   "id": "e0fa72c7-451e-4506-a1da-89c0a2934d34",
   "metadata": {},
   "outputs": [
    {
     "data": {
      "text/html": [
       "<div>\n",
       "<style scoped>\n",
       "    .dataframe tbody tr th:only-of-type {\n",
       "        vertical-align: middle;\n",
       "    }\n",
       "\n",
       "    .dataframe tbody tr th {\n",
       "        vertical-align: top;\n",
       "    }\n",
       "\n",
       "    .dataframe thead th {\n",
       "        text-align: right;\n",
       "    }\n",
       "</style>\n",
       "<table border=\"1\" class=\"dataframe\">\n",
       "  <thead>\n",
       "    <tr style=\"text-align: right;\">\n",
       "      <th></th>\n",
       "      <th>Item ID</th>\n",
       "      <th>Item Name</th>\n",
       "      <th>Purchase_Count</th>\n",
       "      <th>Price</th>\n",
       "      <th>Total_Purchase_Value</th>\n",
       "    </tr>\n",
       "  </thead>\n",
       "  <tbody>\n",
       "    <tr>\n",
       "      <th>177</th>\n",
       "      <td>178</td>\n",
       "      <td>Oathbreaker, Last Hope of the Breaking Storm</td>\n",
       "      <td>12</td>\n",
       "      <td>4.23</td>\n",
       "      <td>50.76</td>\n",
       "    </tr>\n",
       "    <tr>\n",
       "      <th>81</th>\n",
       "      <td>82</td>\n",
       "      <td>Nirvana</td>\n",
       "      <td>9</td>\n",
       "      <td>4.90</td>\n",
       "      <td>44.10</td>\n",
       "    </tr>\n",
       "    <tr>\n",
       "      <th>144</th>\n",
       "      <td>145</td>\n",
       "      <td>Fiery Glass Crusader</td>\n",
       "      <td>9</td>\n",
       "      <td>4.58</td>\n",
       "      <td>41.22</td>\n",
       "    </tr>\n",
       "    <tr>\n",
       "      <th>91</th>\n",
       "      <td>92</td>\n",
       "      <td>Final Critic</td>\n",
       "      <td>8</td>\n",
       "      <td>4.88</td>\n",
       "      <td>39.04</td>\n",
       "    </tr>\n",
       "    <tr>\n",
       "      <th>102</th>\n",
       "      <td>103</td>\n",
       "      <td>Singed Scalpel</td>\n",
       "      <td>8</td>\n",
       "      <td>4.35</td>\n",
       "      <td>34.80</td>\n",
       "    </tr>\n",
       "  </tbody>\n",
       "</table>\n",
       "</div>"
      ],
      "text/plain": [
       "     Item ID                                     Item Name  Purchase_Count  \\\n",
       "177      178  Oathbreaker, Last Hope of the Breaking Storm              12   \n",
       "81        82                                       Nirvana               9   \n",
       "144      145                          Fiery Glass Crusader               9   \n",
       "91        92                                  Final Critic               8   \n",
       "102      103                                Singed Scalpel               8   \n",
       "\n",
       "     Price  Total_Purchase_Value  \n",
       "177   4.23                 50.76  \n",
       "81    4.90                 44.10  \n",
       "144   4.58                 41.22  \n",
       "91    4.88                 39.04  \n",
       "102   4.35                 34.80  "
      ]
     },
     "execution_count": 48,
     "metadata": {},
     "output_type": "execute_result"
    }
   ],
   "source": [
    "item_summary = df.groupby(['Item ID', 'Item Name', 'Price']).agg(\n",
    "    Purchase_Count=('Price', 'count'),\n",
    "    Total_Purchase_Value=('Price', 'sum')\n",
    ").reset_index()\n",
    "\n",
    "top_profitable_items = item_summary.sort_values(by='Total_Purchase_Value', ascending=False).head(5)\n",
    "top_profitable_items[['Item ID', 'Item Name', 'Purchase_Count', 'Price', 'Total_Purchase_Value']]\n"
   ]
  },
  {
   "cell_type": "markdown",
   "id": "dd9acbe8-bd67-4af1-8374-3281ce6effe8",
   "metadata": {},
   "source": [
    "## Q3 Fuel economy data are the result of vehicle testing done at the Environmental Protection Agency's National Vehicle and Fuel Emissions Laboratory in Ann Arbor,Michigan, and by vehicle manufacturers with oversight by EPA."
   ]
  },
  {
   "cell_type": "code",
   "execution_count": 50,
   "id": "ffe0a42c-ff50-4d14-bafc-734522ebab0b",
   "metadata": {},
   "outputs": [],
   "source": [
    "df=pd.read_csv('all_alpha_08.csv')"
   ]
  },
  {
   "cell_type": "code",
   "execution_count": 51,
   "id": "6d32466d-620f-4a1b-ab1d-e9104b50736c",
   "metadata": {},
   "outputs": [
    {
     "data": {
      "text/html": [
       "<div>\n",
       "<style scoped>\n",
       "    .dataframe tbody tr th:only-of-type {\n",
       "        vertical-align: middle;\n",
       "    }\n",
       "\n",
       "    .dataframe tbody tr th {\n",
       "        vertical-align: top;\n",
       "    }\n",
       "\n",
       "    .dataframe thead th {\n",
       "        text-align: right;\n",
       "    }\n",
       "</style>\n",
       "<table border=\"1\" class=\"dataframe\">\n",
       "  <thead>\n",
       "    <tr style=\"text-align: right;\">\n",
       "      <th></th>\n",
       "      <th>Model</th>\n",
       "      <th>Displ</th>\n",
       "      <th>Cyl</th>\n",
       "      <th>Trans</th>\n",
       "      <th>Drive</th>\n",
       "      <th>Fuel</th>\n",
       "      <th>Sales Area</th>\n",
       "      <th>Stnd</th>\n",
       "      <th>Underhood ID</th>\n",
       "      <th>Veh Class</th>\n",
       "      <th>Air Pollution Score</th>\n",
       "      <th>FE Calc Appr</th>\n",
       "      <th>City MPG</th>\n",
       "      <th>Hwy MPG</th>\n",
       "      <th>Cmb MPG</th>\n",
       "      <th>Unadj Cmb MPG</th>\n",
       "      <th>Greenhouse Gas Score</th>\n",
       "      <th>SmartWay</th>\n",
       "    </tr>\n",
       "  </thead>\n",
       "  <tbody>\n",
       "    <tr>\n",
       "      <th>0</th>\n",
       "      <td>ACURA MDX</td>\n",
       "      <td>3.7</td>\n",
       "      <td>(6 cyl)</td>\n",
       "      <td>Auto-S5</td>\n",
       "      <td>4WD</td>\n",
       "      <td>Gasoline</td>\n",
       "      <td>CA</td>\n",
       "      <td>U2</td>\n",
       "      <td>8HNXT03.7PKR</td>\n",
       "      <td>SUV</td>\n",
       "      <td>7</td>\n",
       "      <td>Drv</td>\n",
       "      <td>15</td>\n",
       "      <td>20</td>\n",
       "      <td>17</td>\n",
       "      <td>22.0527</td>\n",
       "      <td>4</td>\n",
       "      <td>no</td>\n",
       "    </tr>\n",
       "    <tr>\n",
       "      <th>1</th>\n",
       "      <td>ACURA MDX</td>\n",
       "      <td>3.7</td>\n",
       "      <td>(6 cyl)</td>\n",
       "      <td>Auto-S5</td>\n",
       "      <td>4WD</td>\n",
       "      <td>Gasoline</td>\n",
       "      <td>FA</td>\n",
       "      <td>B5</td>\n",
       "      <td>8HNXT03.7PKR</td>\n",
       "      <td>SUV</td>\n",
       "      <td>6</td>\n",
       "      <td>Drv</td>\n",
       "      <td>15</td>\n",
       "      <td>20</td>\n",
       "      <td>17</td>\n",
       "      <td>22.0527</td>\n",
       "      <td>4</td>\n",
       "      <td>no</td>\n",
       "    </tr>\n",
       "    <tr>\n",
       "      <th>2</th>\n",
       "      <td>ACURA RDX</td>\n",
       "      <td>2.3</td>\n",
       "      <td>(4 cyl)</td>\n",
       "      <td>Auto-S5</td>\n",
       "      <td>4WD</td>\n",
       "      <td>Gasoline</td>\n",
       "      <td>CA</td>\n",
       "      <td>U2</td>\n",
       "      <td>8HNXT02.3DKR</td>\n",
       "      <td>SUV</td>\n",
       "      <td>7</td>\n",
       "      <td>Drv</td>\n",
       "      <td>17</td>\n",
       "      <td>22</td>\n",
       "      <td>19</td>\n",
       "      <td>24.1745</td>\n",
       "      <td>5</td>\n",
       "      <td>no</td>\n",
       "    </tr>\n",
       "    <tr>\n",
       "      <th>3</th>\n",
       "      <td>ACURA RDX</td>\n",
       "      <td>2.3</td>\n",
       "      <td>(4 cyl)</td>\n",
       "      <td>Auto-S5</td>\n",
       "      <td>4WD</td>\n",
       "      <td>Gasoline</td>\n",
       "      <td>FA</td>\n",
       "      <td>B5</td>\n",
       "      <td>8HNXT02.3DKR</td>\n",
       "      <td>SUV</td>\n",
       "      <td>6</td>\n",
       "      <td>Drv</td>\n",
       "      <td>17</td>\n",
       "      <td>22</td>\n",
       "      <td>19</td>\n",
       "      <td>24.1745</td>\n",
       "      <td>5</td>\n",
       "      <td>no</td>\n",
       "    </tr>\n",
       "    <tr>\n",
       "      <th>4</th>\n",
       "      <td>ACURA RL</td>\n",
       "      <td>3.5</td>\n",
       "      <td>(6 cyl)</td>\n",
       "      <td>Auto-S5</td>\n",
       "      <td>4WD</td>\n",
       "      <td>Gasoline</td>\n",
       "      <td>CA</td>\n",
       "      <td>U2</td>\n",
       "      <td>8HNXV03.5HKR</td>\n",
       "      <td>midsize car</td>\n",
       "      <td>7</td>\n",
       "      <td>Drv</td>\n",
       "      <td>16</td>\n",
       "      <td>24</td>\n",
       "      <td>19</td>\n",
       "      <td>24.5629</td>\n",
       "      <td>5</td>\n",
       "      <td>no</td>\n",
       "    </tr>\n",
       "    <tr>\n",
       "      <th>...</th>\n",
       "      <td>...</td>\n",
       "      <td>...</td>\n",
       "      <td>...</td>\n",
       "      <td>...</td>\n",
       "      <td>...</td>\n",
       "      <td>...</td>\n",
       "      <td>...</td>\n",
       "      <td>...</td>\n",
       "      <td>...</td>\n",
       "      <td>...</td>\n",
       "      <td>...</td>\n",
       "      <td>...</td>\n",
       "      <td>...</td>\n",
       "      <td>...</td>\n",
       "      <td>...</td>\n",
       "      <td>...</td>\n",
       "      <td>...</td>\n",
       "      <td>...</td>\n",
       "    </tr>\n",
       "    <tr>\n",
       "      <th>2399</th>\n",
       "      <td>VOLVO XC 90</td>\n",
       "      <td>3.2</td>\n",
       "      <td>(6 cyl)</td>\n",
       "      <td>Auto-S6</td>\n",
       "      <td>4WD</td>\n",
       "      <td>Gasoline</td>\n",
       "      <td>CA</td>\n",
       "      <td>U2</td>\n",
       "      <td>8VVXB03.2U2N</td>\n",
       "      <td>SUV</td>\n",
       "      <td>7</td>\n",
       "      <td>Drv</td>\n",
       "      <td>14</td>\n",
       "      <td>20</td>\n",
       "      <td>16</td>\n",
       "      <td>20.7134</td>\n",
       "      <td>4</td>\n",
       "      <td>no</td>\n",
       "    </tr>\n",
       "    <tr>\n",
       "      <th>2400</th>\n",
       "      <td>VOLVO XC 90</td>\n",
       "      <td>4.4</td>\n",
       "      <td>(8 cyl)</td>\n",
       "      <td>Auto-S6</td>\n",
       "      <td>4WD</td>\n",
       "      <td>Gasoline</td>\n",
       "      <td>CA</td>\n",
       "      <td>U2</td>\n",
       "      <td>8VVXB04.4U2N</td>\n",
       "      <td>SUV</td>\n",
       "      <td>7</td>\n",
       "      <td>Drv</td>\n",
       "      <td>13</td>\n",
       "      <td>19</td>\n",
       "      <td>15</td>\n",
       "      <td>19.4789</td>\n",
       "      <td>3</td>\n",
       "      <td>no</td>\n",
       "    </tr>\n",
       "    <tr>\n",
       "      <th>2401</th>\n",
       "      <td>VOLVO XC 90</td>\n",
       "      <td>3.2</td>\n",
       "      <td>(6 cyl)</td>\n",
       "      <td>Auto-S6</td>\n",
       "      <td>2WD</td>\n",
       "      <td>Gasoline</td>\n",
       "      <td>FA</td>\n",
       "      <td>B5</td>\n",
       "      <td>8VVXB03.2U2N</td>\n",
       "      <td>SUV</td>\n",
       "      <td>6</td>\n",
       "      <td>Drv</td>\n",
       "      <td>14</td>\n",
       "      <td>20</td>\n",
       "      <td>16</td>\n",
       "      <td>20.9644</td>\n",
       "      <td>4</td>\n",
       "      <td>no</td>\n",
       "    </tr>\n",
       "    <tr>\n",
       "      <th>2402</th>\n",
       "      <td>VOLVO XC 90</td>\n",
       "      <td>3.2</td>\n",
       "      <td>(6 cyl)</td>\n",
       "      <td>Auto-S6</td>\n",
       "      <td>4WD</td>\n",
       "      <td>Gasoline</td>\n",
       "      <td>FA</td>\n",
       "      <td>B5</td>\n",
       "      <td>8VVXB03.2U2N</td>\n",
       "      <td>SUV</td>\n",
       "      <td>6</td>\n",
       "      <td>Drv</td>\n",
       "      <td>14</td>\n",
       "      <td>20</td>\n",
       "      <td>16</td>\n",
       "      <td>20.7134</td>\n",
       "      <td>4</td>\n",
       "      <td>no</td>\n",
       "    </tr>\n",
       "    <tr>\n",
       "      <th>2403</th>\n",
       "      <td>VOLVO XC 90</td>\n",
       "      <td>4.4</td>\n",
       "      <td>(8 cyl)</td>\n",
       "      <td>Auto-S6</td>\n",
       "      <td>4WD</td>\n",
       "      <td>Gasoline</td>\n",
       "      <td>FA</td>\n",
       "      <td>B5</td>\n",
       "      <td>8VVXB04.4U2N</td>\n",
       "      <td>SUV</td>\n",
       "      <td>6</td>\n",
       "      <td>Drv</td>\n",
       "      <td>13</td>\n",
       "      <td>19</td>\n",
       "      <td>15</td>\n",
       "      <td>19.4789</td>\n",
       "      <td>3</td>\n",
       "      <td>no</td>\n",
       "    </tr>\n",
       "  </tbody>\n",
       "</table>\n",
       "<p>2404 rows × 18 columns</p>\n",
       "</div>"
      ],
      "text/plain": [
       "            Model  Displ      Cyl    Trans Drive      Fuel Sales Area Stnd  \\\n",
       "0       ACURA MDX    3.7  (6 cyl)  Auto-S5   4WD  Gasoline         CA   U2   \n",
       "1       ACURA MDX    3.7  (6 cyl)  Auto-S5   4WD  Gasoline         FA   B5   \n",
       "2       ACURA RDX    2.3  (4 cyl)  Auto-S5   4WD  Gasoline         CA   U2   \n",
       "3       ACURA RDX    2.3  (4 cyl)  Auto-S5   4WD  Gasoline         FA   B5   \n",
       "4        ACURA RL    3.5  (6 cyl)  Auto-S5   4WD  Gasoline         CA   U2   \n",
       "...           ...    ...      ...      ...   ...       ...        ...  ...   \n",
       "2399  VOLVO XC 90    3.2  (6 cyl)  Auto-S6   4WD  Gasoline         CA   U2   \n",
       "2400  VOLVO XC 90    4.4  (8 cyl)  Auto-S6   4WD  Gasoline         CA   U2   \n",
       "2401  VOLVO XC 90    3.2  (6 cyl)  Auto-S6   2WD  Gasoline         FA   B5   \n",
       "2402  VOLVO XC 90    3.2  (6 cyl)  Auto-S6   4WD  Gasoline         FA   B5   \n",
       "2403  VOLVO XC 90    4.4  (8 cyl)  Auto-S6   4WD  Gasoline         FA   B5   \n",
       "\n",
       "      Underhood ID    Veh Class Air Pollution Score FE Calc Appr City MPG  \\\n",
       "0     8HNXT03.7PKR          SUV                   7          Drv       15   \n",
       "1     8HNXT03.7PKR          SUV                   6          Drv       15   \n",
       "2     8HNXT02.3DKR          SUV                   7          Drv       17   \n",
       "3     8HNXT02.3DKR          SUV                   6          Drv       17   \n",
       "4     8HNXV03.5HKR  midsize car                   7          Drv       16   \n",
       "...            ...          ...                 ...          ...      ...   \n",
       "2399  8VVXB03.2U2N          SUV                   7          Drv       14   \n",
       "2400  8VVXB04.4U2N          SUV                   7          Drv       13   \n",
       "2401  8VVXB03.2U2N          SUV                   6          Drv       14   \n",
       "2402  8VVXB03.2U2N          SUV                   6          Drv       14   \n",
       "2403  8VVXB04.4U2N          SUV                   6          Drv       13   \n",
       "\n",
       "     Hwy MPG Cmb MPG  Unadj Cmb MPG Greenhouse Gas Score SmartWay  \n",
       "0         20      17        22.0527                    4       no  \n",
       "1         20      17        22.0527                    4       no  \n",
       "2         22      19        24.1745                    5       no  \n",
       "3         22      19        24.1745                    5       no  \n",
       "4         24      19        24.5629                    5       no  \n",
       "...      ...     ...            ...                  ...      ...  \n",
       "2399      20      16        20.7134                    4       no  \n",
       "2400      19      15        19.4789                    3       no  \n",
       "2401      20      16        20.9644                    4       no  \n",
       "2402      20      16        20.7134                    4       no  \n",
       "2403      19      15        19.4789                    3       no  \n",
       "\n",
       "[2404 rows x 18 columns]"
      ]
     },
     "execution_count": 51,
     "metadata": {},
     "output_type": "execute_result"
    }
   ],
   "source": [
    "df"
   ]
  },
  {
   "cell_type": "code",
   "execution_count": 52,
   "id": "e2f23acb-908f-4b45-aae6-75b7e5eee888",
   "metadata": {},
   "outputs": [],
   "source": [
    "df['Cyl'] = df['Cyl'].astype(str)\n",
    "df['Cyl'] = df['Cyl'].str.extract('([0-9]+)')"
   ]
  },
  {
   "cell_type": "code",
   "execution_count": 53,
   "id": "2873497a-ccdf-40de-94c4-705c6b019f89",
   "metadata": {},
   "outputs": [
    {
     "data": {
      "text/html": [
       "<div>\n",
       "<style scoped>\n",
       "    .dataframe tbody tr th:only-of-type {\n",
       "        vertical-align: middle;\n",
       "    }\n",
       "\n",
       "    .dataframe tbody tr th {\n",
       "        vertical-align: top;\n",
       "    }\n",
       "\n",
       "    .dataframe thead th {\n",
       "        text-align: right;\n",
       "    }\n",
       "</style>\n",
       "<table border=\"1\" class=\"dataframe\">\n",
       "  <thead>\n",
       "    <tr style=\"text-align: right;\">\n",
       "      <th></th>\n",
       "      <th>Model</th>\n",
       "      <th>Displ</th>\n",
       "      <th>Cyl</th>\n",
       "      <th>Trans</th>\n",
       "      <th>Drive</th>\n",
       "      <th>Fuel</th>\n",
       "      <th>Sales Area</th>\n",
       "      <th>Stnd</th>\n",
       "      <th>Underhood ID</th>\n",
       "      <th>Veh Class</th>\n",
       "      <th>Air Pollution Score</th>\n",
       "      <th>FE Calc Appr</th>\n",
       "      <th>City MPG</th>\n",
       "      <th>Hwy MPG</th>\n",
       "      <th>Cmb MPG</th>\n",
       "      <th>Unadj Cmb MPG</th>\n",
       "      <th>Greenhouse Gas Score</th>\n",
       "      <th>SmartWay</th>\n",
       "    </tr>\n",
       "  </thead>\n",
       "  <tbody>\n",
       "    <tr>\n",
       "      <th>0</th>\n",
       "      <td>ACURA MDX</td>\n",
       "      <td>3.7</td>\n",
       "      <td>6</td>\n",
       "      <td>Auto-S5</td>\n",
       "      <td>4WD</td>\n",
       "      <td>Gasoline</td>\n",
       "      <td>CA</td>\n",
       "      <td>U2</td>\n",
       "      <td>8HNXT03.7PKR</td>\n",
       "      <td>SUV</td>\n",
       "      <td>7</td>\n",
       "      <td>Drv</td>\n",
       "      <td>15</td>\n",
       "      <td>20</td>\n",
       "      <td>17</td>\n",
       "      <td>22.0527</td>\n",
       "      <td>4</td>\n",
       "      <td>no</td>\n",
       "    </tr>\n",
       "    <tr>\n",
       "      <th>1</th>\n",
       "      <td>ACURA MDX</td>\n",
       "      <td>3.7</td>\n",
       "      <td>6</td>\n",
       "      <td>Auto-S5</td>\n",
       "      <td>4WD</td>\n",
       "      <td>Gasoline</td>\n",
       "      <td>FA</td>\n",
       "      <td>B5</td>\n",
       "      <td>8HNXT03.7PKR</td>\n",
       "      <td>SUV</td>\n",
       "      <td>6</td>\n",
       "      <td>Drv</td>\n",
       "      <td>15</td>\n",
       "      <td>20</td>\n",
       "      <td>17</td>\n",
       "      <td>22.0527</td>\n",
       "      <td>4</td>\n",
       "      <td>no</td>\n",
       "    </tr>\n",
       "    <tr>\n",
       "      <th>2</th>\n",
       "      <td>ACURA RDX</td>\n",
       "      <td>2.3</td>\n",
       "      <td>4</td>\n",
       "      <td>Auto-S5</td>\n",
       "      <td>4WD</td>\n",
       "      <td>Gasoline</td>\n",
       "      <td>CA</td>\n",
       "      <td>U2</td>\n",
       "      <td>8HNXT02.3DKR</td>\n",
       "      <td>SUV</td>\n",
       "      <td>7</td>\n",
       "      <td>Drv</td>\n",
       "      <td>17</td>\n",
       "      <td>22</td>\n",
       "      <td>19</td>\n",
       "      <td>24.1745</td>\n",
       "      <td>5</td>\n",
       "      <td>no</td>\n",
       "    </tr>\n",
       "    <tr>\n",
       "      <th>3</th>\n",
       "      <td>ACURA RDX</td>\n",
       "      <td>2.3</td>\n",
       "      <td>4</td>\n",
       "      <td>Auto-S5</td>\n",
       "      <td>4WD</td>\n",
       "      <td>Gasoline</td>\n",
       "      <td>FA</td>\n",
       "      <td>B5</td>\n",
       "      <td>8HNXT02.3DKR</td>\n",
       "      <td>SUV</td>\n",
       "      <td>6</td>\n",
       "      <td>Drv</td>\n",
       "      <td>17</td>\n",
       "      <td>22</td>\n",
       "      <td>19</td>\n",
       "      <td>24.1745</td>\n",
       "      <td>5</td>\n",
       "      <td>no</td>\n",
       "    </tr>\n",
       "    <tr>\n",
       "      <th>4</th>\n",
       "      <td>ACURA RL</td>\n",
       "      <td>3.5</td>\n",
       "      <td>6</td>\n",
       "      <td>Auto-S5</td>\n",
       "      <td>4WD</td>\n",
       "      <td>Gasoline</td>\n",
       "      <td>CA</td>\n",
       "      <td>U2</td>\n",
       "      <td>8HNXV03.5HKR</td>\n",
       "      <td>midsize car</td>\n",
       "      <td>7</td>\n",
       "      <td>Drv</td>\n",
       "      <td>16</td>\n",
       "      <td>24</td>\n",
       "      <td>19</td>\n",
       "      <td>24.5629</td>\n",
       "      <td>5</td>\n",
       "      <td>no</td>\n",
       "    </tr>\n",
       "    <tr>\n",
       "      <th>...</th>\n",
       "      <td>...</td>\n",
       "      <td>...</td>\n",
       "      <td>...</td>\n",
       "      <td>...</td>\n",
       "      <td>...</td>\n",
       "      <td>...</td>\n",
       "      <td>...</td>\n",
       "      <td>...</td>\n",
       "      <td>...</td>\n",
       "      <td>...</td>\n",
       "      <td>...</td>\n",
       "      <td>...</td>\n",
       "      <td>...</td>\n",
       "      <td>...</td>\n",
       "      <td>...</td>\n",
       "      <td>...</td>\n",
       "      <td>...</td>\n",
       "      <td>...</td>\n",
       "    </tr>\n",
       "    <tr>\n",
       "      <th>2399</th>\n",
       "      <td>VOLVO XC 90</td>\n",
       "      <td>3.2</td>\n",
       "      <td>6</td>\n",
       "      <td>Auto-S6</td>\n",
       "      <td>4WD</td>\n",
       "      <td>Gasoline</td>\n",
       "      <td>CA</td>\n",
       "      <td>U2</td>\n",
       "      <td>8VVXB03.2U2N</td>\n",
       "      <td>SUV</td>\n",
       "      <td>7</td>\n",
       "      <td>Drv</td>\n",
       "      <td>14</td>\n",
       "      <td>20</td>\n",
       "      <td>16</td>\n",
       "      <td>20.7134</td>\n",
       "      <td>4</td>\n",
       "      <td>no</td>\n",
       "    </tr>\n",
       "    <tr>\n",
       "      <th>2400</th>\n",
       "      <td>VOLVO XC 90</td>\n",
       "      <td>4.4</td>\n",
       "      <td>8</td>\n",
       "      <td>Auto-S6</td>\n",
       "      <td>4WD</td>\n",
       "      <td>Gasoline</td>\n",
       "      <td>CA</td>\n",
       "      <td>U2</td>\n",
       "      <td>8VVXB04.4U2N</td>\n",
       "      <td>SUV</td>\n",
       "      <td>7</td>\n",
       "      <td>Drv</td>\n",
       "      <td>13</td>\n",
       "      <td>19</td>\n",
       "      <td>15</td>\n",
       "      <td>19.4789</td>\n",
       "      <td>3</td>\n",
       "      <td>no</td>\n",
       "    </tr>\n",
       "    <tr>\n",
       "      <th>2401</th>\n",
       "      <td>VOLVO XC 90</td>\n",
       "      <td>3.2</td>\n",
       "      <td>6</td>\n",
       "      <td>Auto-S6</td>\n",
       "      <td>2WD</td>\n",
       "      <td>Gasoline</td>\n",
       "      <td>FA</td>\n",
       "      <td>B5</td>\n",
       "      <td>8VVXB03.2U2N</td>\n",
       "      <td>SUV</td>\n",
       "      <td>6</td>\n",
       "      <td>Drv</td>\n",
       "      <td>14</td>\n",
       "      <td>20</td>\n",
       "      <td>16</td>\n",
       "      <td>20.9644</td>\n",
       "      <td>4</td>\n",
       "      <td>no</td>\n",
       "    </tr>\n",
       "    <tr>\n",
       "      <th>2402</th>\n",
       "      <td>VOLVO XC 90</td>\n",
       "      <td>3.2</td>\n",
       "      <td>6</td>\n",
       "      <td>Auto-S6</td>\n",
       "      <td>4WD</td>\n",
       "      <td>Gasoline</td>\n",
       "      <td>FA</td>\n",
       "      <td>B5</td>\n",
       "      <td>8VVXB03.2U2N</td>\n",
       "      <td>SUV</td>\n",
       "      <td>6</td>\n",
       "      <td>Drv</td>\n",
       "      <td>14</td>\n",
       "      <td>20</td>\n",
       "      <td>16</td>\n",
       "      <td>20.7134</td>\n",
       "      <td>4</td>\n",
       "      <td>no</td>\n",
       "    </tr>\n",
       "    <tr>\n",
       "      <th>2403</th>\n",
       "      <td>VOLVO XC 90</td>\n",
       "      <td>4.4</td>\n",
       "      <td>8</td>\n",
       "      <td>Auto-S6</td>\n",
       "      <td>4WD</td>\n",
       "      <td>Gasoline</td>\n",
       "      <td>FA</td>\n",
       "      <td>B5</td>\n",
       "      <td>8VVXB04.4U2N</td>\n",
       "      <td>SUV</td>\n",
       "      <td>6</td>\n",
       "      <td>Drv</td>\n",
       "      <td>13</td>\n",
       "      <td>19</td>\n",
       "      <td>15</td>\n",
       "      <td>19.4789</td>\n",
       "      <td>3</td>\n",
       "      <td>no</td>\n",
       "    </tr>\n",
       "  </tbody>\n",
       "</table>\n",
       "<p>2404 rows × 18 columns</p>\n",
       "</div>"
      ],
      "text/plain": [
       "            Model  Displ Cyl    Trans Drive      Fuel Sales Area Stnd  \\\n",
       "0       ACURA MDX    3.7   6  Auto-S5   4WD  Gasoline         CA   U2   \n",
       "1       ACURA MDX    3.7   6  Auto-S5   4WD  Gasoline         FA   B5   \n",
       "2       ACURA RDX    2.3   4  Auto-S5   4WD  Gasoline         CA   U2   \n",
       "3       ACURA RDX    2.3   4  Auto-S5   4WD  Gasoline         FA   B5   \n",
       "4        ACURA RL    3.5   6  Auto-S5   4WD  Gasoline         CA   U2   \n",
       "...           ...    ...  ..      ...   ...       ...        ...  ...   \n",
       "2399  VOLVO XC 90    3.2   6  Auto-S6   4WD  Gasoline         CA   U2   \n",
       "2400  VOLVO XC 90    4.4   8  Auto-S6   4WD  Gasoline         CA   U2   \n",
       "2401  VOLVO XC 90    3.2   6  Auto-S6   2WD  Gasoline         FA   B5   \n",
       "2402  VOLVO XC 90    3.2   6  Auto-S6   4WD  Gasoline         FA   B5   \n",
       "2403  VOLVO XC 90    4.4   8  Auto-S6   4WD  Gasoline         FA   B5   \n",
       "\n",
       "      Underhood ID    Veh Class Air Pollution Score FE Calc Appr City MPG  \\\n",
       "0     8HNXT03.7PKR          SUV                   7          Drv       15   \n",
       "1     8HNXT03.7PKR          SUV                   6          Drv       15   \n",
       "2     8HNXT02.3DKR          SUV                   7          Drv       17   \n",
       "3     8HNXT02.3DKR          SUV                   6          Drv       17   \n",
       "4     8HNXV03.5HKR  midsize car                   7          Drv       16   \n",
       "...            ...          ...                 ...          ...      ...   \n",
       "2399  8VVXB03.2U2N          SUV                   7          Drv       14   \n",
       "2400  8VVXB04.4U2N          SUV                   7          Drv       13   \n",
       "2401  8VVXB03.2U2N          SUV                   6          Drv       14   \n",
       "2402  8VVXB03.2U2N          SUV                   6          Drv       14   \n",
       "2403  8VVXB04.4U2N          SUV                   6          Drv       13   \n",
       "\n",
       "     Hwy MPG Cmb MPG  Unadj Cmb MPG Greenhouse Gas Score SmartWay  \n",
       "0         20      17        22.0527                    4       no  \n",
       "1         20      17        22.0527                    4       no  \n",
       "2         22      19        24.1745                    5       no  \n",
       "3         22      19        24.1745                    5       no  \n",
       "4         24      19        24.5629                    5       no  \n",
       "...      ...     ...            ...                  ...      ...  \n",
       "2399      20      16        20.7134                    4       no  \n",
       "2400      19      15        19.4789                    3       no  \n",
       "2401      20      16        20.9644                    4       no  \n",
       "2402      20      16        20.7134                    4       no  \n",
       "2403      19      15        19.4789                    3       no  \n",
       "\n",
       "[2404 rows x 18 columns]"
      ]
     },
     "execution_count": 53,
     "metadata": {},
     "output_type": "execute_result"
    }
   ],
   "source": [
    "df"
   ]
  },
  {
   "cell_type": "code",
   "execution_count": 54,
   "id": "9525c663-7a37-4634-9d27-8040a4786155",
   "metadata": {},
   "outputs": [],
   "source": [
    "df['Cyl']=pd.to_numeric(df['Cyl'],errors='coerce')\n",
    "df['Air Pollution Score']=pd.to_numeric(df['Air Pollution Score'], errors='coerce')\n",
    "df['City MPG']=pd.to_numeric(df['City MPG'], errors='coerce')\n",
    "df['Hwy MPG']=pd.to_numeric(df['Hwy MPG'], errors='coerce')\n",
    "df['Cmb MPG']=pd.to_numeric(df['Cmb MPG'], errors='coerce')\n",
    "df['Greenhouse Gas Score']=pd.to_numeric(df['Greenhouse Gas Score'], errors='coerce')"
   ]
  },
  {
   "cell_type": "code",
   "execution_count": 55,
   "id": "14db6f11-1e26-4d15-b17a-e9e15cc9cb89",
   "metadata": {},
   "outputs": [
    {
     "data": {
      "text/html": [
       "<div>\n",
       "<style scoped>\n",
       "    .dataframe tbody tr th:only-of-type {\n",
       "        vertical-align: middle;\n",
       "    }\n",
       "\n",
       "    .dataframe tbody tr th {\n",
       "        vertical-align: top;\n",
       "    }\n",
       "\n",
       "    .dataframe thead th {\n",
       "        text-align: right;\n",
       "    }\n",
       "</style>\n",
       "<table border=\"1\" class=\"dataframe\">\n",
       "  <thead>\n",
       "    <tr style=\"text-align: right;\">\n",
       "      <th></th>\n",
       "      <th>Model</th>\n",
       "      <th>Displ</th>\n",
       "      <th>Cyl</th>\n",
       "      <th>Trans</th>\n",
       "      <th>Drive</th>\n",
       "      <th>Fuel</th>\n",
       "      <th>Sales Area</th>\n",
       "      <th>Stnd</th>\n",
       "      <th>Underhood ID</th>\n",
       "      <th>Veh Class</th>\n",
       "      <th>Air Pollution Score</th>\n",
       "      <th>FE Calc Appr</th>\n",
       "      <th>City MPG</th>\n",
       "      <th>Hwy MPG</th>\n",
       "      <th>Cmb MPG</th>\n",
       "      <th>Unadj Cmb MPG</th>\n",
       "      <th>Greenhouse Gas Score</th>\n",
       "      <th>SmartWay</th>\n",
       "    </tr>\n",
       "  </thead>\n",
       "  <tbody>\n",
       "    <tr>\n",
       "      <th>0</th>\n",
       "      <td>ACURA MDX</td>\n",
       "      <td>3.7</td>\n",
       "      <td>6.0</td>\n",
       "      <td>Auto-S5</td>\n",
       "      <td>4WD</td>\n",
       "      <td>Gasoline</td>\n",
       "      <td>CA</td>\n",
       "      <td>U2</td>\n",
       "      <td>8HNXT03.7PKR</td>\n",
       "      <td>SUV</td>\n",
       "      <td>7.0</td>\n",
       "      <td>Drv</td>\n",
       "      <td>15.0</td>\n",
       "      <td>20.0</td>\n",
       "      <td>17.0</td>\n",
       "      <td>22.0527</td>\n",
       "      <td>4.0</td>\n",
       "      <td>no</td>\n",
       "    </tr>\n",
       "    <tr>\n",
       "      <th>1</th>\n",
       "      <td>ACURA MDX</td>\n",
       "      <td>3.7</td>\n",
       "      <td>6.0</td>\n",
       "      <td>Auto-S5</td>\n",
       "      <td>4WD</td>\n",
       "      <td>Gasoline</td>\n",
       "      <td>FA</td>\n",
       "      <td>B5</td>\n",
       "      <td>8HNXT03.7PKR</td>\n",
       "      <td>SUV</td>\n",
       "      <td>6.0</td>\n",
       "      <td>Drv</td>\n",
       "      <td>15.0</td>\n",
       "      <td>20.0</td>\n",
       "      <td>17.0</td>\n",
       "      <td>22.0527</td>\n",
       "      <td>4.0</td>\n",
       "      <td>no</td>\n",
       "    </tr>\n",
       "    <tr>\n",
       "      <th>2</th>\n",
       "      <td>ACURA RDX</td>\n",
       "      <td>2.3</td>\n",
       "      <td>4.0</td>\n",
       "      <td>Auto-S5</td>\n",
       "      <td>4WD</td>\n",
       "      <td>Gasoline</td>\n",
       "      <td>CA</td>\n",
       "      <td>U2</td>\n",
       "      <td>8HNXT02.3DKR</td>\n",
       "      <td>SUV</td>\n",
       "      <td>7.0</td>\n",
       "      <td>Drv</td>\n",
       "      <td>17.0</td>\n",
       "      <td>22.0</td>\n",
       "      <td>19.0</td>\n",
       "      <td>24.1745</td>\n",
       "      <td>5.0</td>\n",
       "      <td>no</td>\n",
       "    </tr>\n",
       "    <tr>\n",
       "      <th>3</th>\n",
       "      <td>ACURA RDX</td>\n",
       "      <td>2.3</td>\n",
       "      <td>4.0</td>\n",
       "      <td>Auto-S5</td>\n",
       "      <td>4WD</td>\n",
       "      <td>Gasoline</td>\n",
       "      <td>FA</td>\n",
       "      <td>B5</td>\n",
       "      <td>8HNXT02.3DKR</td>\n",
       "      <td>SUV</td>\n",
       "      <td>6.0</td>\n",
       "      <td>Drv</td>\n",
       "      <td>17.0</td>\n",
       "      <td>22.0</td>\n",
       "      <td>19.0</td>\n",
       "      <td>24.1745</td>\n",
       "      <td>5.0</td>\n",
       "      <td>no</td>\n",
       "    </tr>\n",
       "    <tr>\n",
       "      <th>4</th>\n",
       "      <td>ACURA RL</td>\n",
       "      <td>3.5</td>\n",
       "      <td>6.0</td>\n",
       "      <td>Auto-S5</td>\n",
       "      <td>4WD</td>\n",
       "      <td>Gasoline</td>\n",
       "      <td>CA</td>\n",
       "      <td>U2</td>\n",
       "      <td>8HNXV03.5HKR</td>\n",
       "      <td>midsize car</td>\n",
       "      <td>7.0</td>\n",
       "      <td>Drv</td>\n",
       "      <td>16.0</td>\n",
       "      <td>24.0</td>\n",
       "      <td>19.0</td>\n",
       "      <td>24.5629</td>\n",
       "      <td>5.0</td>\n",
       "      <td>no</td>\n",
       "    </tr>\n",
       "    <tr>\n",
       "      <th>...</th>\n",
       "      <td>...</td>\n",
       "      <td>...</td>\n",
       "      <td>...</td>\n",
       "      <td>...</td>\n",
       "      <td>...</td>\n",
       "      <td>...</td>\n",
       "      <td>...</td>\n",
       "      <td>...</td>\n",
       "      <td>...</td>\n",
       "      <td>...</td>\n",
       "      <td>...</td>\n",
       "      <td>...</td>\n",
       "      <td>...</td>\n",
       "      <td>...</td>\n",
       "      <td>...</td>\n",
       "      <td>...</td>\n",
       "      <td>...</td>\n",
       "      <td>...</td>\n",
       "    </tr>\n",
       "    <tr>\n",
       "      <th>2399</th>\n",
       "      <td>VOLVO XC 90</td>\n",
       "      <td>3.2</td>\n",
       "      <td>6.0</td>\n",
       "      <td>Auto-S6</td>\n",
       "      <td>4WD</td>\n",
       "      <td>Gasoline</td>\n",
       "      <td>CA</td>\n",
       "      <td>U2</td>\n",
       "      <td>8VVXB03.2U2N</td>\n",
       "      <td>SUV</td>\n",
       "      <td>7.0</td>\n",
       "      <td>Drv</td>\n",
       "      <td>14.0</td>\n",
       "      <td>20.0</td>\n",
       "      <td>16.0</td>\n",
       "      <td>20.7134</td>\n",
       "      <td>4.0</td>\n",
       "      <td>no</td>\n",
       "    </tr>\n",
       "    <tr>\n",
       "      <th>2400</th>\n",
       "      <td>VOLVO XC 90</td>\n",
       "      <td>4.4</td>\n",
       "      <td>8.0</td>\n",
       "      <td>Auto-S6</td>\n",
       "      <td>4WD</td>\n",
       "      <td>Gasoline</td>\n",
       "      <td>CA</td>\n",
       "      <td>U2</td>\n",
       "      <td>8VVXB04.4U2N</td>\n",
       "      <td>SUV</td>\n",
       "      <td>7.0</td>\n",
       "      <td>Drv</td>\n",
       "      <td>13.0</td>\n",
       "      <td>19.0</td>\n",
       "      <td>15.0</td>\n",
       "      <td>19.4789</td>\n",
       "      <td>3.0</td>\n",
       "      <td>no</td>\n",
       "    </tr>\n",
       "    <tr>\n",
       "      <th>2401</th>\n",
       "      <td>VOLVO XC 90</td>\n",
       "      <td>3.2</td>\n",
       "      <td>6.0</td>\n",
       "      <td>Auto-S6</td>\n",
       "      <td>2WD</td>\n",
       "      <td>Gasoline</td>\n",
       "      <td>FA</td>\n",
       "      <td>B5</td>\n",
       "      <td>8VVXB03.2U2N</td>\n",
       "      <td>SUV</td>\n",
       "      <td>6.0</td>\n",
       "      <td>Drv</td>\n",
       "      <td>14.0</td>\n",
       "      <td>20.0</td>\n",
       "      <td>16.0</td>\n",
       "      <td>20.9644</td>\n",
       "      <td>4.0</td>\n",
       "      <td>no</td>\n",
       "    </tr>\n",
       "    <tr>\n",
       "      <th>2402</th>\n",
       "      <td>VOLVO XC 90</td>\n",
       "      <td>3.2</td>\n",
       "      <td>6.0</td>\n",
       "      <td>Auto-S6</td>\n",
       "      <td>4WD</td>\n",
       "      <td>Gasoline</td>\n",
       "      <td>FA</td>\n",
       "      <td>B5</td>\n",
       "      <td>8VVXB03.2U2N</td>\n",
       "      <td>SUV</td>\n",
       "      <td>6.0</td>\n",
       "      <td>Drv</td>\n",
       "      <td>14.0</td>\n",
       "      <td>20.0</td>\n",
       "      <td>16.0</td>\n",
       "      <td>20.7134</td>\n",
       "      <td>4.0</td>\n",
       "      <td>no</td>\n",
       "    </tr>\n",
       "    <tr>\n",
       "      <th>2403</th>\n",
       "      <td>VOLVO XC 90</td>\n",
       "      <td>4.4</td>\n",
       "      <td>8.0</td>\n",
       "      <td>Auto-S6</td>\n",
       "      <td>4WD</td>\n",
       "      <td>Gasoline</td>\n",
       "      <td>FA</td>\n",
       "      <td>B5</td>\n",
       "      <td>8VVXB04.4U2N</td>\n",
       "      <td>SUV</td>\n",
       "      <td>6.0</td>\n",
       "      <td>Drv</td>\n",
       "      <td>13.0</td>\n",
       "      <td>19.0</td>\n",
       "      <td>15.0</td>\n",
       "      <td>19.4789</td>\n",
       "      <td>3.0</td>\n",
       "      <td>no</td>\n",
       "    </tr>\n",
       "  </tbody>\n",
       "</table>\n",
       "<p>2404 rows × 18 columns</p>\n",
       "</div>"
      ],
      "text/plain": [
       "            Model  Displ  Cyl    Trans Drive      Fuel Sales Area Stnd  \\\n",
       "0       ACURA MDX    3.7  6.0  Auto-S5   4WD  Gasoline         CA   U2   \n",
       "1       ACURA MDX    3.7  6.0  Auto-S5   4WD  Gasoline         FA   B5   \n",
       "2       ACURA RDX    2.3  4.0  Auto-S5   4WD  Gasoline         CA   U2   \n",
       "3       ACURA RDX    2.3  4.0  Auto-S5   4WD  Gasoline         FA   B5   \n",
       "4        ACURA RL    3.5  6.0  Auto-S5   4WD  Gasoline         CA   U2   \n",
       "...           ...    ...  ...      ...   ...       ...        ...  ...   \n",
       "2399  VOLVO XC 90    3.2  6.0  Auto-S6   4WD  Gasoline         CA   U2   \n",
       "2400  VOLVO XC 90    4.4  8.0  Auto-S6   4WD  Gasoline         CA   U2   \n",
       "2401  VOLVO XC 90    3.2  6.0  Auto-S6   2WD  Gasoline         FA   B5   \n",
       "2402  VOLVO XC 90    3.2  6.0  Auto-S6   4WD  Gasoline         FA   B5   \n",
       "2403  VOLVO XC 90    4.4  8.0  Auto-S6   4WD  Gasoline         FA   B5   \n",
       "\n",
       "      Underhood ID    Veh Class  Air Pollution Score FE Calc Appr  City MPG  \\\n",
       "0     8HNXT03.7PKR          SUV                  7.0          Drv      15.0   \n",
       "1     8HNXT03.7PKR          SUV                  6.0          Drv      15.0   \n",
       "2     8HNXT02.3DKR          SUV                  7.0          Drv      17.0   \n",
       "3     8HNXT02.3DKR          SUV                  6.0          Drv      17.0   \n",
       "4     8HNXV03.5HKR  midsize car                  7.0          Drv      16.0   \n",
       "...            ...          ...                  ...          ...       ...   \n",
       "2399  8VVXB03.2U2N          SUV                  7.0          Drv      14.0   \n",
       "2400  8VVXB04.4U2N          SUV                  7.0          Drv      13.0   \n",
       "2401  8VVXB03.2U2N          SUV                  6.0          Drv      14.0   \n",
       "2402  8VVXB03.2U2N          SUV                  6.0          Drv      14.0   \n",
       "2403  8VVXB04.4U2N          SUV                  6.0          Drv      13.0   \n",
       "\n",
       "      Hwy MPG  Cmb MPG  Unadj Cmb MPG  Greenhouse Gas Score SmartWay  \n",
       "0        20.0     17.0        22.0527                   4.0       no  \n",
       "1        20.0     17.0        22.0527                   4.0       no  \n",
       "2        22.0     19.0        24.1745                   5.0       no  \n",
       "3        22.0     19.0        24.1745                   5.0       no  \n",
       "4        24.0     19.0        24.5629                   5.0       no  \n",
       "...       ...      ...            ...                   ...      ...  \n",
       "2399     20.0     16.0        20.7134                   4.0       no  \n",
       "2400     19.0     15.0        19.4789                   3.0       no  \n",
       "2401     20.0     16.0        20.9644                   4.0       no  \n",
       "2402     20.0     16.0        20.7134                   4.0       no  \n",
       "2403     19.0     15.0        19.4789                   3.0       no  \n",
       "\n",
       "[2404 rows x 18 columns]"
      ]
     },
     "execution_count": 55,
     "metadata": {},
     "output_type": "execute_result"
    }
   ],
   "source": [
    "df"
   ]
  },
  {
   "cell_type": "code",
   "execution_count": 56,
   "id": "f84af173-5765-4984-accd-b74b17418c33",
   "metadata": {
    "scrolled": true
   },
   "outputs": [],
   "source": [
    "mode_Cyl=df['Cyl'].mode()[0]\n",
    "df['Cyl'] = df['Cyl'].fillna(mode_Cyl)\n",
    "mode_Trans=df['Trans'].mode()[0]\n",
    "df['Trans'] = df['Trans'].fillna(mode_Trans)\n",
    "mode_Drive=df['Drive'].mode()[0]\n",
    "df['Drive'] = df['Drive'].fillna(mode_Drive)\n",
    "mode_FE_Calc=df['FE Calc Appr'].mode()[0]\n",
    "df['FE Calc Appr'] = df['FE Calc Appr'].fillna(mode_FE_Calc)\n",
    "mode_Air_Poll=df['Air Pollution Score'].mode()[0]\n",
    "df['Air Pollution Score'] = df['Air Pollution Score'].fillna(mode_Air_Poll)\n",
    "mode_City_MPG=df['City MPG'].mode()[0]\n",
    "df['City MPG'] = df['City MPG'].fillna(mode_City_MPG)\n",
    "mode_Hwy_MPG=df['Hwy MPG'].mode()[0]\n",
    "df['Hwy MPG'] = df['Hwy MPG'].fillna(mode_Hwy_MPG)\n",
    "mode_Cmb_MPG=df['Cmb MPG'].mode()[0]\n",
    "df['Cmb MPG'] = df['Cmb MPG'].fillna(mode_Cmb_MPG)\n",
    "median_Unadj_Cmb=df['Unadj Cmb MPG'].median()\n",
    "df['Unadj Cmb MPG'] = df['Unadj Cmb MPG'].fillna(median_Unadj_Cmb)\n",
    "mode_Greenhouse_Gas_Score=df['Greenhouse Gas Score'].mode()[0]\n",
    "df['Greenhouse Gas Score'] = df['Greenhouse Gas Score'].fillna(mode_Greenhouse_Gas_Score)"
   ]
  },
  {
   "cell_type": "code",
   "execution_count": 57,
   "id": "c7d94da0-0acf-49c0-ab32-06f1718b338b",
   "metadata": {},
   "outputs": [],
   "source": [
    "\n",
    "# df['Cyl']=pd.to_numeric(df['Cyl'].fillna(0), downcast='integer')\n",
    "# df['Air Pollution Score']=pd.to_numeric(df['Air Pollution Score'].fillna(0), downcast='integer')\n",
    "# df['City MPG']=pd.to_numeric(df['City MPG'].fillna(0), downcast='integer')\n",
    "# df['Hwy MPG']=pd.to_numeric(df['Hwy MPG'].fillna(0), downcast='integer')\n",
    "# df['Cmb MPG']=pd.to_numeric(df['Cmb MPG'].fillna(0), downcast='integer')\n",
    "# df['Greenhouse Gas Score']=pd.to_numeric(df['Greenhouse Gas Score'].fillna(0), downcast='integer')"
   ]
  },
  {
   "cell_type": "code",
   "execution_count": 58,
   "id": "52966a01-6781-48ae-b2a1-997c1d6c916d",
   "metadata": {},
   "outputs": [
    {
     "name": "stdout",
     "output_type": "stream",
     "text": [
      "<class 'pandas.core.frame.DataFrame'>\n",
      "RangeIndex: 2404 entries, 0 to 2403\n",
      "Data columns (total 18 columns):\n",
      " #   Column                Non-Null Count  Dtype  \n",
      "---  ------                --------------  -----  \n",
      " 0   Model                 2404 non-null   object \n",
      " 1   Displ                 2404 non-null   float64\n",
      " 2   Cyl                   2404 non-null   float64\n",
      " 3   Trans                 2404 non-null   object \n",
      " 4   Drive                 2404 non-null   object \n",
      " 5   Fuel                  2404 non-null   object \n",
      " 6   Sales Area            2404 non-null   object \n",
      " 7   Stnd                  2404 non-null   object \n",
      " 8   Underhood ID          2404 non-null   object \n",
      " 9   Veh Class             2404 non-null   object \n",
      " 10  Air Pollution Score   2404 non-null   float64\n",
      " 11  FE Calc Appr          2404 non-null   object \n",
      " 12  City MPG              2404 non-null   float64\n",
      " 13  Hwy MPG               2404 non-null   float64\n",
      " 14  Cmb MPG               2404 non-null   float64\n",
      " 15  Unadj Cmb MPG         2404 non-null   float64\n",
      " 16  Greenhouse Gas Score  2404 non-null   float64\n",
      " 17  SmartWay              2404 non-null   object \n",
      "dtypes: float64(8), object(10)\n",
      "memory usage: 338.2+ KB\n"
     ]
    },
    {
     "data": {
      "text/html": [
       "<div>\n",
       "<style scoped>\n",
       "    .dataframe tbody tr th:only-of-type {\n",
       "        vertical-align: middle;\n",
       "    }\n",
       "\n",
       "    .dataframe tbody tr th {\n",
       "        vertical-align: top;\n",
       "    }\n",
       "\n",
       "    .dataframe thead th {\n",
       "        text-align: right;\n",
       "    }\n",
       "</style>\n",
       "<table border=\"1\" class=\"dataframe\">\n",
       "  <thead>\n",
       "    <tr style=\"text-align: right;\">\n",
       "      <th></th>\n",
       "      <th>Displ</th>\n",
       "      <th>Cyl</th>\n",
       "      <th>Air Pollution Score</th>\n",
       "      <th>City MPG</th>\n",
       "      <th>Hwy MPG</th>\n",
       "      <th>Cmb MPG</th>\n",
       "      <th>Unadj Cmb MPG</th>\n",
       "      <th>Greenhouse Gas Score</th>\n",
       "    </tr>\n",
       "  </thead>\n",
       "  <tbody>\n",
       "    <tr>\n",
       "      <th>count</th>\n",
       "      <td>2404.000000</td>\n",
       "      <td>2404.000000</td>\n",
       "      <td>2404.000000</td>\n",
       "      <td>2404.000000</td>\n",
       "      <td>2404.000000</td>\n",
       "      <td>2404.000000</td>\n",
       "      <td>2404.000000</td>\n",
       "      <td>2404.000000</td>\n",
       "    </tr>\n",
       "    <tr>\n",
       "      <th>mean</th>\n",
       "      <td>3.748918</td>\n",
       "      <td>6.096922</td>\n",
       "      <td>6.028702</td>\n",
       "      <td>17.186356</td>\n",
       "      <td>23.849418</td>\n",
       "      <td>19.644343</td>\n",
       "      <td>23.916534</td>\n",
       "      <td>5.221298</td>\n",
       "    </tr>\n",
       "    <tr>\n",
       "      <th>std</th>\n",
       "      <td>1.335785</td>\n",
       "      <td>1.767890</td>\n",
       "      <td>1.439734</td>\n",
       "      <td>3.774794</td>\n",
       "      <td>4.445887</td>\n",
       "      <td>3.940301</td>\n",
       "      <td>6.096873</td>\n",
       "      <td>1.796361</td>\n",
       "    </tr>\n",
       "    <tr>\n",
       "      <th>min</th>\n",
       "      <td>1.300000</td>\n",
       "      <td>2.000000</td>\n",
       "      <td>0.000000</td>\n",
       "      <td>8.000000</td>\n",
       "      <td>13.000000</td>\n",
       "      <td>10.000000</td>\n",
       "      <td>10.018400</td>\n",
       "      <td>0.000000</td>\n",
       "    </tr>\n",
       "    <tr>\n",
       "      <th>25%</th>\n",
       "      <td>2.500000</td>\n",
       "      <td>4.000000</td>\n",
       "      <td>6.000000</td>\n",
       "      <td>15.000000</td>\n",
       "      <td>20.000000</td>\n",
       "      <td>17.000000</td>\n",
       "      <td>19.500000</td>\n",
       "      <td>4.000000</td>\n",
       "    </tr>\n",
       "    <tr>\n",
       "      <th>50%</th>\n",
       "      <td>3.500000</td>\n",
       "      <td>6.000000</td>\n",
       "      <td>6.000000</td>\n",
       "      <td>17.000000</td>\n",
       "      <td>24.000000</td>\n",
       "      <td>20.000000</td>\n",
       "      <td>23.921300</td>\n",
       "      <td>6.000000</td>\n",
       "    </tr>\n",
       "    <tr>\n",
       "      <th>75%</th>\n",
       "      <td>4.800000</td>\n",
       "      <td>8.000000</td>\n",
       "      <td>7.000000</td>\n",
       "      <td>19.000000</td>\n",
       "      <td>27.000000</td>\n",
       "      <td>22.000000</td>\n",
       "      <td>27.514300</td>\n",
       "      <td>6.000000</td>\n",
       "    </tr>\n",
       "    <tr>\n",
       "      <th>max</th>\n",
       "      <td>8.400000</td>\n",
       "      <td>16.000000</td>\n",
       "      <td>9.500000</td>\n",
       "      <td>48.000000</td>\n",
       "      <td>45.000000</td>\n",
       "      <td>46.000000</td>\n",
       "      <td>65.777800</td>\n",
       "      <td>10.000000</td>\n",
       "    </tr>\n",
       "  </tbody>\n",
       "</table>\n",
       "</div>"
      ],
      "text/plain": [
       "             Displ          Cyl  Air Pollution Score     City MPG  \\\n",
       "count  2404.000000  2404.000000          2404.000000  2404.000000   \n",
       "mean      3.748918     6.096922             6.028702    17.186356   \n",
       "std       1.335785     1.767890             1.439734     3.774794   \n",
       "min       1.300000     2.000000             0.000000     8.000000   \n",
       "25%       2.500000     4.000000             6.000000    15.000000   \n",
       "50%       3.500000     6.000000             6.000000    17.000000   \n",
       "75%       4.800000     8.000000             7.000000    19.000000   \n",
       "max       8.400000    16.000000             9.500000    48.000000   \n",
       "\n",
       "           Hwy MPG      Cmb MPG  Unadj Cmb MPG  Greenhouse Gas Score  \n",
       "count  2404.000000  2404.000000    2404.000000           2404.000000  \n",
       "mean     23.849418    19.644343      23.916534              5.221298  \n",
       "std       4.445887     3.940301       6.096873              1.796361  \n",
       "min      13.000000    10.000000      10.018400              0.000000  \n",
       "25%      20.000000    17.000000      19.500000              4.000000  \n",
       "50%      24.000000    20.000000      23.921300              6.000000  \n",
       "75%      27.000000    22.000000      27.514300              6.000000  \n",
       "max      45.000000    46.000000      65.777800             10.000000  "
      ]
     },
     "execution_count": 58,
     "metadata": {},
     "output_type": "execute_result"
    }
   ],
   "source": [
    "df.info()\n",
    "df.describe()"
   ]
  },
  {
   "cell_type": "markdown",
   "id": "0e178b4c-a292-4621-a355-f822872ef484",
   "metadata": {},
   "source": [
    "#### Assessing the data\n",
    "    i. Data cleaning\n",
    "    ii. Inspection\n",
    "    iii. Manipulation if required\n",
    "    iv. Extracting meaningful visualization based on your understanding\n",
    "    v. Data consolidation if required"
   ]
  },
  {
   "cell_type": "code",
   "execution_count": 60,
   "id": "c94c233a-6fa1-4e2e-a6a3-851faf4fd9d7",
   "metadata": {},
   "outputs": [
    {
     "data": {
      "text/html": [
       "<div>\n",
       "<style scoped>\n",
       "    .dataframe tbody tr th:only-of-type {\n",
       "        vertical-align: middle;\n",
       "    }\n",
       "\n",
       "    .dataframe tbody tr th {\n",
       "        vertical-align: top;\n",
       "    }\n",
       "\n",
       "    .dataframe thead th {\n",
       "        text-align: right;\n",
       "    }\n",
       "</style>\n",
       "<table border=\"1\" class=\"dataframe\">\n",
       "  <thead>\n",
       "    <tr style=\"text-align: right;\">\n",
       "      <th></th>\n",
       "      <th>Model</th>\n",
       "      <th>Displ</th>\n",
       "      <th>No. of Cylinders</th>\n",
       "      <th>Trans</th>\n",
       "      <th>Drive</th>\n",
       "      <th>Fuel</th>\n",
       "      <th>Sales Area</th>\n",
       "      <th>Stnd</th>\n",
       "      <th>Underhood ID</th>\n",
       "      <th>Veh Class</th>\n",
       "      <th>Air Pollution Score</th>\n",
       "      <th>FE Calc Appr</th>\n",
       "      <th>City MPG</th>\n",
       "      <th>Hwy MPG</th>\n",
       "      <th>Cmb MPG</th>\n",
       "      <th>Unadj Cmb MPG</th>\n",
       "      <th>Greenhouse Gas Score</th>\n",
       "      <th>SmartWay</th>\n",
       "    </tr>\n",
       "  </thead>\n",
       "  <tbody>\n",
       "    <tr>\n",
       "      <th>0</th>\n",
       "      <td>ACURA MDX</td>\n",
       "      <td>3.7</td>\n",
       "      <td>6.0</td>\n",
       "      <td>Auto-S5</td>\n",
       "      <td>4WD</td>\n",
       "      <td>Gasoline</td>\n",
       "      <td>CA</td>\n",
       "      <td>U2</td>\n",
       "      <td>8HNXT03.7PKR</td>\n",
       "      <td>SUV</td>\n",
       "      <td>7.0</td>\n",
       "      <td>Drv</td>\n",
       "      <td>15.0</td>\n",
       "      <td>20.0</td>\n",
       "      <td>17.0</td>\n",
       "      <td>22.0527</td>\n",
       "      <td>4.0</td>\n",
       "      <td>no</td>\n",
       "    </tr>\n",
       "    <tr>\n",
       "      <th>1</th>\n",
       "      <td>ACURA MDX</td>\n",
       "      <td>3.7</td>\n",
       "      <td>6.0</td>\n",
       "      <td>Auto-S5</td>\n",
       "      <td>4WD</td>\n",
       "      <td>Gasoline</td>\n",
       "      <td>FA</td>\n",
       "      <td>B5</td>\n",
       "      <td>8HNXT03.7PKR</td>\n",
       "      <td>SUV</td>\n",
       "      <td>6.0</td>\n",
       "      <td>Drv</td>\n",
       "      <td>15.0</td>\n",
       "      <td>20.0</td>\n",
       "      <td>17.0</td>\n",
       "      <td>22.0527</td>\n",
       "      <td>4.0</td>\n",
       "      <td>no</td>\n",
       "    </tr>\n",
       "    <tr>\n",
       "      <th>2</th>\n",
       "      <td>ACURA RDX</td>\n",
       "      <td>2.3</td>\n",
       "      <td>4.0</td>\n",
       "      <td>Auto-S5</td>\n",
       "      <td>4WD</td>\n",
       "      <td>Gasoline</td>\n",
       "      <td>CA</td>\n",
       "      <td>U2</td>\n",
       "      <td>8HNXT02.3DKR</td>\n",
       "      <td>SUV</td>\n",
       "      <td>7.0</td>\n",
       "      <td>Drv</td>\n",
       "      <td>17.0</td>\n",
       "      <td>22.0</td>\n",
       "      <td>19.0</td>\n",
       "      <td>24.1745</td>\n",
       "      <td>5.0</td>\n",
       "      <td>no</td>\n",
       "    </tr>\n",
       "    <tr>\n",
       "      <th>3</th>\n",
       "      <td>ACURA RDX</td>\n",
       "      <td>2.3</td>\n",
       "      <td>4.0</td>\n",
       "      <td>Auto-S5</td>\n",
       "      <td>4WD</td>\n",
       "      <td>Gasoline</td>\n",
       "      <td>FA</td>\n",
       "      <td>B5</td>\n",
       "      <td>8HNXT02.3DKR</td>\n",
       "      <td>SUV</td>\n",
       "      <td>6.0</td>\n",
       "      <td>Drv</td>\n",
       "      <td>17.0</td>\n",
       "      <td>22.0</td>\n",
       "      <td>19.0</td>\n",
       "      <td>24.1745</td>\n",
       "      <td>5.0</td>\n",
       "      <td>no</td>\n",
       "    </tr>\n",
       "    <tr>\n",
       "      <th>4</th>\n",
       "      <td>ACURA RL</td>\n",
       "      <td>3.5</td>\n",
       "      <td>6.0</td>\n",
       "      <td>Auto-S5</td>\n",
       "      <td>4WD</td>\n",
       "      <td>Gasoline</td>\n",
       "      <td>CA</td>\n",
       "      <td>U2</td>\n",
       "      <td>8HNXV03.5HKR</td>\n",
       "      <td>midsize car</td>\n",
       "      <td>7.0</td>\n",
       "      <td>Drv</td>\n",
       "      <td>16.0</td>\n",
       "      <td>24.0</td>\n",
       "      <td>19.0</td>\n",
       "      <td>24.5629</td>\n",
       "      <td>5.0</td>\n",
       "      <td>no</td>\n",
       "    </tr>\n",
       "  </tbody>\n",
       "</table>\n",
       "</div>"
      ],
      "text/plain": [
       "       Model  Displ  No. of Cylinders    Trans Drive      Fuel Sales Area  \\\n",
       "0  ACURA MDX    3.7               6.0  Auto-S5   4WD  Gasoline         CA   \n",
       "1  ACURA MDX    3.7               6.0  Auto-S5   4WD  Gasoline         FA   \n",
       "2  ACURA RDX    2.3               4.0  Auto-S5   4WD  Gasoline         CA   \n",
       "3  ACURA RDX    2.3               4.0  Auto-S5   4WD  Gasoline         FA   \n",
       "4   ACURA RL    3.5               6.0  Auto-S5   4WD  Gasoline         CA   \n",
       "\n",
       "  Stnd  Underhood ID    Veh Class  Air Pollution Score FE Calc Appr  City MPG  \\\n",
       "0   U2  8HNXT03.7PKR          SUV                  7.0          Drv      15.0   \n",
       "1   B5  8HNXT03.7PKR          SUV                  6.0          Drv      15.0   \n",
       "2   U2  8HNXT02.3DKR          SUV                  7.0          Drv      17.0   \n",
       "3   B5  8HNXT02.3DKR          SUV                  6.0          Drv      17.0   \n",
       "4   U2  8HNXV03.5HKR  midsize car                  7.0          Drv      16.0   \n",
       "\n",
       "   Hwy MPG  Cmb MPG  Unadj Cmb MPG  Greenhouse Gas Score SmartWay  \n",
       "0     20.0     17.0        22.0527                   4.0       no  \n",
       "1     20.0     17.0        22.0527                   4.0       no  \n",
       "2     22.0     19.0        24.1745                   5.0       no  \n",
       "3     22.0     19.0        24.1745                   5.0       no  \n",
       "4     24.0     19.0        24.5629                   5.0       no  "
      ]
     },
     "execution_count": 60,
     "metadata": {},
     "output_type": "execute_result"
    }
   ],
   "source": [
    "df.rename(columns={'Cyl':'No. of Cylinders'}, inplace= True)\n",
    "df.head()"
   ]
  },
  {
   "cell_type": "code",
   "execution_count": 61,
   "id": "34e02a57-6cf7-4622-8567-4106290f326c",
   "metadata": {},
   "outputs": [
    {
     "data": {
      "text/plain": [
       "<Axes: xlabel='No. of Cylinders'>"
      ]
     },
     "execution_count": 61,
     "metadata": {},
     "output_type": "execute_result"
    },
    {
     "data": {
      "image/png": "[encoded data removed]",
      "text/plain": [
       "<Figure size 640x480 with 1 Axes>"
      ]
     },
     "metadata": {},
     "output_type": "display_data"
    }
   ],
   "source": [
    "df.groupby('No. of Cylinders')['Air Pollution Score'].mean().plot(kind = 'bar')"
   ]
  },
  {
   "cell_type": "code",
   "execution_count": 62,
   "id": "4e8c4b47-3a36-47e9-af78-01053c460781",
   "metadata": {},
   "outputs": [
    {
     "data": {
      "text/plain": [
       "<Axes: xlabel='Veh Class'>"
      ]
     },
     "execution_count": 62,
     "metadata": {},
     "output_type": "execute_result"
    },
    {
     "data": {
      "image/png": "[encoded data removed]",
      "text/plain": [
       "<Figure size 640x480 with 1 Axes>"
      ]
     },
     "metadata": {},
     "output_type": "display_data"
    }
   ],
   "source": [
    "df.groupby('Veh Class')[['City MPG', 'Hwy MPG', 'Cmb MPG']].mean().plot(kind = 'bar')"
   ]
  },
  {
   "cell_type": "code",
   "execution_count": 63,
   "id": "3582aa72-56ed-43fc-a4ce-5c726c1470b0",
   "metadata": {},
   "outputs": [
    {
     "data": {
      "text/plain": [
       "<Axes: xlabel='Fuel'>"
      ]
     },
     "execution_count": 63,
     "metadata": {},
     "output_type": "execute_result"
    },
    {
     "data": {
      "image/png": "[encoded data removed]",
      "text/plain": [
       "<Figure size 640x480 with 1 Axes>"
      ]
     },
     "metadata": {},
     "output_type": "display_data"
    }
   ],
   "source": [
    "df.groupby('Fuel')['Air Pollution Score'].mean().plot(kind = 'bar')"
   ]
  },
  {
   "cell_type": "markdown",
   "id": "f08d7847-3a1a-4ac8-9b1d-8acfcdd8a319",
   "metadata": {},
   "source": [
    "#### Q1. Find out the alternative sources of fuel available in 2008 & 2018 respectively and by how much?"
   ]
  },
  {
   "cell_type": "code",
   "execution_count": 65,
   "id": "7702729e-df51-4cad-a512-c043fc0c605f",
   "metadata": {},
   "outputs": [],
   "source": [
    "df_18 = pd.read_csv('all_alpha_18.csv')"
   ]
  },
  {
   "cell_type": "code",
   "execution_count": 66,
   "id": "9a0c111a-6a11-4860-818a-1a32f0c629e5",
   "metadata": {},
   "outputs": [],
   "source": [
    "y1 = df.groupby('Fuel')['Drive'].count().reset_index()\n",
    "y1.rename(columns = {'Drive':'2008_count'}, inplace = True)"
   ]
  },
  {
   "cell_type": "code",
   "execution_count": 67,
   "id": "10a18cfa-d162-445a-b271-722f0cade2e9",
   "metadata": {},
   "outputs": [],
   "source": [
    "y = df_18.groupby('Fuel')['Drive'].count().reset_index()\n",
    "y.rename(columns = {'Drive':'2018_count'}, inplace = True)"
   ]
  },
  {
   "cell_type": "code",
   "execution_count": 68,
   "id": "64e94295-c2d9-4205-8485-070ef37ce5a9",
   "metadata": {},
   "outputs": [],
   "source": [
    "y3 = pd.concat([y,y1])\n",
    "y3['Fuel'] = y3['Fuel'].str.lower()"
   ]
  },
  {
   "cell_type": "code",
   "execution_count": 69,
   "id": "523c254e-4d2a-4087-945b-b836f661fceb",
   "metadata": {},
   "outputs": [],
   "source": [
    "y3 = y3.groupby('Fuel').sum()"
   ]
  },
  {
   "cell_type": "code",
   "execution_count": 70,
   "id": "ac969cb9-834e-4e9b-9a94-2c6e0a46f6cf",
   "metadata": {},
   "outputs": [
    {
     "data": {
      "text/html": [
       "<div>\n",
       "<style scoped>\n",
       "    .dataframe tbody tr th:only-of-type {\n",
       "        vertical-align: middle;\n",
       "    }\n",
       "\n",
       "    .dataframe tbody tr th {\n",
       "        vertical-align: top;\n",
       "    }\n",
       "\n",
       "    .dataframe thead th {\n",
       "        text-align: right;\n",
       "    }\n",
       "</style>\n",
       "<table border=\"1\" class=\"dataframe\">\n",
       "  <thead>\n",
       "    <tr style=\"text-align: right;\">\n",
       "      <th></th>\n",
       "      <th>2018_count</th>\n",
       "      <th>2008_count</th>\n",
       "    </tr>\n",
       "    <tr>\n",
       "      <th>Fuel</th>\n",
       "      <th></th>\n",
       "      <th></th>\n",
       "    </tr>\n",
       "  </thead>\n",
       "  <tbody>\n",
       "    <tr>\n",
       "      <th>cng</th>\n",
       "      <td>0.0</td>\n",
       "      <td>2.0</td>\n",
       "    </tr>\n",
       "    <tr>\n",
       "      <th>diesel</th>\n",
       "      <td>38.0</td>\n",
       "      <td>11.0</td>\n",
       "    </tr>\n",
       "    <tr>\n",
       "      <th>electricity</th>\n",
       "      <td>2.0</td>\n",
       "      <td>0.0</td>\n",
       "    </tr>\n",
       "    <tr>\n",
       "      <th>ethanol</th>\n",
       "      <td>0.0</td>\n",
       "      <td>1.0</td>\n",
       "    </tr>\n",
       "    <tr>\n",
       "      <th>ethanol/gas</th>\n",
       "      <td>55.0</td>\n",
       "      <td>72.0</td>\n",
       "    </tr>\n",
       "    <tr>\n",
       "      <th>gasoline</th>\n",
       "      <td>1492.0</td>\n",
       "      <td>2318.0</td>\n",
       "    </tr>\n",
       "    <tr>\n",
       "      <th>gasoline/electricity</th>\n",
       "      <td>24.0</td>\n",
       "      <td>0.0</td>\n",
       "    </tr>\n",
       "  </tbody>\n",
       "</table>\n",
       "</div>"
      ],
      "text/plain": [
       "                      2018_count  2008_count\n",
       "Fuel                                        \n",
       "cng                          0.0         2.0\n",
       "diesel                      38.0        11.0\n",
       "electricity                  2.0         0.0\n",
       "ethanol                      0.0         1.0\n",
       "ethanol/gas                 55.0        72.0\n",
       "gasoline                  1492.0      2318.0\n",
       "gasoline/electricity        24.0         0.0"
      ]
     },
     "execution_count": 70,
     "metadata": {},
     "output_type": "execute_result"
    }
   ],
   "source": [
    "y3"
   ]
  },
  {
   "cell_type": "code",
   "execution_count": 71,
   "id": "712b9e36-75d0-4755-a7c5-6dd8b1b9a8b9",
   "metadata": {},
   "outputs": [
    {
     "data": {
      "text/html": [
       "<div>\n",
       "<style scoped>\n",
       "    .dataframe tbody tr th:only-of-type {\n",
       "        vertical-align: middle;\n",
       "    }\n",
       "\n",
       "    .dataframe tbody tr th {\n",
       "        vertical-align: top;\n",
       "    }\n",
       "\n",
       "    .dataframe thead th {\n",
       "        text-align: right;\n",
       "    }\n",
       "</style>\n",
       "<table border=\"1\" class=\"dataframe\">\n",
       "  <thead>\n",
       "    <tr style=\"text-align: right;\">\n",
       "      <th></th>\n",
       "      <th>Fuel</th>\n",
       "      <th>2018_count</th>\n",
       "      <th>2008_count</th>\n",
       "    </tr>\n",
       "  </thead>\n",
       "  <tbody>\n",
       "    <tr>\n",
       "      <th>0</th>\n",
       "      <td>cng</td>\n",
       "      <td>0.0</td>\n",
       "      <td>2.0</td>\n",
       "    </tr>\n",
       "    <tr>\n",
       "      <th>1</th>\n",
       "      <td>electricity</td>\n",
       "      <td>2.0</td>\n",
       "      <td>0.0</td>\n",
       "    </tr>\n",
       "    <tr>\n",
       "      <th>2</th>\n",
       "      <td>ethanol</td>\n",
       "      <td>0.0</td>\n",
       "      <td>1.0</td>\n",
       "    </tr>\n",
       "    <tr>\n",
       "      <th>3</th>\n",
       "      <td>ethanol/gas</td>\n",
       "      <td>55.0</td>\n",
       "      <td>72.0</td>\n",
       "    </tr>\n",
       "    <tr>\n",
       "      <th>4</th>\n",
       "      <td>gasoline/electricity</td>\n",
       "      <td>24.0</td>\n",
       "      <td>0.0</td>\n",
       "    </tr>\n",
       "  </tbody>\n",
       "</table>\n",
       "</div>"
      ],
      "text/plain": [
       "                   Fuel  2018_count  2008_count\n",
       "0                   cng         0.0         2.0\n",
       "1           electricity         2.0         0.0\n",
       "2               ethanol         0.0         1.0\n",
       "3           ethanol/gas        55.0        72.0\n",
       "4  gasoline/electricity        24.0         0.0"
      ]
     },
     "execution_count": 71,
     "metadata": {},
     "output_type": "execute_result"
    }
   ],
   "source": [
    "# dropping non alternative fuels\n",
    "y3.drop(['diesel', 'gasoline'], inplace  = True)\n",
    "y3.reset_index()"
   ]
  },
  {
   "cell_type": "markdown",
   "id": "5b67ef4b-0bbe-452f-86f8-9e7734fc145f",
   "metadata": {},
   "source": [
    "### Q2. Is there any improvement in ‘fuel economy’ with respect to vehicle class from 2008 to 2018, perform the necessary steps to examine?"
   ]
  },
  {
   "cell_type": "code",
   "execution_count": 73,
   "id": "23c6f5bc-3998-4bf9-ab4c-d073a1683535",
   "metadata": {},
   "outputs": [],
   "source": [
    "x1=df.groupby('Veh Class')['Cmb MPG'].mean().reset_index()"
   ]
  },
  {
   "cell_type": "code",
   "execution_count": 74,
   "id": "b3207af2-bafc-403e-ac51-3fc0189124e3",
   "metadata": {},
   "outputs": [],
   "source": [
    "df_18['Cmb MPG'] = pd.to_numeric(df['Cmb MPG'],errors = 'coerce')"
   ]
  },
  {
   "cell_type": "code",
   "execution_count": 75,
   "id": "7012dc82-b375-42fe-aadf-1ababa5f711d",
   "metadata": {},
   "outputs": [
    {
     "name": "stdout",
     "output_type": "stream",
     "text": [
      "<class 'pandas.core.frame.DataFrame'>\n",
      "RangeIndex: 9 entries, 0 to 8\n",
      "Data columns (total 2 columns):\n",
      " #   Column     Non-Null Count  Dtype  \n",
      "---  ------     --------------  -----  \n",
      " 0   Veh Class  9 non-null      object \n",
      " 1   Cmb MPG    9 non-null      float64\n",
      "dtypes: float64(1), object(1)\n",
      "memory usage: 276.0+ bytes\n"
     ]
    }
   ],
   "source": [
    "x2= df_18.groupby('Veh Class')['Cmb MPG'].mean().reset_index()\n",
    "x2.info()"
   ]
  },
  {
   "cell_type": "code",
   "execution_count": 76,
   "id": "b383cb02-206e-40bb-bc6d-522551dc66d6",
   "metadata": {},
   "outputs": [],
   "source": [
    "z = pd.merge(x1, x2, how='inner', on = 'Veh Class')"
   ]
  },
  {
   "cell_type": "code",
   "execution_count": 77,
   "id": "7da9275f-00fc-43ad-8113-a584e605fee8",
   "metadata": {},
   "outputs": [],
   "source": [
    "z['improvement'] = z['Cmb MPG_y'] - z['Cmb MPG_x'] "
   ]
  },
  {
   "cell_type": "code",
   "execution_count": 78,
   "id": "2f749e70-0ac7-4fe8-8f62-57b6669e5d17",
   "metadata": {},
   "outputs": [
    {
     "data": {
      "text/html": [
       "<div>\n",
       "<style scoped>\n",
       "    .dataframe tbody tr th:only-of-type {\n",
       "        vertical-align: middle;\n",
       "    }\n",
       "\n",
       "    .dataframe tbody tr th {\n",
       "        vertical-align: top;\n",
       "    }\n",
       "\n",
       "    .dataframe thead th {\n",
       "        text-align: right;\n",
       "    }\n",
       "</style>\n",
       "<table border=\"1\" class=\"dataframe\">\n",
       "  <thead>\n",
       "    <tr style=\"text-align: right;\">\n",
       "      <th></th>\n",
       "      <th>Veh Class</th>\n",
       "      <th>Cmb MPG_x</th>\n",
       "      <th>Cmb MPG_y</th>\n",
       "      <th>improvement</th>\n",
       "    </tr>\n",
       "  </thead>\n",
       "  <tbody>\n",
       "    <tr>\n",
       "      <th>0</th>\n",
       "      <td>large car</td>\n",
       "      <td>18.449612</td>\n",
       "      <td>18.418182</td>\n",
       "      <td>-0.031431</td>\n",
       "    </tr>\n",
       "    <tr>\n",
       "      <th>1</th>\n",
       "      <td>midsize car</td>\n",
       "      <td>21.394928</td>\n",
       "      <td>18.828467</td>\n",
       "      <td>-2.566460</td>\n",
       "    </tr>\n",
       "    <tr>\n",
       "      <th>2</th>\n",
       "      <td>minivan</td>\n",
       "      <td>19.000000</td>\n",
       "      <td>19.500000</td>\n",
       "      <td>0.500000</td>\n",
       "    </tr>\n",
       "    <tr>\n",
       "      <th>3</th>\n",
       "      <td>pickup</td>\n",
       "      <td>17.722857</td>\n",
       "      <td>19.746479</td>\n",
       "      <td>2.023622</td>\n",
       "    </tr>\n",
       "    <tr>\n",
       "      <th>4</th>\n",
       "      <td>small car</td>\n",
       "      <td>21.067919</td>\n",
       "      <td>19.469751</td>\n",
       "      <td>-1.598168</td>\n",
       "    </tr>\n",
       "    <tr>\n",
       "      <th>5</th>\n",
       "      <td>special purpose</td>\n",
       "      <td>20.000000</td>\n",
       "      <td>20.090909</td>\n",
       "      <td>0.090909</td>\n",
       "    </tr>\n",
       "    <tr>\n",
       "      <th>6</th>\n",
       "      <td>station wagon</td>\n",
       "      <td>22.349593</td>\n",
       "      <td>18.208333</td>\n",
       "      <td>-4.141260</td>\n",
       "    </tr>\n",
       "  </tbody>\n",
       "</table>\n",
       "</div>"
      ],
      "text/plain": [
       "         Veh Class  Cmb MPG_x  Cmb MPG_y  improvement\n",
       "0        large car  18.449612  18.418182    -0.031431\n",
       "1      midsize car  21.394928  18.828467    -2.566460\n",
       "2          minivan  19.000000  19.500000     0.500000\n",
       "3           pickup  17.722857  19.746479     2.023622\n",
       "4        small car  21.067919  19.469751    -1.598168\n",
       "5  special purpose  20.000000  20.090909     0.090909\n",
       "6    station wagon  22.349593  18.208333    -4.141260"
      ]
     },
     "execution_count": 78,
     "metadata": {},
     "output_type": "execute_result"
    }
   ],
   "source": [
    "z"
   ]
  },
  {
   "cell_type": "markdown",
   "id": "c9e27bf5-f92f-4959-a433-a90ebd94caa2",
   "metadata": {},
   "source": [
    "### Q3. Is there any change in characteristics of SmartWay Vehicles ?"
   ]
  },
  {
   "cell_type": "code",
   "execution_count": 80,
   "id": "0691f857-0b41-4635-87d1-40a3be2d7cd2",
   "metadata": {},
   "outputs": [
    {
     "data": {
      "text/plain": [
       "SmartWay\n",
       "Elite      22\n",
       "No       1414\n",
       "Yes       175\n",
       "Name: Fuel, dtype: int64"
      ]
     },
     "execution_count": 80,
     "metadata": {},
     "output_type": "execute_result"
    }
   ],
   "source": [
    "df_18.groupby('SmartWay')['Fuel'].count()"
   ]
  },
  {
   "cell_type": "code",
   "execution_count": 81,
   "id": "c8c5d21a-3487-441a-a58b-4c9026f7212b",
   "metadata": {},
   "outputs": [
    {
     "data": {
      "text/plain": [
       "SmartWay\n",
       "no     1766\n",
       "yes     638\n",
       "Name: Fuel, dtype: int64"
      ]
     },
     "execution_count": 81,
     "metadata": {},
     "output_type": "execute_result"
    }
   ],
   "source": [
    "df.groupby('SmartWay')['Fuel'].count()"
   ]
  },
  {
   "cell_type": "code",
   "execution_count": null,
   "id": "4ea5a6be-dbc4-4bbc-826d-25e85e56bf5f",
   "metadata": {},
   "outputs": [],
   "source": []
  },
  {
   "cell_type": "markdown",
   "id": "25221673-b7d0-42e5-ad66-c85f41df3810",
   "metadata": {},
   "source": [
    "### Q4. Which all features are associated with better fuel economy?"
   ]
  },
  {
   "cell_type": "code",
   "execution_count": 83,
   "id": "62761c84-526f-4b8f-87a9-fd06ec6d82f9",
   "metadata": {},
   "outputs": [
    {
     "data": {
      "text/html": [
       "<div>\n",
       "<style scoped>\n",
       "    .dataframe tbody tr th:only-of-type {\n",
       "        vertical-align: middle;\n",
       "    }\n",
       "\n",
       "    .dataframe tbody tr th {\n",
       "        vertical-align: top;\n",
       "    }\n",
       "\n",
       "    .dataframe thead th {\n",
       "        text-align: right;\n",
       "    }\n",
       "</style>\n",
       "<table border=\"1\" class=\"dataframe\">\n",
       "  <thead>\n",
       "    <tr style=\"text-align: right;\">\n",
       "      <th></th>\n",
       "      <th>model</th>\n",
       "      <th>displ</th>\n",
       "      <th>cyl</th>\n",
       "      <th>trans</th>\n",
       "      <th>drive</th>\n",
       "      <th>fuel</th>\n",
       "      <th>veh_class</th>\n",
       "      <th>air_pollution_score</th>\n",
       "      <th>city_mpg</th>\n",
       "      <th>hwy_mpg</th>\n",
       "      <th>cmb_mpg</th>\n",
       "      <th>greenhouse_gas_score</th>\n",
       "      <th>smartway</th>\n",
       "    </tr>\n",
       "  </thead>\n",
       "  <tbody>\n",
       "    <tr>\n",
       "      <th>0</th>\n",
       "      <td>ACURA MDX</td>\n",
       "      <td>3.7</td>\n",
       "      <td>6</td>\n",
       "      <td>Auto-S5</td>\n",
       "      <td>4WD</td>\n",
       "      <td>Gasoline</td>\n",
       "      <td>SUV</td>\n",
       "      <td>7.0</td>\n",
       "      <td>15.0</td>\n",
       "      <td>20.0</td>\n",
       "      <td>17.0</td>\n",
       "      <td>4</td>\n",
       "      <td>no</td>\n",
       "    </tr>\n",
       "    <tr>\n",
       "      <th>1</th>\n",
       "      <td>ACURA RDX</td>\n",
       "      <td>2.3</td>\n",
       "      <td>4</td>\n",
       "      <td>Auto-S5</td>\n",
       "      <td>4WD</td>\n",
       "      <td>Gasoline</td>\n",
       "      <td>SUV</td>\n",
       "      <td>7.0</td>\n",
       "      <td>17.0</td>\n",
       "      <td>22.0</td>\n",
       "      <td>19.0</td>\n",
       "      <td>5</td>\n",
       "      <td>no</td>\n",
       "    </tr>\n",
       "    <tr>\n",
       "      <th>2</th>\n",
       "      <td>ACURA RL</td>\n",
       "      <td>3.5</td>\n",
       "      <td>6</td>\n",
       "      <td>Auto-S5</td>\n",
       "      <td>4WD</td>\n",
       "      <td>Gasoline</td>\n",
       "      <td>midsize car</td>\n",
       "      <td>7.0</td>\n",
       "      <td>16.0</td>\n",
       "      <td>24.0</td>\n",
       "      <td>19.0</td>\n",
       "      <td>5</td>\n",
       "      <td>no</td>\n",
       "    </tr>\n",
       "    <tr>\n",
       "      <th>3</th>\n",
       "      <td>ACURA TL</td>\n",
       "      <td>3.2</td>\n",
       "      <td>6</td>\n",
       "      <td>Auto-S5</td>\n",
       "      <td>2WD</td>\n",
       "      <td>Gasoline</td>\n",
       "      <td>midsize car</td>\n",
       "      <td>7.0</td>\n",
       "      <td>18.0</td>\n",
       "      <td>26.0</td>\n",
       "      <td>21.0</td>\n",
       "      <td>6</td>\n",
       "      <td>yes</td>\n",
       "    </tr>\n",
       "    <tr>\n",
       "      <th>4</th>\n",
       "      <td>ACURA TL</td>\n",
       "      <td>3.5</td>\n",
       "      <td>6</td>\n",
       "      <td>Auto-S5</td>\n",
       "      <td>2WD</td>\n",
       "      <td>Gasoline</td>\n",
       "      <td>midsize car</td>\n",
       "      <td>7.0</td>\n",
       "      <td>17.0</td>\n",
       "      <td>26.0</td>\n",
       "      <td>20.0</td>\n",
       "      <td>6</td>\n",
       "      <td>yes</td>\n",
       "    </tr>\n",
       "  </tbody>\n",
       "</table>\n",
       "</div>"
      ],
      "text/plain": [
       "       model  displ  cyl    trans drive      fuel    veh_class  \\\n",
       "0  ACURA MDX    3.7    6  Auto-S5   4WD  Gasoline          SUV   \n",
       "1  ACURA RDX    2.3    4  Auto-S5   4WD  Gasoline          SUV   \n",
       "2   ACURA RL    3.5    6  Auto-S5   4WD  Gasoline  midsize car   \n",
       "3   ACURA TL    3.2    6  Auto-S5   2WD  Gasoline  midsize car   \n",
       "4   ACURA TL    3.5    6  Auto-S5   2WD  Gasoline  midsize car   \n",
       "\n",
       "   air_pollution_score  city_mpg  hwy_mpg  cmb_mpg  greenhouse_gas_score  \\\n",
       "0                  7.0      15.0     20.0     17.0                     4   \n",
       "1                  7.0      17.0     22.0     19.0                     5   \n",
       "2                  7.0      16.0     24.0     19.0                     5   \n",
       "3                  7.0      18.0     26.0     21.0                     6   \n",
       "4                  7.0      17.0     26.0     20.0                     6   \n",
       "\n",
       "  smartway  \n",
       "0       no  \n",
       "1       no  \n",
       "2       no  \n",
       "3      yes  \n",
       "4      yes  "
      ]
     },
     "execution_count": 83,
     "metadata": {},
     "output_type": "execute_result"
    }
   ],
   "source": [
    "import seaborn as sns\n",
    "df08=pd.read_csv('clean_08.csv')\n",
    "df18=pd.read_csv('clean_18.csv')\n",
    "df08.head()"
   ]
  },
  {
   "cell_type": "code",
   "execution_count": 84,
   "id": "e492062f-85a1-487f-bf8a-bdfe4d9f190f",
   "metadata": {},
   "outputs": [
    {
     "name": "stdout",
     "output_type": "stream",
     "text": [
      "cmb_mpg                 1.000000\n",
      "city_mpg                0.980891\n",
      "hwy_mpg                 0.960533\n",
      "greenhouse_gas_score    0.947607\n",
      "cyl                    -0.770538\n",
      "displ                  -0.818799\n",
      "Name: cmb_mpg, dtype: float64\n"
     ]
    }
   ],
   "source": [
    "correlation = df08[['displ', 'cyl', 'city_mpg', 'hwy_mpg', 'cmb_mpg', 'greenhouse_gas_score']].corr()\n",
    "print(correlation['cmb_mpg'].sort_values(ascending=False))\n"
   ]
  },
  {
   "cell_type": "code",
   "execution_count": 85,
   "id": "bf6a054e-5f81-49ac-9c67-739ae5469cdf",
   "metadata": {},
   "outputs": [
    {
     "data": {
      "text/plain": [
       "<Axes: >"
      ]
     },
     "execution_count": 85,
     "metadata": {},
     "output_type": "execute_result"
    },
    {
     "data": {
      "image/png": "[encoded data removed]",
      "text/plain": [
       "<Figure size 640x480 with 2 Axes>"
      ]
     },
     "metadata": {},
     "output_type": "display_data"
    }
   ],
   "source": [
    "sns.heatmap(correlation,cmap=\"YlGnBu\")"
   ]
  },
  {
   "cell_type": "markdown",
   "id": "8ee1fa91-a6d7-4413-b6a5-71961b037125",
   "metadata": {},
   "source": [
    "#### Q5. How much improvement is there in miles/gallon or mpg? Also, which vehicle has improved the most?"
   ]
  },
  {
   "cell_type": "code",
   "execution_count": 87,
   "id": "8fc0fc7e-8f02-4f61-baab-7825f1260d88",
   "metadata": {},
   "outputs": [],
   "source": [
    "df_new=pd.merge(df08,df18, on = 'model' )\n",
    "df_new['improv'] = df_new['cmb_mpg_x'] - df_new['cmb_mpg_y']"
   ]
  },
  {
   "cell_type": "code",
   "execution_count": 88,
   "id": "a1834afe-1c0e-4000-9928-83c7799f68ef",
   "metadata": {},
   "outputs": [],
   "source": [
    "df_new.sort_values(by = 'improv', ascending = False, inplace = True)"
   ]
  },
  {
   "cell_type": "code",
   "execution_count": 89,
   "id": "0f6766a2-288b-41e8-9fdb-be7d8fec77dc",
   "metadata": {},
   "outputs": [
    {
     "data": {
      "text/plain": [
       "106     6.0\n",
       "189     5.0\n",
       "239     5.0\n",
       "436     4.0\n",
       "188     4.0\n",
       "       ... \n",
       "114   -24.0\n",
       "122   -26.0\n",
       "910   -46.0\n",
       "905   -46.0\n",
       "915   -47.0\n",
       "Name: improv, Length: 922, dtype: float64"
      ]
     },
     "execution_count": 89,
     "metadata": {},
     "output_type": "execute_result"
    }
   ],
   "source": [
    "df_new['improv']"
   ]
  },
  {
   "cell_type": "code",
   "execution_count": 90,
   "id": "6f36d72e-d706-473c-b971-306a6d48152b",
   "metadata": {},
   "outputs": [
    {
     "name": "stdout",
     "output_type": "stream",
     "text": [
      "the vehicle with most improvement is : CHEVROLET Impala\n"
     ]
    }
   ],
   "source": [
    "print(\"the vehicle with most improvement is :\", df_new.iloc[0,0])"
   ]
  },
  {
   "cell_type": "markdown",
   "id": "a0ec90be-d608-4bce-9306-48aeb3710e7b",
   "metadata": {},
   "source": [
    "## Indians and elections are the things which keeps on happening almost every month and every year. Well, Loksabha elections is one such which happens after every 5 years, well we have data of candidates and electors from 2009 and 2014. Compare the dataset and compute the results visually"
   ]
  },
  {
   "cell_type": "markdown",
   "id": "5d62e1eb-f022-4d07-857e-4199463b3628",
   "metadata": {},
   "source": [
    "#### 1. Create grand alliances\n",
    "- a. 'INC','NCP', 'RJD', 'DMK', 'IUML',\r\n",
    "'JMM','JD(s)','KC(M)','RLD','RSP','CMP(J)','KC(J)','PPI','MD' as UP\n",
    "- b. 'BJP','SS', 'LJP', 'SAD', 'RLSP',\r\n",
    "'AD','PMK','NPP','AINRC','NPF','RPI(A)','BPF','JD(U)','SDF','NDPP','MNF','RIDALOS','KM\r\n",
    "DK','IJK','PNK','JSP','GJM','MGP','GFP','GVP','AJSU','IPFT','MPP','KPP','JKPC','KC(T)','BDJ\r\n",
    "S','AGP','JSS','PPA','UDP','HSPDP','PSP','JRS','KVC','PNP','SBSP','KC(N)','PDF','MDPF' as\r\n",
    "- NDA\r\n",
    "c. 'YSRCP','AAAP', 'IND', 'AIUDF', 'BLSP', 'JKPDP', 'JD(S)', 'INLD', 'CPI', 'AIMIM',\r\n",
    "'KEC(M)','SWP', 'NPEP', 'JKN', 'AIFB', 'MUL', 'AUDF', 'BOPF', 'BVA', 'HJCBL',\r\n",
    "'JVM','MDMK' as OthersA"
   ]
  },
  {
   "cell_type": "code",
   "execution_count": 93,
   "id": "c9e18434-45b4-440c-a6df-10b6824e8713",
   "metadata": {},
   "outputs": [],
   "source": [
    "elc_2009_c1 = pd.read_csv(\"LS2009Candidate.csv\")\n",
    "elc_2009_1 = pd.read_csv(\"LS2009Electors.csv\")\n",
    "elc_2014_c1 = pd.read_csv(\"LS2014Candidate.csv\")\n",
    "elc_2014_1  = pd.read_csv(\"LS2014Electors.csv\")"
   ]
  },
  {
   "cell_type": "code",
   "execution_count": 94,
   "id": "39bd9c35-01e0-46db-b9b4-2fad3bfdd435",
   "metadata": {},
   "outputs": [],
   "source": [
    "elc_2009_c = pd.read_csv(\"LS2009Candidate.csv\")\n",
    "elc_2009 = pd.read_csv(\"LS2009Electors.csv\")\n",
    "elc_2014_c = pd.read_csv(\"LS2014Candidate.csv\")\n",
    "elc_2014  = pd.read_csv(\"LS2014Electors.csv\")"
   ]
  },
  {
   "cell_type": "code",
   "execution_count": 95,
   "id": "1ff58d9a-1640-448a-a3d0-667bb2e7a4a2",
   "metadata": {
    "scrolled": true
   },
   "outputs": [],
   "source": [
    "elc_2009_c.loc[elc_2009_c['Party Abbreviation'].isin(['INC','NCP', 'RJD', 'DMK', 'IUML',\n",
    "'JMM','JD(s)','KC(M)','RLD','RSP','CMP(J)','KC(J)','PPI','MD']), ['Party Abbreviation']] = 'UPA'\n",
    "\n",
    "\n",
    "elc_2014_c.loc[elc_2014_c['Party Abbreviation'].isin(['INC','NCP', 'RJD', 'DMK', 'IUML',\n",
    "'JMM','JD(s)','KC(M)','RLD','RSP','CMP(J)','KC(J)','PPI','MD']), ['Party Abbreviation']] = 'UPA'"
   ]
  },
  {
   "cell_type": "code",
   "execution_count": 96,
   "id": "2ef7c99a-7c59-475f-9ee5-a9055575d52d",
   "metadata": {},
   "outputs": [],
   "source": [
    "elc_2009_c.loc[elc_2009_c['Party Abbreviation'].isin(['BJP','SS', 'LJP', 'SAD', 'RLSP', 'AD','PMK','NPP','AINRC','NPF','RPI(A)','BPF','JD(U)','SDF','NDPP','MNF','RIDALOS','KM DK','IJK','PNK',\n",
    "                                                      'JSP','GJM','MGP','GFP','GVP','AJSU','IPFT','MPP','KPP','JKPC'\n",
    "                                                      ,'KC(T)','BDJ S','AGP','JSS','PPA','UDP','HSPDP','PSP','JRS','KVC','PNP','SBSP','KC(N)','PDF','MDPF']), ['Party Abbreviation']] = 'NDA'\n",
    "\n",
    "elc_2014_c.loc[elc_2014_c['Party Abbreviation'].isin(['BJP','SS', 'LJP', 'SAD', 'RLSP', 'AD','PMK','NPP','AINRC','NPF','RPI(A)','BPF','JD(U)','SDF','NDPP','MNF','RIDALOS','KM DK','IJK','PNK',\n",
    "                                                      'JSP','GJM','MGP','GFP','GVP','AJSU','IPFT','MPP','KPP','JKPC'\n",
    "                                                      ,'KC(T)','BDJ S','AGP','JSS','PPA','UDP','HSPDP','PSP','JRS','KVC','PNP','SBSP','KC(N)','PDF','MDPF']), ['Party Abbreviation']] = 'NDA'"
   ]
  },
  {
   "cell_type": "code",
   "execution_count": 97,
   "id": "f279596f-acdb-4468-9a2d-afa15374fb83",
   "metadata": {},
   "outputs": [],
   "source": [
    "elc_2009_c.loc[~elc_2009_c['Party Abbreviation'].isin(['UPA', 'NDA']), ['Party Abbreviation']] = 'Others'\n",
    "elc_2014_c.loc[~elc_2014_c['Party Abbreviation'].isin(['UPA', 'NDA']), ['Party Abbreviation']] = 'Others'\n"
   ]
  },
  {
   "cell_type": "code",
   "execution_count": 98,
   "id": "d7db5b24-11d4-4eff-8830-a825f3da4611",
   "metadata": {},
   "outputs": [
    {
     "data": {
      "text/plain": [
       "array(['Others', 'UPA', 'NDA'], dtype=object)"
      ]
     },
     "execution_count": 98,
     "metadata": {},
     "output_type": "execute_result"
    }
   ],
   "source": [
    "elc_2009_c['Party Abbreviation'].unique()"
   ]
  },
  {
   "cell_type": "code",
   "execution_count": 99,
   "id": "70cb811e-62aa-4e53-91b3-32267e5b74cc",
   "metadata": {},
   "outputs": [
    {
     "data": {
      "text/plain": [
       "array(['Others', 'UPA', 'NDA'], dtype=object)"
      ]
     },
     "execution_count": 99,
     "metadata": {},
     "output_type": "execute_result"
    }
   ],
   "source": [
    "elc_2014_c['Party Abbreviation'].unique()"
   ]
  },
  {
   "cell_type": "markdown",
   "id": "59c6f2d8-d4a0-42a9-98a3-9eaa8d192784",
   "metadata": {},
   "source": [
    "#### 2. Create Winning seats distribution by Major Political Parties & Alliances for 2009 & 2014"
   ]
  },
  {
   "cell_type": "code",
   "execution_count": 101,
   "id": "05151eef-e3d8-4813-a22f-3e8bca56c0ff",
   "metadata": {},
   "outputs": [
    {
     "data": {
      "text/plain": [
       "Party Abbreviation\n",
       "NDA       188728535\n",
       "Others    227302484\n",
       "UPA       137771927\n",
       "Name: Total Votes Polled, dtype: int64"
      ]
     },
     "execution_count": 101,
     "metadata": {},
     "output_type": "execute_result"
    }
   ],
   "source": [
    "elc_2014_c.groupby('Party Abbreviation')['Total Votes Polled'].sum()"
   ]
  },
  {
   "cell_type": "code",
   "execution_count": 102,
   "id": "0198439a-2bb2-493b-969a-10297ec1c183",
   "metadata": {},
   "outputs": [
    {
     "data": {
      "text/plain": [
       "Party Abbreviation\n",
       "NDA        96351495.0\n",
       "Others    173444041.0\n",
       "UPA       145272088.0\n",
       "Name: Total Votes Polled, dtype: float64"
      ]
     },
     "execution_count": 102,
     "metadata": {},
     "output_type": "execute_result"
    }
   ],
   "source": [
    "elc_2009_c.groupby('Party Abbreviation')['Total Votes Polled'].sum()"
   ]
  },
  {
   "cell_type": "markdown",
   "id": "3ebae4c6-d19e-4b0e-bbf0-09e43738a8c4",
   "metadata": {},
   "source": [
    "#### 3. How many seats won by Alliances and Major Political Parties ?"
   ]
  },
  {
   "cell_type": "code",
   "execution_count": 104,
   "id": "7b8ba076-68a1-49a5-90e8-3822b23486f5",
   "metadata": {},
   "outputs": [
    {
     "data": {
      "text/plain": [
       "Party Abbreviation\n",
       "NDA        744\n",
       "Others    6633\n",
       "UPA        650\n",
       "Name: Total Votes Polled, dtype: int64"
      ]
     },
     "execution_count": 104,
     "metadata": {},
     "output_type": "execute_result"
    }
   ],
   "source": [
    "elc_2009_c.groupby('Party Abbreviation')['Total Votes Polled'].count()"
   ]
  },
  {
   "cell_type": "code",
   "execution_count": 105,
   "id": "95edc63b-9332-4a55-b738-3e7e1cf798c6",
   "metadata": {},
   "outputs": [
    {
     "data": {
      "text/html": [
       "<div>\n",
       "<style scoped>\n",
       "    .dataframe tbody tr th:only-of-type {\n",
       "        vertical-align: middle;\n",
       "    }\n",
       "\n",
       "    .dataframe tbody tr th {\n",
       "        vertical-align: top;\n",
       "    }\n",
       "\n",
       "    .dataframe thead th {\n",
       "        text-align: right;\n",
       "    }\n",
       "</style>\n",
       "<table border=\"1\" class=\"dataframe\">\n",
       "  <thead>\n",
       "    <tr style=\"text-align: right;\">\n",
       "      <th></th>\n",
       "      <th>STATE CODE</th>\n",
       "      <th>STATE</th>\n",
       "      <th>PC NO</th>\n",
       "      <th>PARLIAMENTARY CONSTITUENCY</th>\n",
       "      <th>Total voters</th>\n",
       "      <th>Total_Electors</th>\n",
       "      <th>TOT_CONTESTANT</th>\n",
       "      <th>POLL PERCENTAGE</th>\n",
       "    </tr>\n",
       "  </thead>\n",
       "  <tbody>\n",
       "    <tr>\n",
       "      <th>0</th>\n",
       "      <td>S01</td>\n",
       "      <td>Andhra Pradesh</td>\n",
       "      <td>1</td>\n",
       "      <td>Adilabad</td>\n",
       "      <td>864165</td>\n",
       "      <td>1131211</td>\n",
       "      <td>9</td>\n",
       "      <td>76.39</td>\n",
       "    </tr>\n",
       "    <tr>\n",
       "      <th>1</th>\n",
       "      <td>S01</td>\n",
       "      <td>Andhra Pradesh</td>\n",
       "      <td>2</td>\n",
       "      <td>Peddapalle</td>\n",
       "      <td>905332</td>\n",
       "      <td>1315642</td>\n",
       "      <td>15</td>\n",
       "      <td>68.81</td>\n",
       "    </tr>\n",
       "    <tr>\n",
       "      <th>2</th>\n",
       "      <td>S01</td>\n",
       "      <td>Andhra Pradesh</td>\n",
       "      <td>3</td>\n",
       "      <td>Karimnagar</td>\n",
       "      <td>990646</td>\n",
       "      <td>1496211</td>\n",
       "      <td>15</td>\n",
       "      <td>66.21</td>\n",
       "    </tr>\n",
       "    <tr>\n",
       "      <th>3</th>\n",
       "      <td>S01</td>\n",
       "      <td>Andhra Pradesh</td>\n",
       "      <td>4</td>\n",
       "      <td>Nizamabad</td>\n",
       "      <td>891508</td>\n",
       "      <td>1333271</td>\n",
       "      <td>12</td>\n",
       "      <td>66.87</td>\n",
       "    </tr>\n",
       "    <tr>\n",
       "      <th>4</th>\n",
       "      <td>S01</td>\n",
       "      <td>Andhra Pradesh</td>\n",
       "      <td>5</td>\n",
       "      <td>Zahirabad</td>\n",
       "      <td>1017372</td>\n",
       "      <td>1359566</td>\n",
       "      <td>10</td>\n",
       "      <td>74.83</td>\n",
       "    </tr>\n",
       "  </tbody>\n",
       "</table>\n",
       "</div>"
      ],
      "text/plain": [
       "  STATE CODE           STATE  PC NO PARLIAMENTARY CONSTITUENCY  Total voters  \\\n",
       "0        S01  Andhra Pradesh      1                   Adilabad        864165   \n",
       "1        S01  Andhra Pradesh      2                 Peddapalle        905332   \n",
       "2        S01  Andhra Pradesh      3                 Karimnagar        990646   \n",
       "3        S01  Andhra Pradesh      4                  Nizamabad        891508   \n",
       "4        S01  Andhra Pradesh      5                  Zahirabad       1017372   \n",
       "\n",
       "   Total_Electors  TOT_CONTESTANT  POLL PERCENTAGE  \n",
       "0         1131211               9            76.39  \n",
       "1         1315642              15            68.81  \n",
       "2         1496211              15            66.21  \n",
       "3         1333271              12            66.87  \n",
       "4         1359566              10            74.83  "
      ]
     },
     "execution_count": 105,
     "metadata": {},
     "output_type": "execute_result"
    }
   ],
   "source": [
    "elc_2009_1.head()"
   ]
  },
  {
   "cell_type": "code",
   "execution_count": 106,
   "id": "c739466c-ef49-46d0-8486-10db1140a9fb",
   "metadata": {},
   "outputs": [
    {
     "data": {
      "text/html": [
       "<div>\n",
       "<style scoped>\n",
       "    .dataframe tbody tr th:only-of-type {\n",
       "        vertical-align: middle;\n",
       "    }\n",
       "\n",
       "    .dataframe tbody tr th {\n",
       "        vertical-align: top;\n",
       "    }\n",
       "\n",
       "    .dataframe thead th {\n",
       "        text-align: right;\n",
       "    }\n",
       "</style>\n",
       "<table border=\"1\" class=\"dataframe\">\n",
       "  <thead>\n",
       "    <tr style=\"text-align: right;\">\n",
       "      <th></th>\n",
       "      <th>ST_CODE</th>\n",
       "      <th>State name</th>\n",
       "      <th>Month</th>\n",
       "      <th>Year</th>\n",
       "      <th>PC Number</th>\n",
       "      <th>PC name</th>\n",
       "      <th>PC Type</th>\n",
       "      <th>Candidate Name</th>\n",
       "      <th>Candidate Sex</th>\n",
       "      <th>Candidate Category</th>\n",
       "      <th>Candidate Age</th>\n",
       "      <th>Party Abbreviation</th>\n",
       "      <th>Total Votes Polled</th>\n",
       "      <th>Position</th>\n",
       "    </tr>\n",
       "  </thead>\n",
       "  <tbody>\n",
       "    <tr>\n",
       "      <th>0</th>\n",
       "      <td>S01</td>\n",
       "      <td>Andhra Pradesh</td>\n",
       "      <td>3</td>\n",
       "      <td>2009</td>\n",
       "      <td>1</td>\n",
       "      <td>Adilabad</td>\n",
       "      <td>ST</td>\n",
       "      <td>RATHOD RAMESH</td>\n",
       "      <td>M</td>\n",
       "      <td>ST</td>\n",
       "      <td>43.0</td>\n",
       "      <td>Others</td>\n",
       "      <td>372268.0</td>\n",
       "      <td>1.0</td>\n",
       "    </tr>\n",
       "    <tr>\n",
       "      <th>1</th>\n",
       "      <td>S01</td>\n",
       "      <td>Andhra Pradesh</td>\n",
       "      <td>3</td>\n",
       "      <td>2009</td>\n",
       "      <td>1</td>\n",
       "      <td>Adilabad</td>\n",
       "      <td>ST</td>\n",
       "      <td>KOTNAK RAMESH</td>\n",
       "      <td>M</td>\n",
       "      <td>ST</td>\n",
       "      <td>39.0</td>\n",
       "      <td>UPA</td>\n",
       "      <td>257181.0</td>\n",
       "      <td>2.0</td>\n",
       "    </tr>\n",
       "    <tr>\n",
       "      <th>2</th>\n",
       "      <td>S01</td>\n",
       "      <td>Andhra Pradesh</td>\n",
       "      <td>3</td>\n",
       "      <td>2009</td>\n",
       "      <td>1</td>\n",
       "      <td>Adilabad</td>\n",
       "      <td>ST</td>\n",
       "      <td>MESRAM NAGO RAO</td>\n",
       "      <td>M</td>\n",
       "      <td>ST</td>\n",
       "      <td>59.0</td>\n",
       "      <td>Others</td>\n",
       "      <td>112930.0</td>\n",
       "      <td>3.0</td>\n",
       "    </tr>\n",
       "    <tr>\n",
       "      <th>3</th>\n",
       "      <td>S01</td>\n",
       "      <td>Andhra Pradesh</td>\n",
       "      <td>3</td>\n",
       "      <td>2009</td>\n",
       "      <td>1</td>\n",
       "      <td>Adilabad</td>\n",
       "      <td>ST</td>\n",
       "      <td>ADE TUKARAM</td>\n",
       "      <td>M</td>\n",
       "      <td>ST</td>\n",
       "      <td>55.0</td>\n",
       "      <td>NDA</td>\n",
       "      <td>57931.0</td>\n",
       "      <td>4.0</td>\n",
       "    </tr>\n",
       "    <tr>\n",
       "      <th>4</th>\n",
       "      <td>S01</td>\n",
       "      <td>Andhra Pradesh</td>\n",
       "      <td>3</td>\n",
       "      <td>2009</td>\n",
       "      <td>1</td>\n",
       "      <td>Adilabad</td>\n",
       "      <td>ST</td>\n",
       "      <td>RATHOD SADASHIV NAIK</td>\n",
       "      <td>M</td>\n",
       "      <td>ST</td>\n",
       "      <td>50.0</td>\n",
       "      <td>Others</td>\n",
       "      <td>16471.0</td>\n",
       "      <td>5.0</td>\n",
       "    </tr>\n",
       "  </tbody>\n",
       "</table>\n",
       "</div>"
      ],
      "text/plain": [
       "  ST_CODE      State name  Month  Year  PC Number   PC name PC Type  \\\n",
       "0     S01  Andhra Pradesh      3  2009          1  Adilabad      ST   \n",
       "1     S01  Andhra Pradesh      3  2009          1  Adilabad      ST   \n",
       "2     S01  Andhra Pradesh      3  2009          1  Adilabad      ST   \n",
       "3     S01  Andhra Pradesh      3  2009          1  Adilabad      ST   \n",
       "4     S01  Andhra Pradesh      3  2009          1  Adilabad      ST   \n",
       "\n",
       "         Candidate Name Candidate Sex Candidate Category  Candidate Age  \\\n",
       "0         RATHOD RAMESH             M                 ST           43.0   \n",
       "1         KOTNAK RAMESH             M                 ST           39.0   \n",
       "2       MESRAM NAGO RAO             M                 ST           59.0   \n",
       "3           ADE TUKARAM             M                 ST           55.0   \n",
       "4  RATHOD SADASHIV NAIK             M                 ST           50.0   \n",
       "\n",
       "  Party Abbreviation  Total Votes Polled  Position  \n",
       "0             Others            372268.0       1.0  \n",
       "1                UPA            257181.0       2.0  \n",
       "2             Others            112930.0       3.0  \n",
       "3                NDA             57931.0       4.0  \n",
       "4             Others             16471.0       5.0  "
      ]
     },
     "execution_count": 106,
     "metadata": {},
     "output_type": "execute_result"
    }
   ],
   "source": [
    "elc_2009_c.head()"
   ]
  },
  {
   "cell_type": "code",
   "execution_count": 107,
   "id": "97a5488e-2238-40c0-b66b-a918ca85bbc9",
   "metadata": {},
   "outputs": [
    {
     "data": {
      "text/plain": [
       "Party Abbreviation\n",
       "NDA       143\n",
       "Others    153\n",
       "UPA       245\n",
       "Name: PC Number, dtype: int64"
      ]
     },
     "execution_count": 107,
     "metadata": {},
     "output_type": "execute_result"
    }
   ],
   "source": [
    "elc_2009_c.groupby(['Position', 'Party Abbreviation'])['PC Number'].count()[1]"
   ]
  },
  {
   "cell_type": "code",
   "execution_count": 108,
   "id": "c2f009df-6383-4071-9aa4-85c0bc3f581d",
   "metadata": {},
   "outputs": [
    {
     "data": {
      "text/plain": [
       "Party Abbreviation\n",
       "NDA       300\n",
       "Others    184\n",
       "UPA        59\n",
       "Name: PC Number, dtype: int64"
      ]
     },
     "execution_count": 108,
     "metadata": {},
     "output_type": "execute_result"
    }
   ],
   "source": [
    "elc_2014_c.groupby(['Position', 'Party Abbreviation'])['PC Number'].count()[1]"
   ]
  },
  {
   "cell_type": "markdown",
   "id": "0823647d-f1a4-4640-a7af-b5c5c72a5fd4",
   "metadata": {},
   "source": [
    "#### 4. Plot comparatively seats won based on candidate category as General, ST and SC for 2009 & 2014"
   ]
  },
  {
   "cell_type": "code",
   "execution_count": 110,
   "id": "bd8f8b02-35f8-4e6d-925f-5e0673803f97",
   "metadata": {},
   "outputs": [
    {
     "data": {
      "text/plain": [
       "PC Type\n",
       "GEN    412\n",
       "SC      83\n",
       "SC       1\n",
       "ST      47\n",
       "Name: PC Number, dtype: int64"
      ]
     },
     "execution_count": 110,
     "metadata": {},
     "output_type": "execute_result"
    }
   ],
   "source": [
    "elc_2014_c.groupby(['Position', 'PC Type'])['PC Number'].count()[1]"
   ]
  },
  {
   "cell_type": "code",
   "execution_count": 111,
   "id": "f0b8a8d1-ad8c-43e4-be9b-02dafd73e80a",
   "metadata": {},
   "outputs": [
    {
     "data": {
      "text/plain": [
       "PC Type\n",
       "GEN    411\n",
       "SC      83\n",
       "ST      47\n",
       "Name: PC Number, dtype: int64"
      ]
     },
     "execution_count": 111,
     "metadata": {},
     "output_type": "execute_result"
    }
   ],
   "source": [
    "elc_2009_c.groupby(['Position', 'PC Type'])['PC Number'].count()[1]"
   ]
  },
  {
   "cell_type": "markdown",
   "id": "d3682389-32cd-4dcc-ae2d-d067ca2740ac",
   "metadata": {},
   "source": [
    "#### 5. Plot the age distribution of winners of both 2014 and 2009 elections"
   ]
  },
  {
   "cell_type": "code",
   "execution_count": 113,
   "id": "3f3aa148-7d9d-49a4-8a1e-f3457afb9cd6",
   "metadata": {},
   "outputs": [],
   "source": [
    "df1 = elc_2014_c[elc_2014_c['Position'] == 1]"
   ]
  },
  {
   "cell_type": "code",
   "execution_count": 114,
   "id": "be71dc6d-60e2-4e37-9b26-caf170e28dd3",
   "metadata": {},
   "outputs": [],
   "source": [
    "df2 = elc_2009_c[elc_2009_c['Position'] == 1]"
   ]
  },
  {
   "cell_type": "code",
   "execution_count": 115,
   "id": "441d02a0-e0b7-43ce-8673-c310b3331082",
   "metadata": {},
   "outputs": [
    {
     "data": {
      "text/plain": [
       "Text(0.5, 0, 'Age')"
      ]
     },
     "execution_count": 115,
     "metadata": {},
     "output_type": "execute_result"
    },
    {
     "data": {
      "image/png": "[encoded data removed]",
      "text/plain": [
       "<Figure size 640x480 with 1 Axes>"
      ]
     },
     "metadata": {},
     "output_type": "display_data"
    },
    {
     "data": {
      "image/png": "[encoded data removed]",
      "text/plain": [
       "<Figure size 640x480 with 1 Axes>"
      ]
     },
     "metadata": {},
     "output_type": "display_data"
    }
   ],
   "source": [
    "df1.plot(kind = 'hist', y = 'Candidate Age')\n",
    "plt.title(\"2014-Age-distribution\")\n",
    "plt.ylabel(\"No. of constituencies\")\n",
    "plt.xlabel(\"Age\")\n",
    "df2.plot(kind = 'hist', y = 'Candidate Age')\n",
    "plt.title(\"2009-Age-distribution\")\n",
    "plt.ylabel(\"No. of constituencies\")\n",
    "plt.xlabel(\"Age\")"
   ]
  },
  {
   "cell_type": "markdown",
   "id": "4b778c16-b274-4664-8f00-10c244a32145",
   "metadata": {},
   "source": [
    "#### 6. Separately plot age distribution of NDA & UPA candidates"
   ]
  },
  {
   "cell_type": "code",
   "execution_count": 117,
   "id": "ef41d664-d67c-4d5d-8b72-f7a552e625f0",
   "metadata": {},
   "outputs": [],
   "source": [
    "df1_NDA = elc_2014_c[elc_2014_c['Party Abbreviation'] == 'NDA']\n",
    "df1_UPA = elc_2014_c[elc_2014_c['Party Abbreviation'] == 'UPA']"
   ]
  },
  {
   "cell_type": "code",
   "execution_count": 118,
   "id": "4da87740-3017-402b-a42f-1609b9971506",
   "metadata": {},
   "outputs": [
    {
     "data": {
      "text/plain": [
       "Text(0.5, 1.0, '2014-Age-distribution for UPA')"
      ]
     },
     "execution_count": 118,
     "metadata": {},
     "output_type": "execute_result"
    },
    {
     "data": {
      "image/png": "[encoded data removed]",
      "text/plain": [
       "<Figure size 640x480 with 1 Axes>"
      ]
     },
     "metadata": {},
     "output_type": "display_data"
    },
    {
     "data": {
      "image/png": "[encoded data removed]",
      "text/plain": [
       "<Figure size 640x480 with 1 Axes>"
      ]
     },
     "metadata": {},
     "output_type": "display_data"
    }
   ],
   "source": [
    "df1_NDA.plot(kind = 'hist', y = 'Candidate Age')\n",
    "plt.title(\"2014-Age-distribution for NDA\")\n",
    "df1_UPA.plot(kind= 'hist', y = 'Candidate Age')\n",
    "plt.title('2014-Age-distribution for UPA')"
   ]
  },
  {
   "cell_type": "code",
   "execution_count": 119,
   "id": "1c872f90-4b27-4c80-ae97-1be2b1d5ab14",
   "metadata": {},
   "outputs": [
    {
     "data": {
      "text/plain": [
       "Text(0.5, 1.0, '2009-Age-distribution for UPA')"
      ]
     },
     "execution_count": 119,
     "metadata": {},
     "output_type": "execute_result"
    },
    {
     "data": {
      "image/png": "[encoded data removed]",
      "text/plain": [
       "<Figure size 640x480 with 1 Axes>"
      ]
     },
     "metadata": {},
     "output_type": "display_data"
    },
    {
     "data": {
      "image/png": "[encoded data removed]",
      "text/plain": [
       "<Figure size 640x480 with 1 Axes>"
      ]
     },
     "metadata": {},
     "output_type": "display_data"
    }
   ],
   "source": [
    "df2_UPA = elc_2009_c[elc_2009_c['Party Abbreviation'] == 'UPA']\n",
    "df2_NDA= elc_2009_c[elc_2009_c['Party Abbreviation'] == 'NDA']\n",
    "df2_NDA.plot(kind = 'hist', y = 'Candidate Age')\n",
    "plt.title(\"2009-Age-distribution for NDA\")\n",
    "df2_UPA.plot(kind = 'hist', y = 'Candidate Age')\n",
    "plt.title(\"2009-Age-distribution for UPA\")"
   ]
  },
  {
   "cell_type": "markdown",
   "id": "5dc51094-eae4-4605-975a-1707b71fb80e",
   "metadata": {},
   "source": [
    "#### 7. Plot Gender distributions of 2009 & 2014 elections"
   ]
  },
  {
   "cell_type": "code",
   "execution_count": 121,
   "id": "c5b86ceb-88eb-4233-8405-3cfdbff319d6",
   "metadata": {},
   "outputs": [
    {
     "data": {
      "text/plain": [
       "<Axes: ylabel='Frequency'>"
      ]
     },
     "execution_count": 121,
     "metadata": {},
     "output_type": "execute_result"
    },
    {
     "data": {
      "image/png": "[encoded data removed]",
      "text/plain": [
       "<Figure size 640x480 with 1 Axes>"
      ]
     },
     "metadata": {},
     "output_type": "display_data"
    },
    {
     "data": {
      "image/png": "[encoded data removed]",
      "text/plain": [
       "<Figure size 640x480 with 1 Axes>"
      ]
     },
     "metadata": {},
     "output_type": "display_data"
    }
   ],
   "source": [
    "df3_M=elc_2014_c[elc_2014_c['Candidate Sex']== 'M']\n",
    "df4_F=elc_2014_c[elc_2014_c['Candidate Sex']== 'F']\n",
    "df3_M.plot(kind = 'hist', y = 'Candidate Age')\n",
    "df4_F.plot(kind = 'hist', y = 'Candidate Age')"
   ]
  },
  {
   "cell_type": "code",
   "execution_count": 122,
   "id": "bfebb28c-3b29-4f4d-a3dd-1352375b4beb",
   "metadata": {},
   "outputs": [
    {
     "data": {
      "text/plain": [
       "<Axes: ylabel='Frequency'>"
      ]
     },
     "execution_count": 122,
     "metadata": {},
     "output_type": "execute_result"
    },
    {
     "data": {
      "image/png": "[encoded data removed]",
      "text/plain": [
       "<Figure size 640x480 with 1 Axes>"
      ]
     },
     "metadata": {},
     "output_type": "display_data"
    },
    {
     "data": {
      "image/png": "[encoded data removed]",
      "text/plain": [
       "<Figure size 640x480 with 1 Axes>"
      ]
     },
     "metadata": {},
     "output_type": "display_data"
    }
   ],
   "source": [
    "df3_M=elc_2009_c[elc_2009_c['Candidate Sex']== 'M']\n",
    "df4_F=elc_2009_c[elc_2009_c['Candidate Sex']== 'F']\n",
    "df3_M.plot(kind = 'hist', y = 'Candidate Age')\n",
    "df4_F.plot(kind = 'hist', y = 'Candidate Age')"
   ]
  },
  {
   "cell_type": "markdown",
   "id": "1f2aeead-1cec-48a0-a654-6d0bc25f1426",
   "metadata": {},
   "source": [
    "#### 8. Plot gender distribution of NDA and UPA separately for 2009 elections"
   ]
  },
  {
   "cell_type": "code",
   "execution_count": 124,
   "id": "8d6be916-1030-4880-9c09-a6e9576113b8",
   "metadata": {},
   "outputs": [
    {
     "data": {
      "text/plain": [
       "Text(0.5, 1.0, '2009-Age-distribution of Females for UPA')"
      ]
     },
     "execution_count": 124,
     "metadata": {},
     "output_type": "execute_result"
    },
    {
     "data": {
      "image/png": "[encoded data removed]",
      "text/plain": [
       "<Figure size 640x480 with 1 Axes>"
      ]
     },
     "metadata": {},
     "output_type": "display_data"
    },
    {
     "data": {
      "image/png": "[encoded data removed]",
      "text/plain": [
       "<Figure size 640x480 with 1 Axes>"
      ]
     },
     "metadata": {},
     "output_type": "display_data"
    },
    {
     "data": {
      "image/png": "[encoded data removed]",
      "text/plain": [
       "<Figure size 640x480 with 1 Axes>"
      ]
     },
     "metadata": {},
     "output_type": "display_data"
    },
    {
     "data": {
      "image/png": "[encoded data removed]",
      "text/plain": [
       "<Figure size 640x480 with 1 Axes>"
      ]
     },
     "metadata": {},
     "output_type": "display_data"
    }
   ],
   "source": [
    "df3_NDA_M=elc_2009_c[ (elc_2009_c['Party Abbreviation'] == 'NDA') & (elc_2009_c['Candidate Sex']== 'M')]\n",
    "df3_NDA_F=elc_2009_c[ (elc_2009_c['Party Abbreviation'] == 'NDA') & (elc_2009_c['Candidate Sex']== 'F')]\n",
    "\n",
    "df3_UPA_M=elc_2009_c[ (elc_2009_c['Party Abbreviation'] == 'UPA') & (elc_2009_c['Candidate Sex']== 'M')]\n",
    "df3_UPA_F=elc_2009_c[ (elc_2009_c['Party Abbreviation'] == 'UPA') & (elc_2009_c['Candidate Sex']== 'F')]\n",
    "\n",
    "df3_NDA_M.plot(kind = 'hist', y = 'Candidate Age')\n",
    "plt.title(\"2009-Age-distribution of Males for NDA\")\n",
    "df3_NDA_F.plot(kind = 'hist', y = 'Candidate Age')\n",
    "plt.title(\"2009-Age-distribution of Females for NDA\")\n",
    "\n",
    "\n",
    "df3_UPA_M.plot(kind = 'hist', y = 'Candidate Age')\n",
    "plt.title(\"2009-Age-distribution of Males for UPA\")\n",
    "df3_UPA_F.plot(kind = 'hist', y = 'Candidate Age')\n",
    "plt.title(\"2009-Age-distribution of Females for UPA\")\n"
   ]
  },
  {
   "cell_type": "markdown",
   "id": "847a8b88-c39f-41ea-98be-2dd277b01d0b",
   "metadata": {},
   "source": [
    "#### 9. Plot gender distribution of NDA and UPA separately for 2014 elections"
   ]
  },
  {
   "cell_type": "code",
   "execution_count": 126,
   "id": "6a200e4c-dc7b-490a-876f-f7092d586ba8",
   "metadata": {},
   "outputs": [
    {
     "data": {
      "text/plain": [
       "Text(0.5, 1.0, '2014-Age-distribution of Females for UPA')"
      ]
     },
     "execution_count": 126,
     "metadata": {},
     "output_type": "execute_result"
    },
    {
     "data": {
      "image/png": "[encoded data removed]",
      "text/plain": [
       "<Figure size 640x480 with 1 Axes>"
      ]
     },
     "metadata": {},
     "output_type": "display_data"
    },
    {
     "data": {
      "image/png": "[encoded data removed]",
      "text/plain": [
       "<Figure size 640x480 with 1 Axes>"
      ]
     },
     "metadata": {},
     "output_type": "display_data"
    },
    {
     "data": {
      "image/png": "[encoded data removed]",
      "text/plain": [
       "<Figure size 640x480 with 1 Axes>"
      ]
     },
     "metadata": {},
     "output_type": "display_data"
    },
    {
     "data": {
      "image/png": "[encoded data removed]",
      "text/plain": [
       "<Figure size 640x480 with 1 Axes>"
      ]
     },
     "metadata": {},
     "output_type": "display_data"
    }
   ],
   "source": [
    "df3_NDA_M=elc_2014_c[ (elc_2014_c['Party Abbreviation'] == 'NDA') & (elc_2014_c['Candidate Sex']== 'M')]\n",
    "df3_NDA_F=elc_2014_c[ (elc_2014_c['Party Abbreviation'] == 'NDA') & (elc_2014_c['Candidate Sex']== 'F')]\n",
    "\n",
    "df3_UPA_M=elc_2014_c[ (elc_2014_c['Party Abbreviation'] == 'UPA') & (elc_2014_c['Candidate Sex']== 'M')]\n",
    "df3_UPA_F=elc_2014_c[ (elc_2014_c['Party Abbreviation'] == 'UPA') & (elc_2014_c['Candidate Sex']== 'F')]\n",
    "\n",
    "df3_NDA_M.plot(kind = 'hist', y = 'Candidate Age')\n",
    "plt.title(\"2014-Age-distribution of Males for NDA\")\n",
    "\n",
    "df3_NDA_F.plot(kind = 'hist', y = 'Candidate Age')\n",
    "plt.title(\"2014-Age-distribution of Females for NDA\")\n",
    "\n",
    "df3_UPA_M.plot(kind = 'hist', y = 'Candidate Age')\n",
    "plt.title(\"2014-Age-distribution of Males for UPA\")\n",
    "\n",
    "df3_UPA_F.plot(kind = 'hist', y = 'Candidate Age')\n",
    "plt.title(\"2014-Age-distribution of Females for UPA\")"
   ]
  },
  {
   "cell_type": "markdown",
   "id": "42b64b9d-82dc-4eeb-be49-b96df6bde745",
   "metadata": {},
   "source": [
    "#### 10. Plot the poll percentage of states for 2009 & 2014 elections"
   ]
  },
  {
   "cell_type": "code",
   "execution_count": 128,
   "id": "979fd59e-17f7-47d1-a921-38306c2c5bcd",
   "metadata": {},
   "outputs": [],
   "source": [
    "df_poll_percentage = elc_2009_1.groupby('STATE')['POLL PERCENTAGE'].mean().reset_index()\n",
    "df_poll_percentage2 = elc_2014_1.groupby('STATE')['POLL PERCENTAGE'].mean().reset_index()"
   ]
  },
  {
   "cell_type": "code",
   "execution_count": 232,
   "id": "1b1d82c1-04fb-4a85-9db3-940db5df5a89",
   "metadata": {},
   "outputs": [
    {
     "data": {
      "image/png": "[encoded data removed]",
      "text/plain": [
       "<Figure size 640x480 with 1 Axes>"
      ]
     },
     "metadata": {},
     "output_type": "display_data"
    }
   ],
   "source": [
    "ax = df_poll_percentage.plot()\n",
    "df_poll_percentage2.plot(ax=ax)\n",
    "plt.legend([\"Poll Percentage 2009\", \"Poll Percentage 2014\"])\n",
    "plt.show()"
   ]
  },
  {
   "cell_type": "code",
   "execution_count": null,
   "id": "0d41d765-5614-47c4-85ec-63930b9ba69f",
   "metadata": {},
   "outputs": [],
   "source": []
  }
 ],
 "metadata": {
  "kernelspec": {
   "display_name": "Python 3 (ipykernel)",
   "language": "python",
   "name": "python3"
  },
  "language_info": {
   "codemirror_mode": {
    "name": "ipython",
    "version": 3
   },
   "file_extension": ".py",
   "mimetype": "text/x-python",
   "name": "python",
   "nbconvert_exporter": "python",
   "pygments_lexer": "ipython3",
   "version": "3.12.4"
  }
 },
 "nbformat": 4,
 "nbformat_minor": 5
}
