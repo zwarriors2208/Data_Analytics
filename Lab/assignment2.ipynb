{
 "cells": [
  {
   "cell_type": "markdown",
   "id": "fae1c595-bf3c-4f1d-9689-b08639ad46b7",
   "metadata": {
    "jp-MarkdownHeadingCollapsed": true
   },
   "source": [
    "#### 1. Write a Pandas program to create and display a one-dimensional array-like object containing an array of data using Pandas module."
   ]
  },
  {
   "cell_type": "code",
   "execution_count": 2,
   "id": "4c73a8bf-b7fd-4cfb-8704-4242be4a86d0",
   "metadata": {},
   "outputs": [],
   "source": [
    "import pandas as pd\n",
    "import numpy as np"
   ]
  },
  {
   "cell_type": "code",
   "execution_count": 9,
   "id": "c8f8b9a9-b3d1-4aed-ab59-bc7257441a3e",
   "metadata": {},
   "outputs": [
    {
     "data": {
      "text/plain": [
       "0     3\n",
       "1     5\n",
       "2     7\n",
       "3     3\n",
       "4     4\n",
       "5    56\n",
       "6     7\n",
       "7     8\n",
       "dtype: int64"
      ]
     },
     "execution_count": 9,
     "metadata": {},
     "output_type": "execute_result"
    }
   ],
   "source": [
    "a = pd.Series(data = [3,5,7,3,4,56,7,8])\n",
    "a"
   ]
  },
  {
   "cell_type": "markdown",
   "id": "c51970b5-959c-49d0-a481-8247b8867301",
   "metadata": {
    "jp-MarkdownHeadingCollapsed": true
   },
   "source": [
    "#### 2. Write a Pandas program to convert a Panda module Series to Python list and it's type."
   ]
  },
  {
   "cell_type": "code",
   "execution_count": 12,
   "id": "2078b186-58f1-4278-8efc-1fd7b5ac42d9",
   "metadata": {},
   "outputs": [
    {
     "data": {
      "text/plain": [
       "[3, 5, 7, 3, 4, 56, 7, 8]"
      ]
     },
     "execution_count": 12,
     "metadata": {},
     "output_type": "execute_result"
    }
   ],
   "source": [
    "b = a.to_list()\n",
    "b"
   ]
  },
  {
   "cell_type": "markdown",
   "id": "77f7a15a-7ea0-4c74-b64e-0d0d18228886",
   "metadata": {
    "jp-MarkdownHeadingCollapsed": true
   },
   "source": [
    "#### 3. Write a Pandas program to add, subtract, multiple and divide two Pandas Series.\n"
   ]
  },
  {
   "cell_type": "code",
   "execution_count": 28,
   "id": "67ad6410-fa3f-41a2-a73d-470a2c026421",
   "metadata": {},
   "outputs": [
    {
     "name": "stdout",
     "output_type": "stream",
     "text": [
      "addition------------->\n",
      " 0     3\n",
      "1     7\n",
      "2    11\n",
      "3    15\n",
      "4    19\n",
      "dtype: int64\n",
      "subtract------------->\n",
      " 0    1\n",
      "1    1\n",
      "2    1\n",
      "3    1\n",
      "4    1\n",
      "dtype: int64\n",
      "mulriple------------->\n",
      " 0     2\n",
      "1    12\n",
      "2    30\n",
      "3    56\n",
      "4    90\n",
      "dtype: int64\n",
      "divide------------->\n",
      " 0    2.000000\n",
      "1    1.333333\n",
      "2    1.200000\n",
      "3    1.142857\n",
      "4    1.111111\n",
      "dtype: float64\n"
     ]
    }
   ],
   "source": [
    "a = pd.Series([2, 4, 6, 8, 10])\n",
    "b = pd.Series([1, 3, 5, 7, 9])\n",
    "print(\"addition------------->\\n\", a + b)\n",
    "print(\"subtract------------->\\n\", a-b)\n",
    "print(\"mulriple------------->\\n\", a * b)\n",
    "print(\"divide------------->\\n\", a/b)"
   ]
  },
  {
   "cell_type": "markdown",
   "id": "13167ef3-fe9a-4102-a9a2-0c8188d02d98",
   "metadata": {
    "jp-MarkdownHeadingCollapsed": true
   },
   "source": [
    "#### 4. Write a Pandas program to compare the elements of the two Pandas Series.\n",
    "Sample Series: [2, 4, 6, 8, 10], [1, 3, 5, 7, 10]"
   ]
  },
  {
   "cell_type": "code",
   "execution_count": 33,
   "id": "60fe1e21-8201-42d5-87cf-24492fc80589",
   "metadata": {},
   "outputs": [
    {
     "name": "stdout",
     "output_type": "stream",
     "text": [
      "0     True\n",
      "1     True\n",
      "2     True\n",
      "3     True\n",
      "4    False\n",
      "dtype: bool\n"
     ]
    }
   ],
   "source": [
    "a = pd.Series([2, 4, 6, 8, 10])\n",
    "b = pd.Series([1, 3, 5, 7, 10])\n",
    "print(a>b)"
   ]
  },
  {
   "cell_type": "markdown",
   "id": "7274e6c4-d815-47af-a8ec-3300a142e658",
   "metadata": {
    "jp-MarkdownHeadingCollapsed": true
   },
   "source": [
    "#### 5. Write a Pandas program to convert a dictionary to a Pandas series."
   ]
  },
  {
   "cell_type": "code",
   "execution_count": 46,
   "id": "ae74c0ac-ffc0-404d-94b5-213458bb0ab1",
   "metadata": {},
   "outputs": [
    {
     "name": "stdout",
     "output_type": "stream",
     "text": [
      "converted panda series\n",
      "a    100\n",
      "b    200\n",
      "c    300\n",
      "d    400\n",
      "e    800\n",
      "dtype: int64\n"
     ]
    }
   ],
   "source": [
    "a = pd.Series({'a': 100, 'b': 200, 'c': 300, 'd': 400, 'e': 800})\n",
    "print(\"converted panda series\\n\", a, sep = \"\")"
   ]
  },
  {
   "cell_type": "markdown",
   "id": "e6aeb4b0-b52f-4f63-9679-e06c1dc48f39",
   "metadata": {
    "jp-MarkdownHeadingCollapsed": true
   },
   "source": [
    "#### 6. Write a Pandas program to convert a NumPy array to a Pandas series."
   ]
  },
  {
   "cell_type": "code",
   "execution_count": 51,
   "id": "1e11a625-0778-4257-afc7-b4818853f0b4",
   "metadata": {},
   "outputs": [
    {
     "data": {
      "text/plain": [
       "0    10\n",
       "1    20\n",
       "2    30\n",
       "3    40\n",
       "4    50\n",
       "dtype: int32"
      ]
     },
     "execution_count": 51,
     "metadata": {},
     "output_type": "execute_result"
    }
   ],
   "source": [
    "a = np.array([10,20,30,40,50])\n",
    "b = pd.Series(data = a)\n",
    "b"
   ]
  },
  {
   "cell_type": "markdown",
   "id": "44f80c05-96c8-4d69-9bf0-67da15fed872",
   "metadata": {
    "jp-MarkdownHeadingCollapsed": true
   },
   "source": [
    "#### 7. Write a Pandas program to change the data type of given a column or a Series."
   ]
  },
  {
   "cell_type": "code",
   "execution_count": 97,
   "id": "d117b84f-8ed3-40ee-a2f9-2eaac011150c",
   "metadata": {},
   "outputs": [
    {
     "data": {
      "text/plain": [
       "0    100.000000\n",
       "1    200.000000\n",
       "2           NaN\n",
       "3    300.119995\n",
       "4    400.000000\n",
       "dtype: float32"
      ]
     },
     "execution_count": 97,
     "metadata": {},
     "output_type": "execute_result"
    }
   ],
   "source": [
    "a = pd.Series([100,200,'Python',300.12,400])\n",
    "b = pd.to_numeric(a, errors = 'coerce', downcast = 'float')\n",
    "b"
   ]
  },
  {
   "cell_type": "markdown",
   "id": "f55153e9-0763-4a79-9683-12ba47efb365",
   "metadata": {
    "jp-MarkdownHeadingCollapsed": true
   },
   "source": [
    "#### 8. Write a Pandas program to convert the first column of a DataFrame as a Series."
   ]
  },
  {
   "cell_type": "code",
   "execution_count": 127,
   "id": "bc111456-3a2b-4ab2-a087-8ddcf0062065",
   "metadata": {},
   "outputs": [
    {
     "name": "stdout",
     "output_type": "stream",
     "text": [
      "1st column as a Series:\n",
      "0     1\n",
      "1     2\n",
      "2     3\n",
      "3     4\n",
      "4     7\n",
      "5    11\n",
      "Name: col1, dtype: int64\n"
     ]
    }
   ],
   "source": [
    "a = pd.DataFrame({'col1' : [1,2,3,4,7,11], 'col2': [4,5,6,9,5,0], 'col3': [7,5,8,12,1,11]})\n",
    "print(\"1st column as a Series:\\n\", a['col1'], sep = \"\")"
   ]
  },
  {
   "cell_type": "markdown",
   "id": "97a29ba1-b0df-4006-903f-41bcf2a102f4",
   "metadata": {
    "jp-MarkdownHeadingCollapsed": true
   },
   "source": [
    "#### 9. Write a Pandas program to convert a given Series to an array."
   ]
  },
  {
   "cell_type": "code",
   "execution_count": 142,
   "id": "4c1d6a8e-9192-4731-ad01-f86882f2db62",
   "metadata": {},
   "outputs": [
    {
     "name": "stdout",
     "output_type": "stream",
     "text": [
      "[100 200 'Python' 300.12 400]\n"
     ]
    }
   ],
   "source": [
    "a = pd.Series([100,200,'Python',300.12,400])\n",
    "b = a.to_numpy()\n",
    "print(b)"
   ]
  },
  {
   "cell_type": "markdown",
   "id": "e981aab0-7dec-4a19-9a1f-7115348a1ff2",
   "metadata": {
    "jp-MarkdownHeadingCollapsed": true
   },
   "source": [
    "#### 10. Write a Pandas program to convert Series of lists to one Series."
   ]
  },
  {
   "cell_type": "code",
   "execution_count": 185,
   "id": "5ca8cd7e-cf2d-46e6-a842-7fe6da559ec3",
   "metadata": {},
   "outputs": [
    {
     "name": "stdout",
     "output_type": "stream",
     "text": [
      "0    [Red, Green, White]\n",
      "1           [Red, Black]\n",
      "2               [Yellow]\n",
      "dtype: object \n",
      "\n",
      "\n",
      "0       Red\n",
      "1     Green\n",
      "2     White\n",
      "3       Red\n",
      "4     Black\n",
      "5    Yellow\n",
      "dtype: object\n"
     ]
    }
   ],
   "source": [
    "a = pd.Series([['Red', 'Green', 'White'], ['Red', 'Black'], ['Yellow']])\n",
    "print(a, \"\\n\\n\")\n",
    "x = []\n",
    "for i in a:\n",
    "    x.extend(i)\n",
    "a = pd.Series(x)\n",
    "print(a)"
   ]
  },
  {
   "cell_type": "markdown",
   "id": "89be3fa7-a6b7-46d3-a78b-fa5b5fc2a89c",
   "metadata": {
    "jp-MarkdownHeadingCollapsed": true
   },
   "source": [
    "#### 11. Write a Pandas program to sort a given Series."
   ]
  },
  {
   "cell_type": "code",
   "execution_count": 179,
   "id": "8ff9f341-b903-42b5-9980-65344ebf8a02",
   "metadata": {},
   "outputs": [
    {
     "data": {
      "text/plain": [
       "0       100\n",
       "1       200\n",
       "3    300.12\n",
       "4       400\n",
       "2    Python\n",
       "dtype: object"
      ]
     },
     "execution_count": 179,
     "metadata": {},
     "output_type": "execute_result"
    }
   ],
   "source": [
    "a = pd.Series([100,200,'Python',300.12,400], dtype = 'str')\n",
    "a.sort_values()"
   ]
  },
  {
   "cell_type": "markdown",
   "id": "bc7c72d1-584b-4c44-859b-4159ddaa2969",
   "metadata": {
    "jp-MarkdownHeadingCollapsed": true
   },
   "source": [
    "#### 12. Write a Pandas program to add some data to an existing Series."
   ]
  },
  {
   "cell_type": "code",
   "execution_count": 201,
   "id": "7c5924c1-85f8-4a34-9925-bfbeca26994c",
   "metadata": {},
   "outputs": [
    {
     "data": {
      "text/plain": [
       "0       100\n",
       "1       200\n",
       "2    Python\n",
       "3    300.12\n",
       "4       400\n",
       "5       500\n",
       "dtype: object"
      ]
     },
     "execution_count": 201,
     "metadata": {},
     "output_type": "execute_result"
    }
   ],
   "source": [
    "a = pd.Series([100,200,'Python',300.12,400], dtype = 'object')\n",
    "a = pd.concat([a,pd.Series(500)], ignore_index = True)\n",
    "a"
   ]
  },
  {
   "cell_type": "markdown",
   "id": "ad53dbb7-4790-4602-9660-86d2f8721505",
   "metadata": {
    "jp-MarkdownHeadingCollapsed": true
   },
   "source": [
    "#### 13. Write a Pandas program to create a subset of a given series based on value and condition."
   ]
  },
  {
   "cell_type": "code",
   "execution_count": 216,
   "id": "ef60fc1e-5c8c-459b-98cc-5b882d29a666",
   "metadata": {},
   "outputs": [
    {
     "data": {
      "text/plain": [
       "0      0\n",
       "1      1\n",
       "2      2\n",
       "3      3\n",
       "4      4\n",
       "5      5\n",
       "6      6\n",
       "7      7\n",
       "8      8\n",
       "9      9\n",
       "10    10\n",
       "dtype: int32"
      ]
     },
     "execution_count": 216,
     "metadata": {},
     "output_type": "execute_result"
    }
   ],
   "source": [
    "a = pd.Series(np.arange(0,11))\n",
    "a"
   ]
  },
  {
   "cell_type": "markdown",
   "id": "d2987de8-7181-47ae-807c-a9e724be969d",
   "metadata": {
    "jp-MarkdownHeadingCollapsed": true
   },
   "source": [
    "#### 14. Write a Pandas program to change the order of index of a given series."
   ]
  },
  {
   "cell_type": "code",
   "execution_count": 237,
   "id": "272db422-ffb2-446e-9be9-b4d21998fad5",
   "metadata": {},
   "outputs": [
    {
     "data": {
      "text/plain": [
       "B    2\n",
       "A    1\n",
       "C    3\n",
       "D    4\n",
       "E    5\n",
       "dtype: int64"
      ]
     },
     "execution_count": 237,
     "metadata": {},
     "output_type": "execute_result"
    }
   ],
   "source": [
    "a=pd.Series([1,2,3,4,5],index=['A','B','C','D','E'])\n",
    "a = a.reindex(['B','A','C','D','E'])\n",
    "a"
   ]
  },
  {
   "cell_type": "markdown",
   "id": "4ca58a57-3765-4f94-a0e2-ea2e470c65be",
   "metadata": {
    "jp-MarkdownHeadingCollapsed": true
   },
   "source": [
    "#### 15. Write a Pandas program to create the mean and standard deviation of the data of a given Series."
   ]
  },
  {
   "cell_type": "code",
   "execution_count": 251,
   "id": "f46e6605-481f-4684-85c2-8b36e1bf0de0",
   "metadata": {},
   "outputs": [
    {
     "name": "stdout",
     "output_type": "stream",
     "text": [
      "Mean : 4.333333333333333\n",
      "Standard Deviaton : 2.345207879911715\n"
     ]
    }
   ],
   "source": [
    "a=pd.Series([1,2,3,4,5,6,7,8,3])\n",
    "print(\"Mean :\",a.mean())\n",
    "print(\"Standard Deviaton :\",a.std())"
   ]
  },
  {
   "cell_type": "markdown",
   "id": "1ee29f90-4fb8-4183-8ed8-f1c5fde8fa1c",
   "metadata": {
    "jp-MarkdownHeadingCollapsed": true
   },
   "source": [
    "#### 16. Write a Pandas program to get the items of a given series not present in another given series."
   ]
  },
  {
   "cell_type": "code",
   "execution_count": 313,
   "id": "5b4eb4c1-3499-4481-a5c6-7b3fffacf1ea",
   "metadata": {},
   "outputs": [
    {
     "name": "stdout",
     "output_type": "stream",
     "text": [
      "0    1\n",
      "2    3\n",
      "4    5\n",
      "dtype: int64\n"
     ]
    }
   ],
   "source": [
    "a=pd.Series([1,2,3,4,5])\n",
    "b=pd.Series([2,4,6,8,10])\n",
    "x = ~a.isin(b)\n",
    "print(a[x])"
   ]
  },
  {
   "cell_type": "markdown",
   "id": "a400d115-9a5e-4ef5-a88e-e4e10f40cef4",
   "metadata": {
    "jp-MarkdownHeadingCollapsed": true
   },
   "source": [
    "#### 17. Write a Pandas program to get the items which are not common of two given series."
   ]
  },
  {
   "cell_type": "code",
   "execution_count": 338,
   "id": "5a3dd0f3-dbd3-46a5-8571-bf8ce8690d2d",
   "metadata": {},
   "outputs": [
    {
     "name": "stdout",
     "output_type": "stream",
     "text": [
      "0     1\n",
      "1     3\n",
      "2     5\n",
      "3     6\n",
      "4     8\n",
      "5    10\n",
      "dtype: int64\n"
     ]
    }
   ],
   "source": [
    "a=pd.Series([1,2,3,4,5])\n",
    "b=pd.Series([2,4,6,8,10])\n",
    "x=~a.isin(b)\n",
    "y=~b.isin(a)\n",
    "print(pd.concat([a[x],b[y]], ignore_index=True))"
   ]
  },
  {
   "cell_type": "markdown",
   "id": "e7133a52-c133-41c3-a366-a91b8b3a9c6d",
   "metadata": {
    "jp-MarkdownHeadingCollapsed": true
   },
   "source": [
    "#### 18. Write a Pandas program to compute the minimum, 25th percentile, median, 75th, and maximum of a given series."
   ]
  },
  {
   "cell_type": "code",
   "execution_count": 360,
   "id": "91f85a85-0acf-4d0b-a102-d431cc1a964b",
   "metadata": {},
   "outputs": [
    {
     "name": "stdout",
     "output_type": "stream",
     "text": [
      "Min:  3.000938 \n",
      "25th percentile:  7.18583\n",
      "Median:  11.370722\n",
      "75th percentile:  12.9914325 \n",
      "Max: 14.612143\n"
     ]
    }
   ],
   "source": [
    "a=pd.Series([3.000938,11.370722,14.612143])\n",
    "print(\"Min: \",a.min(), \"\\n25th percentile: \",a.quantile(0.25))\n",
    "print(\"Median: \",a.median())\n",
    "print(\"75th percentile: \",a.quantile(0.75), \"\\nMax:\",a.max())"
   ]
  },
  {
   "cell_type": "markdown",
   "id": "00872245-d565-4e64-9835-670ef188dbd6",
   "metadata": {
    "jp-MarkdownHeadingCollapsed": true
   },
   "source": [
    "#### 19. Write a Pandas program to calculate the frequency counts of each unique value of a given series."
   ]
  },
  {
   "cell_type": "code",
   "execution_count": 377,
   "id": "6e96cfc3-0906-4a8d-876a-6027fc2bdf17",
   "metadata": {},
   "outputs": [
    {
     "name": "stdout",
     "output_type": "stream",
     "text": [
      "1    8\n",
      "0    7\n",
      "4    5\n",
      "7    4\n",
      "6    4\n",
      "8    4\n",
      "2    4\n",
      "3    3\n",
      "5    1\n",
      "Name: count, dtype: int64\n"
     ]
    }
   ],
   "source": [
    "a=pd.Series([1, 7, 1, 6, 0, 4, 8, 7, 1, 0, 6, 4, 5, 3, 3, 2, 1, 0, 6, 8,\n",
    "        2, 2, 1, 0, 4, 3, 6, 7, 8, 0, 1, 2, 1, 7, 1, 0, 4, 4, 8, 0])\n",
    "print(a.value_counts())"
   ]
  },
  {
   "cell_type": "markdown",
   "id": "bad6fd57-f39a-44fb-a73f-abc12ce91e36",
   "metadata": {
    "jp-MarkdownHeadingCollapsed": true
   },
   "source": [
    "#### 20. Write a Pandas program to display most frequent value in a given series and replace everything else as 'Other' in the series."
   ]
  },
  {
   "cell_type": "code",
   "execution_count": 410,
   "id": "f4d3232b-0b48-44f8-b9e4-2ef755e23951",
   "metadata": {
    "scrolled": true
   },
   "outputs": [
    {
     "name": "stdout",
     "output_type": "stream",
     "text": [
      "1\n"
     ]
    },
    {
     "data": {
      "text/plain": [
       "0         1\n",
       "1     Other\n",
       "2         1\n",
       "3     Other\n",
       "4     Other\n",
       "5     Other\n",
       "6     Other\n",
       "7     Other\n",
       "8         1\n",
       "9     Other\n",
       "10    Other\n",
       "11    Other\n",
       "12    Other\n",
       "13    Other\n",
       "14    Other\n",
       "15    Other\n",
       "16        1\n",
       "17    Other\n",
       "18    Other\n",
       "19    Other\n",
       "20    Other\n",
       "21    Other\n",
       "22        1\n",
       "23    Other\n",
       "24    Other\n",
       "25    Other\n",
       "26    Other\n",
       "27    Other\n",
       "28    Other\n",
       "29    Other\n",
       "30        1\n",
       "31    Other\n",
       "32        1\n",
       "33    Other\n",
       "34        1\n",
       "35    Other\n",
       "36    Other\n",
       "37    Other\n",
       "38    Other\n",
       "39    Other\n",
       "dtype: object"
      ]
     },
     "execution_count": 410,
     "metadata": {},
     "output_type": "execute_result"
    }
   ],
   "source": [
    "a=pd.Series([1, 7, 1, 6, 0, 4, 8, 7, 1, 0, 6, 4, 5, 3, 3, 2, 1, 0, 6, 8,\n",
    "        2, 2, 1, 0, 4, 3, 6, 7, 8, 0, 1, 2, 1, 7, 1, 0, 4, 4, 8, 0])\n",
    "freq = a.value_counts()\n",
    "maxi = freq.idxmax()\n",
    "print(maxi)\n",
    "a = a.where(a == maxi ,'Other')\n",
    "a"
   ]
  },
  {
   "cell_type": "markdown",
   "id": "ce0d8de3-2581-4b4a-a382-83aec74438e8",
   "metadata": {
    "jp-MarkdownHeadingCollapsed": true
   },
   "source": [
    "#### 21. Write a Pandas program to find the positions of numbers that are multiples of 5 of agiven series."
   ]
  },
  {
   "cell_type": "code",
   "execution_count": 429,
   "id": "1e2a4cb3-49e3-4364-95ad-760662c9409d",
   "metadata": {},
   "outputs": [
    {
     "name": "stdout",
     "output_type": "stream",
     "text": [
      "Positions of numbers that are multiples of 5: Index([], dtype='int64')\n"
     ]
    }
   ],
   "source": [
    "a = pd.Series(data = [1,9,8,6,9,7,1,1,1])\n",
    "print(\"Positions of numbers that are multiples of 5:\", a[a % 5 == 0].index)"
   ]
  },
  {
   "cell_type": "markdown",
   "id": "7fa9a4ec-ee40-4de4-a638-207a8e4c26a8",
   "metadata": {
    "jp-MarkdownHeadingCollapsed": true
   },
   "source": [
    "#### 22. Write a Pandas program to extract items at given positions of a given series."
   ]
  },
  {
   "cell_type": "code",
   "execution_count": 476,
   "id": "7dc13479-e912-48d1-add5-b45d3315176b",
   "metadata": {},
   "outputs": [
    {
     "data": {
      "text/plain": [
       "0      1\n",
       "6      8\n",
       "2      8\n",
       "11    65\n",
       "21     8\n",
       "dtype: int64"
      ]
     },
     "execution_count": 476,
     "metadata": {},
     "output_type": "execute_result"
    }
   ],
   "source": [
    "a = pd.Series(data = [1,9,8,6,9,7,8,43,21,54,43,65,43,1,2,3,6,8,3,5,67,8,12,67,23,67,98,43])\n",
    "index = [0,6,2,11,21]\n",
    "a.loc[index]"
   ]
  },
  {
   "cell_type": "markdown",
   "id": "1c0f3525-6d31-42dc-b142-530991528e05",
   "metadata": {
    "jp-MarkdownHeadingCollapsed": true
   },
   "source": [
    "#### 23. Write a Pandas program to get the positions of items of a given series in another given series."
   ]
  },
  {
   "cell_type": "code",
   "execution_count": 478,
   "id": "0a8b90ad-98e3-4b25-ac4f-bd68b262d91e",
   "metadata": {},
   "outputs": [
    {
     "data": {
      "text/plain": [
       "(array([0, 2, 4, 6, 9], dtype=int64),)"
      ]
     },
     "execution_count": 478,
     "metadata": {},
     "output_type": "execute_result"
    }
   ],
   "source": [
    "a = pd.Series([1,2,3,4,5,6,7,8,9,10])\n",
    "b = pd.Series([1,3,5,7,10])\n",
    "position = np.where(a.isin(b))\n",
    "position"
   ]
  },
  {
   "cell_type": "markdown",
   "id": "e6aad2d7-b6a9-420c-86c8-124d4596628a",
   "metadata": {
    "jp-MarkdownHeadingCollapsed": true
   },
   "source": [
    "#### 24. Write a Pandas program convert the first and last character of each word to uppercase in each word of a given series."
   ]
  },
  {
   "cell_type": "code",
   "execution_count": 544,
   "id": "e91d4ebb-5949-4a7d-b099-e6b750015941",
   "metadata": {},
   "outputs": [],
   "source": [
    "a = pd.Series(['php', 'c#', 'java', 'python', ''])"
   ]
  },
  {
   "cell_type": "code",
   "execution_count": 558,
   "id": "565862c5-9391-455f-9fe9-8f9df4877ddc",
   "metadata": {},
   "outputs": [
    {
     "name": "stdout",
     "output_type": "stream",
     "text": [
      "0       PhP\n",
      "1        C#\n",
      "2      JavA\n",
      "3    PythoN\n",
      "4          \n",
      "dtype: object\n"
     ]
    }
   ],
   "source": [
    "for i,v in enumerate(a):\n",
    "    if len(v) == 0:\n",
    "        continue\n",
    "    x = v[0].upper()\n",
    "    b = v[-1].upper()\n",
    "    if len(v)>1:\n",
    "        a[i] = x+v[1:-1]+b\n",
    "    elif len(v) == 1:\n",
    "        a[i] = x\n",
    "\n",
    "\n",
    "print(a)"
   ]
  },
  {
   "cell_type": "markdown",
   "id": "694ebfaf-407f-42a2-a1ee-308064533ced",
   "metadata": {
    "jp-MarkdownHeadingCollapsed": true
   },
   "source": [
    "#### 25. Write a Pandas program to calculate the number of characters in each word in a given series."
   ]
  },
  {
   "cell_type": "code",
   "execution_count": 570,
   "id": "3951a0fd-41da-4f43-a6ec-2658416d226e",
   "metadata": {},
   "outputs": [
    {
     "data": {
      "text/plain": [
       "0    3\n",
       "1    2\n",
       "2    4\n",
       "3    6\n",
       "4    0\n",
       "dtype: int64"
      ]
     },
     "execution_count": 570,
     "metadata": {},
     "output_type": "execute_result"
    }
   ],
   "source": [
    "a = pd.Series(['php', 'c#', 'java', 'python', ''])\n",
    "# x = []\n",
    "# for i in a:\n",
    "#     x.append(len(i))\n",
    "\n",
    "# print(pd.Series(x))\n",
    "a.apply(len)"
   ]
  },
  {
   "cell_type": "markdown",
   "id": "2ce66b59-3717-4f33-991d-1f5889696803",
   "metadata": {
    "jp-MarkdownHeadingCollapsed": true
   },
   "source": [
    "#### 26. Write a Pandas program to compute difference of differences between consecutive numbers of a given series."
   ]
  },
  {
   "cell_type": "code",
   "execution_count": 645,
   "id": "884e93f4-50b5-49c4-b5ff-6282dacafebd",
   "metadata": {},
   "outputs": [
    {
     "data": {
      "text/plain": [
       "0    NaN\n",
       "1    NaN\n",
       "2    0.0\n",
       "3    1.0\n",
       "4   -1.0\n",
       "5   -1.0\n",
       "6    3.0\n",
       "dtype: float64"
      ]
     },
     "execution_count": 645,
     "metadata": {},
     "output_type": "execute_result"
    }
   ],
   "source": [
    "\n",
    "a = pd.Series([1,3,5,8,10,11,15])\n",
    "a = a.rolling(window = 2).apply(lambda x: x.iloc[1] -x.iloc[0])\n",
    "a = a.rolling(window = 2).apply(lambda x: x.iloc[1] -x.iloc[0])\n",
    "a"
   ]
  },
  {
   "cell_type": "markdown",
   "id": "aa1b9fff-07b8-4fae-8a3f-6432f99f3e36",
   "metadata": {
    "jp-MarkdownHeadingCollapsed": true
   },
   "source": [
    "#### 27. Write a Pandas program to convert a series of date strings to a timeseries."
   ]
  },
  {
   "cell_type": "code",
   "execution_count": 657,
   "id": "869e0796-38d7-43d2-bb0f-cabc7c2d29d2",
   "metadata": {},
   "outputs": [],
   "source": [
    "a = pd.Series(['01 Jan 2015', '10-02-2016', '20180307', '2014/05/06','2016-04-12','2019-04-06T11:20'])"
   ]
  },
  {
   "cell_type": "code",
   "execution_count": 660,
   "id": "c4500272-2450-4ce7-8014-d6a1fa3e1c46",
   "metadata": {},
   "outputs": [
    {
     "data": {
      "text/plain": [
       "0         01 Jan 2015\n",
       "1          10-02-2016\n",
       "2            20180307\n",
       "3          2014/05/06\n",
       "4          2016-04-12\n",
       "5    2019-04-06T11:20\n",
       "dtype: object"
      ]
     },
     "execution_count": 660,
     "metadata": {},
     "output_type": "execute_result"
    }
   ],
   "source": [
    "a"
   ]
  },
  {
   "cell_type": "code",
   "execution_count": 676,
   "id": "41ba6431-c8cb-4251-b36a-f3db832d188c",
   "metadata": {},
   "outputs": [
    {
     "name": "stdout",
     "output_type": "stream",
     "text": [
      "0   2015-01-01 00:00:00\n",
      "1   2016-10-02 00:00:00\n",
      "2   2018-03-07 00:00:00\n",
      "3   2014-05-06 00:00:00\n",
      "4   2016-04-12 00:00:00\n",
      "5   2019-04-06 11:20:00\n",
      "dtype: datetime64[ns]\n"
     ]
    }
   ],
   "source": [
    "a = a.apply(pd.to_datetime)\n",
    "print(a)"
   ]
  },
  {
   "cell_type": "markdown",
   "id": "64742147-13db-4466-93a5-056e9eb10a27",
   "metadata": {
    "jp-MarkdownHeadingCollapsed": true
   },
   "source": [
    "#### 28. Write a Pandas program to get the day of month, day of year, week number and day of week from a given series of date strings."
   ]
  },
  {
   "cell_type": "code",
   "execution_count": 749,
   "id": "9b4b8106-c223-485b-9dbb-069ae6185f8f",
   "metadata": {},
   "outputs": [],
   "source": [
    "\n",
    "day_of_months = (a.dt.day)\n",
    "day_of_weeks = (a.dt.day_name())\n",
    "day_of_year = (a.dt.day_of_year)\n",
    "week_number = (a.dt.isocalendar().week)"
   ]
  },
  {
   "cell_type": "code",
   "execution_count": 751,
   "id": "31baea36-2657-4561-ad63-90798993a517",
   "metadata": {},
   "outputs": [
    {
     "name": "stdout",
     "output_type": "stream",
     "text": [
      "\n",
      "day_of_months:\n",
      " [1, 2, 7, 6, 12, 6] \n",
      "day_of_weeks:\n",
      " ['Thursday', 'Sunday', 'Wednesday', 'Tuesday', 'Tuesday', 'Saturday'] \n",
      "day_of_year:\n",
      " [1, 276, 66, 126, 103, 96] \n",
      "week_number : [1, 39, 10, 19, 15, 14]\n"
     ]
    }
   ],
   "source": [
    "print(\"\\nday_of_months:\\n\", day_of_months.to_list(), \"\\nday_of_weeks:\\n\", day_of_weeks.to_list(), \"\\nday_of_year:\\n\", day_of_year.to_list(),\"\\nweek_number :\",  week_number.to_list())"
   ]
  },
  {
   "cell_type": "markdown",
   "id": "07fadd3d-a69f-4d4c-b2ad-5a4e32c21d2a",
   "metadata": {
    "jp-MarkdownHeadingCollapsed": true
   },
   "source": [
    "#### 29. Write a Pandas program to convert year-month string to dates adding a specified day of the month."
   ]
  },
  {
   "cell_type": "code",
   "execution_count": 771,
   "id": "6a3f4df8-ad71-4dbf-adc0-e6e13f106c7b",
   "metadata": {},
   "outputs": [
    {
     "name": "stdout",
     "output_type": "stream",
     "text": [
      "0   2015-01-11\n",
      "1   2016-02-11\n",
      "2   2017-03-11\n",
      "3   2018-04-11\n",
      "4   2019-05-11\n",
      "dtype: datetime64[ns]\n"
     ]
    }
   ],
   "source": [
    "a = pd.Series(['Jan 2015', 'Feb 2016', 'Mar 2017', 'Apr 2018', 'May 2019'])\n",
    "a = a + ' 11'\n",
    "a = pd.to_datetime(a)\n",
    "print(a)"
   ]
  },
  {
   "cell_type": "markdown",
   "id": "ae10b3bf-f042-48f3-babc-8a58d14c542b",
   "metadata": {
    "jp-MarkdownHeadingCollapsed": true
   },
   "source": [
    "#### 30. Write a Pandas program to filter words from a given series that contain atleast two vowels."
   ]
  },
  {
   "cell_type": "code",
   "execution_count": 782,
   "id": "d15a3c7b-e72d-4e56-af7a-dbd60104938a",
   "metadata": {},
   "outputs": [
    {
     "name": "stdout",
     "output_type": "stream",
     "text": [
      "1     Green\n",
      "2    Orange\n",
      "4    Yellow\n",
      "5     White\n",
      "dtype: object\n"
     ]
    }
   ],
   "source": [
    "a = pd.Series([\"Red\", \"Green\", \"Orange\", \"Pink\", \"Yellow\", \"White\"])\n",
    "vowels = 'aeiouAEIOU'\n",
    "b = a.apply(lambda x: sum(1 for char in x if char in vowels))\n",
    "print(a[b>1])"
   ]
  },
  {
   "cell_type": "markdown",
   "id": "79576f56-4d1f-43be-8f18-0462947aca27",
   "metadata": {
    "jp-MarkdownHeadingCollapsed": true
   },
   "source": [
    "#### 31. Write a Pandas program to compute the Euclidean distance between two given series.\n",
    "Euclidean distance\n",
    "From Wikipedia,\n",
    "In mathematics, the Euclidean distance or Euclidean metric is the \"ordinary\" straight-line\n",
    "distance between two points in Euclidean space. With this distance, Euclidean space\n",
    "becomes a metric space. The associated norm is called the Euclidean norm."
   ]
  },
  {
   "cell_type": "code",
   "execution_count": 801,
   "id": "fbf52b86-5560-4432-a6bb-03e4e8fa115a",
   "metadata": {},
   "outputs": [
    {
     "name": "stdout",
     "output_type": "stream",
     "text": [
      "16.492422502470642\n"
     ]
    }
   ],
   "source": [
    "a = pd.Series(np.arange(1,11))\n",
    "b = pd.Series([11,8,7,5,6,5,3,4,7,1])\n",
    "euclead  = ((b - a)**2)\n",
    "print(np.sqrt(sum(euclead)))"
   ]
  },
  {
   "cell_type": "markdown",
   "id": "342d6a7b-99ef-4403-90d4-b8d0b7ae1555",
   "metadata": {
    "jp-MarkdownHeadingCollapsed": true
   },
   "source": [
    "#### 32. Write a Pandas program to find the positions of the values neighboured by smaller values on both sides in a given series."
   ]
  },
  {
   "cell_type": "code",
   "execution_count": 845,
   "id": "b26030d9-f4bd-427c-b3d4-47c2186cc96d",
   "metadata": {},
   "outputs": [],
   "source": [
    "a = pd.Series([1,8,7,5,6,5,3,4,7,1])\n",
    "a = a.rolling(window = 3, center = True).apply(lambda x: x.iloc[0]<x.iloc[1]>x.iloc[2])"
   ]
  },
  {
   "cell_type": "code",
   "execution_count": 853,
   "id": "5a16a24d-d3e6-4d6e-a6e4-070993827cda",
   "metadata": {},
   "outputs": [
    {
     "data": {
      "text/plain": [
       "[1, 4, 8]"
      ]
     },
     "execution_count": 853,
     "metadata": {},
     "output_type": "execute_result"
    }
   ],
   "source": [
    "x = []\n",
    "for i, v in enumerate(a):\n",
    "    if v == 1:\n",
    "        x.append(i)\n",
    "x"
   ]
  },
  {
   "cell_type": "markdown",
   "id": "100666fd-61e5-4600-85ff-d924f6822bbf",
   "metadata": {
    "jp-MarkdownHeadingCollapsed": true
   },
   "source": [
    "#### 33. Write a Pandas program to replace missing white spaces in a given string with the least frequent character."
   ]
  },
  {
   "cell_type": "code",
   "execution_count": 904,
   "id": "cf9df03c-9866-48fc-b50c-95083cc86517",
   "metadata": {},
   "outputs": [
    {
     "name": "stdout",
     "output_type": "stream",
     "text": [
      "abcidefiabcdefiicd\n"
     ]
    }
   ],
   "source": [
    "b = \"abc def abcdef icd\"\n",
    "a = pd.Series(list(b))\n",
    "x = a.value_counts()\n",
    "x = x.idxmin()\n",
    "a = a.replace(\" \", x)\n",
    "print(\"\".join(a))"
   ]
  },
  {
   "cell_type": "markdown",
   "id": "b3c198ad-a1a2-4c54-abd3-a34368c57f2b",
   "metadata": {},
   "source": [
    "#### 34. Write a Pandas program to compute the autocorrelations of a given numeric series."
   ]
  },
  {
   "cell_type": "code",
   "execution_count": 1026,
   "id": "70b7b047-7ac7-482c-b31c-ef135f723642",
   "metadata": {},
   "outputs": [],
   "source": [
    "\n",
    "import pandas as pd\n",
    "from statsmodels.tsa.stattools import acf\n",
    "\n",
    "# Original Series\n",
    "data = pd.Series([13.207262, 4.098685, -1.435534, 13.626760, 3.039309, \n",
    "                  6.598823, 11.200205, 1.519816, 9.392151, -2.346193, \n",
    "                  17.873884])\n",
    "\n",
    "# Compute autocorrelations for multiple lags (up to 10 lags)\n",
    "autocorrelations = acf(data, nlags=10)"
   ]
  },
  {
   "cell_type": "markdown",
   "id": "9ecd5dad-e83d-4849-aac1-31b2c314b2dd",
   "metadata": {
    "jp-MarkdownHeadingCollapsed": true
   },
   "source": [
    "#### 35. Write a Pandas program to create a TimeSeries to display all the Sundays of given year."
   ]
  },
  {
   "cell_type": "code",
   "execution_count": 948,
   "id": "6d55195c-3b36-4dd4-acda-d20f9964d5bc",
   "metadata": {},
   "outputs": [],
   "source": [
    "sundays = pd.Series(pd.date_range(start='2019-01-01', end='2019-12-31', freq='W-SUN'))"
   ]
  },
  {
   "cell_type": "code",
   "execution_count": 950,
   "id": "c76065ff-7f22-4f6f-ac59-03b2651364a1",
   "metadata": {},
   "outputs": [
    {
     "data": {
      "text/plain": [
       "0    2019-01-06\n",
       "1    2019-01-13\n",
       "2    2019-01-20\n",
       "3    2019-01-27\n",
       "4    2019-02-03\n",
       "5    2019-02-10\n",
       "6    2019-02-17\n",
       "7    2019-02-24\n",
       "8    2019-03-03\n",
       "9    2019-03-10\n",
       "10   2019-03-17\n",
       "11   2019-03-24\n",
       "12   2019-03-31\n",
       "13   2019-04-07\n",
       "14   2019-04-14\n",
       "15   2019-04-21\n",
       "16   2019-04-28\n",
       "17   2019-05-05\n",
       "18   2019-05-12\n",
       "19   2019-05-19\n",
       "20   2019-05-26\n",
       "21   2019-06-02\n",
       "22   2019-06-09\n",
       "23   2019-06-16\n",
       "24   2019-06-23\n",
       "25   2019-06-30\n",
       "26   2019-07-07\n",
       "27   2019-07-14\n",
       "28   2019-07-21\n",
       "29   2019-07-28\n",
       "30   2019-08-04\n",
       "31   2019-08-11\n",
       "32   2019-08-18\n",
       "33   2019-08-25\n",
       "34   2019-09-01\n",
       "35   2019-09-08\n",
       "36   2019-09-15\n",
       "37   2019-09-22\n",
       "38   2019-09-29\n",
       "39   2019-10-06\n",
       "40   2019-10-13\n",
       "41   2019-10-20\n",
       "42   2019-10-27\n",
       "43   2019-11-03\n",
       "44   2019-11-10\n",
       "45   2019-11-17\n",
       "46   2019-11-24\n",
       "47   2019-12-01\n",
       "48   2019-12-08\n",
       "49   2019-12-15\n",
       "50   2019-12-22\n",
       "51   2019-12-29\n",
       "dtype: datetime64[ns]"
      ]
     },
     "execution_count": 950,
     "metadata": {},
     "output_type": "execute_result"
    }
   ],
   "source": [
    "sundays"
   ]
  },
  {
   "cell_type": "markdown",
   "id": "1bbb1ae9-f109-423b-a911-5833e8fab53f",
   "metadata": {
    "jp-MarkdownHeadingCollapsed": true
   },
   "source": [
    "#### 36. Write a Pandas program to convert given series into a dataframe with its index as another column on the dataframe."
   ]
  },
  {
   "cell_type": "code",
   "execution_count": 967,
   "id": "fa7498b8-82fd-45ff-a19e-9e66acb564cb",
   "metadata": {},
   "outputs": [
    {
     "data": {
      "text/html": [
       "<div>\n",
       "<style scoped>\n",
       "    .dataframe tbody tr th:only-of-type {\n",
       "        vertical-align: middle;\n",
       "    }\n",
       "\n",
       "    .dataframe tbody tr th {\n",
       "        vertical-align: top;\n",
       "    }\n",
       "\n",
       "    .dataframe thead th {\n",
       "        text-align: right;\n",
       "    }\n",
       "</style>\n",
       "<table border=\"1\" class=\"dataframe\">\n",
       "  <thead>\n",
       "    <tr style=\"text-align: right;\">\n",
       "      <th></th>\n",
       "      <th>index</th>\n",
       "      <th>0</th>\n",
       "    </tr>\n",
       "  </thead>\n",
       "  <tbody>\n",
       "    <tr>\n",
       "      <th>0</th>\n",
       "      <td>A</td>\n",
       "      <td>0</td>\n",
       "    </tr>\n",
       "    <tr>\n",
       "      <th>1</th>\n",
       "      <td>B</td>\n",
       "      <td>1</td>\n",
       "    </tr>\n",
       "    <tr>\n",
       "      <th>2</th>\n",
       "      <td>C</td>\n",
       "      <td>2</td>\n",
       "    </tr>\n",
       "    <tr>\n",
       "      <th>3</th>\n",
       "      <td>D</td>\n",
       "      <td>3</td>\n",
       "    </tr>\n",
       "    <tr>\n",
       "      <th>4</th>\n",
       "      <td>F</td>\n",
       "      <td>4</td>\n",
       "    </tr>\n",
       "  </tbody>\n",
       "</table>\n",
       "</div>"
      ],
      "text/plain": [
       "  index  0\n",
       "0     A  0\n",
       "1     B  1\n",
       "2     C  2\n",
       "3     D  3\n",
       "4     F  4"
      ]
     },
     "execution_count": 967,
     "metadata": {},
     "output_type": "execute_result"
    }
   ],
   "source": [
    "a = pd.Series(np.arange(0,5), index = ['A', 'B', 'C', 'D', 'F'])\n",
    "b = pd.DataFrame(a).reset_index()\n",
    "b"
   ]
  },
  {
   "cell_type": "markdown",
   "id": "b407018e-b1cd-4136-89b3-3202abde7997",
   "metadata": {
    "jp-MarkdownHeadingCollapsed": true
   },
   "source": [
    "#### 37. Write a Pandas program to stack two given series vertically and horizontally."
   ]
  },
  {
   "cell_type": "code",
   "execution_count": 978,
   "id": "3a57934a-66b5-4d70-ad95-aed19d4852b9",
   "metadata": {
    "collapsed": true,
    "jupyter": {
     "outputs_hidden": true
    }
   },
   "outputs": [
    {
     "name": "stdout",
     "output_type": "stream",
     "text": [
      "stacked horizontally\n",
      "0    0\n",
      "1    1\n",
      "2    2\n",
      "3    3\n",
      "4    4\n",
      "5    5\n",
      "6    6\n",
      "7    7\n",
      "8    8\n",
      "9    9\n",
      "0    p\n",
      "1    q\n",
      "2    r\n",
      "3    s\n",
      "4    t\n",
      "5    u\n",
      "6    v\n",
      "7    w\n",
      "8    x\n",
      "9    y\n",
      "dtype: object\n",
      "stacked vertically\n",
      "   0  1\n",
      "0  0  p\n",
      "1  1  q\n",
      "2  2  r\n",
      "3  3  s\n",
      "4  4  t\n",
      "5  5  u\n",
      "6  6  v\n",
      "7  7  w\n",
      "8  8  x\n",
      "9  9  y\n"
     ]
    }
   ],
   "source": [
    "a = pd.Series(np.arange(0,10))\n",
    "b = pd.Series(data = ['p', 'q', 'r', 's', 't', 'u', 'v', 'w', 'x', 'y'])\n",
    "print(\"stacked horizontally\")\n",
    "print(pd.concat([a,b], axis = 0))\n",
    "print(\"stacked vertically\")\n",
    "print(pd.concat([a,b], axis = 1))"
   ]
  },
  {
   "cell_type": "markdown",
   "id": "b84eca89-b696-43f3-9394-84e9fb0a4365",
   "metadata": {
    "jp-MarkdownHeadingCollapsed": true
   },
   "source": [
    "#### 38. Write a Pandas program to check the equality of two given series."
   ]
  },
  {
   "cell_type": "code",
   "execution_count": 985,
   "id": "95a2f99b-e178-431e-b220-a154c114bfbc",
   "metadata": {},
   "outputs": [
    {
     "name": "stdout",
     "output_type": "stream",
     "text": [
      "0    False\n",
      "1    False\n",
      "2    False\n",
      "3    False\n",
      "4    False\n",
      "5     True\n",
      "6    False\n",
      "7    False\n",
      "8    False\n",
      "9    False\n",
      "dtype: bool\n"
     ]
    }
   ],
   "source": [
    "a = pd.Series(np.random.randint(1,10,10))\n",
    "b = pd.Series(np.random.randint(1,10,10))\n",
    "print(a == b)"
   ]
  },
  {
   "cell_type": "code",
   "execution_count": 987,
   "id": "753d076c-65f3-40c6-98bc-961b65990d55",
   "metadata": {},
   "outputs": [
    {
     "name": "stdout",
     "output_type": "stream",
     "text": [
      "False\n"
     ]
    }
   ],
   "source": [
    "print(all(a == b))"
   ]
  },
  {
   "cell_type": "markdown",
   "id": "be4fa8d3-2f19-4a1d-ac5c-d6c377a17462",
   "metadata": {
    "jp-MarkdownHeadingCollapsed": true
   },
   "source": [
    "#### 39. Write a Pandas program to find the index of the first occurrence of the smallest and largest value of a given series."
   ]
  },
  {
   "cell_type": "code",
   "execution_count": 990,
   "id": "bebbf043-9726-4927-94ea-ce5e670f9b25",
   "metadata": {},
   "outputs": [
    {
     "data": {
      "text/plain": [
       "0     8\n",
       "1     5\n",
       "2     9\n",
       "3     2\n",
       "4     1\n",
       "5     1\n",
       "6     1\n",
       "7     5\n",
       "8     4\n",
       "9     5\n",
       "10    9\n",
       "11    2\n",
       "12    1\n",
       "13    2\n",
       "14    7\n",
       "15    5\n",
       "16    6\n",
       "17    9\n",
       "18    2\n",
       "19    7\n",
       "dtype: int32"
      ]
     },
     "execution_count": 990,
     "metadata": {},
     "output_type": "execute_result"
    }
   ],
   "source": [
    "a = pd.Series(np.random.randint(1,10,20))\n",
    "a"
   ]
  },
  {
   "cell_type": "code",
   "execution_count": 998,
   "id": "9dcf8ccf-d5ba-42b1-932d-f35ac0287582",
   "metadata": {},
   "outputs": [
    {
     "name": "stdout",
     "output_type": "stream",
     "text": [
      "index of max: 2 \n",
      "index of min: 4\n"
     ]
    }
   ],
   "source": [
    "print(\"index of max:\" , a.idxmax() , \"\\nindex of min:\", a.idxmin())"
   ]
  },
  {
   "cell_type": "markdown",
   "id": "76936c96-90c6-473b-898f-fac05f3b696e",
   "metadata": {
    "jp-MarkdownHeadingCollapsed": true
   },
   "source": [
    "#### 40. Write a Pandas program to check inequality over the index axis of a given dataframe and a given series."
   ]
  },
  {
   "cell_type": "code",
   "execution_count": 1011,
   "id": "3352917f-51db-4d28-bd21-117a1c557770",
   "metadata": {},
   "outputs": [
    {
     "data": {
      "text/html": [
       "<div>\n",
       "<style scoped>\n",
       "    .dataframe tbody tr th:only-of-type {\n",
       "        vertical-align: middle;\n",
       "    }\n",
       "\n",
       "    .dataframe tbody tr th {\n",
       "        vertical-align: top;\n",
       "    }\n",
       "\n",
       "    .dataframe thead th {\n",
       "        text-align: right;\n",
       "    }\n",
       "</style>\n",
       "<table border=\"1\" class=\"dataframe\">\n",
       "  <thead>\n",
       "    <tr style=\"text-align: right;\">\n",
       "      <th></th>\n",
       "      <th>W</th>\n",
       "      <th>X</th>\n",
       "      <th>Y</th>\n",
       "      <th>Z</th>\n",
       "    </tr>\n",
       "  </thead>\n",
       "  <tbody>\n",
       "    <tr>\n",
       "      <th>0</th>\n",
       "      <td>False</td>\n",
       "      <td>True</td>\n",
       "      <td>True</td>\n",
       "      <td>True</td>\n",
       "    </tr>\n",
       "    <tr>\n",
       "      <th>1</th>\n",
       "      <td>False</td>\n",
       "      <td>False</td>\n",
       "      <td>True</td>\n",
       "      <td>True</td>\n",
       "    </tr>\n",
       "    <tr>\n",
       "      <th>2</th>\n",
       "      <td>False</td>\n",
       "      <td>True</td>\n",
       "      <td>True</td>\n",
       "      <td>True</td>\n",
       "    </tr>\n",
       "    <tr>\n",
       "      <th>3</th>\n",
       "      <td>False</td>\n",
       "      <td>False</td>\n",
       "      <td>True</td>\n",
       "      <td>True</td>\n",
       "    </tr>\n",
       "    <tr>\n",
       "      <th>4</th>\n",
       "      <td>True</td>\n",
       "      <td>True</td>\n",
       "      <td>True</td>\n",
       "      <td>True</td>\n",
       "    </tr>\n",
       "  </tbody>\n",
       "</table>\n",
       "</div>"
      ],
      "text/plain": [
       "       W      X     Y     Z\n",
       "0  False   True  True  True\n",
       "1  False  False  True  True\n",
       "2  False   True  True  True\n",
       "3  False  False  True  True\n",
       "4   True   True  True  True"
      ]
     },
     "execution_count": 1011,
     "metadata": {},
     "output_type": "execute_result"
    }
   ],
   "source": [
    "data = {\n",
    "    'W': [68.0, 75.0, 86.0, 80.0, np.nan],\n",
    "    'X': [78.0, 75.0, np.nan, 80.0, 86.0],\n",
    "    'Y': [84, 94, 89, 86, 86],\n",
    "    'Z': [86, 97, 96, 72, 83]\n",
    "}\n",
    "\n",
    "df = pd.DataFrame(data)\n",
    "a = pd.Series([68.0, 75.0, 86.0, 80.0, np.nan])\n",
    "df.ne(a, axis = 0)"
   ]
  },
  {
   "cell_type": "code",
   "execution_count": null,
   "id": "cb757ca6-4d5b-490d-975c-0a84660106fd",
   "metadata": {},
   "outputs": [],
   "source": []
  },
  {
   "cell_type": "code",
   "execution_count": null,
   "id": "9896f7c9-bc44-48fb-b841-ccc3534b4fbb",
   "metadata": {},
   "outputs": [],
   "source": []
  }
 ],
 "metadata": {
  "kernelspec": {
   "display_name": "Python 3 (ipykernel)",
   "language": "python",
   "name": "python3"
  },
  "language_info": {
   "codemirror_mode": {
    "name": "ipython",
    "version": 3
   },
   "file_extension": ".py",
   "mimetype": "text/x-python",
   "name": "python",
   "nbconvert_exporter": "python",
   "pygments_lexer": "ipython3",
   "version": "3.12.4"
  }
 },
 "nbformat": 4,
 "nbformat_minor": 5
}
