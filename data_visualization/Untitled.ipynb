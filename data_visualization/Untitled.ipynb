{
 "cells": [
  {
   "cell_type": "code",
   "execution_count": 90,
   "id": "d3ad98f9-30cf-4375-8509-56c329d27a94",
   "metadata": {},
   "outputs": [],
   "source": [
    "weights = [2,3,5,6,8]\n",
    "value = [5,4,13,14,16]"
   ]
  },
  {
   "cell_type": "code",
   "execution_count": 92,
   "id": "2d5c808c-d8b9-4cf9-8eac-6836a050690c",
   "metadata": {},
   "outputs": [],
   "source": [
    "def maxi(w,v,Q):\n",
    "    l = len(w)\n",
    "    dp = [-float('inf')]*(Q + 1)\n",
    "    dp[0] = 0\n",
    "    for i in range(l):\n",
    "        for j in range(w[i], Q + 1):\n",
    "            include = dp[j - w[i]] + v[i]\n",
    "            exclude = dp[j]\n",
    "            dp[j] = max(include,exclude)\n",
    "            # print(\"\\n\",include, exclude, w[i], j)\n",
    "        # print(dp)\n",
    "    return dp[Q]"
   ]
  },
  {
   "cell_type": "code",
   "execution_count": 97,
   "id": "9acd1e5c-9a46-465a-800e-84b2fcc134f0",
   "metadata": {},
   "outputs": [
    {
     "data": {
      "text/plain": [
       "-inf"
      ]
     },
     "execution_count": 97,
     "metadata": {},
     "output_type": "execute_result"
    }
   ],
   "source": [
    "maxi(weights, value,1)"
   ]
  },
  {
   "cell_type": "code",
   "execution_count": null,
   "id": "2c3d7922-892d-4c1a-add9-0e6a3b9abefb",
   "metadata": {},
   "outputs": [],
   "source": []
  }
 ],
 "metadata": {
  "kernelspec": {
   "display_name": "Python 3 (ipykernel)",
   "language": "python",
   "name": "python3"
  },
  "language_info": {
   "codemirror_mode": {
    "name": "ipython",
    "version": 3
   },
   "file_extension": ".py",
   "mimetype": "text/x-python",
   "name": "python",
   "nbconvert_exporter": "python",
   "pygments_lexer": "ipython3",
   "version": "3.12.4"
  }
 },
 "nbformat": 4,
 "nbformat_minor": 5
}
