{
 "cells": [
  {
   "cell_type": "markdown",
   "id": "e0ae2bdc-5475-42e6-a346-647526398643",
   "metadata": {},
   "source": [
    "# NumPy"
   ]
  },
  {
   "cell_type": "code",
   "execution_count": 2,
   "id": "18a6c0d6-e0ec-4ebd-82a4-a76bd957b850",
   "metadata": {},
   "outputs": [],
   "source": [
    "import numpy as np\n",
    "my_list=[1,2,3]\n",
    "my_array=np.array([1,2,3])"
   ]
  },
  {
   "cell_type": "code",
   "execution_count": 4,
   "id": "8a6a5f95-ac81-4f2a-bcd0-98ccab59e59d",
   "metadata": {},
   "outputs": [
    {
     "name": "stdout",
     "output_type": "stream",
     "text": [
      "<class 'list'>\n"
     ]
    }
   ],
   "source": [
    "print(type(my_list))"
   ]
  },
  {
   "cell_type": "code",
   "execution_count": 6,
   "id": "efc945a5-b65d-40b6-b155-3da991e57a5c",
   "metadata": {},
   "outputs": [
    {
     "name": "stdout",
     "output_type": "stream",
     "text": [
      "[1 2 3]\n"
     ]
    }
   ],
   "source": [
    "print(np.array(my_list))"
   ]
  },
  {
   "cell_type": "code",
   "execution_count": 8,
   "id": "106b751b-ccb9-4602-a87b-dee12c0b266d",
   "metadata": {},
   "outputs": [
    {
     "name": "stdout",
     "output_type": "stream",
     "text": [
      "[[1 2 3]\n",
      " [4 5 6]\n",
      " [7 8 9]]\n"
     ]
    }
   ],
   "source": [
    "my_matrix=[[1,2,3],[4,5,6],[7,8,9]]\n",
    "print(np.array(my_matrix))"
   ]
  },
  {
   "cell_type": "code",
   "execution_count": 10,
   "id": "3de76cda-bb68-432e-a81f-ab79068789fd",
   "metadata": {},
   "outputs": [
    {
     "name": "stdout",
     "output_type": "stream",
     "text": [
      "[0 1 2 3 4 5 6 7 8 9]\n",
      "[ 0  2  4  6  8 10]\n"
     ]
    }
   ],
   "source": [
    "#start,stop,step\n",
    "print(np.arange(0,10))\n",
    "print(np.arange(0,11,2))"
   ]
  },
  {
   "cell_type": "code",
   "execution_count": 26,
   "id": "34c70334-440c-42f3-ac54-ecd79a5baeea",
   "metadata": {},
   "outputs": [
    {
     "name": "stdout",
     "output_type": "stream",
     "text": [
      "[0. 0. 0.]\n",
      "[[0. 0. 0. 0. 0.]\n",
      " [0. 0. 0. 0. 0.]\n",
      " [0. 0. 0. 0. 0.]\n",
      " [0. 0. 0. 0. 0.]\n",
      " [0. 0. 0. 0. 0.]]\n",
      "[1. 1. 1.]\n",
      "[[1. 1. 1.]\n",
      " [1. 1. 1.]\n",
      " [1. 1. 1.]]\n"
     ]
    }
   ],
   "source": [
    "print(np.zeros(3))\n",
    "print(np.zeros((5,5)))\n",
    "print(np.ones(3))\n",
    "print(np.ones((3,3)))"
   ]
  },
  {
   "cell_type": "code",
   "execution_count": 28,
   "id": "a0ece625-ab83-450e-afe2-0f2bce1cbe26",
   "metadata": {},
   "outputs": [
    {
     "name": "stdout",
     "output_type": "stream",
     "text": [
      "[ 0.  5. 10.]\n",
      "[0.         0.26315789 0.52631579 0.78947368 1.05263158 1.31578947\n",
      " 1.57894737 1.84210526 2.10526316 2.36842105 2.63157895 2.89473684\n",
      " 3.15789474 3.42105263 3.68421053 3.94736842 4.21052632 4.47368421\n",
      " 4.73684211 5.        ]\n",
      "[0.   0.25 0.5  0.75 1.   1.25 1.5  1.75 2.   2.25 2.5  2.75 3.   3.25\n",
      " 3.5  3.75 4.   4.25 4.5  4.75 5.  ]\n"
     ]
    }
   ],
   "source": [
    "#start, stop, number of elements(and not stop as in the case of arange)\n",
    "print(np.linspace(0,10,3))\n",
    "print(np.linspace(0,5,20))\n",
    "print(np.linspace(0,5,21))"
   ]
  },
  {
   "cell_type": "markdown",
   "id": "c86e024a-ffc0-4f11-b8fe-cc5d5b3aeadc",
   "metadata": {},
   "source": [
    "## Random\n",
    " - Random number arrays b/w 0 and 1 random.rand\n"
   ]
  },
  {
   "cell_type": "code",
   "execution_count": 30,
   "id": "d358f309-8101-4414-9cd2-6fec10e80581",
   "metadata": {},
   "outputs": [
    {
     "name": "stdout",
     "output_type": "stream",
     "text": [
      "[0.59684982 0.35009286]\n",
      "[[0.62808407 0.55494498 0.70718841 0.42158289 0.6142331 ]\n",
      " [0.52059888 0.51344453 0.58560984 0.12179301 0.43933828]\n",
      " [0.93882751 0.91545806 0.31465911 0.78425821 0.18927667]\n",
      " [0.98667913 0.60052827 0.54001232 0.47380595 0.5114757 ]\n",
      " [0.13781943 0.71337056 0.30205823 0.90519141 0.79598498]]\n"
     ]
    }
   ],
   "source": [
    "print(np.random.rand(2))\n",
    "print(np.random.rand(5,5))      "
   ]
  },
  {
   "cell_type": "markdown",
   "id": "165dde12-c791-4dac-9ed1-0ce394ca1008",
   "metadata": {},
   "source": [
    "- normal distribution"
   ]
  },
  {
   "cell_type": "code",
   "execution_count": 72,
   "id": "d427ad14-f9c7-48b6-8926-d6d8574781b0",
   "metadata": {},
   "outputs": [
    {
     "name": "stdout",
     "output_type": "stream",
     "text": [
      "[0.30588972 1.16394216]\n",
      "[[-1.04909539 -0.97657801 -0.63905079  1.69742923 -1.2861153 ]\n",
      " [-0.18916158 -0.07391267 -0.16049537 -0.10879348 -0.69698401]\n",
      " [-1.00581081 -0.39254505 -2.1377931   1.76093089 -0.77419323]\n",
      " [-0.53023393 -0.79351601  0.29190243 -1.22200536 -1.56903777]\n",
      " [ 0.39995016 -0.04564469 -0.91591943  1.11898648  0.19738121]]\n"
     ]
    }
   ],
   "source": [
    "print(np.random.randn(2)) #2 random number from normal distribution\n",
    "print(np.random.randn(5,5))"
   ]
  },
  {
   "cell_type": "markdown",
   "id": "a0603560-51eb-4212-90ca-bbdecaad309e",
   "metadata": {},
   "source": [
    "\n",
    "- to print random integer within specified range we can use\n",
    "- random.randint(Start, End)\n",
    "- End will not be included\n"
   ]
  },
  {
   "cell_type": "markdown",
   "id": "50a6a58a-6ec5-4fd5-b347-f0b37c3f7866",
   "metadata": {},
   "source": [
    "print(np.random.randint(1,100)) #Single random integers between 1 and 100\n",
    "print(np.random.randint(1,100,10)) # 10 random integers between 1 and 100"
   ]
  },
  {
   "cell_type": "markdown",
   "id": "cb738dbe-add5-42c6-9ddd-009a7341703c",
   "metadata": {},
   "source": [
    "#### to make the random same\n",
    "- we can use **np.random.seed(77)**\n",
    "- if in two system same seed is used same random element will be generated\n",
    "- "
   ]
  },
  {
   "cell_type": "code",
   "execution_count": 56,
   "id": "876d3003-bace-4538-8515-132499e9ef2e",
   "metadata": {},
   "outputs": [
    {
     "name": "stdout",
     "output_type": "stream",
     "text": [
      "[0.91910903 0.6421956  0.75371223 0.13931457]\n"
     ]
    }
   ],
   "source": [
    "#Seeding for reproducable results\n",
    "np.random.seed(77)\n",
    "print(np.random.rand(4))"
   ]
  },
  {
   "cell_type": "code",
   "execution_count": 60,
   "id": "ef843b5d-ca01-4003-bac1-7b57aa2aede2",
   "metadata": {},
   "outputs": [
    {
     "name": "stdout",
     "output_type": "stream",
     "text": [
      "[ 0  1  2  3  4  5  6  7  8  9 10 11 12 13 14 15 16 17 18 19 20 21 22 23\n",
      " 24]\n",
      "[32 39 44 19 32 36 36 47 14 15]\n"
     ]
    }
   ],
   "source": [
    "#Storing\n",
    "arr=np.arange(25) #numbers from 0 to 24\n",
    "ranarr=np.random.randint(0,50,10) #10 random numbers b/w 0 and 50\n",
    "print(arr)\n",
    "print(ranarr)"
   ]
  },
  {
   "cell_type": "code",
   "execution_count": 62,
   "id": "93d31390-6a16-47a5-a130-d06bbd697293",
   "metadata": {},
   "outputs": [
    {
     "name": "stdout",
     "output_type": "stream",
     "text": [
      "[[ 0  1  2  3  4]\n",
      " [ 5  6  7  8  9]\n",
      " [10 11 12 13 14]\n",
      " [15 16 17 18 19]\n",
      " [20 21 22 23 24]]\n"
     ]
    }
   ],
   "source": [
    "#reshape: Returns an array containing the same data with a new shape\n",
    "print(arr.reshape(5,5))"
   ]
  },
  {
   "cell_type": "markdown",
   "id": "1474fd4c-0ee8-41e2-b78b-04c05a2b9888",
   "metadata": {},
   "source": [
    "- print(ranarr.argmax()) # to find index of the max"
   ]
  },
  {
   "cell_type": "code",
   "execution_count": 67,
   "id": "b1d1f5c5-f7b7-4746-a26d-b2cc3ff5ee85",
   "metadata": {},
   "outputs": [
    {
     "name": "stdout",
     "output_type": "stream",
     "text": [
      "47\n",
      "7\n",
      "14\n"
     ]
    }
   ],
   "source": [
    "#Max, min and their index positons\n",
    "print(ranarr.max())\n",
    "print(ranarr.argmax()) # to find index of the max\n",
    "print(ranarr.min())\n"
   ]
  },
  {
   "cell_type": "markdown",
   "id": "d7100d25-359a-49d1-9048-e497f9df634d",
   "metadata": {},
   "source": [
    "## indexing"
   ]
  },
  {
   "cell_type": "code",
   "execution_count": null,
   "id": "3849a14c-2729-41bc-a900-f2d6c56a8ea9",
   "metadata": {},
   "outputs": [],
   "source": [
    "# get a \n",
    "print(arr[8])"
   ]
  },
  {
   "cell_type": "code",
   "execution_count": 76,
   "id": "01c91624-3467-409b-b7d8-5b03c24cb4b1",
   "metadata": {},
   "outputs": [],
   "source": [
    "arr=np.arange(0,11)"
   ]
  },
  {
   "cell_type": "code",
   "execution_count": 80,
   "id": "b7c87b39-7df6-4713-818b-1735dfae2010",
   "metadata": {},
   "outputs": [
    {
     "name": "stdout",
     "output_type": "stream",
     "text": [
      "[0 1 2 3 4 5]\n"
     ]
    }
   ],
   "source": [
    "#Slicing\n",
    "slice_of_arr=arr[0:6]\n",
    "print(slice_of_arr)"
   ]
  },
  {
   "cell_type": "code",
   "execution_count": 82,
   "id": "f916a3a9-0290-4f09-a31f-0a74cb440bef",
   "metadata": {},
   "outputs": [
    {
     "name": "stdout",
     "output_type": "stream",
     "text": [
      "[99 99 99 99 99 99]\n",
      "[99 99 99 99 99 99  6  7  8  9 10]\n"
     ]
    }
   ],
   "source": [
    "#Change Slice\n",
    "slice_of_arr[:]=99  #changes made are also there in our original array!\n",
    "print(slice_of_arr) #Data is not copied, it it a view of the original array!\n",
    "print(arr) #This avoid memory problems as both are pointing to the same are of meomory.\n"
   ]
  },
  {
   "cell_type": "markdown",
   "id": "3d071718-dde3-4e87-b41f-18026844f0bf",
   "metadata": {},
   "source": [
    "###### To get a copy, we need to be explicit about it.**arr.copy()**"
   ]
  },
  {
   "cell_type": "code",
   "execution_count": 84,
   "id": "433f6d33-79a6-4ef6-90ce-529a8faf72f7",
   "metadata": {},
   "outputs": [
    {
     "name": "stdout",
     "output_type": "stream",
     "text": [
      "[99 99 99 99 99 99  6  7  8  9 10]\n"
     ]
    }
   ],
   "source": [
    "#To get a copy, we need to be explicit\n",
    "arr_copy=arr.copy()\n",
    "print(arr_copy)"
   ]
  },
  {
   "cell_type": "code",
   "execution_count": 88,
   "id": "6b849b01-17a6-447b-a259-9fbcd6121bda",
   "metadata": {},
   "outputs": [],
   "source": [
    "#Conditional selection\n",
    "arr=np.arange(1,11)"
   ]
  },
  {
   "cell_type": "code",
   "execution_count": 90,
   "id": "7e1fa2e8-1738-45f3-9f48-b10b10992034",
   "metadata": {},
   "outputs": [
    {
     "name": "stdout",
     "output_type": "stream",
     "text": [
      "[False False False False  True  True  True  True  True  True]\n"
     ]
    }
   ],
   "source": [
    "#check each element of the array >4 and returns a BOOLEAN array\n",
    "print(arr>4)"
   ]
  },
  {
   "cell_type": "code",
   "execution_count": 94,
   "id": "dc88127b-78e1-4c81-b5db-84568a7c4ba2",
   "metadata": {},
   "outputs": [
    {
     "data": {
      "text/plain": [
       "array([ 5,  6,  7,  8,  9, 10])"
      ]
     },
     "execution_count": 94,
     "metadata": {},
     "output_type": "execute_result"
    }
   ],
   "source": [
    "#Select only those elements from the arr array where it is TRUE\n",
    "arr[arr>4]"
   ]
  },
  {
   "cell_type": "code",
   "execution_count": 179,
   "id": "e0bccd5f-c2f3-4280-a5f9-1b2360a6dce8",
   "metadata": {},
   "outputs": [
    {
     "name": "stdout",
     "output_type": "stream",
     "text": [
      "[ 2  4  6  8 10 12 14 16 18 20]\n",
      "[0 0 0 0 0 0 0 0 0 0]\n",
      "[  1   4   9  16  25  36  49  64  81 100]\n"
     ]
    }
   ],
   "source": [
    "#basic arithmetic\n",
    "print(arr+arr)\n",
    "print(arr-arr)\n",
    "print(arr*arr)"
   ]
  },
  {
   "cell_type": "code",
   "execution_count": 185,
   "id": "01f83fa7-9d1d-467d-af1b-d1d7cb01aab6",
   "metadata": {},
   "outputs": [
    {
     "name": "stdout",
     "output_type": "stream",
     "text": [
      "[1. 1. 1. 1. 1. 1. 1. 1. 1. 1.]\n"
     ]
    }
   ],
   "source": [
    "#This will raise a Warning on division by zero, but not an error!\n",
    "print(arr/arr) #It just fills the spot with nan "
   ]
  },
  {
   "cell_type": "code",
   "execution_count": 187,
   "id": "a85f4fce-45ad-421e-904f-f137116504d1",
   "metadata": {},
   "outputs": [
    {
     "name": "stdout",
     "output_type": "stream",
     "text": [
      "[1.         0.5        0.33333333 0.25       0.2        0.16666667\n",
      " 0.14285714 0.125      0.11111111 0.1       ]\n"
     ]
    }
   ],
   "source": [
    "#Also a warning (but not an error) relating to infinity\n",
    "print(1/arr)"
   ]
  },
  {
   "cell_type": "code",
   "execution_count": 191,
   "id": "e6fdf88f-0d91-48a8-8fd7-28dea62fffa9",
   "metadata": {},
   "outputs": [
    {
     "name": "stdout",
     "output_type": "stream",
     "text": [
      "[   1    8   27   64  125  216  343  512  729 1000]\n"
     ]
    }
   ],
   "source": [
    "print(arr**3) #exponent"
   ]
  },
  {
   "cell_type": "code",
   "execution_count": 205,
   "id": "4c7f4588-65d6-4314-86da-5161d9b49b15",
   "metadata": {},
   "outputs": [
    {
     "name": "stdout",
     "output_type": "stream",
     "text": [
      "[1.         1.41421356 1.73205081 2.         2.23606798 2.44948974\n",
      " 2.64575131 2.82842712 3.         3.16227766]\n",
      "[2.71828183e+00 7.38905610e+00 2.00855369e+01 5.45981500e+01\n",
      " 1.48413159e+02 4.03428793e+02 1.09663316e+03 2.98095799e+03\n",
      " 8.10308393e+03 2.20264658e+04]\n",
      "[ 0.84147098  0.90929743  0.14112001 -0.7568025  -0.95892427 -0.2794155\n",
      "  0.6569866   0.98935825  0.41211849 -0.54402111]\n",
      "[0.         0.69314718 1.09861229 1.38629436 1.60943791 1.79175947\n",
      " 1.94591015 2.07944154 2.19722458 2.30258509]\n"
     ]
    }
   ],
   "source": [
    "#Universal functions\n",
    "print(np.sqrt(arr))\n",
    "print(np.exp(arr))\n",
    "print(np.sin(arr))\n",
    "print(np.log(arr))"
   ]
  },
  {
   "cell_type": "code",
   "execution_count": 209,
   "id": "3bc95115-7732-4be3-8d9c-83d53c612953",
   "metadata": {},
   "outputs": [
    {
     "name": "stdout",
     "output_type": "stream",
     "text": [
      "55\n",
      "5.5\n",
      "10\n",
      "1\n",
      "8.25\n",
      "2.8722813232690143\n"
     ]
    }
   ],
   "source": [
    "#Summary statistics\n",
    "print(arr.sum())\n",
    "print(arr.mean())\n",
    "print(arr.max())\n",
    "print(arr.min())\n",
    "print(arr.var())\n",
    "print(arr.std())"
   ]
  },
  {
   "cell_type": "code",
   "execution_count": 211,
   "id": "436a5540-044b-4de2-91ee-48e229116c1c",
   "metadata": {},
   "outputs": [
    {
     "name": "stdout",
     "output_type": "stream",
     "text": [
      "[[ 1  2  3  4]\n",
      " [ 5  6  7  8]\n",
      " [ 9 10 11 12]]\n"
     ]
    }
   ],
   "source": [
    "#2D arrays\n",
    "arr_2d=np.array([[1,2,3,4],[5,6,7,8],[9,10,11,12]]) #2-d array with 3 rows and 4 columns\n",
    "print(arr_2d)"
   ]
  },
  {
   "cell_type": "code",
   "execution_count": 215,
   "id": "a59f7212-4fca-4de6-98ef-d64084007a4b",
   "metadata": {},
   "outputs": [
    {
     "name": "stdout",
     "output_type": "stream",
     "text": [
      "(3, 4)\n",
      "[15 18 21 24]\n",
      "[10 26 42]\n"
     ]
    }
   ],
   "source": [
    "#Row and column count\n",
    "print(arr_2d.shape)  #shape is a property and not a function so don't use brackets after shape\n",
    "#Sum all the columns for each row(e.g 1+5+9, 2+6+10, etc.)\n",
    "print(arr_2d.sum(axis=0))\n",
    "#Sum all the rows for each column(e.g 1+2+3+4, 5+6+7+8, etc.)\n",
    "print(arr_2d.sum(axis=1))"
   ]
  },
  {
   "cell_type": "code",
   "execution_count": 223,
   "id": "e952e775-890f-42ee-bded-bad902864ff2",
   "metadata": {},
   "outputs": [
    {
     "data": {
      "text/plain": [
       "array([0, 0, 0, 0, 0, 0, 0, 0, 0, 0], dtype=int16)"
      ]
     },
     "execution_count": 223,
     "metadata": {},
     "output_type": "execute_result"
    }
   ],
   "source": [
    "# 1.creating an array of 10 zeros\n",
    "np.zeros(10, dtype = 'int16')"
   ]
  },
  {
   "cell_type": "code",
   "execution_count": 225,
   "id": "527668f6-c1e9-4abb-a83d-6a3551640c4e",
   "metadata": {},
   "outputs": [
    {
     "data": {
      "text/plain": [
       "array([1, 1, 1, 1, 1, 1, 1, 1, 1, 1], dtype=int16)"
      ]
     },
     "execution_count": 225,
     "metadata": {},
     "output_type": "execute_result"
    }
   ],
   "source": [
    "np.ones(10, dtype = 'int16')"
   ]
  },
  {
   "cell_type": "code",
   "execution_count": 245,
   "id": "c473b268-3e63-4820-b4b6-3abb8f8393fb",
   "metadata": {},
   "outputs": [
    {
     "data": {
      "text/plain": [
       "array([5, 5, 5, 5, 5, 5, 5, 5, 5, 5])"
      ]
     },
     "execution_count": 245,
     "metadata": {},
     "output_type": "execute_result"
    }
   ],
   "source": [
    "np.full(10,5)"
   ]
  },
  {
   "cell_type": "code",
   "execution_count": 259,
   "id": "56b273b6-35fa-4dba-a4ae-f8015768c547",
   "metadata": {},
   "outputs": [
    {
     "data": {
      "text/plain": [
       "array([10, 11, 12, 13, 14, 15, 16, 17, 18, 19, 20, 21, 22, 23, 24, 25, 26,\n",
       "       27, 28, 29, 30, 31, 32, 33, 34, 35, 36, 37, 38, 39, 40, 41, 42, 43,\n",
       "       44, 45, 46, 47, 48, 49, 50])"
      ]
     },
     "execution_count": 259,
     "metadata": {},
     "output_type": "execute_result"
    }
   ],
   "source": [
    "a = np.arange(10,51)\n",
    "a"
   ]
  },
  {
   "cell_type": "code",
   "execution_count": 261,
   "id": "fc5403a2-4ab9-422a-a5d4-45d7e13dac5d",
   "metadata": {},
   "outputs": [
    {
     "data": {
      "text/plain": [
       "array([10, 12, 14, 16, 18, 20, 22, 24, 26, 28, 30, 32, 34, 36, 38, 40, 42,\n",
       "       44, 46, 48, 50])"
      ]
     },
     "execution_count": 261,
     "metadata": {},
     "output_type": "execute_result"
    }
   ],
   "source": [
    "a[a%2 == 0]"
   ]
  },
  {
   "cell_type": "code",
   "execution_count": 263,
   "id": "f43a88a0-3444-4b1d-b892-d1fc3652c9f7",
   "metadata": {},
   "outputs": [
    {
     "data": {
      "text/plain": [
       "array([[0, 1, 2],\n",
       "       [3, 4, 5],\n",
       "       [6, 7, 8]])"
      ]
     },
     "execution_count": 263,
     "metadata": {},
     "output_type": "execute_result"
    }
   ],
   "source": [
    "np.arange(0,9).reshape(3,3)"
   ]
  },
  {
   "cell_type": "code",
   "execution_count": 265,
   "id": "1ad212b1-1446-45c0-bac9-1faafa7687fd",
   "metadata": {},
   "outputs": [
    {
     "data": {
      "text/plain": [
       "array([[1., 0., 0.],\n",
       "       [0., 1., 0.],\n",
       "       [0., 0., 1.]])"
      ]
     },
     "execution_count": 265,
     "metadata": {},
     "output_type": "execute_result"
    }
   ],
   "source": [
    "np.eye(3)"
   ]
  },
  {
   "cell_type": "code",
   "execution_count": 269,
   "id": "c6fbc1e0-06e6-4976-b879-9ffedd7b61c0",
   "metadata": {},
   "outputs": [
    {
     "data": {
      "text/plain": [
       "0.5491466098240255"
      ]
     },
     "execution_count": 269,
     "metadata": {},
     "output_type": "execute_result"
    }
   ],
   "source": [
    "np.random.rand()"
   ]
  },
  {
   "cell_type": "code",
   "execution_count": 273,
   "id": "4d6989b9-9953-4bbe-925b-700a71ae46aa",
   "metadata": {},
   "outputs": [
    {
     "data": {
      "text/plain": [
       "array([ 0.27506011, -0.18398014, -0.87868479,  0.67858291, -0.46843454,\n",
       "       -0.44852893,  0.01340295,  0.62979163, -0.52423517,  0.7723438 ,\n",
       "       -0.6653281 , -1.5662735 ,  0.0648559 , -0.01317517,  0.93234945,\n",
       "       -1.49989509,  0.21757692, -0.3347531 ,  0.09673975, -2.29244733,\n",
       "       -0.76124004, -0.04993861,  1.84723938, -1.16954466, -2.38300287])"
      ]
     },
     "execution_count": 273,
     "metadata": {},
     "output_type": "execute_result"
    }
   ],
   "source": [
    "np.random.randn(25)"
   ]
  },
  {
   "cell_type": "code",
   "execution_count": 271,
   "id": "dadf399a-bb39-4ebf-b1dd-eedfd3ab3099",
   "metadata": {},
   "outputs": [
    {
     "data": {
      "text/plain": [
       "array([0.        , 0.05263158, 0.10526316, 0.15789474, 0.21052632,\n",
       "       0.26315789, 0.31578947, 0.36842105, 0.42105263, 0.47368421,\n",
       "       0.52631579, 0.57894737, 0.63157895, 0.68421053, 0.73684211,\n",
       "       0.78947368, 0.84210526, 0.89473684, 0.94736842, 1.        ])"
      ]
     },
     "execution_count": 271,
     "metadata": {},
     "output_type": "execute_result"
    }
   ],
   "source": [
    "np.linspace(0,1,20)"
   ]
  },
  {
   "cell_type": "markdown",
   "id": "68760709-2322-45df-a220-7c7631b35626",
   "metadata": {},
   "source": [
    "#### use `np.eye()` when you need flexibility in the dimensions of the matrix, and use `np.identity()` otherwiswe"
   ]
  },
  {
   "cell_type": "code",
   "execution_count": null,
   "id": "47836f6f-8cbc-44de-829a-110ff1f01f0a",
   "metadata": {},
   "outputs": [],
   "source": []
  },
  {
   "cell_type": "markdown",
   "id": "340f0069-7734-4185-b486-df19fa77f00f",
   "metadata": {},
   "source": [
    "## np.where(...):\n",
    "\n",
    "This function from the NumPy library is used to get the indices of the True values in the Boolean Series."
   ]
  },
  {
   "cell_type": "markdown",
   "id": "5aa5fcc3-98cf-4566-b5be-4b270ac5ee40",
   "metadata": {},
   "source": [
    "### pandas.DataFrame.ne\n",
    "- DataFrame.ne(other, axis='columns', level=None)\n",
    "- Get Not equal to of dataframe and other, element-wise (binary operator ne).\r\n",
    "\r\n",
    "Among flexible wrappers (eq, ne, le, lt, ge, gt) to comparison operators.\r\n",
    "\r\n",
    "Equivalent to ==, !=, <=, <, >=, > with support to choose axis (rows or columns) and level for comparison."
   ]
  },
  {
   "cell_type": "code",
   "execution_count": null,
   "id": "1b3a26dd-7b9c-476d-88e6-9d9c17385244",
   "metadata": {},
   "outputs": [],
   "source": []
  }
 ],
 "metadata": {
  "kernelspec": {
   "display_name": "Python 3 (ipykernel)",
   "language": "python",
   "name": "python3"
  },
  "language_info": {
   "codemirror_mode": {
    "name": "ipython",
    "version": 3
   },
   "file_extension": ".py",
   "mimetype": "text/x-python",
   "name": "python",
   "nbconvert_exporter": "python",
   "pygments_lexer": "ipython3",
   "version": "3.12.4"
  }
 },
 "nbformat": 4,
 "nbformat_minor": 5
}
