{
 "cells": [
  {
   "cell_type": "code",
   "execution_count": 3,
   "id": "bee57d15-b29f-4e60-b653-3df9d29d485d",
   "metadata": {},
   "outputs": [],
   "source": [
    "import numpy as np\n",
    "import pandas as pd"
   ]
  },
  {
   "cell_type": "code",
   "execution_count": 7,
   "id": "f82ab8a2-04c6-4ec9-9ec3-6117657f6b27",
   "metadata": {},
   "outputs": [],
   "source": [
    "a = pd.Series(data = [1776, 1867, 1821], index = [\"india\", \"USA\", \"Afganistan\"])"
   ]
  },
  {
   "cell_type": "code",
   "execution_count": 9,
   "id": "d346dff1-7977-4866-98c3-4c3cbbab4933",
   "metadata": {},
   "outputs": [
    {
     "data": {
      "text/plain": [
       "india         1776\n",
       "USA           1867\n",
       "Afganistan    1821\n",
       "dtype: int64"
      ]
     },
     "execution_count": 9,
     "metadata": {},
     "output_type": "execute_result"
    }
   ],
   "source": [
    "a"
   ]
  },
  {
   "cell_type": "code",
   "execution_count": 13,
   "id": "01c55f2b-b081-4013-b51f-b0487fd0bb76",
   "metadata": {},
   "outputs": [
    {
     "data": {
      "text/plain": [
       "array([81, 45, 20, 97])"
      ]
     },
     "execution_count": 13,
     "metadata": {},
     "output_type": "execute_result"
    }
   ],
   "source": [
    "a= np.random.randint(1,100,4)\n",
    "a"
   ]
  },
  {
   "cell_type": "code",
   "execution_count": 17,
   "id": "34f5baf0-a0bb-4254-b03e-d1488bfb2c0d",
   "metadata": {},
   "outputs": [],
   "source": [
    "ages = pd.Series(a, index = [\"RAm\", \"Blue\", \"red\", \"black\"])"
   ]
  },
  {
   "cell_type": "code",
   "execution_count": 19,
   "id": "8d4d3ac1-ccea-4521-8c89-6921627722eb",
   "metadata": {},
   "outputs": [],
   "source": [
    "ages = pd.Series({'a':4,\"b\":5, \"c\":6})"
   ]
  },
  {
   "cell_type": "code",
   "execution_count": 21,
   "id": "0c6e17bc-e515-487a-b144-da035a2f5063",
   "metadata": {},
   "outputs": [
    {
     "data": {
      "text/plain": [
       "a    4\n",
       "b    5\n",
       "c    6\n",
       "dtype: int64"
      ]
     },
     "execution_count": 21,
     "metadata": {},
     "output_type": "execute_result"
    }
   ],
   "source": [
    "ages"
   ]
  },
  {
   "cell_type": "code",
   "execution_count": 26,
   "id": "3680100b-db33-4377-b18d-2725a4391ab2",
   "metadata": {},
   "outputs": [
    {
     "name": "stdout",
     "output_type": "stream",
     "text": [
      "Japan     80\n",
      "China    450\n",
      "India    200\n",
      "USA      250\n",
      "dtype: int64\n",
      "Brazil    100\n",
      "China     500\n",
      "India     200\n",
      "USA       250\n",
      "dtype: int64\n"
     ]
    }
   ],
   "source": [
    "q1={'Japan':80, 'China':450, 'India': 200, \"USA\":250}\n",
    "q2 = {'Brazil':100, 'China':500, 'India':200, 'USA':250}\n",
    "sales_q1 = pd.Series(q1)\n",
    "sales_q2 = pd.Series(q2)\n",
    "print(sales_q1)\n",
    "print(sales_q2)"
   ]
  },
  {
   "cell_type": "code",
   "execution_count": 28,
   "id": "9b150577-d9e1-4378-8322-65ec43ba32e9",
   "metadata": {},
   "outputs": [
    {
     "data": {
      "text/plain": [
       "Brazil      NaN\n",
       "China     950.0\n",
       "India     400.0\n",
       "Japan       NaN\n",
       "USA       500.0\n",
       "dtype: float64"
      ]
     },
     "execution_count": 28,
     "metadata": {},
     "output_type": "execute_result"
    }
   ],
   "source": [
    "sales_q1+sales_q2"
   ]
  },
  {
   "cell_type": "code",
   "execution_count": 32,
   "id": "8a6e1b69-2501-4ef8-bd83-80dd7e58b83d",
   "metadata": {},
   "outputs": [
    {
     "data": {
      "text/plain": [
       "Brazil    100.0\n",
       "China     950.0\n",
       "India     400.0\n",
       "Japan      80.0\n",
       "USA       500.0\n",
       "dtype: float64"
      ]
     },
     "execution_count": 32,
     "metadata": {},
     "output_type": "execute_result"
    }
   ],
   "source": [
    "sales_q1.add(sales_q2, fill_value = 0)"
   ]
  },
  {
   "cell_type": "code",
   "execution_count": 41,
   "id": "e9124272-c39f-4161-aa99-abba0a655dae",
   "metadata": {},
   "outputs": [],
   "source": [
    "df = pd.read_csv(\"MS_Dhoni_ODI_record.csv\")"
   ]
  },
  {
   "cell_type": "code",
   "execution_count": 45,
   "id": "deda6662-8111-4b8e-ac45-bc45508fa370",
   "metadata": {},
   "outputs": [],
   "source": [
    "df['opposition'] = df['opposition'].str.replace('v ', '', regex = False)"
   ]
  },
  {
   "cell_type": "code",
   "execution_count": 47,
   "id": "654eb26c-ea29-40a8-8a7e-5ef1f4a0b8a2",
   "metadata": {},
   "outputs": [
    {
     "data": {
      "text/html": [
       "<div>\n",
       "<style scoped>\n",
       "    .dataframe tbody tr th:only-of-type {\n",
       "        vertical-align: middle;\n",
       "    }\n",
       "\n",
       "    .dataframe tbody tr th {\n",
       "        vertical-align: top;\n",
       "    }\n",
       "\n",
       "    .dataframe thead th {\n",
       "        text-align: right;\n",
       "    }\n",
       "</style>\n",
       "<table border=\"1\" class=\"dataframe\">\n",
       "  <thead>\n",
       "    <tr style=\"text-align: right;\">\n",
       "      <th></th>\n",
       "      <th>score</th>\n",
       "      <th>runs_scored</th>\n",
       "      <th>balls_faced</th>\n",
       "      <th>strike_rate</th>\n",
       "      <th>fours</th>\n",
       "      <th>sixes</th>\n",
       "      <th>opposition</th>\n",
       "      <th>ground</th>\n",
       "      <th>date</th>\n",
       "      <th>odi_number</th>\n",
       "    </tr>\n",
       "  </thead>\n",
       "  <tbody>\n",
       "    <tr>\n",
       "      <th>0</th>\n",
       "      <td>0</td>\n",
       "      <td>0</td>\n",
       "      <td>1</td>\n",
       "      <td>0</td>\n",
       "      <td>0</td>\n",
       "      <td>0</td>\n",
       "      <td>v Bangladesh</td>\n",
       "      <td>Chattogram</td>\n",
       "      <td>23/12/2004</td>\n",
       "      <td>ODI # 2199</td>\n",
       "    </tr>\n",
       "    <tr>\n",
       "      <th>1</th>\n",
       "      <td>12</td>\n",
       "      <td>12</td>\n",
       "      <td>11</td>\n",
       "      <td>109.09</td>\n",
       "      <td>2</td>\n",
       "      <td>0</td>\n",
       "      <td>v Bangladesh</td>\n",
       "      <td>Dhaka</td>\n",
       "      <td>26/12/2004</td>\n",
       "      <td>ODI # 2201</td>\n",
       "    </tr>\n",
       "    <tr>\n",
       "      <th>2</th>\n",
       "      <td>7*</td>\n",
       "      <td>7</td>\n",
       "      <td>2</td>\n",
       "      <td>350</td>\n",
       "      <td>0</td>\n",
       "      <td>1</td>\n",
       "      <td>v Bangladesh</td>\n",
       "      <td>Dhaka</td>\n",
       "      <td>27/12/2004</td>\n",
       "      <td>ODI # 2202</td>\n",
       "    </tr>\n",
       "    <tr>\n",
       "      <th>3</th>\n",
       "      <td>3</td>\n",
       "      <td>3</td>\n",
       "      <td>7</td>\n",
       "      <td>42.85</td>\n",
       "      <td>0</td>\n",
       "      <td>0</td>\n",
       "      <td>v Pakistan</td>\n",
       "      <td>Kochi</td>\n",
       "      <td>02/04/2005</td>\n",
       "      <td>ODI # 2235</td>\n",
       "    </tr>\n",
       "    <tr>\n",
       "      <th>4</th>\n",
       "      <td>148</td>\n",
       "      <td>148</td>\n",
       "      <td>123</td>\n",
       "      <td>120.32</td>\n",
       "      <td>15</td>\n",
       "      <td>4</td>\n",
       "      <td>v Pakistan</td>\n",
       "      <td>Visakhapatnam</td>\n",
       "      <td>05/04/2005</td>\n",
       "      <td>ODI # 2236</td>\n",
       "    </tr>\n",
       "  </tbody>\n",
       "</table>\n",
       "</div>"
      ],
      "text/plain": [
       "  score runs_scored balls_faced strike_rate fours sixes    opposition  \\\n",
       "0     0           0           1           0     0     0  v Bangladesh   \n",
       "1    12          12          11      109.09     2     0  v Bangladesh   \n",
       "2    7*           7           2         350     0     1  v Bangladesh   \n",
       "3     3           3           7       42.85     0     0    v Pakistan   \n",
       "4   148         148         123      120.32    15     4    v Pakistan   \n",
       "\n",
       "          ground        date  odi_number  \n",
       "0     Chattogram  23/12/2004  ODI # 2199  \n",
       "1          Dhaka  26/12/2004  ODI # 2201  \n",
       "2          Dhaka  27/12/2004  ODI # 2202  \n",
       "3          Kochi  02/04/2005  ODI # 2235  \n",
       "4  Visakhapatnam  05/04/2005  ODI # 2236  "
      ]
     },
     "execution_count": 47,
     "metadata": {},
     "output_type": "execute_result"
    }
   ],
   "source": [
    "df.head()"
   ]
  },
  {
   "cell_type": "code",
   "execution_count": 50,
   "id": "26bbdf1d-7bcf-4921-b6a1-8695c6a9c61b",
   "metadata": {},
   "outputs": [],
   "source": [
    "df['date'] = pd.to_datetime(df['date'], dayfirst = True)"
   ]
  },
  {
   "cell_type": "code",
   "execution_count": 56,
   "id": "88c53a3f-2e10-4ec5-b8ac-3f5de8f79b36",
   "metadata": {},
   "outputs": [
    {
     "data": {
      "text/plain": [
       "0      2004\n",
       "1      2004\n",
       "2      2004\n",
       "3      2005\n",
       "4      2005\n",
       "       ... \n",
       "345    2019\n",
       "346    2019\n",
       "347    2019\n",
       "348    2019\n",
       "349    2019\n",
       "Name: date, Length: 350, dtype: int32"
      ]
     },
     "execution_count": 56,
     "metadata": {},
     "output_type": "execute_result"
    }
   ],
   "source": [
    "df['date'].dt.year.astype(int)"
   ]
  },
  {
   "cell_type": "code",
   "execution_count": 60,
   "id": "73a04101-549f-421c-9bde-07498617f3f6",
   "metadata": {},
   "outputs": [],
   "source": [
    "df['score'] = df['score'].apply(str)"
   ]
  },
  {
   "cell_type": "code",
   "execution_count": 68,
   "id": "2e8de96c-ce65-4937-8102-0e98a39c194a",
   "metadata": {},
   "outputs": [],
   "source": [
    "df['not_out'] = np.where(df['score'].str.endswith('*'), 1, 0)"
   ]
  },
  {
   "cell_type": "code",
   "execution_count": 70,
   "id": "68e8a7c2-d4ba-4b28-80fc-25e7ff61bb5a",
   "metadata": {},
   "outputs": [
    {
     "data": {
      "text/plain": [
       "0      0\n",
       "1      0\n",
       "2      1\n",
       "3      0\n",
       "4      0\n",
       "      ..\n",
       "345    1\n",
       "346    1\n",
       "347    0\n",
       "348    0\n",
       "349    0\n",
       "Name: not_out, Length: 350, dtype: int32"
      ]
     },
     "execution_count": 70,
     "metadata": {},
     "output_type": "execute_result"
    }
   ],
   "source": [
    "df['not_out']"
   ]
  },
  {
   "cell_type": "code",
   "execution_count": 72,
   "id": "63bfba19-7118-4c15-8387-23eebcb87e8b",
   "metadata": {},
   "outputs": [],
   "source": [
    "dfn = df.loc[((df['score'] != 'DNB') & (df['score'] != 'TDNB')), 'runs_scored':]"
   ]
  },
  {
   "cell_type": "code",
   "execution_count": 74,
   "id": "91cb6c24-3893-40db-808d-2292df967363",
   "metadata": {},
   "outputs": [
    {
     "data": {
      "text/html": [
       "<div>\n",
       "<style scoped>\n",
       "    .dataframe tbody tr th:only-of-type {\n",
       "        vertical-align: middle;\n",
       "    }\n",
       "\n",
       "    .dataframe tbody tr th {\n",
       "        vertical-align: top;\n",
       "    }\n",
       "\n",
       "    .dataframe thead th {\n",
       "        text-align: right;\n",
       "    }\n",
       "</style>\n",
       "<table border=\"1\" class=\"dataframe\">\n",
       "  <thead>\n",
       "    <tr style=\"text-align: right;\">\n",
       "      <th></th>\n",
       "      <th>runs_scored</th>\n",
       "      <th>balls_faced</th>\n",
       "      <th>strike_rate</th>\n",
       "      <th>fours</th>\n",
       "      <th>sixes</th>\n",
       "      <th>opposition</th>\n",
       "      <th>ground</th>\n",
       "      <th>date</th>\n",
       "      <th>odi_number</th>\n",
       "      <th>not_out</th>\n",
       "    </tr>\n",
       "  </thead>\n",
       "  <tbody>\n",
       "    <tr>\n",
       "      <th>0</th>\n",
       "      <td>0</td>\n",
       "      <td>1</td>\n",
       "      <td>0</td>\n",
       "      <td>0</td>\n",
       "      <td>0</td>\n",
       "      <td>v Bangladesh</td>\n",
       "      <td>Chattogram</td>\n",
       "      <td>2004-12-23</td>\n",
       "      <td>ODI # 2199</td>\n",
       "      <td>0</td>\n",
       "    </tr>\n",
       "    <tr>\n",
       "      <th>1</th>\n",
       "      <td>12</td>\n",
       "      <td>11</td>\n",
       "      <td>109.09</td>\n",
       "      <td>2</td>\n",
       "      <td>0</td>\n",
       "      <td>v Bangladesh</td>\n",
       "      <td>Dhaka</td>\n",
       "      <td>2004-12-26</td>\n",
       "      <td>ODI # 2201</td>\n",
       "      <td>0</td>\n",
       "    </tr>\n",
       "    <tr>\n",
       "      <th>2</th>\n",
       "      <td>7</td>\n",
       "      <td>2</td>\n",
       "      <td>350</td>\n",
       "      <td>0</td>\n",
       "      <td>1</td>\n",
       "      <td>v Bangladesh</td>\n",
       "      <td>Dhaka</td>\n",
       "      <td>2004-12-27</td>\n",
       "      <td>ODI # 2202</td>\n",
       "      <td>1</td>\n",
       "    </tr>\n",
       "    <tr>\n",
       "      <th>3</th>\n",
       "      <td>3</td>\n",
       "      <td>7</td>\n",
       "      <td>42.85</td>\n",
       "      <td>0</td>\n",
       "      <td>0</td>\n",
       "      <td>v Pakistan</td>\n",
       "      <td>Kochi</td>\n",
       "      <td>2005-04-02</td>\n",
       "      <td>ODI # 2235</td>\n",
       "      <td>0</td>\n",
       "    </tr>\n",
       "    <tr>\n",
       "      <th>4</th>\n",
       "      <td>148</td>\n",
       "      <td>123</td>\n",
       "      <td>120.32</td>\n",
       "      <td>15</td>\n",
       "      <td>4</td>\n",
       "      <td>v Pakistan</td>\n",
       "      <td>Visakhapatnam</td>\n",
       "      <td>2005-04-05</td>\n",
       "      <td>ODI # 2236</td>\n",
       "      <td>0</td>\n",
       "    </tr>\n",
       "    <tr>\n",
       "      <th>...</th>\n",
       "      <td>...</td>\n",
       "      <td>...</td>\n",
       "      <td>...</td>\n",
       "      <td>...</td>\n",
       "      <td>...</td>\n",
       "      <td>...</td>\n",
       "      <td>...</td>\n",
       "      <td>...</td>\n",
       "      <td>...</td>\n",
       "      <td>...</td>\n",
       "    </tr>\n",
       "    <tr>\n",
       "      <th>344</th>\n",
       "      <td>28</td>\n",
       "      <td>52</td>\n",
       "      <td>53.84</td>\n",
       "      <td>3</td>\n",
       "      <td>0</td>\n",
       "      <td>v Afghanistan</td>\n",
       "      <td>Southampton</td>\n",
       "      <td>2019-06-22</td>\n",
       "      <td>ODI # 4169</td>\n",
       "      <td>0</td>\n",
       "    </tr>\n",
       "    <tr>\n",
       "      <th>345</th>\n",
       "      <td>56</td>\n",
       "      <td>61</td>\n",
       "      <td>91.8</td>\n",
       "      <td>3</td>\n",
       "      <td>2</td>\n",
       "      <td>v West Indies</td>\n",
       "      <td>Manchester</td>\n",
       "      <td>2019-06-27</td>\n",
       "      <td>ODI # 4175</td>\n",
       "      <td>1</td>\n",
       "    </tr>\n",
       "    <tr>\n",
       "      <th>346</th>\n",
       "      <td>42</td>\n",
       "      <td>31</td>\n",
       "      <td>135.48</td>\n",
       "      <td>4</td>\n",
       "      <td>1</td>\n",
       "      <td>v England</td>\n",
       "      <td>Birmingham</td>\n",
       "      <td>2019-06-30</td>\n",
       "      <td>ODI # 4179</td>\n",
       "      <td>1</td>\n",
       "    </tr>\n",
       "    <tr>\n",
       "      <th>347</th>\n",
       "      <td>35</td>\n",
       "      <td>33</td>\n",
       "      <td>106.06</td>\n",
       "      <td>4</td>\n",
       "      <td>0</td>\n",
       "      <td>v Bangladesh</td>\n",
       "      <td>Birmingham</td>\n",
       "      <td>2019-07-02</td>\n",
       "      <td>ODI # 4182</td>\n",
       "      <td>0</td>\n",
       "    </tr>\n",
       "    <tr>\n",
       "      <th>349</th>\n",
       "      <td>50</td>\n",
       "      <td>72</td>\n",
       "      <td>69.44</td>\n",
       "      <td>1</td>\n",
       "      <td>1</td>\n",
       "      <td>v New Zealand</td>\n",
       "      <td>Manchester</td>\n",
       "      <td>2019-07-09</td>\n",
       "      <td>ODI # 4190</td>\n",
       "      <td>0</td>\n",
       "    </tr>\n",
       "  </tbody>\n",
       "</table>\n",
       "<p>297 rows × 10 columns</p>\n",
       "</div>"
      ],
      "text/plain": [
       "    runs_scored balls_faced strike_rate fours sixes     opposition  \\\n",
       "0             0           1           0     0     0   v Bangladesh   \n",
       "1            12          11      109.09     2     0   v Bangladesh   \n",
       "2             7           2         350     0     1   v Bangladesh   \n",
       "3             3           7       42.85     0     0     v Pakistan   \n",
       "4           148         123      120.32    15     4     v Pakistan   \n",
       "..          ...         ...         ...   ...   ...            ...   \n",
       "344          28          52       53.84     3     0  v Afghanistan   \n",
       "345          56          61        91.8     3     2  v West Indies   \n",
       "346          42          31      135.48     4     1      v England   \n",
       "347          35          33      106.06     4     0   v Bangladesh   \n",
       "349          50          72       69.44     1     1  v New Zealand   \n",
       "\n",
       "            ground       date  odi_number  not_out  \n",
       "0       Chattogram 2004-12-23  ODI # 2199        0  \n",
       "1            Dhaka 2004-12-26  ODI # 2201        0  \n",
       "2            Dhaka 2004-12-27  ODI # 2202        1  \n",
       "3            Kochi 2005-04-02  ODI # 2235        0  \n",
       "4    Visakhapatnam 2005-04-05  ODI # 2236        0  \n",
       "..             ...        ...         ...      ...  \n",
       "344    Southampton 2019-06-22  ODI # 4169        0  \n",
       "345     Manchester 2019-06-27  ODI # 4175        1  \n",
       "346     Birmingham 2019-06-30  ODI # 4179        1  \n",
       "347     Birmingham 2019-07-02  ODI # 4182        0  \n",
       "349     Manchester 2019-07-09  ODI # 4190        0  \n",
       "\n",
       "[297 rows x 10 columns]"
      ]
     },
     "execution_count": 74,
     "metadata": {},
     "output_type": "execute_result"
    }
   ],
   "source": [
    "dfn"
   ]
  },
  {
   "cell_type": "code",
   "execution_count": 78,
   "id": "5ca979f8-3ba5-4368-9212-98622d0d308e",
   "metadata": {},
   "outputs": [
    {
     "data": {
      "text/plain": [
       "datetime.date(2004, 12, 23)"
      ]
     },
     "execution_count": 78,
     "metadata": {},
     "output_type": "execute_result"
    }
   ],
   "source": [
    "df['date'].dt.date.min()"
   ]
  },
  {
   "cell_type": "code",
   "execution_count": 80,
   "id": "640332a0-793f-4de0-bd33-3dda822c1608",
   "metadata": {},
   "outputs": [
    {
     "data": {
      "text/plain": [
       "datetime.date(2019, 7, 9)"
      ]
     },
     "execution_count": 80,
     "metadata": {},
     "output_type": "execute_result"
    }
   ],
   "source": [
    "df['date'].dt.date.max()"
   ]
  },
  {
   "cell_type": "code",
   "execution_count": 82,
   "id": "04b4417f-70ff-4943-aeff-be120d1ad2f7",
   "metadata": {},
   "outputs": [
    {
     "data": {
      "text/plain": [
       "'December 23 2004'"
      ]
     },
     "execution_count": 82,
     "metadata": {},
     "output_type": "execute_result"
    }
   ],
   "source": [
    "df['date'].dt.date.min().strftime('%B %d %Y')"
   ]
  },
  {
   "cell_type": "code",
   "execution_count": 86,
   "id": "b1f3dd20-26cf-49b7-aa88-bdfb6088cff0",
   "metadata": {},
   "outputs": [],
   "source": [
    "ops_count = df['opposition'].value_counts()"
   ]
  },
  {
   "cell_type": "code",
   "execution_count": null,
   "id": "dc57cd0e-814a-4e7c-a856-3637120785f6",
   "metadata": {},
   "outputs": [],
   "source": [
    "dfn.groupby('opposition')["
   ]
  }
 ],
 "metadata": {
  "kernelspec": {
   "display_name": "Python 3 (ipykernel)",
   "language": "python",
   "name": "python3"
  },
  "language_info": {
   "codemirror_mode": {
    "name": "ipython",
    "version": 3
   },
   "file_extension": ".py",
   "mimetype": "text/x-python",
   "name": "python",
   "nbconvert_exporter": "python",
   "pygments_lexer": "ipython3",
   "version": "3.12.4"
  }
 },
 "nbformat": 4,
 "nbformat_minor": 5
}
